{
  "nbformat": 4,
  "nbformat_minor": 0,
  "metadata": {
    "colab": {
      "provenance": []
    },
    "kernelspec": {
      "name": "python3",
      "display_name": "Python 3"
    },
    "language_info": {
      "name": "python"
    }
  },
  "cells": [
    {
      "cell_type": "markdown",
      "source": [
        "\n",
        "##특정 조건에 맞는 숫자 찾기(출제자 : 진한솔)\n",
        "\n",
        "---\n",
        "\n",
        "1. 범위는 1 <= n <= 1000\n",
        "2. 정수 n을 입력하고 n까지 3의 배수이면서 2의 배수가 아닌 수들만 리스트에 담아 반환하는 함수를 작성하세요.\n",
        "---\n"
      ],
      "metadata": {
        "id": "qBDiOYgMShyA"
      }
    },
    {
      "cell_type": "code",
      "source": [
        "n = input (\"1 <= n <= 1000사이의 값을 입력하시오 :\")"
      ],
      "metadata": {
        "colab": {
          "base_uri": "https://localhost:8080/"
        },
        "id": "qiBNtVNhUT0U",
        "outputId": "8ff5e2a9-c56f-467b-b1fa-e9a114eb820f"
      },
      "execution_count": 25,
      "outputs": [
        {
          "name": "stdout",
          "output_type": "stream",
          "text": [
            "1 <= n <= 1000사이의 값을 입력하시오 :356\n"
          ]
        }
      ]
    },
    {
      "cell_type": "code",
      "source": [
        "def solution(n):\n",
        "  a = []\n",
        "  if n.isdigit() and 1 <= int(n) <= 1000:\n",
        "      n = int(n)\n",
        "      for i in range(n + 1):\n",
        "          if i % 3 == 0 and i % 2 != 0:\n",
        "              a.append(i)\n",
        "      return(a)"
      ],
      "metadata": {
        "id": "f5gwV8DxW_q5"
      },
      "execution_count": 26,
      "outputs": []
    },
    {
      "cell_type": "code",
      "source": [
        "result = solution(n)\n",
        "print(result)"
      ],
      "metadata": {
        "colab": {
          "base_uri": "https://localhost:8080/"
        },
        "id": "ZF3kh2CnzYQn",
        "outputId": "ebbb9183-f516-4eda-b709-a168254fa862"
      },
      "execution_count": 27,
      "outputs": [
        {
          "output_type": "stream",
          "name": "stdout",
          "text": [
            "[3, 9, 15, 21, 27, 33, 39, 45, 51, 57, 63, 69, 75, 81, 87, 93, 99, 105, 111, 117, 123, 129, 135, 141, 147, 153, 159, 165, 171, 177, 183, 189, 195, 201, 207, 213, 219, 225, 231, 237, 243, 249, 255, 261, 267, 273, 279, 285, 291, 297, 303, 309, 315, 321, 327, 333, 339, 345, 351]\n"
          ]
        }
      ]
    }
  ]
}