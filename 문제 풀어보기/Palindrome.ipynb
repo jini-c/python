{
  "nbformat": 4,
  "nbformat_minor": 0,
  "metadata": {
    "colab": {
      "provenance": []
    },
    "kernelspec": {
      "name": "python3",
      "display_name": "Python 3"
    },
    "language_info": {
      "name": "python"
    }
  },
  "cells": [
    {
      "cell_type": "markdown",
      "source": [
        "# 로꾸거 코딩 (출제자 : 최희진)\n",
        "\n",
        "---\n",
        "\n",
        "\n",
        "1.   문자열을 입력받아 팰린드롬인지 판별하라\n",
        "\n",
        "2.   팰린드롬 : 거꾸로 읽어도 똑같은 문장 또는 단어\n",
        "\n",
        "3.   조건\n",
        "\n",
        "*   대소문자 구분 없다.\n",
        "\n",
        "*   공백은 무시한다.\n",
        "\n",
        "---\n",
        "\n",
        "\n"
      ],
      "metadata": {
        "id": "_bYP7DPJ1iLk"
      }
    },
    {
      "cell_type": "code",
      "execution_count": null,
      "metadata": {
        "colab": {
          "base_uri": "https://localhost:8080/"
        },
        "id": "lS84uf3e1b2P",
        "outputId": "8ba51615-9f22-43d3-e312-9312f194593a"
      },
      "outputs": [
        {
          "output_type": "stream",
          "name": "stdout",
          "text": [
            "팰린드롬을 판별할 문자를 입력하세요 : 가나나가\n",
            "True\n"
          ]
        }
      ],
      "source": [
        "def StrDis():\n",
        "  string = input(\"팰린드롬을 판별할 문자를 입력하세요 : \")\n",
        "\n",
        "  str = string.lower().replace(\"\", \"\")\n",
        "\n",
        "  if str == str[::-1]:\n",
        "    print(\"True\")\n",
        "  else:\n",
        "    print(\"False\")\n",
        "\n",
        "palindrome = StrDis()"
      ]
    }
  ]
}