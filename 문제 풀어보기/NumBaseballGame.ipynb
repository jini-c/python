{
  "nbformat": 4,
  "nbformat_minor": 0,
  "metadata": {
    "colab": {
      "provenance": []
    },
    "kernelspec": {
      "name": "python3",
      "display_name": "Python 3"
    },
    "language_info": {
      "name": "python"
    }
  },
  "cells": [
    {
      "cell_type": "markdown",
      "source": [
        "# 숫자야구 게임 방법(출제자 : 이재혁)\n",
        "\n",
        "\n",
        "1.   세자리 자연수를 맞추는 게임\n",
        "\n",
        "2.   숫자는 맞고 자리수는 틀린 경우 Ball\n",
        "\n",
        "3.   숫자와 자리수까지 맞으면 Strike\n",
        "\n",
        "4.   숫자와 자릿수까지 다 틀린경우 Out"
      ],
      "metadata": {
        "id": "YXP24sGZFW-4"
      }
    },
    {
      "cell_type": "code",
      "source": [
        "import random"
      ],
      "metadata": {
        "id": "exEtobubFWoL"
      },
      "execution_count": null,
      "outputs": []
    },
    {
      "cell_type": "code",
      "execution_count": null,
      "metadata": {
        "id": "1WSw1TBQFV3l"
      },
      "outputs": [],
      "source": [
        "#숫자 생성\n",
        "\n",
        "def CreateNum():\n",
        "  number = f\"{random.randint(0, 999):03}\"\n",
        "  return list(number)"
      ]
    },
    {
      "cell_type": "code",
      "source": [
        "def InputNum():\n",
        "    while True:\n",
        "        guess = input(\"세 자리 숫자를 입력하세요 (ex : 024, 908) : \")\n",
        "        if len(guess) == 3 and guess.isdigit():\n",
        "            return list(guess)\n",
        "        print(\"세 자리 숫자를 입력하여야 합니다! (ex : 007, 123)\")"
      ],
      "metadata": {
        "id": "AZk43-_4GV7m"
      },
      "execution_count": null,
      "outputs": []
    },
    {
      "cell_type": "code",
      "source": [
        "def CalculateScore(answer, guess):\n",
        "    strike = sum(1 for i in range(3) if guess[i] == answer[i])\n",
        "    ball = sum(1 for i in range(3) if guess[i] != answer[i] and guess[i] in answer)\n",
        "    return strike, ball"
      ],
      "metadata": {
        "id": "h8nbK0U4NRoU"
      },
      "execution_count": null,
      "outputs": []
    },
    {
      "cell_type": "code",
      "source": [
        "#숫자 맞추기\n",
        "def PlayOneGame():\n",
        "    answer = CreateNumber()\n",
        "    print(\"디버그용 정답:\", ''.join(answer))  # 테스트용\n",
        "\n",
        "    attempts = 0\n",
        "    while True:\n",
        "        guess = InputNumber()\n",
        "        attempts += 1\n",
        "\n",
        "        strike, ball = CalculateScore(answer, guess)\n",
        "\n",
        "        if strike == 3:\n",
        "            print(f\"🎯 정답입니다! {attempts}번 만에 성공!\")\n",
        "            break\n",
        "        elif strike == 0 and ball == 0:\n",
        "            print(\"Out\")\n",
        "        else:\n",
        "            print(f\"{strike} Strike, {ball} Ball\")\n"
      ],
      "metadata": {
        "id": "jCVHxxgHJlHU"
      },
      "execution_count": null,
      "outputs": []
    },
    {
      "cell_type": "code",
      "source": [
        "def PlayGame():\n",
        "    while True:\n",
        "        PlayOneGame()\n",
        "        retry = input(\"\\n다시 시작하시겠습니까? (y/n) : \").lower()\n",
        "        if retry != 'y':\n",
        "            print(\"👋 게임을 종료합니다. 수고했어요!\")\n",
        "            break\n"
      ],
      "metadata": {
        "id": "LYjMjQaqM7H5"
      },
      "execution_count": null,
      "outputs": []
    },
    {
      "cell_type": "code",
      "source": [
        "PlayOneGame()"
      ],
      "metadata": {
        "colab": {
          "base_uri": "https://localhost:8080/"
        },
        "id": "IdrpxGBfMPfw",
        "outputId": "ebc3529c-ac46-4696-e37c-01f1bd5acd56"
      },
      "execution_count": null,
      "outputs": [
        {
          "output_type": "stream",
          "name": "stdout",
          "text": [
            "디버그용 정답: 478\n",
            "세 자리 숫자를 입력하세요 (ex : 024, 908) : 456\n",
            "1 Strike, 0 Ball\n",
            "세 자리 숫자를 입력하세요 (ex : 024, 908) : 478\n",
            "정답입니다! 2번 만에 맞췄어요!\n"
          ]
        }
      ]
    },
    {
      "cell_type": "code",
      "source": [
        "PlayGame()"
      ],
      "metadata": {
        "id": "TkFTwbS8M9QI"
      },
      "execution_count": null,
      "outputs": []
    }
  ]
}