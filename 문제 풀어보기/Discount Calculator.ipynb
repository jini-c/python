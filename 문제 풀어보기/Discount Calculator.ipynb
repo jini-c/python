{
  "nbformat": 4,
  "nbformat_minor": 0,
  "metadata": {
    "colab": {
      "provenance": []
    },
    "kernelspec": {
      "name": "python3",
      "display_name": "Python 3"
    },
    "language_info": {
      "name": "python"
    }
  },
  "cells": [
    {
      "cell_type": "markdown",
      "source": [
        "# 장바구니 할인 계산기(출제자 : 정우빈)\n",
        "\n",
        "---\n",
        "\n",
        "1.   마트에서 장을 볼 때, 어떤 상품은 할인이 적용되고 어떤 상품은 할인이 안된다.\n",
        "\n",
        "*   조건1 : 10,000원 이상이면 10% 할인 적용됩니다.\n",
        "\n",
        "*   조건2 : 물건 가격이 10,000원 미만이면 할인이 적용되지 않습니다.\n",
        "\n",
        "\n",
        "2.   할인조건에 따라 지불해야할 총 금액을 계산하는 프로그램을 만들어보자\n",
        "\n",
        "---"
      ],
      "metadata": {
        "id": "foKy2P6X9hCd"
      }
    },
    {
      "cell_type": "code",
      "execution_count": null,
      "metadata": {
        "id": "osQoURtL9cRl"
      },
      "outputs": [],
      "source": [
        "def ProductInf():\n",
        "  ProductPrice = {}\n",
        "  while True:\n",
        "    product = input(\"물건을 입력하세요(입력을 끝내려면 '끝'을 입력하세요): \")\n",
        "    if product == '끝':\n",
        "      break\n",
        "\n",
        "    price = input(\"가격을 입력하세요 :\")\n",
        "    ProductPrice[product] = float(price)\n",
        "    print(ProductPrice)\n",
        "\n",
        "  return ProductPrice"
      ]
    },
    {
      "cell_type": "code",
      "source": [
        "pricelist = ProductInf()"
      ],
      "metadata": {
        "colab": {
          "base_uri": "https://localhost:8080/"
        },
        "id": "qZqabha3IKFm",
        "outputId": "825b4a6e-c031-4dbb-d5ae-bc8d13753762"
      },
      "execution_count": null,
      "outputs": [
        {
          "name": "stdout",
          "output_type": "stream",
          "text": [
            "물건을 입력하세요(입력을 끝내려면 '끝'을 입력하세요): 감\n",
            "가격을 입력하세요 :14500\n",
            "{'감': 14500.0}\n",
            "물건을 입력하세요(입력을 끝내려면 '끝'을 입력하세요): 감2\n",
            "가격을 입력하세요 :135000\n",
            "{'감': 14500.0, '감2': 135000.0}\n",
            "물건을 입력하세요(입력을 끝내려면 '끝'을 입력하세요): 감3\n",
            "가격을 입력하세요 :12345\n",
            "{'감': 14500.0, '감2': 135000.0, '감3': 12345.0}\n",
            "물건을 입력하세요(입력을 끝내려면 '끝'을 입력하세요): 감4\n",
            "가격을 입력하세요 :12314\n",
            "{'감': 14500.0, '감2': 135000.0, '감3': 12345.0, '감4': 12314.0}\n",
            "물건을 입력하세요(입력을 끝내려면 '끝'을 입력하세요): 끝\n"
          ]
        }
      ]
    },
    {
      "cell_type": "code",
      "source": [
        "def CalculatePrice(pricelist):\n",
        "    for product, price in pricelist.items():\n",
        "        if price > 10000:\n",
        "            pricelist[product] = price * 0.9\n",
        "\n",
        "    return pricelist"
      ],
      "metadata": {
        "id": "BSLRsgrE_tsG"
      },
      "execution_count": null,
      "outputs": []
    },
    {
      "cell_type": "code",
      "source": [
        "totalist = CalculatePrice(pricelist)\n",
        "print(sum(totalist.values()))"
      ],
      "metadata": {
        "colab": {
          "base_uri": "https://localhost:8080/"
        },
        "id": "jf_38HEQKRwP",
        "outputId": "7e49a44e-d48c-4af4-b7dd-f63bb5f12499"
      },
      "execution_count": null,
      "outputs": [
        {
          "output_type": "stream",
          "name": "stdout",
          "text": [
            "156743.1\n"
          ]
        }
      ]
    }
  ]
}