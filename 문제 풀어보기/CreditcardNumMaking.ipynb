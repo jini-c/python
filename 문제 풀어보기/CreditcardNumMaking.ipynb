{
  "nbformat": 4,
  "nbformat_minor": 0,
  "metadata": {
    "colab": {
      "provenance": []
    },
    "kernelspec": {
      "name": "python3",
      "display_name": "Python 3"
    },
    "language_info": {
      "name": "python"
    }
  },
  "cells": [
    {
      "cell_type": "markdown",
      "source": [
        "# 신용카드 번호 만들기(출제자 : 박창진)\n",
        "\n",
        "---\n",
        "\n",
        "\n",
        "1.   숫자 4, 5, 6으로 시작해야한다.\n",
        "\n",
        "2.   총 16자리 숫자여야한다.\n",
        "\n",
        "3.   숫자(0~9)로만 구성되어야 한다.\n",
        "\n",
        "4.   4자리씩 하이픈(-)으로 나눌 수는 있지만, 다른 기호는 사용할 수 없다.\n",
        "\n",
        "5.   첫 4자리는 같은 숫자가 4번 이상 반복되면 안된다.\n",
        "\n",
        "6.   입력 형식 :\n",
        "\n",
        "*   첫 번째 줄 : 입력받을 카드 번호의 개수 N (1이상)\n",
        "\n",
        "*   다음 N줄 : 각각 신용카드 번호가 주어진다.\n",
        "\n",
        "7.   출력 형식:\n",
        "\n",
        "*   각 줄마다 카드 번호가 유효하면 \"Valid\"를 유효하지 않으면 \"Invalid\"를 출력하시오.\n",
        "---\n",
        "\n",
        "\n",
        "\n",
        "\n",
        "\n",
        "\n",
        "\n"
      ],
      "metadata": {
        "id": "dAa-BMS4Pa8x"
      }
    },
    {
      "cell_type": "code",
      "execution_count": 2,
      "metadata": {
        "id": "rRoJj8vDPS3e"
      },
      "outputs": [],
      "source": [
        "import random\n",
        "import re"
      ]
    },
    {
      "cell_type": "code",
      "source": [
        "#변수\n",
        "\n",
        "CreditcardNum = 16\n",
        "CreditcardNumber = []"
      ],
      "metadata": {
        "id": "6_JxOm-XQgYB"
      },
      "execution_count": 3,
      "outputs": []
    },
    {
      "cell_type": "code",
      "source": [
        "# 랜덤한 숫자 16자리 생성할 경우\n",
        "\n",
        "def RandomCreditcardNum():\n",
        "    RandomCreditcard = []\n",
        "    for i in range(16):\n",
        "        RandomCreditcard.append(random.randint(0, 9))\n",
        "\n",
        "    RandomCreditcard.insert(4, '-')\n",
        "    RandomCreditcard.insert(9, '-')\n",
        "    RandomCreditcard.insert(14, '-')\n",
        "\n",
        "    card_number_str = \"\".join(map(str, RandomCreditcard))\n",
        "    return card_number_str\n",
        "\n",
        "a = RandomCreditcardNum()\n",
        "print(a)"
      ],
      "metadata": {
        "colab": {
          "base_uri": "https://localhost:8080/"
        },
        "id": "gIUO2SKkR1Dh",
        "outputId": "a9b68223-5676-4efc-d40f-366bc5b44ba5"
      },
      "execution_count": 4,
      "outputs": [
        {
          "output_type": "stream",
          "name": "stdout",
          "text": [
            "1011-3410-1662-6608\n"
          ]
        }
      ]
    },
    {
      "cell_type": "code",
      "source": [
        "#판별하기\n",
        "\n",
        "def CheckNumber(CardStr):\n",
        "  NumberOnly = CardStr.replace(\"-\", \"\")\n",
        "\n",
        "  if NumberOnly[0] not in ['4', '5', '6']:\n",
        "    return \"Invalid\"\n",
        "\n",
        "  if len(NumberOnly) != 16 or not NumberOnly.isdigit():\n",
        "    return \"Invalid\"\n",
        "\n",
        "  if '-' in CardStr and not re.fullmatch(r\"(\\d{4}-){3}\\d{4}\", CardStr):\n",
        "    return \"Invalid\"\n",
        "\n",
        "  if re.search(r\"(\\d)\\1{3,}\", NumberOnly):\n",
        "    return \"Invalid\"\n",
        "\n",
        "  return \"Valid\""
      ],
      "metadata": {
        "id": "Q0iBjF41RJx5"
      },
      "execution_count": 5,
      "outputs": []
    },
    {
      "cell_type": "code",
      "source": [
        "def CreateAndCheck():\n",
        " while True:\n",
        "  card = RandomCreditcardNum()\n",
        "  result = CheckNumber(card)\n",
        "  print(f\"생성된 카드번호: {card}\")\n",
        "  print(f\"검사 결과: {result}\")\n",
        "  print(\"-\" * 30)\n",
        "\n",
        "  choice = input(\"계속 생성할까요? (y/n): \")\n",
        "\n",
        "  if choice.lower() != 'y':\n",
        "    print(\"프로그램을 종료합니다.\")\n",
        "    break"
      ],
      "metadata": {
        "id": "jYw31EQrSzSH"
      },
      "execution_count": 6,
      "outputs": []
    },
    {
      "cell_type": "code",
      "source": [
        "#출력\n",
        "CreateAndCheck()"
      ],
      "metadata": {
        "id": "MEPsrMSeRbhx",
        "colab": {
          "base_uri": "https://localhost:8080/"
        },
        "outputId": "ae122a2b-c45d-4b2c-f60c-8d64af9971ba"
      },
      "execution_count": 8,
      "outputs": [
        {
          "output_type": "stream",
          "name": "stdout",
          "text": [
            "생성된 카드번호: 8981-9673-3301-5097\n",
            "검사 결과: Invalid\n",
            "------------------------------\n",
            "계속 생성할까요? (y/n): y\n",
            "생성된 카드번호: 7462-4303-4297-0752\n",
            "검사 결과: Invalid\n",
            "------------------------------\n",
            "계속 생성할까요? (y/n): y\n",
            "생성된 카드번호: 4888-0750-2445-4890\n",
            "검사 결과: Valid\n",
            "------------------------------\n",
            "계속 생성할까요? (y/n): y\n",
            "생성된 카드번호: 1552-3521-7666-9617\n",
            "검사 결과: Invalid\n",
            "------------------------------\n",
            "계속 생성할까요? (y/n): y\n",
            "생성된 카드번호: 7740-1961-5722-2514\n",
            "검사 결과: Invalid\n",
            "------------------------------\n",
            "계속 생성할까요? (y/n): y\n",
            "생성된 카드번호: 2464-4256-6357-3067\n",
            "검사 결과: Invalid\n",
            "------------------------------\n",
            "계속 생성할까요? (y/n): n\n",
            "프로그램을 종료합니다.\n"
          ]
        }
      ]
    }
  ]
}