{
  "nbformat": 4,
  "nbformat_minor": 0,
  "metadata": {
    "colab": {
      "provenance": []
    },
    "kernelspec": {
      "name": "python3",
      "display_name": "Python 3"
    },
    "language_info": {
      "name": "python"
    }
  },
  "cells": [
    {
      "cell_type": "markdown",
      "source": [
        "# 급여 계산(출제자 : 장재훈)\n",
        "\n",
        "---\n",
        "\n",
        "\n",
        "1.   근무 시간이 12시간 이하를 기준으로 한다.\n",
        "2.   근무 시간이 12시간 이상이면 1.3배를 곱해준다.\n",
        "3.   정기 근무 시간과 초과 근무 시간을 계산해준다.\n",
        "4.   주간 총 근무 시간, 시간당 급여를 계산한다.\n",
        "\n"
      ],
      "metadata": {
        "id": "rmV-Kb7Qn3H9"
      }
    },
    {
      "cell_type": "code",
      "source": [
        "#일반 급여\n",
        "def regular_pay(hours, wage):\n",
        "    return hours * wage"
      ],
      "metadata": {
        "id": "cXwLct_an227"
      },
      "execution_count": 7,
      "outputs": []
    },
    {
      "cell_type": "code",
      "execution_count": 8,
      "metadata": {
        "id": "lVi5LxGTSNhc"
      },
      "outputs": [],
      "source": [
        "#초과 근무 급여\n",
        "def overtime_pay(hours, wage, standard_hours=12, overtime_rate=1.3):\n",
        "    overtime_hours = hours - standard_hours\n",
        "    return (standard_hours * wage) + (overtime_hours * wage * overtime_rate)"
      ]
    },
    {
      "cell_type": "code",
      "source": [
        "#급여 계산\n",
        "pay_calc = {\n",
        "    True: regular_pay,\n",
        "    False: overtime_pay}"
      ],
      "metadata": {
        "id": "uL6weE4kq35g"
      },
      "execution_count": 9,
      "outputs": []
    },
    {
      "cell_type": "code",
      "source": [
        "def WorkingHours():\n",
        "  global hours, wage\n",
        "  hours = float(input(\"주당 총 근무 시간: \"))\n",
        "  wage = float(input(\"시간당 급여: \"))"
      ],
      "metadata": {
        "id": "z1KfjjjYrBaR"
      },
      "execution_count": 14,
      "outputs": []
    },
    {
      "cell_type": "code",
      "source": [
        "def pay():\n",
        "  total_pay = pay_calc[hours <= 12](hours, wage)\n",
        "  print(f\"1주일 급여는 {total_pay:.2f}원 입니다.\")"
      ],
      "metadata": {
        "id": "64AjGku3rEJa"
      },
      "execution_count": 15,
      "outputs": []
    },
    {
      "cell_type": "code",
      "source": [
        "SalaryDetails = WorkingHours()\n",
        "WagesReceived = pay()"
      ],
      "metadata": {
        "colab": {
          "base_uri": "https://localhost:8080/"
        },
        "id": "fFPenlrHrfd0",
        "outputId": "49048598-1c12-4472-8861-64a43eec4aa7"
      },
      "execution_count": 17,
      "outputs": [
        {
          "output_type": "stream",
          "name": "stdout",
          "text": [
            "주당 총 근무 시간: 14\n",
            "시간당 급여: 10000\n",
            "1주일 급여는 146000.00원 입니다.\n"
          ]
        }
      ]
    }
  ]
}