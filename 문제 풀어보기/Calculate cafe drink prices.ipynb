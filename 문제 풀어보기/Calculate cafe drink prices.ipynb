{
  "nbformat": 4,
  "nbformat_minor": 0,
  "metadata": {
    "colab": {
      "provenance": []
    },
    "kernelspec": {
      "name": "python3",
      "display_name": "Python 3"
    },
    "language_info": {
      "name": "python"
    }
  },
  "cells": [
    {
      "cell_type": "markdown",
      "source": [
        "# 카페 음료 가격 계산기\n",
        "\n",
        "---\n",
        "\n",
        "1.   입력 형식\n",
        "\n",
        "*   딕셔너리 형태로 입력(ex. {\"메뉴1\":가격, \"메뉴2\":가격}\n",
        "*   입력은 \"끝\"이라는 문자열이 들어올때까지 계속된다.\n",
        "*   입력되는 모든 문자열은 공백이 없는 한글로 구성된다.\n",
        "\n",
        "---\n",
        "\n",
        "2.   출력 형식\n",
        "\n",
        "*   주문 : 문자열 리스트 형태로, 주문한 음료 이름이 담겨있음. (ex. [\"메뉴1\", \"메뉴2\"])\n",
        "*   \"총 결제 금액은 n원입니다.\"형태로 출력\n",
        "*   n = 주문한 메뉴들의 가격 총합\n",
        "*   메뉴에 없는 입력은 \"메뉴에 없습니다. 다시 입력해주세요.\"를 출력한 뒤 입력을 다시 받는다.\n",
        "---\n",
        "\n",
        "3.   제한 사항\n",
        "\n",
        "*   주문한 음료는 메뉴에 존재해야함.\n",
        "*   음료 이름은 한글 문자열\n",
        "*   주문한 음료는 1 이상 100 이하이다.\n",
        "---\n"
      ],
      "metadata": {
        "id": "H-4BjDq7bYfk"
      }
    },
    {
      "cell_type": "code",
      "source": [
        "import re"
      ],
      "metadata": {
        "id": "C0EKbSAii5eu"
      },
      "execution_count": 60,
      "outputs": []
    },
    {
      "cell_type": "code",
      "source": [
        "i = 0"
      ],
      "metadata": {
        "id": "N9MdzIgnrLP2"
      },
      "execution_count": 61,
      "outputs": []
    },
    {
      "cell_type": "code",
      "source": [
        "#메뉴입력\n",
        "def MenuPriceList():\n",
        "  MenuDic = {}\n",
        "  while True:\n",
        "    menu = input(\"한글로 메뉴 이름을 공백 없이 입력하세요.(종료하려면 '끝'을 입력하세요): \")\n",
        "    if menu.lower() == '끝':\n",
        "      break\n",
        "\n",
        "    if not re.match(r'^[가-힣]+$',menu) or ' ' in menu:\n",
        "      print(\"메뉴 이름은 한글로만 입력해주세요. 공백은 포함 불가능합니다.\")\n",
        "      continue\n",
        "\n",
        "    price = input(\"가격을 입력하세요: \")\n",
        "    MenuDic[menu] = price\n",
        "\n",
        "    print(f\"MenuDic: {MenuDic}\")\n",
        "\n",
        "  return MenuDic"
      ],
      "metadata": {
        "id": "86vRz4LHdyjb"
      },
      "execution_count": 62,
      "outputs": []
    },
    {
      "cell_type": "code",
      "source": [
        "#메뉴 생성\n",
        "MenuList = MenuPriceList()"
      ],
      "metadata": {
        "colab": {
          "base_uri": "https://localhost:8080/"
        },
        "id": "Qae_jYrQsL6J",
        "outputId": "f9a4f84d-5179-4c9a-9efb-35f24348d2e1"
      },
      "execution_count": 64,
      "outputs": [
        {
          "name": "stdout",
          "output_type": "stream",
          "text": [
            "한글로 메뉴 이름을 공백 없이 입력하세요.(종료하려면 '끝'을 입력하세요): 아메리카노\n",
            "가격을 입력하세요: 5000\n",
            "MenuDic: {'아메리카노': '5000'}\n",
            "한글로 메뉴 이름을 공백 없이 입력하세요.(종료하려면 '끝'을 입력하세요): 생과일쥬스\n",
            "가격을 입력하세요: 8000원\n",
            "MenuDic: {'아메리카노': '5000', '생과일쥬스': '8000원'}\n",
            "한글로 메뉴 이름을 공백 없이 입력하세요.(종료하려면 '끝'을 입력하세요): fure\n",
            "메뉴 이름은 한글로만 입력해주세요. 공백은 포함 불가능합니다.\n",
            "한글로 메뉴 이름을 공백 없이 입력하세요.(종료하려면 '끝'을 입력하세요):   \n",
            "메뉴 이름은 한글로만 입력해주세요. 공백은 포함 불가능합니다.\n",
            "한글로 메뉴 이름을 공백 없이 입력하세요.(종료하려면 '끝'을 입력하세요): 14142\n",
            "메뉴 이름은 한글로만 입력해주세요. 공백은 포함 불가능합니다.\n",
            "한글로 메뉴 이름을 공백 없이 입력하세요.(종료하려면 '끝'을 입력하세요): 아샷츄\n",
            "가격을 입력하세요: 6000\n",
            "MenuDic: {'아메리카노': '5000', '생과일쥬스': '8000원', '아샷츄': '6000'}\n",
            "한글로 메뉴 이름을 공백 없이 입력하세요.(종료하려면 '끝'을 입력하세요): 끝\n"
          ]
        }
      ]
    },
    {
      "cell_type": "code",
      "source": [
        "#주문한 음료 입력\n",
        "def OrderLists():\n",
        "  OrderList = []\n",
        "  while True:\n",
        "    Order = input(\"주문할 메뉴를 입력하세요. (종료하려면 '끝'을 입력하세요) :\")\n",
        "    OrderList.append(Order)\n",
        "\n",
        "    if Order.lower() == '끝':\n",
        "      break\n",
        "\n",
        "    if not MenuList.get(Order):\n",
        "      print(\"메뉴에 없습니다. 다시 입력해주세요.\")\n",
        "      continue\n",
        "\n",
        "    if not 1 <= len(OrderList) <= 100:\n",
        "      print(\"메뉴는 1개 이상 100개 이하를 입력해주세요.\")\n",
        "\n",
        "    print(OrderList)\n",
        "  return OrderList\n",
        "\n",
        "  for i in range(len(OrderList)):\n",
        "    MenuList(Order)"
      ],
      "metadata": {
        "id": "W2ElUqNPd8TX"
      },
      "execution_count": 65,
      "outputs": []
    },
    {
      "cell_type": "code",
      "source": [
        "#주문 실행\n",
        "Orders = OrderLists()"
      ],
      "metadata": {
        "colab": {
          "base_uri": "https://localhost:8080/"
        },
        "id": "tZRRshhtsIKb",
        "outputId": "37cd3f10-492a-4396-e1a2-8570b753c7a1"
      },
      "execution_count": 66,
      "outputs": [
        {
          "name": "stdout",
          "output_type": "stream",
          "text": [
            "주문할 메뉴를 입력하세요. (종료하려면 '끝'을 입력하세요) :아메리카노\n",
            "['아메리카노']\n",
            "주문할 메뉴를 입력하세요. (종료하려면 '끝'을 입력하세요) :아메리카노\n",
            "['아메리카노', '아메리카노']\n",
            "주문할 메뉴를 입력하세요. (종료하려면 '끝'을 입력하세요) :아샷츄\n",
            "['아메리카노', '아메리카노', '아샷츄']\n",
            "주문할 메뉴를 입력하세요. (종료하려면 '끝'을 입력하세요) :아샷츄\n",
            "['아메리카노', '아메리카노', '아샷츄', '아샷츄']\n",
            "주문할 메뉴를 입력하세요. (종료하려면 '끝'을 입력하세요) :아샷츄\n",
            "['아메리카노', '아메리카노', '아샷츄', '아샷츄', '아샷츄']\n",
            "주문할 메뉴를 입력하세요. (종료하려면 '끝'을 입력하세요) :아샷츄\n",
            "['아메리카노', '아메리카노', '아샷츄', '아샷츄', '아샷츄', '아샷츄']\n",
            "주문할 메뉴를 입력하세요. (종료하려면 '끝'을 입력하세요) :아샷츄\n",
            "['아메리카노', '아메리카노', '아샷츄', '아샷츄', '아샷츄', '아샷츄', '아샷츄']\n",
            "주문할 메뉴를 입력하세요. (종료하려면 '끝'을 입력하세요) :아샷츄\n",
            "['아메리카노', '아메리카노', '아샷츄', '아샷츄', '아샷츄', '아샷츄', '아샷츄', '아샷츄']\n",
            "주문할 메뉴를 입력하세요. (종료하려면 '끝'을 입력하세요) :아샷츄\n",
            "['아메리카노', '아메리카노', '아샷츄', '아샷츄', '아샷츄', '아샷츄', '아샷츄', '아샷츄', '아샷츄']\n",
            "주문할 메뉴를 입력하세요. (종료하려면 '끝'을 입력하세요) :아샷츄\n",
            "['아메리카노', '아메리카노', '아샷츄', '아샷츄', '아샷츄', '아샷츄', '아샷츄', '아샷츄', '아샷츄', '아샷츄']\n",
            "주문할 메뉴를 입력하세요. (종료하려면 '끝'을 입력하세요) :아샷츄\n",
            "['아메리카노', '아메리카노', '아샷츄', '아샷츄', '아샷츄', '아샷츄', '아샷츄', '아샷츄', '아샷츄', '아샷츄', '아샷츄']\n",
            "주문할 메뉴를 입력하세요. (종료하려면 '끝'을 입력하세요) :아샷츄\n",
            "['아메리카노', '아메리카노', '아샷츄', '아샷츄', '아샷츄', '아샷츄', '아샷츄', '아샷츄', '아샷츄', '아샷츄', '아샷츄', '아샷츄']\n",
            "주문할 메뉴를 입력하세요. (종료하려면 '끝'을 입력하세요) :끝\n"
          ]
        }
      ]
    },
    {
      "cell_type": "code",
      "source": [
        "#가격 총합\n",
        "def Price():\n",
        "  n = []\n",
        "  for order in Orders:\n",
        "    if order != '끝':\n",
        "      n.append(int(MenuList[order]))\n",
        "\n",
        "  return sum(n)\n",
        "\n",
        "TotalPrice = Price()\n",
        "print(TotalPrice)"
      ],
      "metadata": {
        "colab": {
          "base_uri": "https://localhost:8080/"
        },
        "id": "EDSwUTjheAq2",
        "outputId": "a5f62b5e-249d-47df-ae39-028fc838a4e7"
      },
      "execution_count": 70,
      "outputs": [
        {
          "output_type": "stream",
          "name": "stdout",
          "text": [
            "70000\n"
          ]
        }
      ]
    }
  ]
}