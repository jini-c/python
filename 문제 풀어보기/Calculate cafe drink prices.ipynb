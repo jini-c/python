{
  "nbformat": 4,
  "nbformat_minor": 0,
  "metadata": {
    "colab": {
      "provenance": []
    },
    "kernelspec": {
      "name": "python3",
      "display_name": "Python 3"
    },
    "language_info": {
      "name": "python"
    }
  },
  "cells": [
    {
      "cell_type": "markdown",
      "source": [
        "# 카페 음료 가격 계산기\n",
        "\n",
        "---\n",
        "\n",
        "1.   입력 형식\n",
        "\n",
        "*   딕셔너리 형태로 입력(ex. {\"메뉴1\":가격, \"메뉴2\":가격}\n",
        "*   입력은 \"끝\"이라는 문자열이 들어올때까지 계속된다.\n",
        "*   입력되는 모든 문자열은 공백이 없는 한글로 구성된다.\n",
        "\n",
        "---\n",
        "\n",
        "2.   출력 형식\n",
        "\n",
        "*   주문 : 문자열 리스트 형태로, 주문한 음료 이름이 담겨있음. (ex. [\"메뉴1\", \"메뉴2\"])\n",
        "*   \"총 결제 금액은 n원입니다.\"형태로 출력\n",
        "*   n = 주문한 메뉴들의 가격 총합\n",
        "*   메뉴에 없는 입력은 \"메뉴에 없습니다. 다시 입력해주세요.\"를 출력한 뒤 입력을 다시 받는다.\n",
        "---\n",
        "\n",
        "3.   제한 사항\n",
        "\n",
        "*   주문한 음료는 메뉴에 존재해야함.\n",
        "*   음료 이름은 한글 문자열\n",
        "*   주문한 음료는 1 이상 100 이하이다.\n",
        "---\n"
      ],
      "metadata": {
        "id": "H-4BjDq7bYfk"
      }
    },
    {
      "cell_type": "code",
      "source": [
        "import re"
      ],
      "metadata": {
        "id": "C0EKbSAii5eu"
      },
      "execution_count": 60,
      "outputs": []
    },
    {
      "cell_type": "code",
      "source": [
        "i = 0"
      ],
      "metadata": {
        "id": "N9MdzIgnrLP2"
      },
      "execution_count": 61,
      "outputs": []
    },
    {
      "cell_type": "code",
      "source": [
        "#메뉴입력\n",
        "def MenuPriceList():\n",
        "  MenuDic = {}\n",
        "  while True:\n",
        "    menu = input(\"한글로 메뉴 이름을 공백 없이 입력하세요.(종료하려면 '끝'을 입력하세요): \")\n",
        "    if menu.lower() == '끝':\n",
        "      break\n",
        "\n",
        "    if not re.match(r'^[가-힣]+$',menu) or ' ' in menu:\n",
        "      print(\"메뉴 이름은 한글로만 입력해주세요. 공백은 포함 불가능합니다.\")\n",
        "      continue\n",
        "\n",
        "    price = input(\"가격을 입력하세요: \")\n",
        "    MenuDic[menu] = price\n",
        "\n",
        "    print(f\"MenuDic: {MenuDic}\")\n",
        "\n",
        "  return MenuDic"
      ],
      "metadata": {
        "id": "86vRz4LHdyjb"
      },
      "execution_count": 62,
      "outputs": []
    },
    {
      "cell_type": "code",
      "source": [
        "#메뉴 생성\n",
        "MenuList = MenuPriceList()"
      ],
      "metadata": {
        "colab": {
          "base_uri": "https://localhost:8080/"
        },
        "id": "Qae_jYrQsL6J",
        "outputId": "a29794e8-fccc-42cd-8312-317ce8e801bf"
      },
      "execution_count": 76,
      "outputs": [
        {
          "name": "stdout",
          "output_type": "stream",
          "text": [
            "한글로 메뉴 이름을 공백 없이 입력하세요.(종료하려면 '끝'을 입력하세요): 생과일쥬스\n",
            "가격을 입력하세요: 8000\n",
            "MenuDic: {'생과일쥬스': '8000'}\n",
            "한글로 메뉴 이름을 공백 없이 입력하세요.(종료하려면 '끝'을 입력하세요): 끝\n"
          ]
        }
      ]
    },
    {
      "cell_type": "code",
      "source": [
        "#주문한 음료 입력\n",
        "def OrderLists():\n",
        "  OrderList = []\n",
        "  while True:\n",
        "    Order = input(\"주문할 메뉴를 입력하세요. (종료하려면 '끝'을 입력하세요) :\")\n",
        "    OrderList.append(Order)\n",
        "\n",
        "    if Order.lower() == '끝':\n",
        "      break\n",
        "\n",
        "    if not MenuList.get(Order):\n",
        "      print(\"메뉴에 없습니다. 다시 입력해주세요.\")\n",
        "      continue\n",
        "\n",
        "    if not 1 <= len(OrderList) <= 100:\n",
        "      print(\"메뉴는 1개 이상 100개 이하를 입력해주세요.\")\n",
        "\n",
        "    print(OrderList)\n",
        "  return OrderList\n",
        "\n",
        "  for i in range(len(OrderList)):\n",
        "    MenuList(Order)"
      ],
      "metadata": {
        "id": "W2ElUqNPd8TX"
      },
      "execution_count": 65,
      "outputs": []
    },
    {
      "cell_type": "code",
      "source": [
        "#주문 실행\n",
        "Orders = OrderLists()"
      ],
      "metadata": {
        "colab": {
          "base_uri": "https://localhost:8080/"
        },
        "id": "tZRRshhtsIKb",
        "outputId": "18a155f5-9d4b-42fd-dc37-7c766e5e8c0a"
      },
      "execution_count": 72,
      "outputs": [
        {
          "name": "stdout",
          "output_type": "stream",
          "text": [
            "주문할 메뉴를 입력하세요. (종료하려면 '끝'을 입력하세요) :생과일쥬스\n",
            "['생과일쥬스']\n",
            "주문할 메뉴를 입력하세요. (종료하려면 '끝'을 입력하세요) :끝\n"
          ]
        }
      ]
    },
    {
      "cell_type": "code",
      "source": [
        "#가격 총합\n",
        "def Price():\n",
        "  n = []\n",
        "  for order in Orders:\n",
        "    if order != '끝':\n",
        "      price_str = MenuList[order].replace(\"원\", \"\")\n",
        "      n.append(int(price_str))\n",
        "\n",
        "  return sum(n)\n",
        "\n",
        "TotalPrice = Price()\n",
        "print(TotalPrice)"
      ],
      "metadata": {
        "colab": {
          "base_uri": "https://localhost:8080/"
        },
        "id": "EDSwUTjheAq2",
        "outputId": "a1c0df85-7ea1-47f1-83a6-c789f5cacbf5"
      },
      "execution_count": 77,
      "outputs": [
        {
          "output_type": "stream",
          "name": "stdout",
          "text": [
            "8000\n"
          ]
        }
      ]
    },
    {
      "cell_type": "code",
      "source": [
        "print(TotalPrice)"
      ],
      "metadata": {
        "colab": {
          "base_uri": "https://localhost:8080/"
        },
        "id": "Px7YORy3xF8w",
        "outputId": "374a8268-4a34-427c-edc1-96462ebd0aec"
      },
      "execution_count": 78,
      "outputs": [
        {
          "output_type": "stream",
          "name": "stdout",
          "text": [
            "8000\n"
          ]
        }
      ]
    }
  ]
}