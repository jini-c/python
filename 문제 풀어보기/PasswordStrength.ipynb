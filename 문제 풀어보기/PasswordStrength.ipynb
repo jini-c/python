{
  "nbformat": 4,
  "nbformat_minor": 0,
  "metadata": {
    "colab": {
      "provenance": []
    },
    "kernelspec": {
      "name": "python3",
      "display_name": "Python 3"
    },
    "language_info": {
      "name": "python"
    }
  },
  "cells": [
    {
      "cell_type": "markdown",
      "source": [
        "# 비밀번호 강도 검사(출제자 : 김성민)\n",
        "\n",
        "\n",
        "\n",
        "1.   사용자로부터 비밀번호를 입력받는다.\n",
        "\n",
        "2.   다음 조건을 검사하여 각각 점수 부여받는다.\n",
        "  *   비밀번호 길이가 8자 이상이면 2점\n",
        "  *   숫자를 하나 이상 포함하면 2점\n",
        "  *   대문자를 포함하면 1점\n",
        "  *   소문자를 포함하면 1점\n",
        "\n",
        "3.각 조건은 별도의 함수로 검사하며, 점수와 피드백 메시지를 반환하도록 만든다.\n",
        "\n",
        "4. 모든 조건을 검사한뒤, 총점을 계산하고 다음 기준으로 강도를 출력한다.\n",
        "*   총점 6점 이상 : 강함\n",
        "*   총점 4~5점 : 보통\n",
        "*   총점 3점 이하 : 약함\n",
        "\n",
        "5.각 조건별 평가 메시지를 함께 출력합니다.\n",
        "\n",
        "\n",
        "\n",
        "\n",
        "\n",
        "\n",
        "\n"
      ],
      "metadata": {
        "id": "QyZguADhGPRf"
      }
    },
    {
      "cell_type": "code",
      "source": [
        "import string"
      ],
      "metadata": {
        "id": "4NpLgpXdD7qO"
      },
      "execution_count": 70,
      "outputs": []
    },
    {
      "cell_type": "code",
      "execution_count": 78,
      "metadata": {
        "colab": {
          "base_uri": "https://localhost:8080/"
        },
        "id": "xHHNoIWS8h4X",
        "outputId": "522f20f4-87c7-4eac-e7b4-04991e620e74"
      },
      "outputs": [
        {
          "name": "stdout",
          "output_type": "stream",
          "text": [
            "비밀번호를 입력하세요 : f1\n"
          ]
        }
      ],
      "source": [
        "a = input(\"비밀번호를 입력하세요 : \")\n",
        "b = list(a)\n",
        "c = []\n",
        "i = 0"
      ]
    },
    {
      "cell_type": "code",
      "source": [
        "PStrength = PasswordStrength()\n",
        "print(PStrength)"
      ],
      "metadata": {
        "colab": {
          "base_uri": "https://localhost:8080/"
        },
        "id": "_Ddr7yooCvnJ",
        "outputId": "1b4735b6-4fbb-4848-ed94-0cbc55c1e423"
      },
      "execution_count": 79,
      "outputs": [
        {
          "output_type": "stream",
          "name": "stdout",
          "text": [
            "[['비밀번호 8자 이상', '숫자 포함', '대문자 포함', '소문자 포함'], 'Weekness']\n"
          ]
        }
      ]
    },
    {
      "cell_type": "code",
      "source": [
        "def PasswordLen():\n",
        "  if len(b) >= 7:\n",
        "    c.append(2)\n",
        "    print(\"비밀번호 길이가 8자 이상이여서 2점을 획득하였습니다.\")\n",
        "    return True\n",
        "  return False\n",
        "\n",
        "def PasswordDecimal():\n",
        "  if any(item.isdecimal() for item in b):\n",
        "    c.append(2)\n",
        "    print(\"숫자를 하나 이상 포함하여서 2점을 획득하였습니다.\")\n",
        "    return True\n",
        "  return False\n",
        "\n",
        "def PasswordIsupper():\n",
        "  if any(item.isupper() for item in b):\n",
        "    c.append(1)\n",
        "    print(\"대문자를 하나 이상 포함하여서 1점을 획득하였습니다.\")\n",
        "    return True\n",
        "  return False\n",
        "\n",
        "def PasswordIslower():\n",
        "  if any(item.islower() for item in b):\n",
        "    c.append(1)\n",
        "    print(\"소문자를 하나 이상 포함하여서 1점을 획득하였습니다.\")\n",
        "    return True\n",
        "  return False"
      ],
      "metadata": {
        "id": "JkiWLdfLAJkV"
      },
      "execution_count": 72,
      "outputs": []
    },
    {
      "cell_type": "code",
      "source": [
        "PJudgementA = PasswordLen()\n",
        "PJudgementB = PasswordDecimal()\n",
        "PJudgementC = PasswordIsupper()\n",
        "PJudgementD = PasswordIslower()"
      ],
      "metadata": {
        "colab": {
          "base_uri": "https://localhost:8080/"
        },
        "id": "6fIoH39qH7fH",
        "outputId": "83eb5f1f-c951-458f-cd9a-9338b0519e03"
      },
      "execution_count": 73,
      "outputs": [
        {
          "output_type": "stream",
          "name": "stdout",
          "text": [
            "비밀번호 길이가 8자 이상이여서 2점을 획득하였습니다.\n",
            "숫자를 하나 이상 포함하여서 2점을 획득하였습니다.\n",
            "대문자를 하나 이상 포함하여서 1점을 획득하였습니다.\n",
            "소문자를 하나 이상 포함하여서 1점을 획득하였습니다.\n"
          ]
        }
      ]
    },
    {
      "cell_type": "code",
      "source": [
        "def JudgementPassword():\n",
        "  result = []\n",
        "  if PJudgementA == True:\n",
        "    result.append(\"비밀번호 8자 이상\")\n",
        "  else:\n",
        "    result.append(\"비밀번호 8자 이하\")\n",
        "  if PJudgementB == True:\n",
        "    result.append(\"숫자 포함\")\n",
        "  else:\n",
        "    result.append(\"숫자 포함 X\")\n",
        "  if PJudgementC == True:\n",
        "    result.append(\"대문자 포함\")\n",
        "  else:\n",
        "    result.append(\"대문자 포함 X\")\n",
        "  if PJudgementD == True:\n",
        "    result.append(\"소문자 포함\")\n",
        "  else:\n",
        "    result.append(\"소문자 포함 X\")\n",
        "  return result"
      ],
      "metadata": {
        "id": "9jfbxbDzInNn"
      },
      "execution_count": 74,
      "outputs": []
    },
    {
      "cell_type": "code",
      "source": [
        "PasswordJudgement = JudgementPassword()"
      ],
      "metadata": {
        "id": "MJfSROGeI5gf"
      },
      "execution_count": 75,
      "outputs": []
    },
    {
      "cell_type": "code",
      "source": [
        "def PasswordStrength():\n",
        "  result2 = []\n",
        "  if sum(c) >= 6:\n",
        "    result2.append(PasswordJudgement)\n",
        "    result2.append(\"Strong\")\n",
        "\n",
        "  if 4 <= sum(c) <=5:\n",
        "    result2.append(PasswordJudgement)\n",
        "    result2.append(\"Normal\")\n",
        "\n",
        "  if sum(c) <= 3:\n",
        "    result2.append(PasswordJudgement)\n",
        "    result2.append(\"Weekness\")\n",
        "  return(result2)"
      ],
      "metadata": {
        "id": "eLnt6XRkAuWr"
      },
      "execution_count": 76,
      "outputs": []
    }
  ]
}