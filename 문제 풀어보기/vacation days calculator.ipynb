{
  "nbformat": 4,
  "nbformat_minor": 0,
  "metadata": {
    "colab": {
      "provenance": []
    },
    "kernelspec": {
      "name": "python3",
      "display_name": "Python 3"
    },
    "language_info": {
      "name": "python"
    }
  },
  "cells": [
    {
      "cell_type": "markdown",
      "source": [
        "# 휴가 일수 계산기(출제자 : 조성민)\n",
        "---\n",
        "\n",
        "1.   휴가는 20일 출근에 하루가 부여된다.\n",
        "2.   직원 이름과 휴가갈 일 수가 포함된 딕셔너리를 만드시오.\n",
        "3.   휴가 검색도 가능하게끔 만드시오.\n",
        "4.   (조건 추가) 1년 이상 5년 미만 근무한 직원들 대상으로 목록을 만들었다.\n",
        "---\n",
        "\n"
      ],
      "metadata": {
        "id": "9tOe0THh2cr9"
      }
    },
    {
      "cell_type": "code",
      "source": [
        "import random"
      ],
      "metadata": {
        "id": "9qmJSjS5247d"
      },
      "execution_count": 26,
      "outputs": []
    },
    {
      "cell_type": "code",
      "execution_count": 27,
      "metadata": {
        "id": "r8X8DtCQ2KWt"
      },
      "outputs": [],
      "source": [
        "#휴가 딕셔너리 생성\n",
        "def vacation():\n",
        "  vacation = {}\n",
        "  while True:\n",
        "    name = input(\"직원 이름을 입력해주세요.(종료하려면 '끝'을 입력하세요): \")\n",
        "    if name.lower() == '끝':\n",
        "      break\n",
        "\n",
        "    date = random.randint(365, 1825) // 20\n",
        "    vacation[name] = date\n",
        "\n",
        "    print(f\"vacation: {vacation}\")\n",
        "\n",
        "  return vacation"
      ]
    },
    {
      "cell_type": "code",
      "source": [
        "a = vacation()"
      ],
      "metadata": {
        "colab": {
          "base_uri": "https://localhost:8080/"
        },
        "id": "ZE0vZR2-BtE_",
        "outputId": "e5f75a19-3fbf-481f-af6e-ec9f17e40a62"
      },
      "execution_count": 28,
      "outputs": [
        {
          "name": "stdout",
          "output_type": "stream",
          "text": [
            "직원 이름을 입력해주세요.(종료하려면 '끝'을 입력하세요): 혜진\n",
            "vacation: {'혜진': 81}\n",
            "직원 이름을 입력해주세요.(종료하려면 '끝'을 입력하세요): 창진\n",
            "vacation: {'혜진': 81, '창진': 40}\n",
            "직원 이름을 입력해주세요.(종료하려면 '끝'을 입력하세요): 자몽\n",
            "vacation: {'혜진': 81, '창진': 40, '자몽': 24}\n",
            "직원 이름을 입력해주세요.(종료하려면 '끝'을 입력하세요): 끝\n"
          ]
        }
      ]
    },
    {
      "cell_type": "code",
      "source": [
        "def SearchVacation(VacationData):\n",
        "    name = input(\"휴가일 수가 궁금한 직원의 이름을 입력하세요: \")\n",
        "    if name in VacationData:\n",
        "        print(f\"{name}의 남은 휴가 일수는 {VacationData[name]}일입니다.\")\n",
        "    else:\n",
        "        print(f\"{name}라는 이름의 직원은 없습니다.\")\n"
      ],
      "metadata": {
        "id": "mpx6Ic_OB0nv"
      },
      "execution_count": 29,
      "outputs": []
    },
    {
      "cell_type": "code",
      "source": [
        "b = SearchVacation(a)"
      ],
      "metadata": {
        "colab": {
          "base_uri": "https://localhost:8080/"
        },
        "id": "PeTS48IIIPzN",
        "outputId": "a7a80e9e-7fb6-41a4-8283-8dbb2ce2a254"
      },
      "execution_count": 33,
      "outputs": [
        {
          "output_type": "stream",
          "name": "stdout",
          "text": [
            "휴가일 수가 궁금한 직원의 이름을 입력하세요: 혜진\n",
            "혜진의 남은 휴가 일수는 81일입니다.\n"
          ]
        }
      ]
    }
  ]
}