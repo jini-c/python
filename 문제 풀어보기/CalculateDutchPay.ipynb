{
  "nbformat": 4,
  "nbformat_minor": 0,
  "metadata": {
    "colab": {
      "provenance": []
    },
    "kernelspec": {
      "name": "python3",
      "display_name": "Python 3"
    },
    "language_info": {
      "name": "python"
    }
  },
  "cells": [
    {
      "cell_type": "markdown",
      "source": [
        "# 더치페이하기 (출제자 : 이민솔)\n",
        "\n",
        "---\n",
        "1.   각 인원은 중간에 합류가 가능하다\n",
        "2.   각 인원은 중간에 이탈이 가능하다.\n",
        "3.   (추가 조건) 적어도 3차 이상을 간다.\n",
        "\n",
        "---\n",
        "\n"
      ],
      "metadata": {
        "id": "d4NnQddL0t6R"
      }
    },
    {
      "cell_type": "code",
      "source": [
        "def InputPersonnel():\n",
        "    placePersonnel = {}\n",
        "    place = 1\n",
        "\n",
        "    while True:\n",
        "        personnelStr = input(f\"{place}차 참여자 명단을 입력하세요 (쉼표로 구분, 끝내려면 '끝' 입력): \")\n",
        "        if personnelStr.strip().lower() == '끝':\n",
        "            break\n",
        "\n",
        "        personnelList = [name.strip() for name in personnelStr.split(',') if name.strip()]\n",
        "        if not personnelList:\n",
        "            print(\"참여자가 한 명도 없습니다. 다시 입력해주세요.\")\n",
        "            continue\n",
        "\n",
        "        placePersonnel[f\"{place}차\"] = personnelList\n",
        "        place += 1\n",
        "\n",
        "    return placePersonnel"
      ],
      "metadata": {
        "id": "F9EXE-C235Jh"
      },
      "execution_count": null,
      "outputs": []
    },
    {
      "cell_type": "code",
      "source": [
        "def InputCosts():\n",
        "    placeCosts = {}\n",
        "    place = 1\n",
        "\n",
        "    while True:\n",
        "        costStr = input(f\"{place}차 비용을 입력하세요 (끝내려면 '끝' 입력): \")\n",
        "        if costStr.strip().lower() == '끝':\n",
        "            break\n",
        "\n",
        "        try:\n",
        "            cost = int(costStr)\n",
        "        except ValueError:\n",
        "            print(\"숫자만 입력하세요.\")\n",
        "            continue\n",
        "\n",
        "        placeCosts[f\"{place}차\"] = cost\n",
        "        place += 1\n",
        "\n",
        "    return placeCosts"
      ],
      "metadata": {
        "colab": {
          "base_uri": "https://localhost:8080/"
        },
        "id": "wpv5nI92DUHC",
        "outputId": "0bca68cc-1b86-434f-f49a-6881af11f9e4"
      },
      "execution_count": null,
      "outputs": [
        {
          "output_type": "stream",
          "name": "stdout",
          "text": [
            "1차 참여자 명단을 입력하세요 (쉼표로 구분, 끝내려면 '끝'): 끝\n",
            "\n",
            "[차수별 참여자 명단]\n"
          ]
        }
      ]
    },
    {
      "cell_type": "code",
      "source": [
        "def MergePersonnelAndCosts(personnelData, costData):\n",
        "    dutchpayData = {}\n",
        "    for place, personnelList in personnelData.items():\n",
        "        cost = costData.get(place, 0)  # 만약 비용 정보 없으면 0으로\n",
        "        dutchpayData[place] = {\n",
        "            \"person\": personnelList,\n",
        "            \"costs\": cost\n",
        "        }\n",
        "    return dutchpayData\n"
      ],
      "metadata": {
        "id": "AscB8Js64RuJ"
      },
      "execution_count": null,
      "outputs": []
    },
    {
      "cell_type": "code",
      "source": [
        "def CalculateAndPrintDutchpay(dutchpayData):\n",
        "    print(\"\\n[차수별 더치페이 결과]\")\n",
        "    for rounds, data in dutchpayData.items():\n",
        "        numPeople = len(data['person'])\n",
        "        cost = data['costs']\n",
        "        if numPeople == 0:\n",
        "            print(f\"{rounds}: 참여자가 없습니다.\")\n",
        "            continue\n",
        "        perPerson = cost // numPeople\n",
        "        print(f\"{rounds}: {', '.join(data['person'])} / 총 비용: {cost}원 / 1인당 {perPerson}원\")\n"
      ],
      "metadata": {
        "colab": {
          "base_uri": "https://localhost:8080/"
        },
        "id": "qf60f0drDVID",
        "outputId": "1fd8e998-9769-4240-c190-24578b3c1053"
      },
      "execution_count": null,
      "outputs": [
        {
          "output_type": "stream",
          "name": "stdout",
          "text": [
            "1차에 비용을 입력하세요 (끝내려면 '끝'을 입력하세요):50000\n",
            "2차에 비용을 입력하세요 (끝내려면 '끝'을 입력하세요):100000\n",
            "3차에 비용을 입력하세요 (끝내려면 '끝'을 입력하세요):끝\n",
            "\n",
            "[차수별 비용]\n",
            "1차: [50000]\n",
            "2차: [100000]\n"
          ]
        }
      ]
    },
    {
      "cell_type": "code",
      "source": [
        "def RunDutchpay():\n",
        "    personnelData = InputPersonnel()\n",
        "    costData = InputCosts()\n",
        "    dutchpayData = MergePersonnelAndCosts(personnelData, costData)\n",
        "    CalculateAndPrintDutchpay(dutchpayData)\n",
        "\n"
      ],
      "metadata": {
        "id": "tfNrM3Yf1CEJ"
      },
      "execution_count": null,
      "outputs": []
    },
    {
      "cell_type": "code",
      "source": [
        "print(\"\\n[차수별 더치페이 결과]\")\n",
        "for rounds, data in result.items():\n",
        "    NumPeople = len(data['person'])\n",
        "    cost = data['costs']\n",
        "    PerPerson = cost // NumPeople\n",
        "    print(f\"{rounds}: {', '.join(data['person'])} / 총 비용: {cost}원 / 1인당: {per_person}원\")"
      ],
      "metadata": {
        "id": "HAYyLZvvPu6q"
      },
      "execution_count": null,
      "outputs": []
    },
    {
      "cell_type": "code",
      "source": [
        "# 프로그램 실행\n",
        "RunDutchpay()"
      ],
      "metadata": {
        "id": "sLXPUlZsPoyr"
      },
      "execution_count": null,
      "outputs": []
    }
  ]
}