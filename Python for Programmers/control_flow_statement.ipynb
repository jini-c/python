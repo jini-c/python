{
  "nbformat": 4,
  "nbformat_minor": 0,
  "metadata": {
    "colab": {
      "provenance": []
    },
    "kernelspec": {
      "name": "python3",
      "display_name": "Python 3"
    },
    "language_info": {
      "name": "python"
    }
  },
  "cells": [
    {
      "cell_type": "code",
      "source": [
        "#if문 한줄로 줄이기\n",
        "\n",
        "grade = 87\n",
        "if grade >= 60:\n",
        "  result ='passed'\n",
        "else:\n",
        "  result ='failed'\n",
        "\n",
        "result = ('passed' if grade >=60 else 'failed')"
      ],
      "metadata": {
        "id": "mCVktm2q7e4b"
      },
      "execution_count": null,
      "outputs": []
    },
    {
      "cell_type": "code",
      "source": [
        "grade = 49\n",
        "\n",
        "if grade>= 60:\n",
        "  print('passed')\n",
        "else:\n",
        "  print('failed')"
      ],
      "metadata": {
        "id": "AJL3J5Mu-yQx"
      },
      "execution_count": null,
      "outputs": []
    },
    {
      "cell_type": "code",
      "source": [
        "#class_average\n",
        "\n",
        "#초기화 단계\n",
        "\n",
        "total = 0 #점수의 총합\n",
        "grade_counter = 0\n",
        "grades = [98,76,71,87,84,90,57,79,82,94]\n",
        "\n",
        "#처리 단계\n",
        "for grade in grades:\n",
        "  total += grade #grade값을 total에 더한다.\n",
        "  grade_counter +=1 #처리한 횟수\n",
        "\n",
        "average = total / grade_counter\n",
        "print(f\"학급 평균은 {average}\")\n",
        "\n",
        "print(f\"{total/grade_counter}\")"
      ],
      "metadata": {
        "colab": {
          "base_uri": "https://localhost:8080/"
        },
        "id": "gR9dZO1K_f4A",
        "outputId": "004347cc-d9ca-4414-b0c2-095e69136a56"
      },
      "execution_count": 13,
      "outputs": [
        {
          "output_type": "stream",
          "name": "stdout",
          "text": [
            "학급 평균은 81.8\n",
            "81.8\n"
          ]
        }
      ]
    },
    {
      "cell_type": "code",
      "source": [
        "#class_average_sentinel\n",
        "\"\"\"센티널로 제어되는 반복으로 평균을 구하는 프로그램\"\"\"\n",
        "\n",
        "#초기화 단계\n",
        "total = 0 #점수의총합\n",
        "grade_counter = 0 #입력한 점수들의 개수\n",
        "\n",
        "#처리 단계\n",
        "grade = int(input('점수 입력, 없으면 -1: ')) #점수 하나 입력 받기\n",
        "\n",
        "while grade != -1:\n",
        "  total += grade\n",
        "  grade_counter += 1\n",
        "  grade = int(input('점수 입력, 없으면 -1: '))\n",
        "\n",
        "#마지막 단계\n",
        "\n",
        "if grade_counter != 0:\n",
        "  average = total/grade_counter\n",
        "  print(f'학급 평균은 {average: .2f}')\n",
        "else:\n",
        "  print('입력된 점수가 없습니다.')"
      ],
      "metadata": {
        "colab": {
          "base_uri": "https://localhost:8080/"
        },
        "id": "BYjGA1sABMfR",
        "outputId": "b7f23f0f-57a0-4efa-c279-1c2958bb0a82"
      },
      "execution_count": 17,
      "outputs": [
        {
          "output_type": "stream",
          "name": "stdout",
          "text": [
            "점수 입력, 없으면 -1: 89\n",
            "점수 입력, 없으면 -1: 91\n",
            "점수 입력, 없으면 -1: -1\n",
            "학급 평균은  90.00\n"
          ]
        }
      ]
    },
    {
      "cell_type": "markdown",
      "source": [
        "#Decimal 사용법\n",
        "\n",
        "import Decimal로 사용/ 정확한 소수 계산을 이용할 때 사용\n",
        "\n",
        "복리 이자 문제\n",
        "\n",
        "한 사람이 저축 계좌에 1,000달러를 투자하여 5%의 이자를 얻는다. 예금 이지가 모두 계좌에 입금된다고 가정하면, 10년 동안 매년 연말에 계좌에 있는 돈을 게산해 표시한다.\n",
        "\n",
        "a=p(1+r)n제곱\n",
        "p = 투자한 원금, r = 연간 이자율, n은 투자한 기간(년단위), a는 n년말에 계좌에 있는돈"
      ],
      "metadata": {
        "id": "DQR2HiyfCorZ"
      }
    },
    {
      "cell_type": "code",
      "source": [
        "from decimal import Decimal"
      ],
      "metadata": {
        "id": "90w57zopB66q"
      },
      "execution_count": 19,
      "outputs": []
    },
    {
      "cell_type": "code",
      "source": [
        "principal = 1000\n",
        "rate = 0.05\n",
        "\n",
        "for year in range(1,11):\n",
        "  amount = principal*(1+rate)**year\n",
        "  print(f'{year:>2}{amount:>10.2f}')"
      ],
      "metadata": {
        "colab": {
          "base_uri": "https://localhost:8080/"
        },
        "id": "v3uUbpJGELoJ",
        "outputId": "65136755-9c06-45e2-f003-5fe2f2e38442"
      },
      "execution_count": 21,
      "outputs": [
        {
          "output_type": "stream",
          "name": "stdout",
          "text": [
            " 1   1050.00\n",
            " 2   1102.50\n",
            " 3   1157.63\n",
            " 4   1215.51\n",
            " 5   1276.28\n",
            " 6   1340.10\n",
            " 7   1407.10\n",
            " 8   1477.46\n",
            " 9   1551.33\n",
            "10   1628.89\n"
          ]
        }
      ]
    },
    {
      "cell_type": "markdown",
      "source": [
        "#break & continue"
      ],
      "metadata": {
        "id": "1POTSGuOFhlK"
      }
    },
    {
      "cell_type": "code",
      "source": [
        "#break\n",
        "for number in range(100):\n",
        "  if number == 10:\n",
        "    break\n",
        "  print(number, end=' ')"
      ],
      "metadata": {
        "colab": {
          "base_uri": "https://localhost:8080/"
        },
        "id": "p5gtU6GdFgE5",
        "outputId": "e053900f-e809-4989-ca4a-5dd44930f1cf"
      },
      "execution_count": 26,
      "outputs": [
        {
          "output_type": "stream",
          "name": "stdout",
          "text": [
            "0 1 2 3 4 5 6 7 8 9 "
          ]
        }
      ]
    },
    {
      "cell_type": "code",
      "source": [
        "#continue\n",
        "\n",
        "for number in range(10):\n",
        "  if number == 5:\n",
        "    continue\n",
        "  print(number, end = ' ')"
      ],
      "metadata": {
        "colab": {
          "base_uri": "https://localhost:8080/"
        },
        "id": "KnO82w96F2jK",
        "outputId": "adb10e64-83d9-4684-cf74-fb870c40e23b"
      },
      "execution_count": 27,
      "outputs": [
        {
          "output_type": "stream",
          "name": "stdout",
          "text": [
            "0 1 2 3 4 6 7 8 9 "
          ]
        }
      ]
    },
    {
      "cell_type": "markdown",
      "source": [
        "#boolen"
      ],
      "metadata": {
        "id": "w6B4mjHjF-55"
      }
    },
    {
      "cell_type": "code",
      "source": [
        "#and\n",
        "gender = 'Female'\n",
        "age = 70\n",
        "if gender == 'Female' and age >= 65:\n",
        "  print('Senior female')"
      ],
      "metadata": {
        "colab": {
          "base_uri": "https://localhost:8080/"
        },
        "id": "42874msNGD9L",
        "outputId": "d071712d-6f3f-4457-9708-936d7c32705b"
      },
      "execution_count": 28,
      "outputs": [
        {
          "output_type": "stream",
          "name": "stdout",
          "text": [
            "Senior female\n"
          ]
        }
      ]
    },
    {
      "cell_type": "code",
      "source": [
        "#or\n",
        "\n",
        "semester_average = 83\n",
        "final_exam =95\n",
        "\n",
        "if semester_average >= 90 or final_exam >= 90:\n",
        "  print('Student gets an A')"
      ],
      "metadata": {
        "colab": {
          "base_uri": "https://localhost:8080/"
        },
        "id": "nk6daGsEGPks",
        "outputId": "87285b0d-f3df-4972-e336-79f1ef119ad2"
      },
      "execution_count": 29,
      "outputs": [
        {
          "output_type": "stream",
          "name": "stdout",
          "text": [
            "Student gets an A\n"
          ]
        }
      ]
    },
    {
      "cell_type": "code",
      "source": [
        "grades = [85,93,93,45,89,85]\n",
        "sum(grades) /len(grades)"
      ],
      "metadata": {
        "colab": {
          "base_uri": "https://localhost:8080/"
        },
        "id": "rdgYAohVGjM8",
        "outputId": "eeca3c3b-774d-4260-9d7e-0c0838e1134c"
      },
      "execution_count": 46,
      "outputs": [
        {
          "output_type": "execute_result",
          "data": {
            "text/plain": [
              "81.66666666666667"
            ]
          },
          "metadata": {},
          "execution_count": 46
        }
      ]
    },
    {
      "cell_type": "code",
      "source": [
        "#평균, 중앙값, 최빈값ㅇ르 계산하는 함수들이 제공되는 statistics 모듈\n",
        "import statistics"
      ],
      "metadata": {
        "id": "dpyFmn3VGtNq"
      },
      "execution_count": 47,
      "outputs": []
    },
    {
      "cell_type": "code",
      "source": [
        "statistics.mean(grades)"
      ],
      "metadata": {
        "colab": {
          "base_uri": "https://localhost:8080/"
        },
        "id": "qwoWVE9OGxUz",
        "outputId": "01685a51-6bbe-41c0-8a36-b0bc43f1493f"
      },
      "execution_count": 48,
      "outputs": [
        {
          "output_type": "execute_result",
          "data": {
            "text/plain": [
              "81.66666666666667"
            ]
          },
          "metadata": {},
          "execution_count": 48
        }
      ]
    },
    {
      "cell_type": "code",
      "source": [
        "statistics.median(grades)"
      ],
      "metadata": {
        "colab": {
          "base_uri": "https://localhost:8080/"
        },
        "id": "300kwZ9DHCoq",
        "outputId": "74b1a9f0-98b7-4d27-fef1-a1a21b6a2aa9"
      },
      "execution_count": 49,
      "outputs": [
        {
          "output_type": "execute_result",
          "data": {
            "text/plain": [
              "87.0"
            ]
          },
          "metadata": {},
          "execution_count": 49
        }
      ]
    },
    {
      "cell_type": "code",
      "source": [
        "statistics.mode(grades) #3.9 이상부터는 최빈값이 두 개 이상이여도 오류 발생 X\n",
        "statistics.multimode(grades) #멀티모드를 쳐서 바이모달(bimodeal)인지 알 수 있다."
      ],
      "metadata": {
        "colab": {
          "base_uri": "https://localhost:8080/"
        },
        "id": "yOHlCcQMHHSJ",
        "outputId": "58e05128-1732-4fa7-86b5-ab2408af780b"
      },
      "execution_count": 51,
      "outputs": [
        {
          "output_type": "execute_result",
          "data": {
            "text/plain": [
              "[85, 93]"
            ]
          },
          "metadata": {},
          "execution_count": 51
        }
      ]
    }
  ]
}