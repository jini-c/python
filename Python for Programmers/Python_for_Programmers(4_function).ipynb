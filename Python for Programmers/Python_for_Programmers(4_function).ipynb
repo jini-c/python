{
  "nbformat": 4,
  "nbformat_minor": 0,
  "metadata": {
    "colab": {
      "provenance": []
    },
    "kernelspec": {
      "name": "python3",
      "display_name": "Python 3"
    },
    "language_info": {
      "name": "python"
    }
  },
  "cells": [
    {
      "cell_type": "markdown",
      "source": [
        "#함수(Function)\n",
        "\n",
        "\n",
        "---\n",
        "\n",
        "\n",
        "함수란? 각각의 한 가지 작업, 잘 정의된 작업을 수행하는 것\n",
        "\n",
        "함수 형식\n",
        "\n",
        "def 함수명(함수의 인자): <- (:) 중요!\n",
        "\n",
        "함수 이름 관례 = 소문자로 시작해서, 여러 단어를 사용할 땐 밑줄(_)로 단어 구분"
      ],
      "metadata": {
        "id": "sk8x7aTye8st"
      }
    },
    {
      "cell_type": "code",
      "execution_count": 2,
      "metadata": {
        "id": "SFpOmkV7e04H"
      },
      "outputs": [],
      "source": [
        "def square(number):\n",
        "  \"\"\"정사각형의 넓이를 계산한다.\"\"\"\n",
        "  #함수의 블록의 첫 번째 줄은 함수 목적을 간단하게 설명하는 독스트링(docstring)을 작성하도록 하고있다.\n",
        "  return number**2  #return 함수의 제어권을 다시 호출자에게 되돌려줌.\n"
      ]
    },
    {
      "cell_type": "markdown",
      "source": [
        "#return문\n",
        "\n",
        "return 함수의 제어권을 다시 호출자에게 되돌려줌.\n",
        "\n",
        "함수에서 호출자에게 반환하는 방법 2가지\n",
        "\n",
        "\n",
        "\n",
        "1.   단순 return문만 실행하는 경우 None값을 반환. 조건식에 쓸 경우 거짓으로 평가\n",
        "\n",
        "2.   return문이 없으면 함수 블록의 마지막 명령을 실행하고 암묵적으로 None을 반환\n",
        "\n"
      ],
      "metadata": {
        "id": "g303fY9xgtKM"
      }
    },
    {
      "cell_type": "code",
      "source": [
        "square?"
      ],
      "metadata": {
        "id": "0axOZ4VihSKz"
      },
      "execution_count": 5,
      "outputs": []
    },
    {
      "cell_type": "markdown",
      "source": [
        "#함수의 정보 보기\n",
        "\n",
        "Signature: square(number)\n",
        "\n",
        "Docstring: 정사각형의 넓이를 계산한다.\n",
        "\n",
        "File:      /content/<ipython-input-2-b5b7b11964f8>\n",
        "\n",
        "Type:      function\n",
        "\n",
        "?를 치면 도움말 볼 수 있음"
      ],
      "metadata": {
        "id": "nYbfjiwmhlKc"
      }
    },
    {
      "cell_type": "code",
      "source": [
        "#다수의 매개변수\n",
        "\n",
        "def maximum(value1, value2, value3):\n",
        "  \"\"\"세 개의 중 가장 큰 수를 반환한다.\"\"\"\n",
        "  max_value = value1 #로컬변수 max_value에 value1을 저장\n",
        "  if value2 >max_value:\n",
        "    max_value=value2\n",
        "  if value3 > max_value:\n",
        "    max_value = value3\n",
        "  return max_value #호출자에게 제어권을 넘겨줄 때 로컬 변수는 사라짐"
      ],
      "metadata": {
        "id": "95uit11nh9Gc"
      },
      "execution_count": null,
      "outputs": []
    },
    {
      "cell_type": "code",
      "source": [
        "import random\n",
        "\n",
        "for roll in range(10):\n",
        "  print(random.randrange(1,7), end=' ')\n",
        "  #randrange start값보다 크거나 같고 end값보다 작은 값을 생성"
      ],
      "metadata": {
        "colab": {
          "base_uri": "https://localhost:8080/"
        },
        "id": "PmO5zPzEi5TL",
        "outputId": "ab3cfc79-bc5c-4207-f00f-7a4a3df1317b"
      },
      "execution_count": 20,
      "outputs": [
        {
          "output_type": "stream",
          "name": "stdout",
          "text": [
            "6 3 4 5 1 3 5 5 3 6 "
          ]
        }
      ]
    },
    {
      "cell_type": "code",
      "source": [
        "#random seed를 통한 주사위 600백만번 던지기\n",
        "\n",
        "frequency1 = 0\n",
        "frequency2 = 0\n",
        "frequency3 = 0\n",
        "frequency4 = 0\n",
        "frequency5 = 0\n",
        "frequency6 = 0\n",
        "\n",
        "for roll in range(6_000_000): #밑줄로 자리 구분 ,쓰는 경우 세개의 인자로 구분\n",
        "  face = random.randrange(1,7)\n",
        "\n",
        "  #주사위의 수 별로 출현 횟수를 계산한다.\n",
        "  if face == 1:\n",
        "    frequency1 +=1\n",
        "  elif face ==2:\n",
        "    frequency2 += 1\n",
        "  elif face ==3:\n",
        "    frequency3 += 1\n",
        "  elif face ==4:\n",
        "    frequency4 += 1\n",
        "  elif face ==5:\n",
        "    frequency5 += 1\n",
        "  elif face ==6:\n",
        "    frequency6 += 1\n",
        "\n",
        "print(f'Face{\"Frequency\":>13}')\n",
        "print(f'{1:>4}{frequency1:>13}')\n",
        "print(f'{2:>4}{frequency2:>13}')\n",
        "print(f'{3:>4}{frequency3:>13}')\n",
        "print(f'{4:>4}{frequency4:>13}')\n",
        "print(f'{5:>4}{frequency5:>13}')\n",
        "print(f'{6:>4}{frequency6:>13}')"
      ],
      "metadata": {
        "colab": {
          "base_uri": "https://localhost:8080/"
        },
        "id": "nrMRUXtyjiws",
        "outputId": "f224e6f9-c545-44ae-c447-0fd5eaa21615"
      },
      "execution_count": 21,
      "outputs": [
        {
          "output_type": "stream",
          "name": "stdout",
          "text": [
            "Face    Frequency\n",
            "   1       998780\n",
            "   2      1001994\n",
            "   3       999695\n",
            "   4      1000815\n",
            "   5       999982\n",
            "   6       998734\n"
          ]
        }
      ]
    },
    {
      "cell_type": "code",
      "source": [
        "random.seed(32)\n",
        "for roll in range(10):\n",
        "  print(random.randrange(1, 7), end=' ')\n",
        "print(\"\\n---\\n\")\n",
        "for roll in range(10):\n",
        "  print(random.randrange(1,7), end= ' ')\n",
        "print(\"\\n---\\n\")\n",
        "random.seed(32)\n",
        "for roll in range(10):\n",
        "  print(random.randrange(1, 7), end=' ') #같은 값 생성"
      ],
      "metadata": {
        "colab": {
          "base_uri": "https://localhost:8080/"
        },
        "id": "j4IUBa2Bk1aU",
        "outputId": "30762046-8be3-40e4-beb3-10ed0f40b193"
      },
      "execution_count": 25,
      "outputs": [
        {
          "output_type": "stream",
          "name": "stdout",
          "text": [
            "1 2 2 3 6 2 4 1 6 1 \n",
            "---\n",
            "\n",
            "1 3 5 3 1 5 6 4 3 5 \n",
            "---\n",
            "\n",
            "1 2 2 3 6 2 4 1 6 1 "
          ]
        }
      ]
    },
    {
      "cell_type": "markdown",
      "source": [
        "#확률 게임 : 크랩스 게임\n",
        "\n",
        "\n",
        "\n",
        "---\n",
        "\n",
        "\n",
        "\n",
        "1. 두 개의 육면체 주사위를 굴린다.\n",
        "\n",
        "2. 주사위의 면에는 한 개부터 여섯 개의 점이 각각 찍혀있다.\n",
        "\n",
        "3. 주사위가 멈추면 위로 향하고 있는 쪽에 보이는 점들의 개수를 합한다.\n",
        "\n",
        "\n",
        "\n",
        "*   첫 번째 주사위 놀이에서 주사위 점들의 합이 7이나 11이되면 이긴다.\n",
        "*   첫 번째 놀이에서 합이 2,3이나 12이면 진다.\n",
        "\n",
        "\n",
        "*   첫 번째 롤에서 합이 4,5,6,8,9 또는 10이면 합이 '포인트'가 되고, 이기려면 포인트를 다시 만들 때까지 반복한다.(앞에서 설정한 포인트와 동일한 수가 나오게 주사위를 굴린다.)\n",
        "*   만약 포인터를 만들기 전에 7이 나오면 진다."
      ],
      "metadata": {
        "id": "soPgcS81mPCM"
      }
    },
    {
      "cell_type": "code",
      "source": [
        "#크랩스 주사위 게임 시뮬레이션 하기.\n",
        "\n",
        "def roll_dice():\n",
        "  \"\"\"두개의 주사위를 던지고 튜플로 각 주사위의 숫자를 반환한다.\"\"\"\n",
        "\n",
        "  die1 = random.randrange(1,7)\n",
        "  die2 = random.randrange(1,7)\n",
        "  return(die1, die2) #주사위 숫자를 튜플로 묶는다.\n",
        "\n",
        "def display_dice(dice):\n",
        "  \"\"\"두 개의 주사위 숫자를 한번에 출력한다.\"\"\"\n",
        "  die1, die2 = dice #튜플을 변수 die1과 die2에 푼다\n",
        "  print(f'플레이어가 던진 주사위는 {die1} + {die2} = {sum(dice)}')\n",
        "\n",
        "die_values = roll_dice() #첫 번째 게임\n",
        "display_dice(die_values)\n",
        "\n",
        "#첫 번째 게임을 보고 게임 승패 또는 포인트 점수 결정한다.\n",
        "sum_of_dice = sum(die_values)\n",
        "\n",
        "if sum_of_dice in (7 , 11):\n",
        "  game_status = '승리'\n",
        "elif sum_of_dice in (2, 3, 12):\n",
        "  game_status = '패배'\n",
        "else:\n",
        "  game_status = '계속'\n",
        "  my_point = sum_of_dice\n",
        "  print('포인트는', my_point)\n",
        "\n",
        "while game_status == '계속':\n",
        "  die_value = roll_dice()\n",
        "  display_dice(die_values)\n",
        "  sum_of_dice = sum(die_values)\n",
        "\n",
        "  if sum_of_dice == my_point:\n",
        "    game_status = '승리'\n",
        "  elif sum_of_dice == 7:\n",
        "    game_status = '패배'\n",
        "\n",
        "if game_status == '승리':\n",
        "  print('플레이어 승리')\n",
        "else:\n",
        "  print('플레이어 패배')"
      ],
      "metadata": {
        "colab": {
          "base_uri": "https://localhost:8080/"
        },
        "id": "5bgMhBofnK9s",
        "outputId": "02d79688-ff21-4b83-abee-6ef85efb7922"
      },
      "execution_count": 37,
      "outputs": [
        {
          "output_type": "stream",
          "name": "stdout",
          "text": [
            "플레이어가 던진 주사위는 5 + 3 = 8\n",
            "포인트는 8\n",
            "플레이어가 던진 주사위는 5 + 3 = 8\n",
            "플레이어 승리\n"
          ]
        }
      ]
    },
    {
      "cell_type": "markdown",
      "source": [
        "#파이썬 표준 라이브러리 모듈들\n",
        "\n",
        "\n",
        "\n",
        "*   collections : 리스트, 튜플, 딕셔너리, 세트 이외의 다른 데이터 구조\n",
        "*   암호(Cryptography) 모듈들 : 데이터를 안전하게 전송하기 위한 데이터 암호화\n",
        "*   csv: 콤마로 데이터의 각 필드가 나누어져있는 파일처리(엑셀과 비슷한 것)\n",
        "*os: 운영체제와 상호 연동을 위한 모듈\n",
        "*profile,pstats, timeit: 성능분석\n",
        "*re:패턴 매칭을 위한 정규 표현식\n",
        "*sqlite3: SQLite 데이터베이스 접근\n",
        "*datetime:날짜, 시간,time,calenar 모듈\n",
        "*decimal : 금융계산을 위한 고정 소수점과 부동 소수점 수의 연산\n",
        "*doctest : 독스트링에 포함되어 있는 검증 코드와 예상 결과를 가지고 간단한 단위를 테스트한다.\n",
        "*gettext와 locale: 국제화 및 지역화를 위한 모듈\n",
        "*json : 웹 서비스나 NoSQl 데이터베이스에서 사용하는 자바 스크립트 객체 표기법(JSON) 처리\n",
        "*math: 수학에서 일반적으로 사용하는 상수와 연산\n",
        "*statistics : mean, median, mode, variance같은 수학적 통계 함수들\n",
        "*string : 문자열 처리\n",
        "*sys : 커맨드라인 인자 처리, 표준 입력, 표준 출력, 표준 오류\n",
        "*tkinter : 그래픽 사용자 인터베이스(GUI), 캔버스 기반 그래픽\n",
        "*turtle : 터틀 그래픽\n",
        "*webbrowser: 파이썬 앱에서 편리하게 웹페이지를 표시할 수 있도록 한다.\n"
      ],
      "metadata": {
        "id": "0ZyzYonzpkLU"
      }
    },
    {
      "cell_type": "code",
      "source": [
        "import math"
      ],
      "metadata": {
        "id": "mFVhnYRknZAG"
      },
      "execution_count": 39,
      "outputs": []
    },
    {
      "cell_type": "code",
      "source": [
        "math.sqrt(900) #제곱근을 게산하는 함수 -> float타입값 반환"
      ],
      "metadata": {
        "id": "VjS39GHXq-Ae"
      },
      "execution_count": null,
      "outputs": []
    },
    {
      "cell_type": "code",
      "source": [
        "math.fabs(-10) #절대값 계산함수 -> float타입값 반환"
      ],
      "metadata": {
        "id": "yJaCLwhnq8DG"
      },
      "execution_count": null,
      "outputs": []
    },
    {
      "cell_type": "code",
      "source": [
        "#매개변수 기본값 설정\n",
        "\n",
        "def rectangle_area(length=2, width=3):\n",
        "  \"\"\"사각형의 넓이 반환.\"\"\"\n",
        "  return length*width"
      ],
      "metadata": {
        "id": "wzIFXlbbrSD1"
      },
      "execution_count": 41,
      "outputs": []
    },
    {
      "cell_type": "code",
      "source": [
        "rectangle_area(10) #두 개인데 하나만 설정하면 왼쪽부터 설정"
      ],
      "metadata": {
        "colab": {
          "base_uri": "https://localhost:8080/"
        },
        "id": "NGmugq4jr6dV",
        "outputId": "0fc91c3c-4917-4647-96c1-f2856e489520"
      },
      "execution_count": 44,
      "outputs": [
        {
          "output_type": "execute_result",
          "data": {
            "text/plain": [
              "50"
            ]
          },
          "metadata": {},
          "execution_count": 44
        }
      ]
    },
    {
      "cell_type": "code",
      "source": [
        "rectangle_area(10, 5)"
      ],
      "metadata": {
        "id": "-JENcDgTsHbV"
      },
      "execution_count": null,
      "outputs": []
    },
    {
      "cell_type": "code",
      "source": [
        "def rectangle_area(length, width):\n",
        "  \"\"\"사각형의 넓이 반환.\"\"\"\n",
        "  return length*width"
      ],
      "metadata": {
        "id": "6Fy8Z46LsMYl"
      },
      "execution_count": 45,
      "outputs": []
    },
    {
      "cell_type": "code",
      "source": [
        "#인자리스트(arbitray argument list) *붙이면 추가 인자들도 활용 가능\n",
        "\n",
        "def average(*args): #*args = 옵션 매개변수\n",
        "  return sum(args)/len(args)"
      ],
      "metadata": {
        "id": "ssTb13dtsPh0"
      },
      "execution_count": 47,
      "outputs": []
    },
    {
      "cell_type": "code",
      "source": [
        "#함수 인자로 이터러블의 각 원소 전달하기\n",
        "\"\"\"*연산자는 이터러블의 각 원소를 언패킹함.\"\"\"\n",
        "\n",
        "grades = [88, 75, 96, 55, 83]\n",
        "\n",
        "average(*grades)"
      ],
      "metadata": {
        "colab": {
          "base_uri": "https://localhost:8080/"
        },
        "id": "er8yRrXHtAmm",
        "outputId": "82c96889-4eed-4e4c-abfd-2f39c7c328ba"
      },
      "execution_count": 50,
      "outputs": [
        {
          "output_type": "execute_result",
          "data": {
            "text/plain": [
              "79.4"
            ]
          },
          "metadata": {},
          "execution_count": 50
        }
      ]
    },
    {
      "cell_type": "markdown",
      "source": [
        "#메서드 : 객체에 정의된 함수\n",
        "\n",
        "1.   객체_이름.메서드_이름(인자들)\n",
        "\n",
        "---\n",
        "#스코프 규칙\n",
        "\n",
        "\n",
        "1. 스코프란 각 식별자는 프로그램에서 사용할 수 있는 범위를 의미한다. 프로그램에서 식별자는 '스코프 안에'있다고 말할 수 있다.\n",
        "\n",
        "2.   로컬 스코프\n",
        "\n",
        "\n",
        "*   변수가 정의된 위치에서 시작해서 함수 블록이 끝나는 시점까지가 스코프 범위\n",
        "*   함수가 끝나고 호출자에게 돌아가면 스코프를 벗어나므로 로컬변수는 변수가 정의된 함수 안에서만 사용가능.\n",
        "\n",
        "\n",
        "3.   글로벌 스코프\n",
        "\n",
        "\n",
        "*   함수(또는 클래스) 밖에서 정의된 식별자는 글로벌 스코프를 갖고, 글로벌 스코프에는 함수, 변수, 클래들이 있을 수 있다.\n",
        "*   글로벌 스코프에 있는 변수를 '글로벌' 변수라고한다.\n",
        "*   글로벌 스코프에 있는 식별자는 정의된 시점 이후에 .py 파일이나 대화형 세션에서 모두 사용할 수있다.\n",
        "\n"
      ],
      "metadata": {
        "id": "52UldECZtaKs"
      }
    },
    {
      "cell_type": "code",
      "source": [
        "x = 7\n",
        "def access_global():\n",
        "  print('access_global 함수에서 출력한 x값:',x)\n",
        "\n",
        "access_global()"
      ],
      "metadata": {
        "colab": {
          "base_uri": "https://localhost:8080/"
        },
        "id": "_vtVv533utX-",
        "outputId": "faf51066-1d0d-4c88-ddf4-deff19482aff"
      },
      "execution_count": 52,
      "outputs": [
        {
          "output_type": "stream",
          "name": "stdout",
          "text": [
            "access_global 함수에서 출력한 x값: 7\n"
          ]
        }
      ]
    },
    {
      "cell_type": "code",
      "source": [
        "def try_to_modify_global():\n",
        "  x=3.5\n",
        "  print('try_to_modify_global함수에서 출력한 x값:', x)\n",
        "\n",
        "try_to_modify_global()\n",
        "\n",
        "x"
      ],
      "metadata": {
        "colab": {
          "base_uri": "https://localhost:8080/"
        },
        "id": "tIFaGrFRu7av",
        "outputId": "e13d2aba-6791-46c6-fcfe-b85c522e5cee"
      },
      "execution_count": 54,
      "outputs": [
        {
          "output_type": "stream",
          "name": "stdout",
          "text": [
            "try_to_modify_global함수에서 출력한 x값: 3.5\n"
          ]
        },
        {
          "output_type": "execute_result",
          "data": {
            "text/plain": [
              "7"
            ]
          },
          "metadata": {},
          "execution_count": 54
        }
      ]
    },
    {
      "cell_type": "code",
      "source": [
        "def modify_global():\n",
        "  global x\n",
        "  x = 'hello'\n",
        "  print('modify_global 함수에서 출력한 x값: ', x)\n",
        "\n",
        "modify_global()\n",
        "\n",
        "x"
      ],
      "metadata": {
        "colab": {
          "base_uri": "https://localhost:8080/",
          "height": 54
        },
        "id": "RaWzTHbBvHyX",
        "outputId": "d6d2b9f0-387f-4cd3-ebef-64cf6b79de44"
      },
      "execution_count": 55,
      "outputs": [
        {
          "output_type": "stream",
          "name": "stdout",
          "text": [
            "modify_global 함수에서 출력한 x값:  hello\n"
          ]
        },
        {
          "output_type": "execute_result",
          "data": {
            "text/plain": [
              "'hello'"
            ],
            "application/vnd.google.colaboratory.intrinsic+json": {
              "type": "string"
            }
          },
          "metadata": {},
          "execution_count": 55
        }
      ]
    },
    {
      "cell_type": "markdown",
      "source": [
        "#import 파헤치기\n",
        "\n",
        "\n",
        "\n",
        "*   import module_name 기본 방식\n",
        "*   from module_name import identifier 모듈 이름과 점(.)으로 지정하지 않고 식별자 사용 가능\n",
        "\n"
      ],
      "metadata": {
        "id": "3DWdHy4LvnmO"
      }
    },
    {
      "cell_type": "code",
      "source": [
        "#모듈에서 여러 개의 식별자 임포트하기\n",
        "from math import ceil, floor\n",
        "\n",
        "#math.ceil, math.floor 없이 사용가능\n",
        "print(ceil(10.3)) #올림\n",
        "\n",
        "floor(10.7) #내림"
      ],
      "metadata": {
        "colab": {
          "base_uri": "https://localhost:8080/"
        },
        "id": "yGH4b3yPv4Tr",
        "outputId": "2293a05e-a2eb-43b8-f898-c2b423775803"
      },
      "execution_count": 57,
      "outputs": [
        {
          "output_type": "stream",
          "name": "stdout",
          "text": [
            "11\n"
          ]
        },
        {
          "output_type": "execute_result",
          "data": {
            "text/plain": [
              "10"
            ]
          },
          "metadata": {},
          "execution_count": 57
        }
      ]
    },
    {
      "cell_type": "markdown",
      "source": [
        "#와일드카드로 임포트하지않기\n",
        "\n",
        "from math import* #와일드카드를 사용하면 모듈에 정의된 모든 식별자를 임포트 가능\n"
      ],
      "metadata": {
        "id": "EdVibelUwm7n"
      }
    },
    {
      "cell_type": "code",
      "source": [
        "\n",
        "e = 'hello'\n",
        "from math import*\n",
        "\n",
        "e"
      ],
      "metadata": {
        "colab": {
          "base_uri": "https://localhost:8080/"
        },
        "id": "l9W4Rnzbwehi",
        "outputId": "d7fbccef-8832-4eb3-8bdd-f8c7a8b8fd81"
      },
      "execution_count": 59,
      "outputs": [
        {
          "output_type": "execute_result",
          "data": {
            "text/plain": [
              "2.718281828459045"
            ]
          },
          "metadata": {},
          "execution_count": 59
        }
      ]
    },
    {
      "cell_type": "markdown",
      "source": [
        "#모듈과 모듈의 식별자에 이름 부여하기\n",
        "\n",
        "*   import문에 as를 사용하면 모듈의 식별자들을 참조하는 별도의 이름 부여 가능"
      ],
      "metadata": {
        "id": "TkroYNE9w31G"
      }
    },
    {
      "cell_type": "code",
      "source": [
        "import statistics as stats\n",
        "\n",
        "grades = [85, 93, 45, 87, 93]\n",
        "\n",
        "stats.mean(grades)"
      ],
      "metadata": {
        "colab": {
          "base_uri": "https://localhost:8080/"
        },
        "id": "HERz--guwqxt",
        "outputId": "0cd0ad3a-085d-45aa-cfc4-d10395bdace8"
      },
      "execution_count": 60,
      "outputs": [
        {
          "output_type": "execute_result",
          "data": {
            "text/plain": [
              "80.6"
            ]
          },
          "metadata": {},
          "execution_count": 60
        }
      ]
    },
    {
      "cell_type": "markdown",
      "source": [
        "#함수에 인자 전달하기\n",
        "\n",
        "---\n",
        "\n",
        "1.   값으로 넘기기(pass-by-value)\n",
        "\n",
        "\n",
        "*   값으로 넘기기는 함수에서 인자들의 값을 복사해서 받고 이 복사된 값을 가지고 함수를 실행한다. 복사된 값을 변경해도 호출자가 넘겨준 원래의 변수의 값에 영향을 주지 않는다.\n",
        "\n",
        "*   값으로 호출하기(call-by-value)하기도함\n",
        "\n",
        "\n",
        "\n",
        "2.   참조로 넘기기(pass-by-reference)\n",
        "\n",
        "*   참조로 넘기기이면 함수에서 인자의 값을 직접 접근할 수 있다. 그리고 이것을 변경할 수 있으면 변경도 가능하다.\n",
        "\n",
        "*   참조로 호출하기(call-by-reference)\n",
        "\n",
        "\n",
        "3.   파이썬의 인자는 항상 '참조로 넘기기'를 사용\n",
        "\n",
        "\n",
        "\n",
        "*    객체 참조 넘기기(pass-by-object-reference)라고도 한다.\n",
        "\n",
        "*    함수를 호출할 때 인자를 사용하면 파이썬은 대응하는 매개변수로 인자의 객체 자체를 복사하는 것이 아니라 객체의 참조를 복사하는데, 이것이 성능에 중요.\n",
        "\n",
        "*    함수는 종종 큰 객체를 조작한다. 이런 큰 객체를 자주 복사하면 메모리를 많이 사용할 뿐만 아니라 프로그램 성능도 심각하게 떨어뜨릴 수 있다.\n",
        "\n",
        "\n",
        "---\n",
        "\n",
        "#메모리 주소, 참조, 포인터\n",
        "\n",
        "1.  보통은 참조(reference)를 통해서 객체와 연동\n",
        "\n",
        "2.  참조는 내부적으로 컴퓨터 메모리에 있는 객체 주소(또는 위치)로 '포인터'라고 부르기도함"
      ],
      "metadata": {
        "id": "gJtYUxQlxCck"
      }
    },
    {
      "cell_type": "code",
      "source": [
        "#내장 함수 id와 객체의 동일성\n",
        "\n",
        "x=7 #x는 7이라는 값을 가지고 있는 integer 객체를 참조\n",
        "\n",
        "id(x) #내장함수 id를 사용하면 메모리에 있는 객체를 구분할 수 있는 유일한 정수값을 얻을 수 있음."
      ],
      "metadata": {
        "colab": {
          "base_uri": "https://localhost:8080/"
        },
        "id": "7lK2KUS9yexs",
        "outputId": "aa7e42bd-f35b-4500-a371-35b70aa6165f"
      },
      "execution_count": 61,
      "outputs": [
        {
          "output_type": "execute_result",
          "data": {
            "text/plain": [
              "10751048"
            ]
          },
          "metadata": {},
          "execution_count": 61
        }
      ]
    },
    {
      "cell_type": "code",
      "source": [
        "def cube(number):\n",
        "  print('id(number):',id(number))\n",
        "  return number ** 3"
      ],
      "metadata": {
        "id": "RuXW34XeyyFv"
      },
      "execution_count": 62,
      "outputs": []
    },
    {
      "cell_type": "code",
      "source": [
        "cube(x)\n",
        "\"\"\"위에 식별값이랑 동일한 것을 알 수 있다. 모든 객체는 유일한 식별값을 가지고 있기 때문에\n",
        " 결국 인자x와 매개변수 number는 동일한 객체를 가지고 있는것이다.\n",
        " 따라서 함수 cube가 계산에 쓰인 매개변수 number를 사용할 때 함수는\n",
        "  호출자에 있는 원래의 객체에서 값을 가져온 것이다.\"\"\""
      ],
      "metadata": {
        "colab": {
          "base_uri": "https://localhost:8080/",
          "height": 91
        },
        "id": "IvdQ9OzBzLEY",
        "outputId": "b391b88b-1870-483e-f754-057f4925a06a"
      },
      "execution_count": 64,
      "outputs": [
        {
          "output_type": "stream",
          "name": "stdout",
          "text": [
            "id(number): 10751048\n"
          ]
        },
        {
          "output_type": "execute_result",
          "data": {
            "text/plain": [
              "'위에 식별값이랑 동일한 것을 알 수 있다. 모든 객체는 유일한 식별값을 가지고 있기 때문에\\n 결국 인자x와 매개변수 number는 동일한 객체를 가지고 있는것이다. \\n 따라서 함수 cube가 계산에 쓰인 매개변수 number를 사용할 때 함수는\\n  호출자에 있는 원래의 객체에서 값을 가져온 것이다.'"
            ],
            "application/vnd.google.colaboratory.intrinsic+json": {
              "type": "string"
            }
          },
          "metadata": {},
          "execution_count": 64
        }
      ]
    },
    {
      "cell_type": "code",
      "source": [
        "def cube(number):\n",
        "  print('number is x:', number is x)\n",
        "  return number ** 3\n",
        "\n",
        "cube(x)"
      ],
      "metadata": {
        "colab": {
          "base_uri": "https://localhost:8080/"
        },
        "id": "ao7UaaRvz3VJ",
        "outputId": "ab42e537-5834-472c-bec9-99d197518a4d"
      },
      "execution_count": 66,
      "outputs": [
        {
          "output_type": "stream",
          "name": "stdout",
          "text": [
            "number is x: True\n"
          ]
        },
        {
          "output_type": "execute_result",
          "data": {
            "text/plain": [
              "343"
            ]
          },
          "metadata": {},
          "execution_count": 66
        }
      ]
    },
    {
      "cell_type": "code",
      "source": [
        "#불변 객체를 인자로 사용하기\n",
        "\n",
        "def cube(number):\n",
        "  print('number 값을 수정하기 전 id(number) :', id(number))\n",
        "  number **= 3\n",
        "  print('number 값을 수정한후 id(number) :', id(number))\n",
        "  return number\n",
        "\n",
        "cube(x)\n"
      ],
      "metadata": {
        "colab": {
          "base_uri": "https://localhost:8080/"
        },
        "id": "AI4WEKVM0G_Q",
        "outputId": "9810217b-163c-40f4-91e7-adf6a5f37e12"
      },
      "execution_count": 68,
      "outputs": [
        {
          "output_type": "stream",
          "name": "stdout",
          "text": [
            "number 값을 수정하기 전 id(number) : 10751048\n",
            "number 값을 수정한후 id(number) : 138037270750896\n"
          ]
        },
        {
          "output_type": "execute_result",
          "data": {
            "text/plain": [
              "343"
            ]
          },
          "metadata": {},
          "execution_count": 68
        }
      ]
    },
    {
      "cell_type": "code",
      "source": [
        "print(f'x = {x}; id(x) = {id(x)}')"
      ],
      "metadata": {
        "colab": {
          "base_uri": "https://localhost:8080/"
        },
        "id": "jzjDcWE802km",
        "outputId": "b4c77a41-44dc-4d93-cfe7-735b50dc72e1"
      },
      "execution_count": 69,
      "outputs": [
        {
          "output_type": "stream",
          "name": "stdout",
          "text": [
            "x = 7; id(x) = 10751048\n"
          ]
        }
      ]
    },
    {
      "cell_type": "markdown",
      "source": [
        "#재귀 호출"
      ],
      "metadata": {
        "id": "CWWGiy5V1LqG"
      }
    },
    {
      "cell_type": "code",
      "source": [
        "factorial = 1\n",
        "for number in range(5, 0, -1):\n",
        "  factorial *= number\n",
        "\n",
        "factorial"
      ],
      "metadata": {
        "colab": {
          "base_uri": "https://localhost:8080/"
        },
        "id": "d9LvQNiw1PLt",
        "outputId": "52a89a23-6cde-4f17-e78b-72773bee298c"
      },
      "execution_count": 70,
      "outputs": [
        {
          "output_type": "execute_result",
          "data": {
            "text/plain": [
              "120"
            ]
          },
          "metadata": {},
          "execution_count": 70
        }
      ]
    },
    {
      "cell_type": "code",
      "source": [
        "def factorial(number):\n",
        "  \"\"\"팩토리얼 값 계산\"\"\"\n",
        "  if number <= 1:\n",
        "    return 1\n",
        "  return number * factorial(number -1) #재귀 호출\n",
        "\n",
        "for i in range(11):\n",
        "  print(f'{i}! = {factorial(i)}')"
      ],
      "metadata": {
        "colab": {
          "base_uri": "https://localhost:8080/"
        },
        "id": "gzBgBOFQ1YVX",
        "outputId": "03128518-d6f0-4439-e7be-1efa0cb09db6"
      },
      "execution_count": 73,
      "outputs": [
        {
          "output_type": "stream",
          "name": "stdout",
          "text": [
            "0! = 1\n",
            "1! = 1\n",
            "2! = 2\n",
            "3! = 6\n",
            "4! = 24\n",
            "5! = 120\n",
            "6! = 720\n",
            "7! = 5040\n",
            "8! = 40320\n",
            "9! = 362880\n",
            "10! = 3628800\n"
          ]
        }
      ]
    },
    {
      "cell_type": "code",
      "source": [],
      "metadata": {
        "id": "h8GpWR2D1yQv"
      },
      "execution_count": null,
      "outputs": []
    },
    {
      "cell_type": "markdown",
      "source": [
        "#함수형 프로그래밍\n",
        "\n",
        "1.   대상과 방법\n",
        "\n",
        "*    함수 스타일 프로그래밍은 하려는 것이 무엇인지 쉽게 설명할 수 있다.\n",
        "\n",
        "*    각 작업 실행 방법에 대한 상세한 것을 숨기고, 일반적으로 라이브러리에서 구체적인 것을 처리한다.\n",
        "\n",
        "2.    익스터널 이터레이션\n",
        "\n",
        "*    제어 변수, 초기값, 어떻게 제어 변수를 증가시킬지와 제어 변수를 사용해서 더 반복할 조건 등 모든 것을 지정해야하는 방식.\n",
        "\n",
        "3.    순수 함수\n",
        "\n",
        "*    순수 함수의 결과는 함수에 전달되는 인자에만 의존\n",
        "\n",
        "*    주어진 특정 인자나 인자들에 대해서 함수는 항상 같은 결과를 반환\n",
        "\n",
        "*    사이드 이펙트가 없음. 변경가능 리스트를 순수 함수에 전달해도 리스트는 함수 호출 이전과 이후가 동일"
      ],
      "metadata": {
        "id": "op7adfKS2N6n"
      }
    },
    {
      "cell_type": "code",
      "source": [
        "#분산 측정((측정값-측정값들의 평균)제곱/측정값들의 수)\n",
        "\n",
        "import statistics\n",
        "\n",
        "statistics.pvariance([1,4,2,3,4,5,2,4,5,2,4,3,4,5,])"
      ],
      "metadata": {
        "colab": {
          "base_uri": "https://localhost:8080/"
        },
        "id": "euipowNZ3UBu",
        "outputId": "2c997045-964a-4baf-95bd-0569f17e24f5"
      },
      "execution_count": 78,
      "outputs": [
        {
          "output_type": "execute_result",
          "data": {
            "text/plain": [
              "1.530612244897959"
            ]
          },
          "metadata": {},
          "execution_count": 78
        }
      ]
    },
    {
      "cell_type": "code",
      "source": [
        "#표준 편차(분산에 제곱근)\n",
        "\n",
        "statistics.pstdev([1,4,2,3,4,5,2,4,5,2,4,3,4,5,])"
      ],
      "metadata": {
        "colab": {
          "base_uri": "https://localhost:8080/"
        },
        "id": "riKu0nDv3pZw",
        "outputId": "5e3b2e05-7681-41cc-fc3f-f9c7e2daf027"
      },
      "execution_count": 79,
      "outputs": [
        {
          "output_type": "execute_result",
          "data": {
            "text/plain": [
              "1.2371791482634837"
            ]
          },
          "metadata": {},
          "execution_count": 79
        }
      ]
    },
    {
      "cell_type": "code",
      "source": [
        "import math\n",
        "\n",
        "math.sqrt(statistics.pvariance([1,4,2,3,4,5,2,4,5,2,4,3,4,5,]))"
      ],
      "metadata": {
        "colab": {
          "base_uri": "https://localhost:8080/"
        },
        "id": "Y4dDWYnh4FkI",
        "outputId": "521eaff8-6a6a-4add-fd7d-b95fc3e127c4"
      },
      "execution_count": 82,
      "outputs": [
        {
          "output_type": "execute_result",
          "data": {
            "text/plain": [
              "1.2371791482634837"
            ]
          },
          "metadata": {},
          "execution_count": 82
        }
      ]
    }
  ]
}