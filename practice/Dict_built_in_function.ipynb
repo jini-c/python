{
  "nbformat": 4,
  "nbformat_minor": 0,
  "metadata": {
    "colab": {
      "provenance": [],
      "authorship_tag": "ABX9TyNV45h40cyyk3IbAwX4IzcQ",
      "include_colab_link": true
    },
    "kernelspec": {
      "name": "python3",
      "display_name": "Python 3"
    },
    "language_info": {
      "name": "python"
    }
  },
  "cells": [
    {
      "cell_type": "markdown",
      "metadata": {
        "id": "view-in-github",
        "colab_type": "text"
      },
      "source": [
        "<a href=\"https://colab.research.google.com/github/jini-c/python/blob/main/Dict_built_in_function.ipynb\" target=\"_parent\"><img src=\"https://colab.research.google.com/assets/colab-badge.svg\" alt=\"Open In Colab\"/></a>"
      ]
    },
    {
      "cell_type": "markdown",
      "source": [
        "# **Dictionary built-in function example**"
      ],
      "metadata": {
        "id": "UiLRIx1NQZ67"
      }
    },
    {
      "cell_type": "markdown",
      "source": [
        "__contains__ : Check if key exists in dict"
      ],
      "metadata": {
        "id": "eXDGhHT9V3q1"
      }
    },
    {
      "cell_type": "code",
      "execution_count": 7,
      "metadata": {
        "colab": {
          "base_uri": "https://localhost:8080/"
        },
        "id": "cVhUwfV2PTaq",
        "outputId": "fcd9dc55-34d2-4ee2-df03-9acc84646a9b"
      },
      "outputs": [
        {
          "output_type": "stream",
          "name": "stdout",
          "text": [
            "True\n",
            "True\n",
            "True\n"
          ]
        }
      ],
      "source": [
        "MyDict = {'name' : 'paul', 'age' : 34}\n",
        "\n",
        "print('name' in MyDict) #key 값을 확인한다.\n",
        "\n",
        "print('paul' in MyDict.values()) #value 값을 확인하고 싶을 때는 .values를 붙인다.\n",
        "\n",
        "print(34 in MyDict.values())"
      ]
    },
    {
      "cell_type": "markdown",
      "source": [
        "__getitem__ : access value by key\n",
        "\n"
      ],
      "metadata": {
        "id": "4iDISuUxWFVQ"
      }
    },
    {
      "cell_type": "code",
      "source": [
        "print(MyDict['age']) #딕셔너리 키 값 안에 밸류값을 확인할 때 사용한다."
      ],
      "metadata": {
        "colab": {
          "base_uri": "https://localhost:8080/"
        },
        "id": "4jFhrxzHVGgE",
        "outputId": "99db473f-d1e0-4fb5-cbea-37b8e608ca98"
      },
      "execution_count": 11,
      "outputs": [
        {
          "output_type": "stream",
          "name": "stdout",
          "text": [
            "34\n"
          ]
        }
      ]
    },
    {
      "cell_type": "markdown",
      "source": [
        "__setitem__ : assign value to key"
      ],
      "metadata": {
        "id": "5DcDVOUKXD1B"
      }
    },
    {
      "cell_type": "code",
      "source": [
        "MyDict['scores'] = 100 #딕셔너리에 새로운 키 값과 밸류 값을 추가한다.\n",
        "\n",
        "print(MyDict['scores'])\n",
        "\n",
        "MyDict.__setitem__('value', 50)\n",
        "print(MyDict.__getitem__('value'))  # 출력: 50\n"
      ],
      "metadata": {
        "colab": {
          "base_uri": "https://localhost:8080/"
        },
        "id": "4kgf2MlBXYzP",
        "outputId": "9abae123-9fe0-43ad-f8cf-01bc18e03bfd"
      },
      "execution_count": 12,
      "outputs": [
        {
          "output_type": "stream",
          "name": "stdout",
          "text": [
            "100\n",
            "50\n"
          ]
        }
      ]
    },
    {
      "cell_type": "markdown",
      "source": [
        "__delitem__ : Delete key"
      ],
      "metadata": {
        "id": "hy6VLjFDYGcJ"
      }
    },
    {
      "cell_type": "code",
      "source": [
        "#del MyDict['value']\n",
        "\n",
        "print(MyDict['value']) #key값이 삭제되어서 KeyError가 뜬다."
      ],
      "metadata": {
        "colab": {
          "base_uri": "https://localhost:8080/",
          "height": 184
        },
        "id": "SagU_xxnYLEE",
        "outputId": "151c102a-7a74-4928-c108-caf1021a3538"
      },
      "execution_count": 14,
      "outputs": [
        {
          "output_type": "error",
          "ename": "KeyError",
          "evalue": "'value'",
          "traceback": [
            "\u001b[0;31m---------------------------------------------------------------------------\u001b[0m",
            "\u001b[0;31mKeyError\u001b[0m                                  Traceback (most recent call last)",
            "\u001b[0;32m<ipython-input-14-2a82cfdf44e5>\u001b[0m in \u001b[0;36m<cell line: 0>\u001b[0;34m()\u001b[0m\n\u001b[0;32m----> 1\u001b[0;31m \u001b[0;32mdel\u001b[0m \u001b[0mMyDict\u001b[0m\u001b[0;34m[\u001b[0m\u001b[0;34m'value'\u001b[0m\u001b[0;34m]\u001b[0m\u001b[0;34m\u001b[0m\u001b[0;34m\u001b[0m\u001b[0m\n\u001b[0m\u001b[1;32m      2\u001b[0m \u001b[0;34m\u001b[0m\u001b[0m\n\u001b[1;32m      3\u001b[0m \u001b[0mprint\u001b[0m\u001b[0;34m(\u001b[0m\u001b[0mMyDict\u001b[0m\u001b[0;34m[\u001b[0m\u001b[0;34m'value'\u001b[0m\u001b[0;34m]\u001b[0m\u001b[0;34m)\u001b[0m\u001b[0;34m\u001b[0m\u001b[0;34m\u001b[0m\u001b[0m\n",
            "\u001b[0;31mKeyError\u001b[0m: 'value'"
          ]
        }
      ]
    },
    {
      "cell_type": "markdown",
      "source": [
        "__iter__ : Iterate over keys."
      ],
      "metadata": {
        "id": "FSA6-tDnYYwn"
      }
    },
    {
      "cell_type": "code",
      "source": [
        "d = {'a':1,'b':2,'c':3}\n",
        "\n",
        "for key in d: #d 안에 있는 key값만 출력할 때\n",
        "  print(key)\n",
        "\n",
        "for v in d.values(): #value값을 출력하고 싶으면 .values()를 붙여야한다.\n",
        "  print(v)\n",
        "\n",
        "for k in d:\n",
        "    print(\"키:\", k, \"값:\", d[k]) #key값, values값을 출력하고 싶을 때 사용한다."
      ],
      "metadata": {
        "colab": {
          "base_uri": "https://localhost:8080/"
        },
        "id": "Bs4opvosYO-5",
        "outputId": "1ce1d927-d9e8-4aea-dd03-7e352f78113c"
      },
      "execution_count": 15,
      "outputs": [
        {
          "output_type": "stream",
          "name": "stdout",
          "text": [
            "a\n",
            "b\n",
            "c\n",
            "1\n",
            "2\n",
            "3\n",
            "키: a 값: 1\n",
            "키: b 값: 2\n",
            "키: c 값: 3\n"
          ]
        }
      ]
    },
    {
      "cell_type": "markdown",
      "source": [
        "__len__ : Get number of items"
      ],
      "metadata": {
        "id": "bWzLcXhxcsiC"
      }
    },
    {
      "cell_type": "code",
      "source": [
        "print(len(d)) #아이템의 개수를 알 수 있다."
      ],
      "metadata": {
        "colab": {
          "base_uri": "https://localhost:8080/"
        },
        "id": "skzazD5ZcxT-",
        "outputId": "2c8b9d89-fc75-4c77-e42a-cee11b1bb989"
      },
      "execution_count": 16,
      "outputs": [
        {
          "output_type": "stream",
          "name": "stdout",
          "text": [
            "3\n"
          ]
        }
      ]
    },
    {
      "cell_type": "markdown",
      "source": [
        "__eq__ : Compare equality\n",
        "\n",
        "__ne__ : Compare inequality"
      ],
      "metadata": {
        "id": "9bUveT8Fc5Zp"
      }
    },
    {
      "cell_type": "code",
      "source": [
        "d1 = {'a':1,'b':2,'c':4}\n",
        "d2 = {'a':1,'b':2,'d':3}\n",
        "print('d' == 'd1') #딕셔너리 값이 같은지 확인한다. 키 값과 밸류값이 다 같아야한다.\n",
        "\n",
        "print('d' != 'd1') #딕셔너리 값이 틀린지 확인한다. 키 값과 밸류값 중에서 하나만 틀려도 True를 반환한다..\n",
        "\n",
        "print('d' != 'd2')"
      ],
      "metadata": {
        "colab": {
          "base_uri": "https://localhost:8080/"
        },
        "id": "jLN-gcuqc3iJ",
        "outputId": "847539cc-2961-4e9f-8a09-82b88771b0c4"
      },
      "execution_count": 18,
      "outputs": [
        {
          "output_type": "stream",
          "name": "stdout",
          "text": [
            "False\n",
            "True\n",
            "True\n"
          ]
        }
      ]
    },
    {
      "cell_type": "markdown",
      "source": [
        "__or__ : merge dictionaries\n",
        "\n",
        "__ior__ : in-place merge\n",
        "\n",
        "__reversed__ : not supported. reversed(d) raises error"
      ],
      "metadata": {
        "id": "u9ieWirNeJ0v"
      }
    },
    {
      "cell_type": "code",
      "source": [
        "d1 = {'a': 1}\n",
        "d2 = {'b': 2}\n",
        "\n",
        "merged = d1 | d2 #d1과 d2를 병합한다.\n",
        "print(merged) #새로운 딕셔너리가 생긴다\n",
        "print(d1) #d1은 변하지않는다.\n",
        "print(d2)\n",
        "\n",
        "d1 |= d2\n",
        "print(d1) #d1에 d2를 병합한다.\n",
        "print(d2)\n",
        "\n"
      ],
      "metadata": {
        "colab": {
          "base_uri": "https://localhost:8080/"
        },
        "id": "YWVWreKpfQ0r",
        "outputId": "4019f7e0-3e22-4c4d-e659-a8a6010bc542"
      },
      "execution_count": 20,
      "outputs": [
        {
          "output_type": "stream",
          "name": "stdout",
          "text": [
            "{'a': 1, 'b': 2}\n",
            "{'a': 1}\n",
            "{'b': 2}\n",
            "{'a': 1, 'b': 2}\n",
            "{'b': 2}\n"
          ]
        }
      ]
    },
    {
      "cell_type": "markdown",
      "source": [
        "clear() : remove all items.\n",
        "\n",
        "copy() : shallow copy"
      ],
      "metadata": {
        "id": "Kc0YohdFgVgd"
      }
    },
    {
      "cell_type": "code",
      "source": [
        "MyDict = {'name1' : '창진', 'name2' : '정규', 'name3' : '성민'}\n",
        "\n",
        "MyDict2 = MyDict.copy() #MyDict2에 얕은 복사(Shallow copy)를 해준다. Shallow copy는 겉은 새로 만들어지지만 \"내부 객체\"는 그대로 공유한다.\n",
        "\n",
        "print(MyDict2)\n",
        "\n",
        "MyDict.clear() #MyDict 안에 있는 데이터를 다 제거한다.\n",
        "\n",
        "print(MyDict)"
      ],
      "metadata": {
        "colab": {
          "base_uri": "https://localhost:8080/"
        },
        "id": "_RPyh6OfgjDT",
        "outputId": "2baec8d1-58b3-4f03-c0c9-8f201dc586e8"
      },
      "execution_count": 21,
      "outputs": [
        {
          "output_type": "stream",
          "name": "stdout",
          "text": [
            "{'name1': '창진', 'name2': '정규', 'name3': '성민'}\n",
            "{}\n"
          ]
        }
      ]
    },
    {
      "cell_type": "markdown",
      "source": [
        "fromkeys(seq[, v]) : create new dict with key from seq\n",
        "\n",
        "get(key[, d]) : get value by key. returns d if key missing\n"
      ],
      "metadata": {
        "id": "Dlpztiw6hpBr"
      }
    },
    {
      "cell_type": "code",
      "source": [
        "d = {}\n",
        "\n",
        "d = d.fromkeys(['a','b','c'],1) #fromkeys(sequence, values) 여러 개의 키를 한번에 만들고, 값을 전부 같은 걸로 초기화 할 때 사용\n",
        "\n",
        "print(d)\n",
        "\n",
        "d = d.fromkeys(['a','b','c'],) #밸류값을 안적으면 기본값인 None이 출력된다.\n",
        "\n",
        "print(d)\n",
        "\n",
        "print(d.get('a')) #키 값만 치면 a값을 출력한다.\n",
        "\n",
        "print(d.get('b')) #키 값을 없을 경우 None을 출력한다.\n"
      ],
      "metadata": {
        "colab": {
          "base_uri": "https://localhost:8080/"
        },
        "id": "7DlPfut3h6k6",
        "outputId": "589fa7f4-42c8-438e-acb3-f5b0a37049d3"
      },
      "execution_count": 25,
      "outputs": [
        {
          "output_type": "stream",
          "name": "stdout",
          "text": [
            "{'a': 1, 'b': 1, 'c': 1}\n",
            "{'a': None, 'b': None, 'c': None}\n",
            "None\n",
            "None\n"
          ]
        }
      ]
    },
    {
      "cell_type": "markdown",
      "source": [
        "items() : return dict items\n",
        "\n",
        "keys() : return dict keys"
      ],
      "metadata": {
        "id": "kbbd0r0mm6_m"
      }
    },
    {
      "cell_type": "code",
      "source": [
        "d = {'a':1, 'b':2, 'c':3}\n",
        "print(d.items()) #딕셔너리에 아이템을 반환해준다.\n",
        "\n",
        "print(d.keys()) #딕셔너리에 키값을 반환해준다.\n",
        "\n",
        "#두 메서드 모두 인자를 받지않는다. 인자를 전달하면 KeyError를 발생시킨다."
      ],
      "metadata": {
        "colab": {
          "base_uri": "https://localhost:8080/",
          "height": 221
        },
        "id": "R-25AnC0nCTN",
        "outputId": "3444125f-2721-4d8d-8561-4595a1a87394"
      },
      "execution_count": 34,
      "outputs": [
        {
          "output_type": "stream",
          "name": "stdout",
          "text": [
            "dict_items([('a', 1), ('b', 2), ('c', 3)])\n",
            "dict_keys(['a', 'b', 'c'])\n"
          ]
        },
        {
          "output_type": "error",
          "ename": "TypeError",
          "evalue": "dict.keys() takes no arguments (1 given)",
          "traceback": [
            "\u001b[0;31m---------------------------------------------------------------------------\u001b[0m",
            "\u001b[0;31mTypeError\u001b[0m                                 Traceback (most recent call last)",
            "\u001b[0;32m<ipython-input-34-138a3504c4d4>\u001b[0m in \u001b[0;36m<cell line: 0>\u001b[0;34m()\u001b[0m\n\u001b[1;32m      4\u001b[0m \u001b[0mprint\u001b[0m\u001b[0;34m(\u001b[0m\u001b[0md\u001b[0m\u001b[0;34m.\u001b[0m\u001b[0mkeys\u001b[0m\u001b[0;34m(\u001b[0m\u001b[0;34m)\u001b[0m\u001b[0;34m)\u001b[0m \u001b[0;31m#딕셔너리에 키값을 반환해준다.\u001b[0m\u001b[0;34m\u001b[0m\u001b[0;34m\u001b[0m\u001b[0m\n\u001b[1;32m      5\u001b[0m \u001b[0;34m\u001b[0m\u001b[0m\n\u001b[0;32m----> 6\u001b[0;31m \u001b[0mprint\u001b[0m\u001b[0;34m(\u001b[0m\u001b[0md\u001b[0m\u001b[0;34m.\u001b[0m\u001b[0mkeys\u001b[0m\u001b[0;34m(\u001b[0m\u001b[0;34m'a'\u001b[0m\u001b[0;34m)\u001b[0m\u001b[0;34m)\u001b[0m\u001b[0;34m\u001b[0m\u001b[0;34m\u001b[0m\u001b[0m\n\u001b[0m",
            "\u001b[0;31mTypeError\u001b[0m: dict.keys() takes no arguments (1 given)"
          ]
        }
      ]
    },
    {
      "cell_type": "markdown",
      "source": [
        "pop(key[, d]) : Remove key and return value.\n",
        "\n",
        "popitem() : remove and return last item.\n",
        "\n",
        "setdefault(key[, d]) : get value or insert default.\n",
        "\n",
        "update([other]) : update with key-value pairs."
      ],
      "metadata": {
        "id": "xPbb1vvAoSfd"
      }
    },
    {
      "cell_type": "code",
      "source": [
        "d = {'a':1, 'b':2, 'c':3}\n",
        "\n",
        "d.pop('a') #a의 키를 삭제시키고 1의 값을 반환해준다.\n",
        "\n",
        "print(d)\n",
        "\n",
        "print(d.pop('e', 0)) #키 값이 없지만 기본 값을 지정해서 사용하면 기본값이 반환된다.\n",
        "\n",
        "#d.pop('x') #기본 값 키 값도 없으면 KeyError를 발생시킨다\n",
        "\n",
        "d = {'a':1, 'b':2, 'c':3}\n",
        "\n",
        "print(d.popitem()) #마지막 key-value 값을 제거하고 반환해준다.\n",
        "\n",
        "print(d)\n",
        "\n",
        "print(d.setdefault('b', 5)) #기존 키가 있으면 키 값에 맞는 밸류값을 반환한다.\n",
        "\n",
        "print(d.setdefault('c', 100)) #기존 키가 없으면 키를 만들고 기본값을 저장한 후 반환한다.\n",
        "\n",
        "print(d.update({'a' : 100})) #기존 키 값이 있는 경우 밸류 값을 덮어씌워준다. 리턴 값 자체는 없어서 None이 출력된다.\n",
        "\n",
        "print(d['a'])\n",
        "\n",
        "d.update({'b' : 200, 'c' : 300, 'd' : 400}) #키 값이 있는 경우 밸류값을 덮어씌워주고. 없는 키 값은 추가해주고 밸류값도 추가해준다.\n",
        "\n",
        "print(d)\n",
        "\n",
        "#d.update('e') #키 값만 추가하는 것은 안된다."
      ],
      "metadata": {
        "colab": {
          "base_uri": "https://localhost:8080/"
        },
        "id": "tRZTuij5nPgH",
        "outputId": "3fdec745-dcde-4f27-9561-af3213ba0934"
      },
      "execution_count": 51,
      "outputs": [
        {
          "output_type": "stream",
          "name": "stdout",
          "text": [
            "{'b': 2, 'c': 3}\n",
            "0\n",
            "('c', 3)\n",
            "{'a': 1, 'b': 2}\n",
            "2\n",
            "100\n",
            "None\n",
            "100\n",
            "{'a': 100, 'b': 200, 'c': 300, 'd': 400}\n"
          ]
        }
      ]
    },
    {
      "cell_type": "markdown",
      "source": [
        "values() : return dict values\n",
        "\n",
        "__class__ : reference to class\n",
        "\n",
        "__class_getitem__ : used for type hinting"
      ],
      "metadata": {
        "id": "bP321905sELk"
      }
    },
    {
      "cell_type": "code",
      "source": [
        "d = {'a':1, 'b':2, 'c':3}\n",
        "\n",
        "print(d.values()) #value 값을 출력해준다\n",
        "\n",
        "print(list(d.values())) #value 값을 리스트로 출력 가능하다\n",
        "\n",
        "print(d.__class__) #__class는 객체가 어떤 클래스에서 만들어졌는지 알려준다.\n",
        "\n",
        "print(type(d)) #type이랑 같은 결과를 얻는다.\n",
        "\n",
        "print(dict.__class_getitem__(str)) #key값은 str이고 value값은 어떤 값인지 모른다.\n",
        "\n",
        "print(dict[str, int]) #key 값은 str이고, value 값은 int로 이루어진 dictionary이다."
      ],
      "metadata": {
        "colab": {
          "base_uri": "https://localhost:8080/"
        },
        "id": "NoKMnxtwpqJF",
        "outputId": "d1dfae18-21ab-4c1c-c751-6893a3b53463"
      },
      "execution_count": 56,
      "outputs": [
        {
          "output_type": "stream",
          "name": "stdout",
          "text": [
            "dict_values([1, 2, 3])\n",
            "[1, 2, 3]\n",
            "<class 'dict'>\n",
            "<class 'dict'>\n",
            "dict[str]\n",
            "dict[str, int]\n"
          ]
        }
      ]
    },
    {
      "cell_type": "markdown",
      "source": [
        "__delattr__ : delete attribute\n",
        "\n",
        "__dir__ : list available atrributes\n",
        "\n",
        "__doc__ : docstring of dict\n",
        "\n",
        "__format__ : custom format"
      ],
      "metadata": {
        "id": "IS9iiEYp-rM8"
      }
    },
    {
      "cell_type": "code",
      "source": [
        "d = {'a':1, 'b':2, 'c':3}\n",
        "\n",
        "del d #d의 내용을 삭제시킨다.\n",
        "\n",
        "#print(d)\n",
        "\n",
        "d = { }\n",
        "\n",
        "print(dir(d)) #객체의 사용 가능한 모든 속성과 메서드를 리스트로 반환한다.\n",
        "\n",
        "print(d.__doc__) #클래스나 함수에 대한 설명 문자열이다. 현재는 딕셔너리에 대한 설명 문자열\n",
        "\n",
        "MyDict = {'name' :' changjin', 'age' : 34}\n",
        "\n",
        "print(\"이름 : {name}, 나이 : {age}\".format(**MyDict)) #문자열 안에 값을 넣고 포맷팅(형식)을 지정하는 도구이다\n",
        "\n",
        "print(f\"이름 : {MyDict['name']}, 나이 : {MyDict['age']}\") #f-string이라고도 불린다."
      ],
      "metadata": {
        "colab": {
          "base_uri": "https://localhost:8080/"
        },
        "id": "acibjdfPsmrX",
        "outputId": "c8069988-7109-4c5e-fc2d-2e4a83fd725e"
      },
      "execution_count": 64,
      "outputs": [
        {
          "output_type": "stream",
          "name": "stdout",
          "text": [
            "['__class__', '__class_getitem__', '__contains__', '__delattr__', '__delitem__', '__dir__', '__doc__', '__eq__', '__format__', '__ge__', '__getattribute__', '__getitem__', '__getstate__', '__gt__', '__hash__', '__init__', '__init_subclass__', '__ior__', '__iter__', '__le__', '__len__', '__lt__', '__ne__', '__new__', '__or__', '__reduce__', '__reduce_ex__', '__repr__', '__reversed__', '__ror__', '__setattr__', '__setitem__', '__sizeof__', '__str__', '__subclasshook__', 'clear', 'copy', 'fromkeys', 'get', 'items', 'keys', 'pop', 'popitem', 'setdefault', 'update', 'values']\n",
            "dict() -> new empty dictionary\n",
            "dict(mapping) -> new dictionary initialized from a mapping object's\n",
            "    (key, value) pairs\n",
            "dict(iterable) -> new dictionary initialized as if via:\n",
            "    d = {}\n",
            "    for k, v in iterable:\n",
            "        d[k] = v\n",
            "dict(**kwargs) -> new dictionary initialized with the name=value pairs\n",
            "    in the keyword argument list.  For example:  dict(one=1, two=2)\n",
            "이름 :  changjin, 나이 : 34\n",
            "이름 :  changjin, 나이 : 34\n"
          ]
        }
      ]
    },
    {
      "cell_type": "markdown",
      "source": [
        "all() : return True if all keys of the dictionary are True (or if the dictionary is empty\n",
        "\n",
        "any() : return True if any key of the dictionary is true. If the dictionary is empty, return False\n",
        "\n",
        "cmp() : compares items of two dictionaries. (Not available in Python 3)\n",
        "\n",
        "sorted() : return a new sorted list of keys in the dictionary."
      ],
      "metadata": {
        "id": "K--GYmeWIKwN"
      }
    },
    {
      "cell_type": "code",
      "source": [
        "d1 = {'a':1, 'b':2, 'c':3}\n",
        "\n",
        "d2 = {'a':100, 'b':200, 'c':300}\n",
        "\n",
        "d3 = {'d':100, 'e':200, 'c':300}\n",
        "\n",
        "d4 = {'':100, 'e':200, 'c':300}\n",
        "\n",
        "d5 = {}\n",
        "print(all(d1)) #key가 비어있지 않으면 True를 반환한다.\n",
        "print(all(d4)) #key가 비어있어서 False 값을 반한환다\n",
        "print(all(d5)) #아예 비어져있으면 True를 반환한다.\n",
        "\n",
        "print(any(d1)) #key 중 하나라도 참이면 True를 반환한다.\n",
        "print(any(d4)) #key 중 하나라도 참이여서 True를 반환한다.\n",
        "print(any(d5)) #key가 하나도 없으면 False를 반환한다.\n",
        "\n",
        "print(sorted(d1)) #key만 리스트로 출력됨\n",
        "print(sorted(d1.items())) #key를 기준으로 튜플로 정렬"
      ],
      "metadata": {
        "colab": {
          "base_uri": "https://localhost:8080/"
        },
        "id": "BGKhMtL3IcpP",
        "outputId": "3421aa4a-ac5c-4387-d004-72831b96de94"
      },
      "execution_count": 70,
      "outputs": [
        {
          "output_type": "stream",
          "name": "stdout",
          "text": [
            "True\n",
            "False\n",
            "True\n",
            "True\n",
            "True\n",
            "False\n",
            "['a', 'b', 'c']\n",
            "[('a', 1), ('b', 2), ('c', 3)]\n"
          ]
        }
      ]
    }
  ]
}
