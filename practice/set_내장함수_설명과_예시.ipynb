{
  "nbformat": 4,
  "nbformat_minor": 0,
  "metadata": {
    "colab": {
      "provenance": [],
      "include_colab_link": true
    },
    "kernelspec": {
      "name": "python3",
      "display_name": "Python 3"
    },
    "language_info": {
      "name": "python"
    }
  },
  "cells": [
    {
      "cell_type": "markdown",
      "metadata": {
        "id": "view-in-github",
        "colab_type": "text"
      },
      "source": [
        "<a href=\"https://colab.research.google.com/github/jini-c/exe/blob/main/set_%EB%82%B4%EC%9E%A5%ED%95%A8%EC%88%98_%EC%84%A4%EB%AA%85%EA%B3%BC_%EC%98%88%EC%8B%9C(%EB%B0%95%EC%B0%BD%EC%A7%84).ipynb\" target=\"_parent\"><img src=\"https://colab.research.google.com/assets/colab-badge.svg\" alt=\"Open In Colab\"/></a>"
      ]
    },
    {
      "cell_type": "markdown",
      "source": [
        "# Set 내장함수 설명 및 예제 학습\n",
        "\n",
        "Set 함수란? 고유한(unique) item 들의 정렬되지 않은 모음\n",
        "\n",
        "| 함수 | 설명 |\n",
        "|:------:|:------|\n",
        "|all()|집합 내 모든 요소가 참이면 True를 반환한다.(빈집합의 경우 True를 반환한다.) |\n",
        "|any()|집합 내 하나 이상의 요소가 참이면 True를 반환한다. 빈집합의 경우 False를 반환한다.|\n",
        "|enumerate()|집합의 각 요소에 대해 인덱스, 값 형태의 enumerate 객체를 반환한다.|\n",
        "|len()|집합에 포함된 요소의 개수를 반환한다.|\n",
        "|max()|집합 내 가장 큰 값을 반환한다.|\n",
        "|min()|집합 내 가장 작은 값을 반환한다.|\n",
        "|sorted()|집합의 요소를 정렬하여 새로운 리스트로 반환한다. 원본 집합에는 영향을 주지 않는다.|\n",
        "|sum()|집합 내 모든 요소의 합을 반환한다.|\n",
        "|add()|집합에 새로운 요소를 추가한다.|\n",
        "|clear()|집합의 모든 요소를 제거한다.|\n",
        "|copy()|집합을 복사하여 새로운 집합을 반환한다.|\n",
        "|difference()|다른 집합과의 차집합을 구하여 새로운 집합을 반환한다.|\n",
        "|difference_update()|현재 집합에서 다른 집합의 요소들을 제거하여 변경한다.|\n",
        "|discard()|집합에서 특정 요소를 제거한다. 요소가 없더라도 오류를 발생시키지 않는다.|\n",
        "|intersection()|두 집합의 공통 요소로 이루어진 새로운 집합을 반환한다.|\n",
        "|intersection_update()|현재 집합을 다른 집합과의 교집합으로 변경한다.|\n",
        "|isdisjoint()|두 집합이 공통 요소가 없으면 True, 그렇지 않으면 False를 반환한다.|\n",
        "|issubset()|현재 지합이 다른 집합의 부분 집합이면 True, 그렇지 않으면 False를 반환한다.|\n",
        "|issuperset()|현재 집합이 다른 집합을 포함하는 경우 True, 그렇지 않으면 False를 반환한다.|\n",
        "|pop()|집합에서 임의의 요소를 제거하고 반환한다. 빈 집합에서 호출하면 KeyError가 발생한다.|\n",
        "|remove()|특정 요소를 집합에서 제거한다. 요소가 존재하지 않으면 KeyError가 발생한다.|\n",
        "|symmetric_difference()|두 집합에서 서로 포함되지 않은 요소로 이루어진 새로운 집합을 반환한다.|\n",
        "|symmertric_difference_update()|현재 집합을 두 집합의 대칭 차집합으로 변경한다.|\n",
        "|union()|두 집합의 합집합을 새로운 집합으로 반환한다.|\n",
        "|update()|현재 집합을 다른 집합과의 합집합으로 변경한다.|"
      ],
      "metadata": {
        "id": "CSvBItVzockR"
      }
    },
    {
      "cell_type": "markdown",
      "source": [
        "#all()\n",
        "\n",
        "all()=집합 내 모든 요소가 참이면 True를 반환한다.(빈집합의 경우 True를 반환한다.)"
      ],
      "metadata": {
        "id": "XRslFT-jO601"
      }
    },
    {
      "cell_type": "code",
      "source": [
        "#숫자의 값이 True인지 False인지 판단하는 경우\n",
        "set={1,2,3,4,5} #숫자의 값이 True 일 때\n",
        "all(set)\n",
        "print(all(set))\n",
        "\n",
        "set={1,0,3,5,6} #숫자의 값이 False 일 때(0은 False로 규정된다.)\n",
        "all(set)\n",
        "print(all(set))"
      ],
      "metadata": {
        "colab": {
          "base_uri": "https://localhost:8080/"
        },
        "id": "sI0Wc2eFQdJX",
        "outputId": "f15ebf73-e94d-4ffe-9ac6-d79b080b42a3"
      },
      "execution_count": null,
      "outputs": [
        {
          "output_type": "stream",
          "name": "stdout",
          "text": [
            "True\n",
            "False\n"
          ]
        }
      ]
    },
    {
      "cell_type": "code",
      "source": [
        "#빈 집합의 경우 True의 값을 반환한다.\n",
        "set={}\n",
        "all(set)\n",
        "print(all(set))"
      ],
      "metadata": {
        "colab": {
          "base_uri": "https://localhost:8080/"
        },
        "id": "nysD-swURCXF",
        "outputId": "89f9c00b-3ffc-4f9f-b93a-fcbf8b8055d6"
      },
      "execution_count": null,
      "outputs": [
        {
          "output_type": "stream",
          "name": "stdout",
          "text": [
            "True\n"
          ]
        }
      ]
    },
    {
      "cell_type": "code",
      "source": [
        "#set의 모든 요소가 참인지 검사할 경우\n",
        "set={True,True,True} #set의 모든 값이 True인 경우\n",
        "all(set)\n",
        "print(all(set))\n",
        "\n",
        "set={True,False,True,True} #set의 값에 False가 포함된 경우\n",
        "all(set)\n",
        "print(all(set))"
      ],
      "metadata": {
        "colab": {
          "base_uri": "https://localhost:8080/"
        },
        "id": "vM2XSX4bRO8F",
        "outputId": "5e5bfd20-1740-4f21-b184-2f64ff44b21e"
      },
      "execution_count": null,
      "outputs": [
        {
          "output_type": "stream",
          "name": "stdout",
          "text": [
            "True\n",
            "False\n"
          ]
        }
      ]
    },
    {
      "cell_type": "markdown",
      "source": [
        "#any()\n",
        "\n",
        "any()=집합 내 하나 이상의 요소가 참이면 True를 반환한다. 빈집합의 경우 False를 반환한다."
      ],
      "metadata": {
        "id": "tuS563a1R9Go"
      }
    },
    {
      "cell_type": "code",
      "source": [
        "#숫자의 값에 0이 포함된 경우\n",
        "set={1,3,5,7,9,0}\n",
        "any(set)\n",
        "print(any(set)) #any의 경우 False값이 있어도 하나의 요소가 True라면 True값 반환한다."
      ],
      "metadata": {
        "colab": {
          "base_uri": "https://localhost:8080/"
        },
        "id": "CooQu38nRyJd",
        "outputId": "0e328c2c-8b9d-401b-ae34-c4b6cfc2eeaa"
      },
      "execution_count": null,
      "outputs": [
        {
          "output_type": "stream",
          "name": "stdout",
          "text": [
            "True\n"
          ]
        }
      ]
    },
    {
      "cell_type": "code",
      "source": [
        "#빈 집합의 경우\n",
        "set={}\n",
        "any(set)\n",
        "print(any(set)) #빈 집합의 경우 any 함수는 all함수에 반해 False 값을 반환한다."
      ],
      "metadata": {
        "colab": {
          "base_uri": "https://localhost:8080/"
        },
        "id": "odLPkN-hSiJP",
        "outputId": "c4185ba8-18b8-4c27-85d9-c4f492a29e1a"
      },
      "execution_count": null,
      "outputs": [
        {
          "output_type": "stream",
          "name": "stdout",
          "text": [
            "False\n"
          ]
        }
      ]
    },
    {
      "cell_type": "code",
      "source": [
        "#논리값의 경우\n",
        "set={False,False,False,True}\n",
        "any(set)\n",
        "print(any(set)) #ant의 경우에는 하나의 요소가 True인 경우 True 값을 반환한다."
      ],
      "metadata": {
        "colab": {
          "base_uri": "https://localhost:8080/"
        },
        "id": "DY8nw9H2SzmP",
        "outputId": "fd7c1b70-826d-44e5-cfe0-18ec77e00b0f"
      },
      "execution_count": null,
      "outputs": [
        {
          "output_type": "stream",
          "name": "stdout",
          "text": [
            "True\n"
          ]
        }
      ]
    },
    {
      "cell_type": "markdown",
      "source": [
        "#enumerate()\n",
        "\n",
        "enumerate()=집합의 각 요소에 대해 인덱스, 값 형태의 enumerate 객체를 반환한다."
      ],
      "metadata": {
        "id": "jqT2lzvMTWtk"
      }
    },
    {
      "cell_type": "code",
      "source": [
        "set={2,4,6,8,10} #set을 enumerate(set)에 바로 출력하는 경우\n",
        "enumerate(set)\n",
        "print(enumerate(set)) #enumerate(set) 값은 객체 주소만을 출력한다."
      ],
      "metadata": {
        "colab": {
          "base_uri": "https://localhost:8080/"
        },
        "id": "QwTINylYTK3Q",
        "outputId": "0251f6e2-178f-4284-be46-8bc2dfbec82d"
      },
      "execution_count": null,
      "outputs": [
        {
          "output_type": "stream",
          "name": "stdout",
          "text": [
            "<enumerate object at 0x7c9d4d5c2520>\n"
          ]
        }
      ]
    },
    {
      "cell_type": "code",
      "source": [
        "set={1,3,5,7,9} #set을 list()로 변환하여 출력하는 경우\n",
        "print(list(enumerate(set))) #인덱스와, 값형태를 반환하지만 실행 때마다 결과값이 달라질 수 있다."
      ],
      "metadata": {
        "colab": {
          "base_uri": "https://localhost:8080/"
        },
        "id": "6AJfhXLYUq5I",
        "outputId": "ada3a9be-74bc-4608-cee9-41cb6dffbab7"
      },
      "execution_count": null,
      "outputs": [
        {
          "output_type": "stream",
          "name": "stdout",
          "text": [
            "[(0, 1), (1, 3), (2, 5), (3, 7), (4, 9)]\n"
          ]
        }
      ]
    },
    {
      "cell_type": "markdown",
      "source": [
        "#len()\n",
        "\n",
        "len()=\t집합에 포함된 요소의 개수를 반환한다."
      ],
      "metadata": {
        "id": "A0AlPGxLXHlb"
      }
    },
    {
      "cell_type": "code",
      "source": [
        "set={1,2,5,3,4,2,5} #set 정의\n",
        "len(set)\n",
        "print(len(set)) #set에 포함된 요소의 개수를 반환(중복된 값은 하나로 정의된다.)"
      ],
      "metadata": {
        "colab": {
          "base_uri": "https://localhost:8080/"
        },
        "id": "TCSeBq-YXNY8",
        "outputId": "8238e13b-5983-4fa9-afb8-11a21a60722d"
      },
      "execution_count": null,
      "outputs": [
        {
          "output_type": "stream",
          "name": "stdout",
          "text": [
            "5\n"
          ]
        }
      ]
    },
    {
      "cell_type": "markdown",
      "source": [
        "#max()\n",
        "\n",
        "max()=집합 내 가장 큰 값을 반환한다."
      ],
      "metadata": {
        "id": "LPZEmGs2Xpwv"
      }
    },
    {
      "cell_type": "code",
      "source": [
        "set={2,4,255,30000,1024,2048} #set 정의\n",
        "print(max(set)) #set의 가장 큰 값을 반환한다."
      ],
      "metadata": {
        "colab": {
          "base_uri": "https://localhost:8080/"
        },
        "id": "2RmhER9NXveR",
        "outputId": "95d5c2d3-28ef-4bcd-fca7-0a8b9a83f3fa"
      },
      "execution_count": null,
      "outputs": [
        {
          "output_type": "stream",
          "name": "stdout",
          "text": [
            "30000\n"
          ]
        }
      ]
    },
    {
      "cell_type": "markdown",
      "source": [
        "#min()\n",
        "\n",
        "min()=집합 내 가장 작은 값을 반환한다."
      ],
      "metadata": {
        "id": "avy-YSrYYTLQ"
      }
    },
    {
      "cell_type": "code",
      "source": [
        "set={10,8,3,5,7} #set 정의\n",
        "print(min(set)) #set의 가장 작은 값을 반환한다."
      ],
      "metadata": {
        "colab": {
          "base_uri": "https://localhost:8080/"
        },
        "id": "QZrMgzpZYYMS",
        "outputId": "daee20fe-d2a9-4c14-e3cc-6951df1241cf"
      },
      "execution_count": null,
      "outputs": [
        {
          "output_type": "stream",
          "name": "stdout",
          "text": [
            "3\n"
          ]
        }
      ]
    },
    {
      "cell_type": "markdown",
      "source": [
        "#sorted()\n",
        "\n",
        "sorted()=집합의 요소를 정렬하여 새로운 리스트로 반환한다. 원본 집합에는 영향을 주지 않는다."
      ],
      "metadata": {
        "id": "gAKEKFlGYrLo"
      }
    },
    {
      "cell_type": "code",
      "source": [
        "set={3,2,1,6,4,7,2,10} #set 정의\n",
        "sorted(set)\n",
        "print(sorted(set)) #새로운 리스트로 반환"
      ],
      "metadata": {
        "colab": {
          "base_uri": "https://localhost:8080/"
        },
        "id": "088m7_WjYmxH",
        "outputId": "b8828d0c-052d-4745-b7b9-26dbe7d3ac7d"
      },
      "execution_count": null,
      "outputs": [
        {
          "output_type": "stream",
          "name": "stdout",
          "text": [
            "[1, 2, 3, 4, 6, 7, 10]\n"
          ]
        }
      ]
    },
    {
      "cell_type": "markdown",
      "source": [
        "#sum()\n",
        "\n",
        "sum()=집합 내 모든 요소의 합을 반환한다."
      ],
      "metadata": {
        "id": "5xTGcWetZMeB"
      }
    },
    {
      "cell_type": "code",
      "source": [
        "set={6,7,8,9,1,4,10,24,2266} #set 정의\n",
        "print(sum(set)) #set 모든 요소의 합을 반환"
      ],
      "metadata": {
        "colab": {
          "base_uri": "https://localhost:8080/"
        },
        "id": "CzkraHyHZDwv",
        "outputId": "0c555a21-8b85-4b92-d8cc-6ef68090aa44"
      },
      "execution_count": null,
      "outputs": [
        {
          "output_type": "stream",
          "name": "stdout",
          "text": [
            "2335\n"
          ]
        }
      ]
    },
    {
      "cell_type": "markdown",
      "source": [
        "#add()\n",
        "\n",
        "add()=집합에 새로운 요소를 추가한다."
      ],
      "metadata": {
        "id": "UlzjrAprZhA1"
      }
    },
    {
      "cell_type": "code",
      "source": [
        "set={4,3,2,6,2,7,10,24} #set 정의\n",
        "set.add(\"강아지\") #set에 새로운 요소 추가\n",
        "print(set)"
      ],
      "metadata": {
        "colab": {
          "base_uri": "https://localhost:8080/"
        },
        "id": "-oILCJ5lZeWY",
        "outputId": "69abfd5c-cafb-4d36-94aa-db26957a5e6b"
      },
      "execution_count": null,
      "outputs": [
        {
          "output_type": "stream",
          "name": "stdout",
          "text": [
            "{2, 3, 4, '강아지', 6, 7, 24, 10}\n"
          ]
        }
      ]
    },
    {
      "cell_type": "markdown",
      "source": [
        "#clear()\n",
        "\n",
        "clear()= 집합의 모든 요소를 제거한다."
      ],
      "metadata": {
        "id": "rtIQ-eFnaYHI"
      }
    },
    {
      "cell_type": "code",
      "source": [
        "set={1,3,5,7} #set 정의\n",
        "set.clear() #모든 요소 제거\n",
        "print(set) #set의 모든 요소가 제거된 걸 확인 가능"
      ],
      "metadata": {
        "colab": {
          "base_uri": "https://localhost:8080/"
        },
        "id": "oT1QUgTKZx1b",
        "outputId": "918e0990-73fe-47b0-b6b8-71a450685a84"
      },
      "execution_count": null,
      "outputs": [
        {
          "output_type": "stream",
          "name": "stdout",
          "text": [
            "set()\n"
          ]
        }
      ]
    },
    {
      "cell_type": "markdown",
      "source": [
        "#copy()\n",
        "\n",
        "copy() = 집합을 복사하여 새로운 집합을 반환한다."
      ],
      "metadata": {
        "id": "6w4sFLOsbAKa"
      }
    },
    {
      "cell_type": "code",
      "source": [
        "set={3,5,6,7,8} #set 정의\n",
        "set2=set.copy()\n",
        "print(set2) #set2에 set값 복사"
      ],
      "metadata": {
        "colab": {
          "base_uri": "https://localhost:8080/"
        },
        "id": "nkcYAf9sanzE",
        "outputId": "0168d682-2658-450a-aa3d-1a52b1205a12"
      },
      "execution_count": null,
      "outputs": [
        {
          "output_type": "stream",
          "name": "stdout",
          "text": [
            "{3, 5, 6, 7, 8}\n"
          ]
        }
      ]
    },
    {
      "cell_type": "markdown",
      "source": [
        "#difference()\n",
        "\n",
        "difference() = 다른 집합과의 차집합을 구하여 새로운 집합을 반환한다.\n"
      ],
      "metadata": {
        "id": "aQ9Xuo-ZboDt"
      }
    },
    {
      "cell_type": "code",
      "source": [
        "set={2,4,6,7,8} #set 정의\n",
        "set2={1,3,5,6,7,8} #set2 정의\n",
        "print(set.difference(set2)) #set, set2의 차집합 구하여 새로운 집합 반환"
      ],
      "metadata": {
        "colab": {
          "base_uri": "https://localhost:8080/"
        },
        "id": "TkBH3Xh0bkAX",
        "outputId": "d1b0103f-d588-4733-f688-0620281da417"
      },
      "execution_count": null,
      "outputs": [
        {
          "output_type": "stream",
          "name": "stdout",
          "text": [
            "{2, 4}\n"
          ]
        }
      ]
    },
    {
      "cell_type": "markdown",
      "source": [
        "#difference_update()\n",
        "\n",
        "difference_update() = 현재 집합에서 다른 집합의 요소들을 제거하여 변경한다."
      ],
      "metadata": {
        "id": "Vjez7jnicLY-"
      }
    },
    {
      "cell_type": "code",
      "source": [
        "set={1,3,5,7,9} #set 정의\n",
        "set2={2,4,6,8,10} #set2 정의\n",
        "set.difference_update(set2)\n",
        "print(set) #set, set2 다른 값이 없어서 set값 출력"
      ],
      "metadata": {
        "colab": {
          "base_uri": "https://localhost:8080/"
        },
        "id": "8Tc6JW8wcQ2X",
        "outputId": "c297fa25-8909-484d-ff4c-0c75267cc930"
      },
      "execution_count": null,
      "outputs": [
        {
          "output_type": "stream",
          "name": "stdout",
          "text": [
            "{1, 3, 5, 7, 9}\n"
          ]
        }
      ]
    },
    {
      "cell_type": "code",
      "source": [
        "set={1,3,5,6,8} #set 정의\n",
        "set2={2,4,6,8,10} #set2 정의\n",
        "set.difference_update(set2)\n",
        "print(set) #set 값에서 set2 중복값 제거하여 값을 반환한다."
      ],
      "metadata": {
        "colab": {
          "base_uri": "https://localhost:8080/"
        },
        "id": "9eV9G1DKc4Jm",
        "outputId": "113ff16a-944f-4ecc-b39d-9566b8180f00"
      },
      "execution_count": null,
      "outputs": [
        {
          "output_type": "stream",
          "name": "stdout",
          "text": [
            "{1, 3, 5}\n"
          ]
        }
      ]
    },
    {
      "cell_type": "markdown",
      "source": [
        "#discard()\n",
        "\n",
        "discard() = 집합에서 특정 요소를 제거한다. 요소가 없더라도 오류를 발생시키지 않는다"
      ],
      "metadata": {
        "id": "pn3_SYBadNtW"
      }
    },
    {
      "cell_type": "code",
      "source": [
        "set={\"폴리텍\",\"AI\",\"소프트웨어\"} #set 정의\n",
        "set.discard(\"폴리텍\") #\"폴리텍\" 요소 제거\n",
        "print(set) #\"폴리텍\" 요소 제거 확인 가능"
      ],
      "metadata": {
        "colab": {
          "base_uri": "https://localhost:8080/"
        },
        "id": "2igf6nBWdEwL",
        "outputId": "9f3e8952-fe47-4f84-8c0a-b641e3382733"
      },
      "execution_count": null,
      "outputs": [
        {
          "output_type": "stream",
          "name": "stdout",
          "text": [
            "{'소프트웨어', 'AI'}\n"
          ]
        }
      ]
    },
    {
      "cell_type": "code",
      "source": [
        "set={\"폴리텍\",\"AI\",\"소프트웨어\"} #set 정의\n",
        "set2={\"AI 소프트웨어\",\"정수캠퍼스\",\"폴리텍대학교\"} #set2 정의\n",
        "set.discard(set2)\n",
        "print(set) #중복 값이 없어도 오류 발생시키지 않음"
      ],
      "metadata": {
        "id": "s88FFopwdlIY"
      },
      "execution_count": null,
      "outputs": []
    },
    {
      "cell_type": "markdown",
      "source": [
        "#intersection()\n",
        "\n",
        "intersection() = 두 집합의 공통 요소로 이루어진 새로운 집합을 반환한다."
      ],
      "metadata": {
        "id": "JuvmgFZLd3pQ"
      }
    },
    {
      "cell_type": "code",
      "source": [
        "set={\"폴리텍\",\"AI\",\"소프트웨어\"} #set 정의\n",
        "set2={\"AI 소프트웨어\",\"폴리텍\"} #set2 정의\n",
        "print(set.intersection(set2)) #set, set2의 공통요소 \"폴리텍\"인 집합 반환"
      ],
      "metadata": {
        "colab": {
          "base_uri": "https://localhost:8080/"
        },
        "id": "8B0P0r1Id8Ze",
        "outputId": "567ad83f-4078-4305-c193-a77e3acd8b61"
      },
      "execution_count": null,
      "outputs": [
        {
          "output_type": "stream",
          "name": "stdout",
          "text": [
            "{'폴리텍'}\n"
          ]
        }
      ]
    },
    {
      "cell_type": "markdown",
      "source": [
        "#intersection_update()\n",
        "\n",
        "intersection_update() = 현재 집합을 다른 집합과의 교집합으로 변경한다."
      ],
      "metadata": {
        "id": "Nftj0VYzexXw"
      }
    },
    {
      "cell_type": "code",
      "source": [
        "set={\"폴리텍\",\"AI\",\"소프트웨어\"} #set 정의\n",
        "set2={\"AI 소프트웨어\",\"폴리텍\"} #set2 정의\n",
        "set.intersection_update(set2) #intersection_update 함수 사용\n",
        "print(set) #set, set2 교집합 출력"
      ],
      "metadata": {
        "colab": {
          "base_uri": "https://localhost:8080/"
        },
        "id": "RzxByHERe0VA",
        "outputId": "128ffe87-958e-45d3-b223-ef016b373c7e"
      },
      "execution_count": null,
      "outputs": [
        {
          "output_type": "stream",
          "name": "stdout",
          "text": [
            "{'폴리텍'}\n"
          ]
        }
      ]
    },
    {
      "cell_type": "markdown",
      "source": [
        "#isdisjoint()\n",
        "\n",
        "isdisjoint() = 두 집합이 공통 요소가 없으면 True, 그렇지 않으면 False를 반환한다."
      ],
      "metadata": {
        "id": "2LzW_WOSfUAZ"
      }
    },
    {
      "cell_type": "code",
      "source": [
        "set={11,22,33,44,55,66} #set 정의\n",
        "set2={13,26,39,42,55,68} #set2 정의\n",
        "print(set.isdisjoint(set2)) #set, set2의 55란 공통요소가 있음으로 False값 반환"
      ],
      "metadata": {
        "colab": {
          "base_uri": "https://localhost:8080/"
        },
        "id": "UDmS1oE2fZUi",
        "outputId": "0d8321e5-9d59-44e7-cf95-157427108cbf"
      },
      "execution_count": null,
      "outputs": [
        {
          "output_type": "stream",
          "name": "stdout",
          "text": [
            "False\n"
          ]
        }
      ]
    },
    {
      "cell_type": "code",
      "source": [
        "set={33,44,55,66,77,88,99} #set 정의\n",
        "set2={34,45,56,67,78,89,100} #set2 정의\n",
        "print(set.isdisjoint(set2)) #set, set2의 공통요소 없음으로 Ture값 반환"
      ],
      "metadata": {
        "colab": {
          "base_uri": "https://localhost:8080/"
        },
        "id": "xUbOoWz8f__i",
        "outputId": "e60b8204-14f6-46d2-a36f-231281d4b5c3"
      },
      "execution_count": null,
      "outputs": [
        {
          "output_type": "stream",
          "name": "stdout",
          "text": [
            "True\n"
          ]
        }
      ]
    },
    {
      "cell_type": "markdown",
      "source": [
        "#issubset()\n",
        "\n",
        "issubset() = 현재 집합이 다른 집합의 부분 집합이면 True, 그렇지 않으면 False를 반환한다."
      ],
      "metadata": {
        "id": "xzmmkjVkgN8V"
      }
    },
    {
      "cell_type": "code",
      "source": [
        "set={1,3,5,7,9,11} #set 정의\n",
        "set2={2,4,6,7,9,13} #set2 정의\n",
        "print(set.issubset(set2)) #부분집합 아니므로 False값 반환"
      ],
      "metadata": {
        "colab": {
          "base_uri": "https://localhost:8080/"
        },
        "id": "esk14wNrgNCc",
        "outputId": "afe8c74f-0b97-4550-f223-1687c3dd46c2"
      },
      "execution_count": null,
      "outputs": [
        {
          "output_type": "stream",
          "name": "stdout",
          "text": [
            "False\n"
          ]
        }
      ]
    },
    {
      "cell_type": "code",
      "source": [
        "s={2,4,6,8,10,12} #s 정의\n",
        "s2={4,6,8,10} #s2 정의\n",
        "print(s.issubset(s2)) #s가 s2의 부분 집합인지 출력 : False 값 반환\n",
        "print(s2.issubset(s)) #s2가 s의 부분 집합인지 출력 : True 값 반환"
      ],
      "metadata": {
        "colab": {
          "base_uri": "https://localhost:8080/"
        },
        "id": "Pv2IwaHNi3Sd",
        "outputId": "a42dab11-7f7c-4cda-d1e6-d53d2f94c360"
      },
      "execution_count": 2,
      "outputs": [
        {
          "output_type": "stream",
          "name": "stdout",
          "text": [
            "False\n",
            "True\n"
          ]
        }
      ]
    },
    {
      "cell_type": "markdown",
      "source": [
        "#issuperset()\n",
        "\n",
        "issuperset() = 현재 집합이 다른 집합을 포함하는 경우 True, 그렇지 않으면 False를 반환한다."
      ],
      "metadata": {
        "id": "IZsteTO6jKmM"
      }
    },
    {
      "cell_type": "code",
      "source": [
        "s1={\"김정규\",\"박창진\",\"김성민\",\"윤재성\"} #s1 정의\n",
        "s2={\"김정규\",\"윤재성\",\"김성민\"} #s2 정의\n",
        "print(s1.issuperset(s2)) #s1가 s2를 포함하는지 출력 : True 값 반환\n",
        "print(s2.issuperset(s1)) #s2가 s1을 포함하는지 출력 : False 값 반환"
      ],
      "metadata": {
        "colab": {
          "base_uri": "https://localhost:8080/"
        },
        "id": "6DRRsbT9jIpQ",
        "outputId": "48721e49-c93d-4010-ead1-2048ff4f7d96"
      },
      "execution_count": 3,
      "outputs": [
        {
          "output_type": "stream",
          "name": "stdout",
          "text": [
            "True\n",
            "False\n"
          ]
        }
      ]
    },
    {
      "cell_type": "markdown",
      "source": [
        "#pop()\n",
        "\n",
        "pop(): 집합에서 임의의 요소를 제거하고 반환한다. 빈 집합에서 호출하면 KeyError가 발생한다.\n"
      ],
      "metadata": {
        "id": "Of0459PTj8n7"
      }
    },
    {
      "cell_type": "code",
      "source": [
        "s1={1,3,5,7,9} #s1 정의\n",
        "x=s1.pop()\n",
        "print(s1) #s1에서 임의의 요소 제거한 값 반환"
      ],
      "metadata": {
        "colab": {
          "base_uri": "https://localhost:8080/"
        },
        "id": "8sqVEV1lj5gB",
        "outputId": "145bac86-2fc9-47e7-93a3-cbf478f24cc9"
      },
      "execution_count": 5,
      "outputs": [
        {
          "output_type": "stream",
          "name": "stdout",
          "text": [
            "{3, 5, 7, 9}\n"
          ]
        }
      ]
    },
    {
      "cell_type": "code",
      "source": [
        "s2=set() #s2 정의\n",
        "print(s2.pop()) #s2가 빈집합인 경우 KeyError 발생"
      ],
      "metadata": {
        "colab": {
          "base_uri": "https://localhost:8080/",
          "height": 166
        },
        "id": "FWxzahgAkqW8",
        "outputId": "31a6259e-b199-4123-f2e2-715337e60051"
      },
      "execution_count": 9,
      "outputs": [
        {
          "output_type": "error",
          "ename": "KeyError",
          "evalue": "'pop from an empty set'",
          "traceback": [
            "\u001b[0;31m---------------------------------------------------------------------------\u001b[0m",
            "\u001b[0;31mKeyError\u001b[0m                                  Traceback (most recent call last)",
            "\u001b[0;32m<ipython-input-9-dc48d9d922af>\u001b[0m in \u001b[0;36m<cell line: 0>\u001b[0;34m()\u001b[0m\n\u001b[1;32m      1\u001b[0m \u001b[0ms2\u001b[0m\u001b[0;34m=\u001b[0m\u001b[0mset\u001b[0m\u001b[0;34m(\u001b[0m\u001b[0;34m)\u001b[0m \u001b[0;31m#s2 정의\u001b[0m\u001b[0;34m\u001b[0m\u001b[0;34m\u001b[0m\u001b[0m\n\u001b[0;32m----> 2\u001b[0;31m \u001b[0mprint\u001b[0m\u001b[0;34m(\u001b[0m\u001b[0ms2\u001b[0m\u001b[0;34m.\u001b[0m\u001b[0mpop\u001b[0m\u001b[0;34m(\u001b[0m\u001b[0;34m)\u001b[0m\u001b[0;34m)\u001b[0m\u001b[0;34m\u001b[0m\u001b[0;34m\u001b[0m\u001b[0m\n\u001b[0m",
            "\u001b[0;31mKeyError\u001b[0m: 'pop from an empty set'"
          ]
        }
      ]
    },
    {
      "cell_type": "markdown",
      "source": [
        "#remove()\n",
        "\n",
        "remove() = 특정 요소를 집합에서 제거한다. 요소가 존재하지 않으면 KeyError가 발생한다"
      ],
      "metadata": {
        "id": "GmYy1SdvlR07"
      }
    },
    {
      "cell_type": "code",
      "source": [
        "s={1,3,5,7,8} #s 정의\n",
        "s.remove(3) #3을 제거\n",
        "print(s) #3이 제거된 값이 출력"
      ],
      "metadata": {
        "colab": {
          "base_uri": "https://localhost:8080/"
        },
        "id": "KZ6oRwe6lYXY",
        "outputId": "b64a5cc5-827d-4007-960e-8695361dab15"
      },
      "execution_count": 11,
      "outputs": [
        {
          "output_type": "stream",
          "name": "stdout",
          "text": [
            "{1, 5, 7, 8}\n"
          ]
        }
      ]
    },
    {
      "cell_type": "code",
      "source": [
        "s={2,4,6,8} #s 정의\n",
        "s.remove(3) #존재하지 않는 값 제거\n",
        "print(s) #존재하지 않는 값이라 KeyError 발생"
      ],
      "metadata": {
        "colab": {
          "base_uri": "https://localhost:8080/",
          "height": 184
        },
        "id": "GBljhJiVlrdb",
        "outputId": "72c0db36-4cb2-4e82-a8df-3fadb0065352"
      },
      "execution_count": 12,
      "outputs": [
        {
          "output_type": "error",
          "ename": "KeyError",
          "evalue": "3",
          "traceback": [
            "\u001b[0;31m---------------------------------------------------------------------------\u001b[0m",
            "\u001b[0;31mKeyError\u001b[0m                                  Traceback (most recent call last)",
            "\u001b[0;32m<ipython-input-12-6fd48dbbe4f3>\u001b[0m in \u001b[0;36m<cell line: 0>\u001b[0;34m()\u001b[0m\n\u001b[1;32m      1\u001b[0m \u001b[0ms\u001b[0m\u001b[0;34m=\u001b[0m\u001b[0;34m{\u001b[0m\u001b[0;36m2\u001b[0m\u001b[0;34m,\u001b[0m\u001b[0;36m4\u001b[0m\u001b[0;34m,\u001b[0m\u001b[0;36m6\u001b[0m\u001b[0;34m,\u001b[0m\u001b[0;36m8\u001b[0m\u001b[0;34m}\u001b[0m \u001b[0;31m#s 정의\u001b[0m\u001b[0;34m\u001b[0m\u001b[0;34m\u001b[0m\u001b[0m\n\u001b[0;32m----> 2\u001b[0;31m \u001b[0ms\u001b[0m\u001b[0;34m.\u001b[0m\u001b[0mremove\u001b[0m\u001b[0;34m(\u001b[0m\u001b[0;36m3\u001b[0m\u001b[0;34m)\u001b[0m \u001b[0;31m#존재하지 않는 값 제거\u001b[0m\u001b[0;34m\u001b[0m\u001b[0;34m\u001b[0m\u001b[0m\n\u001b[0m\u001b[1;32m      3\u001b[0m \u001b[0mprint\u001b[0m\u001b[0;34m(\u001b[0m\u001b[0ms\u001b[0m\u001b[0;34m)\u001b[0m \u001b[0;31m#\u001b[0m\u001b[0;34m\u001b[0m\u001b[0;34m\u001b[0m\u001b[0m\n",
            "\u001b[0;31mKeyError\u001b[0m: 3"
          ]
        }
      ]
    },
    {
      "cell_type": "markdown",
      "source": [
        "#symmetric_difference()\n",
        "\n",
        "symmetric_difference() = 두 집합에서 서로 포함되지 않은 요소로 이루어진 새로운 집합을 반환한다."
      ],
      "metadata": {
        "id": "Mt_pBL98l9Dy"
      }
    },
    {
      "cell_type": "code",
      "source": [
        "s={1,3,5,7,9} #s 정의\n",
        "s2={2,4,6,8,10} #s2 정의\n",
        "print(s1.symmetric_difference(s2)) #s1, s2의 포함되지 않는 값으로 반환"
      ],
      "metadata": {
        "colab": {
          "base_uri": "https://localhost:8080/"
        },
        "id": "_5c45TTNmDNj",
        "outputId": "a5d7b36f-908c-4d1a-c122-763e84bc617e"
      },
      "execution_count": 14,
      "outputs": [
        {
          "output_type": "stream",
          "name": "stdout",
          "text": [
            "{2, 3, 4, 5, 6, 7, 8, 9, 10}\n"
          ]
        }
      ]
    },
    {
      "cell_type": "code",
      "source": [
        "s3={1,3,5} #s 정의\n",
        "s4={2,4,5} #s2 정의\n",
        "print(s3.symmetric_difference(s4)) #서로 포함되지 않는 새로운 집합 반환\n",
        "print(s4.symmetric_difference(s3)) #서로 포함되지 않는 새로운 집합 반환"
      ],
      "metadata": {
        "colab": {
          "base_uri": "https://localhost:8080/"
        },
        "id": "JMUfHS6-mRkI",
        "outputId": "b57dfded-7217-4489-cb9d-967027a96bb3"
      },
      "execution_count": 16,
      "outputs": [
        {
          "output_type": "stream",
          "name": "stdout",
          "text": [
            "{1, 2, 3, 4}\n",
            "{1, 2, 3, 4}\n"
          ]
        }
      ]
    },
    {
      "cell_type": "markdown",
      "source": [
        "#symmetric_difference_update()\n",
        "\n",
        "symmetric_difference_update() = 현재 집합을 두 집합의 대칭 차집합으로 변경한다.\n"
      ],
      "metadata": {
        "id": "7kTF928Wm0_W"
      }
    },
    {
      "cell_type": "code",
      "source": [
        "se={1,2,3,4,5} #se정의\n",
        "se2={6,7,8,9,10} #se2 정의\n",
        "se.symmetric_difference_update(se2) #se와 se2의 대칭차집합\n",
        "print(se) #교집합이 없어서 모든 값 출력\n"
      ],
      "metadata": {
        "colab": {
          "base_uri": "https://localhost:8080/"
        },
        "id": "puINsGeym7vi",
        "outputId": "0306a11e-8da4-4843-ca09-ea59cbec02dd"
      },
      "execution_count": 19,
      "outputs": [
        {
          "output_type": "stream",
          "name": "stdout",
          "text": [
            "{1, 2, 3, 4, 5, 6, 7, 8, 9, 10}\n"
          ]
        }
      ]
    },
    {
      "cell_type": "code",
      "source": [
        "se3={1,3,5} #se3 정의\n",
        "se4={5,7,9} #se4 정의\n",
        "se3.symmetric_difference_update(se4) #se3와 se4의 대칭차집합\n",
        "print(se3) #5의 교집합을 제외한 값 출력"
      ],
      "metadata": {
        "colab": {
          "base_uri": "https://localhost:8080/"
        },
        "id": "qG6tTYqRnhEb",
        "outputId": "cc6d3676-291c-4a14-b886-670fe0f6fc92"
      },
      "execution_count": 20,
      "outputs": [
        {
          "output_type": "stream",
          "name": "stdout",
          "text": [
            "{1, 3, 7, 9}\n"
          ]
        }
      ]
    },
    {
      "cell_type": "markdown",
      "source": [
        "#union()\n",
        "\n",
        "union() = 두 집합의 합집합을 새로운 집합으로 반환한다."
      ],
      "metadata": {
        "id": "iFHc3tsiohJe"
      }
    },
    {
      "cell_type": "code",
      "source": [
        "s={\"김정규\",\"김성민\"} #s 정의\n",
        "s2={\"박창진\",\"윤재성\"} #s2 정의\n",
        "x=s.union(s2) #x는 s와 s2의 합집함\n",
        "print(x) #두 집합의 합집합 출력"
      ],
      "metadata": {
        "colab": {
          "base_uri": "https://localhost:8080/"
        },
        "id": "oYg8uZrqob8H",
        "outputId": "7b1af479-07de-40bf-bdc2-6200e6dd9d4e"
      },
      "execution_count": 22,
      "outputs": [
        {
          "output_type": "stream",
          "name": "stdout",
          "text": [
            "{'박창진', '윤재성', '김정규', '김성민'}\n"
          ]
        }
      ]
    },
    {
      "cell_type": "markdown",
      "source": [
        "#update()\n",
        "\n",
        "update() = 현재 집합을 다른 집합과의 합집합으로 변경한다."
      ],
      "metadata": {
        "id": "m0bwZhYJpKbC"
      }
    },
    {
      "cell_type": "code",
      "source": [
        "s={\"김정규\",\"김성민\"} #s 정의\n",
        "s2={\"박창진\",\"윤재성\"} #s2 정의\n",
        "s.update(s2) #s는 s2와 합집함\n",
        "print(s) #두 집합의 합집합 출력"
      ],
      "metadata": {
        "colab": {
          "base_uri": "https://localhost:8080/"
        },
        "id": "5R3RA13eo0_O",
        "outputId": "415aea4f-effb-44bc-f8ff-b40b5a662d34"
      },
      "execution_count": 24,
      "outputs": [
        {
          "output_type": "stream",
          "name": "stdout",
          "text": [
            "{'박창진', '윤재성', '김정규', '김성민'}\n"
          ]
        }
      ]
    },
    {
      "cell_type": "code",
      "source": [
        "s={\"김정규\",\"김성민\",\"박창진\",\"윤재성\"} #s 정의\n",
        "s2={\"장원영\",\"카리나\"} #s2 정의\n",
        "s.update(s2) #s는 s2와 합집함\n",
        "print(s) #두 집합의 합집합 출력"
      ],
      "metadata": {
        "colab": {
          "base_uri": "https://localhost:8080/"
        },
        "id": "SgBwD_pKplBJ",
        "outputId": "3f285225-9ae5-4faf-8420-2ddf3326e35e"
      },
      "execution_count": 25,
      "outputs": [
        {
          "output_type": "stream",
          "name": "stdout",
          "text": [
            "{'카리나', '윤재성', '김성민', '박창진', '김정규', '장원영'}\n"
          ]
        }
      ]
    }
  ]
}
