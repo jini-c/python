{
  "nbformat": 4,
  "nbformat_minor": 0,
  "metadata": {
    "colab": {
      "provenance": [],
      "authorship_tag": "ABX9TyMHMRTvPnDgBDFHCK6M+U36",
      "include_colab_link": true
    },
    "kernelspec": {
      "name": "python3",
      "display_name": "Python 3"
    },
    "language_info": {
      "name": "python"
    }
  },
  "cells": [
    {
      "cell_type": "markdown",
      "metadata": {
        "id": "view-in-github",
        "colab_type": "text"
      },
      "source": [
        "<a href=\"https://colab.research.google.com/github/jini-c/python/blob/main/Tuple_built_in_function_example.ipynb\" target=\"_parent\"><img src=\"https://colab.research.google.com/assets/colab-badge.svg\" alt=\"Open In Colab\"/></a>"
      ]
    },
    {
      "cell_type": "markdown",
      "source": [
        "#Tuple built-in function example"
      ],
      "metadata": {
        "id": "9JoZj_F2RsVh"
      }
    },
    {
      "cell_type": "markdown",
      "source": [
        "__add__ : Concatenate tuple\n",
        "\n",
        "__mul__ : Repeat typle\n",
        "\n",
        "__rmul__ : Right-side multiply\n",
        "\n",
        "__contains__ : Check if value exists\n",
        "\n",
        "__getitem__ : Access item by index\n",
        "\n"
      ],
      "metadata": {
        "id": "L-F2WGJ0R-bs"
      }
    },
    {
      "cell_type": "code",
      "source": [
        "a = (1, 2, 3)\n",
        "\n",
        "b = a + (3, 4, 5)\n",
        "\n",
        "print(b) #a에 (3, 4, 5)를 더한다\n",
        "\n",
        "print(a*3)\n",
        "\n",
        "print(3*a) #같은 결과가 나타난다\n",
        "\n",
        "print(2 in a) #논리값을 반환한다\n",
        "\n",
        "print(a[0]) #인덱스를 지원한다"
      ],
      "metadata": {
        "colab": {
          "base_uri": "https://localhost:8080/"
        },
        "id": "o-Eiu4C0R-Bh",
        "outputId": "2677cf0f-1042-47f0-e822-39b9bbb673ba"
      },
      "execution_count": 5,
      "outputs": [
        {
          "output_type": "stream",
          "name": "stdout",
          "text": [
            "(1, 2, 3, 3, 4, 5)\n",
            "(1, 2, 3, 1, 2, 3, 1, 2, 3)\n",
            "(1, 2, 3, 1, 2, 3, 1, 2, 3)\n",
            "True\n",
            "1\n"
          ]
        }
      ]
    },
    {
      "cell_type": "markdown",
      "source": [
        "len()\tReturns the total number of items\n",
        "\n",
        "\n",
        "max()\tReturns the largest item (for strings, the one that comes last alphabetically)\n",
        "\n",
        "\n",
        "min()\tReturns the smallest item (for strings, the one that comes first alphabetically)\n",
        "\n",
        "\n",
        "sum()\tReturns the sum of all items (only works with numeric types)\n",
        "\n",
        "\n",
        "tuple()\tConverts to a tuple\n",
        "\n",
        "\n",
        "reversed()\tReturns a reverse iterator of the items\n",
        "\n",
        "\n",
        "sorted()\tReturns a sorted list in ascending order (use reverse=True for descending)\n",
        "\n",
        "\n",
        "all()\tReturns True if all items are truthy; returns False if any are falsy\n",
        "\n",
        "\n",
        "any()\tReturns True if any item is truthy; returns False only if all are falsy"
      ],
      "metadata": {
        "id": "AF8CUd83TXky"
      }
    },
    {
      "cell_type": "code",
      "execution_count": 11,
      "metadata": {
        "colab": {
          "base_uri": "https://localhost:8080/"
        },
        "id": "SRTsl235Rl7x",
        "outputId": "d2bb7bdb-492a-4eb1-e80c-46ebeb69b564"
      },
      "outputs": [
        {
          "output_type": "stream",
          "name": "stdout",
          "text": [
            "3\n",
            "3\n",
            "1\n",
            "6\n",
            "<class 'tuple'>\n",
            "(5, 4, 3, 2, 1)\n",
            "[2, 3, 5, 9, 10, 35]\n"
          ]
        }
      ],
      "source": [
        "a = (1, 2, 3)\n",
        "\n",
        "print(len(a)) #a 안에 있는 객체의 개수를 알려준다\n",
        "\n",
        "print(max(a)) #a 안에 최댓값을 출력한다\n",
        "\n",
        "print(min(a)) #a 안에 최솟값을 출력한다\n",
        "\n",
        "print(sum(a)) #a 안에 값들을 더해준다\n",
        "\n",
        "b = [3, 4, 5]\n",
        "\n",
        "c = tuple(b)\n",
        "\n",
        "print(type(c))\n",
        "\n",
        "a = (1, 2, 3, 4, 5)\n",
        "\n",
        "b = tuple(reversed(a)) #역순으로 출력한다\n",
        "\n",
        "print(b)\n",
        "\n",
        "d = (10, 9, 3, 5, 2, 35)\n",
        "\n",
        "print(sorted(d)) #배열을 오름차순으로 정렬해준다.\n",
        "\n",
        "t1 = (1, 2, 3)\n",
        "t2 = (1, 0, 5)\n",
        "t3 = ('a', ' ', 'c')\n",
        "\n",
        "print(all(t1)) #참을 반환한다\n",
        "print(all(t2)) #0이 포함되면 거짓을 반환한다\n",
        "print(all(t3)) #빈 리스트는 거짓을 반환한다\n",
        "\n",
        "t4 = (0, 0, 3)\n",
        "t5 = (0, ' ', None)\n",
        "t6 = (\" \", \"a\", \" \")\n",
        "\n",
        "print(any(t4)) #3이 참이여서 참을 반환한다.\n",
        "print(any(t5)) #다 거짓이여서 거짓를 반환한다\n",
        "print(any(t6)) #\"a\" 값이 있어서 참을 반환한다"
      ]
    }
  ]
}
