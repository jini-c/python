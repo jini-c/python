{
  "nbformat": 4,
  "nbformat_minor": 0,
  "metadata": {
    "colab": {
      "provenance": [],
      "authorship_tag": "ABX9TyMsmyE19tCyF1IXgZ59U7Q8",
      "include_colab_link": true
    },
    "kernelspec": {
      "name": "python3",
      "display_name": "Python 3"
    },
    "language_info": {
      "name": "python"
    }
  },
  "cells": [
    {
      "cell_type": "markdown",
      "metadata": {
        "id": "view-in-github",
        "colab_type": "text"
      },
      "source": [
        "<a href=\"https://colab.research.google.com/github/jini-c/exe/blob/main/exe0307.ipynb\" target=\"_parent\"><img src=\"https://colab.research.google.com/assets/colab-badge.svg\" alt=\"Open In Colab\"/></a>"
      ]
    },
    {
      "cell_type": "markdown",
      "source": [
        "Special Literal & literal collections\n",
        "\n",
        "None : 생성되지 않았음을 지정\n",
        "리터럴 모음 방법 : list, tuple, dict, set 등"
      ],
      "metadata": {
        "id": "0KZGTc5SEp3Y"
      }
    },
    {
      "cell_type": "code",
      "source": [
        "drink = \"Available\"\n",
        "food = None\n",
        "coffee = \"Today Available\"\n",
        "\n",
        "def menu (x) :\n",
        "    if x == drink :\n",
        "        print(drink)\n",
        "    elif x == food :\n",
        "        print(food)\n",
        "    else:\n",
        "        print(coffee)\n",
        "\n",
        "menu(drink)\n",
        "menu(food)\n",
        "menu(coffee)"
      ],
      "metadata": {
        "colab": {
          "base_uri": "https://localhost:8080/"
        },
        "id": "jbQYveNWE23b",
        "outputId": "d14a0e4f-6237-421b-c13a-95a7d20e7956"
      },
      "execution_count": null,
      "outputs": [
        {
          "output_type": "stream",
          "name": "stdout",
          "text": [
            "Available\n",
            "None\n",
            "Today Available\n"
          ]
        }
      ]
    },
    {
      "cell_type": "code",
      "source": [
        "fruits = [\"watermelon\", \"mango\", \"apple\"] #list\n",
        "numbers = (1, 2, 3) #tuple\n",
        "alphabets = {'a':'apple', 'b':'ball', 'c':'cat'} #dictionary\n",
        "vowels = {'a', 'e', 'i', 'o', 'u'} #set\n",
        "\n",
        "print(fruits)\n",
        "print(numbers)\n",
        "print(alphabets)\n",
        "print(vowels)"
      ],
      "metadata": {
        "colab": {
          "base_uri": "https://localhost:8080/"
        },
        "id": "gr8ksS-QFRGf",
        "outputId": "c4af6982-f1e7-47ab-a15d-8bc007ad81c1"
      },
      "execution_count": null,
      "outputs": [
        {
          "output_type": "stream",
          "name": "stdout",
          "text": [
            "['watermelon', 'mango', 'apple']\n",
            "(1, 2, 3)\n",
            "{'a': 'apple', 'b': 'ball', 'c': 'cat'}\n",
            "{'e', 'i', 'u', 'o', 'a'}\n"
          ]
        }
      ]
    },
    {
      "cell_type": "markdown",
      "source": [
        "Python data types\n",
        "\n",
        "파이썬 프로그래밍의 모든 것은 객체이고, 이들은 데이터 유형을 가짐\n",
        "데이터 형(data types)은 실제로는 클래스(class)이고, 변수(variable)은 클래스의 인스턴스(instance)(객체(object)) 임\n",
        "종류 : number, string, list, tuple, set, dictionary"
      ],
      "metadata": {
        "id": "yG9QdC9SIG7X"
      }
    },
    {
      "cell_type": "markdown",
      "source": [
        "Python data types : number\n",
        "\n",
        "정수 : 메모리 가용한 범위내에서 길이 제한 없음\n",
        "실수 : 소수점 이하 15자리까지 정확"
      ],
      "metadata": {
        "id": "ch6AopKHJGOf"
      }
    },
    {
      "cell_type": "code",
      "source": [
        "# Ouput : 5 is of type <class 'int'>\n",
        "a = 5\n",
        "print(a, \"is of type\", type(a))\n",
        "\n",
        "# Ouput : 3.5 is of type <class 'float'>\n",
        "a = 3.5\n",
        "print(a, \"is of type\", type(a))\n",
        "\n",
        "# Ouput : (2+3.14j) is complex number? True\n",
        "a = 2+3.14j\n",
        "print(a, \"is complex number?\", isinstance(2+3.14j,complex))"
      ],
      "metadata": {
        "colab": {
          "base_uri": "https://localhost:8080/"
        },
        "id": "nRRZUqPLJJ9o",
        "outputId": "cd0ac351-c247-4991-9095-41f583165618"
      },
      "execution_count": null,
      "outputs": [
        {
          "output_type": "stream",
          "name": "stdout",
          "text": [
            "5 is of type <class 'int'>\n",
            "3.5 is of type <class 'float'>\n",
            "(2+3.14j) is complex number? True\n"
          ]
        }
      ]
    },
    {
      "cell_type": "markdown",
      "source": [
        "Python data types : list\n",
        "\n",
        "Item의 순서가 지정된 목록(list)\n",
        "\n",
        "list의 item이 다른 유형도 가능\n",
        "\n",
        "선언 : 대괄호(brackets) [ ] 내부에 쉼표(,)로 구분하여 item 나열\n",
        "\n",
        "Item의 인덱스(index)는 0 부터 시작\n",
        "\n",
        "Item 변경 가능"
      ],
      "metadata": {
        "id": "JS0odgvIJ6JG"
      }
    },
    {
      "cell_type": "code",
      "source": [
        "a = [2, 4, 6, 8, 10, 12, 14, 16, 18, 20]\n",
        "\n",
        "# Output : a[3] = 8\n",
        "print(\"a[3] = \", a[3])\n",
        "\n",
        "# Output : a[0:2] = [2, 4]\n",
        "print(\"a[0:2] = \", a[0:2])\n",
        "\n",
        "# Output : a[4:] = [10, 12, 14, 16, 18, 20]\n",
        "print(\"a[4:] =\", a[4:])\n",
        "\n",
        "# Output : [0, 4, 6, 8, 10, 12, 14, 16, 18, 20]\n",
        "a[0] = 0; print(a)"
      ],
      "metadata": {
        "colab": {
          "base_uri": "https://localhost:8080/"
        },
        "id": "c_s8A_yoIGp3",
        "outputId": "056fa6da-b7e0-4842-c57f-ec7d5763f550"
      },
      "execution_count": null,
      "outputs": [
        {
          "output_type": "stream",
          "name": "stdout",
          "text": [
            "a[3] =  8\n",
            "a[0:2] =  [2, 4]\n",
            "a[4:] = [10, 12, 14, 16, 18, 20]\n",
            "[0, 4, 6, 8, 10, 12, 14, 16, 18, 20]\n"
          ]
        }
      ]
    },
    {
      "cell_type": "markdown",
      "source": [
        "Python data types : tuple\n",
        "\n",
        "List와 기능 동일하지만, 선언 이후에는 변경 불가능\n",
        "일반적으로, list보다 속도가 빠름\n",
        "\n",
        "선언 : 괄호(parentheses) ( ) 내부에 쉼표(,)로 구분하여 item 나열\n",
        "\n",
        "Item의 인덱스(index)는 0 부터 시작"
      ],
      "metadata": {
        "id": "JLZZGhLjNIfv"
      }
    },
    {
      "cell_type": "code",
      "source": [
        "e = (1,'earth', 1+9.15j)\n",
        "\n",
        "# e[1] = 'earth'\n",
        "print(\"e[1] = \", e[1])\n",
        "\n",
        "# e[0:3] = (1, 'earth', (1+9.15j))\n",
        "print(\"e[0:3] = \", e[0:3])\n",
        "\n",
        "# Generates error\n",
        "# Tuples are immutable\n",
        "e[0] = 5"
      ],
      "metadata": {
        "colab": {
          "base_uri": "https://localhost:8080/",
          "height": 221
        },
        "id": "Hm3j4nLKNhvj",
        "outputId": "b0111d1b-4c74-49a9-a5d3-cb9632294880"
      },
      "execution_count": null,
      "outputs": [
        {
          "output_type": "stream",
          "name": "stdout",
          "text": [
            "e[1] =  earth\n",
            "e[0:3] =  (1, 'earth', (1+9.15j))\n"
          ]
        },
        {
          "output_type": "error",
          "ename": "TypeError",
          "evalue": "'tuple' object does not support item assignment",
          "traceback": [
            "\u001b[0;31m---------------------------------------------------------------------------\u001b[0m",
            "\u001b[0;31mTypeError\u001b[0m                                 Traceback (most recent call last)",
            "\u001b[0;32m<ipython-input-17-a97924cc726c>\u001b[0m in \u001b[0;36m<cell line: 0>\u001b[0;34m()\u001b[0m\n\u001b[1;32m      9\u001b[0m \u001b[0;31m# Generates error\u001b[0m\u001b[0;34m\u001b[0m\u001b[0;34m\u001b[0m\u001b[0m\n\u001b[1;32m     10\u001b[0m \u001b[0;31m# Tuples are immutable\u001b[0m\u001b[0;34m\u001b[0m\u001b[0;34m\u001b[0m\u001b[0m\n\u001b[0;32m---> 11\u001b[0;31m \u001b[0me\u001b[0m\u001b[0;34m[\u001b[0m\u001b[0;36m0\u001b[0m\u001b[0;34m]\u001b[0m \u001b[0;34m=\u001b[0m \u001b[0;36m5\u001b[0m\u001b[0;34m\u001b[0m\u001b[0;34m\u001b[0m\u001b[0m\n\u001b[0m",
            "\u001b[0;31mTypeError\u001b[0m: 'tuple' object does not support item assignment"
          ]
        }
      ]
    },
    {
      "cell_type": "code",
      "source": [
        "e = (1,'earth', [1,3,5,7,9])\n",
        "\n",
        "e[2][3]=15\n",
        "print(e[2][3])"
      ],
      "metadata": {
        "colab": {
          "base_uri": "https://localhost:8080/"
        },
        "id": "4iuc6TfuOiP5",
        "outputId": "ca9cca33-e86a-469c-a89c-ce34419bc704"
      },
      "execution_count": null,
      "outputs": [
        {
          "output_type": "stream",
          "name": "stdout",
          "text": [
            "15\n"
          ]
        }
      ]
    },
    {
      "cell_type": "markdown",
      "source": [
        "Python data types : string\n",
        "\n",
        "유니코드 문자들의 나열\n",
        "\n",
        "list, tuple 처럼 슬라이싱 연산자 [ ]를 사용하여 접근가능\n",
        "\n",
        "Slicing operation을 통해 변경 불가능\n",
        "\n",
        "Enumerate()을 통해 인덱스와 값(글자)의 쌍 생성 가능"
      ],
      "metadata": {
        "id": "cPP7DIr4O4Im"
      }
    },
    {
      "cell_type": "code",
      "source": [
        "s = \"This is a string\"\n",
        "print(s)\n",
        "s = '''A multiline\n",
        "string'''\n",
        "print(s)"
      ],
      "metadata": {
        "colab": {
          "base_uri": "https://localhost:8080/"
        },
        "id": "U1hPnPhNPHdj",
        "outputId": "104b5613-2d1b-4d09-feb2-2a12367b6547"
      },
      "execution_count": null,
      "outputs": [
        {
          "output_type": "stream",
          "name": "stdout",
          "text": [
            "This is a string\n",
            "A multiline\n",
            "string\n"
          ]
        }
      ]
    },
    {
      "cell_type": "code",
      "source": [
        "s = 'Hello world!'\n",
        "\n",
        "# s[4] = 'o'\n",
        "print(\"s[4] =\", s[4])\n",
        "#s[6:11] = 'world'\n",
        "print(\"s[6:11] = \", s[6:11])\n",
        "# Generates error : Strings are immutable in Python\n",
        "s[5] ='d'"
      ],
      "metadata": {
        "colab": {
          "base_uri": "https://localhost:8080/",
          "height": 221
        },
        "id": "1yxYslrOPQEv",
        "outputId": "56f46924-bcd0-4ced-a532-b5e4aa69cc68"
      },
      "execution_count": null,
      "outputs": [
        {
          "output_type": "stream",
          "name": "stdout",
          "text": [
            "s[4] = o\n",
            "s[6:11] =  world\n"
          ]
        },
        {
          "output_type": "error",
          "ename": "TypeError",
          "evalue": "'str' object does not support item assignment",
          "traceback": [
            "\u001b[0;31m---------------------------------------------------------------------------\u001b[0m",
            "\u001b[0;31mTypeError\u001b[0m                                 Traceback (most recent call last)",
            "\u001b[0;32m<ipython-input-25-f7894d519714>\u001b[0m in \u001b[0;36m<cell line: 0>\u001b[0;34m()\u001b[0m\n\u001b[1;32m      6\u001b[0m \u001b[0mprint\u001b[0m\u001b[0;34m(\u001b[0m\u001b[0;34m\"s[6:11] = \"\u001b[0m\u001b[0;34m,\u001b[0m \u001b[0ms\u001b[0m\u001b[0;34m[\u001b[0m\u001b[0;36m6\u001b[0m\u001b[0;34m:\u001b[0m\u001b[0;36m11\u001b[0m\u001b[0;34m]\u001b[0m\u001b[0;34m)\u001b[0m\u001b[0;34m\u001b[0m\u001b[0;34m\u001b[0m\u001b[0m\n\u001b[1;32m      7\u001b[0m \u001b[0;31m# Generates error : Strings are immutable in Python\u001b[0m\u001b[0;34m\u001b[0m\u001b[0;34m\u001b[0m\u001b[0m\n\u001b[0;32m----> 8\u001b[0;31m \u001b[0ms\u001b[0m\u001b[0;34m[\u001b[0m\u001b[0;36m4\u001b[0m\u001b[0;34m]\u001b[0m \u001b[0;34m=\u001b[0m\u001b[0;34m'd'\u001b[0m\u001b[0;34m\u001b[0m\u001b[0;34m\u001b[0m\u001b[0m\n\u001b[0m",
            "\u001b[0;31mTypeError\u001b[0m: 'str' object does not support item assignment"
          ]
        }
      ]
    },
    {
      "cell_type": "code",
      "source": [
        "str = 'cold'\n",
        "\n",
        "# enumerate()\n",
        "list_enumerate = list(enumerate(str))\n",
        "print('list(enumerate(str) =', list_enumerate)\n",
        "\n",
        "#character count\n",
        "print('len(str) =', len(str))"
      ],
      "metadata": {
        "colab": {
          "base_uri": "https://localhost:8080/"
        },
        "id": "xlU3OrgpPrnJ",
        "outputId": "65a0410b-3ab6-452c-c2f4-a2560348c3ad"
      },
      "execution_count": null,
      "outputs": [
        {
          "output_type": "stream",
          "name": "stdout",
          "text": [
            "list(enumerate(str) = [(0, 'c'), (1, 'o'), (2, 'l'), (3, 'd')]\n",
            "len(str) = 4\n"
          ]
        }
      ]
    },
    {
      "cell_type": "markdown",
      "source": [
        "Python data types : set\n",
        "\n",
        "고유한(unique) item 들의 정렬되지 않은 모임\n",
        "\n",
        "선언 : 중괄호(braces) {} 내부에 쉼표(,)로 구분하여 item 나열\n",
        "\n",
        "Slicing operation을 통해 접근 불가\n",
        "\n",
        "변경 가능한 아이템(list 등)은 가질 수 없음\n",
        "\n",
        "아이템 추가, 제거 가능\n",
        "\n",
        "add(), update()\n",
        "\n",
        "discard(), remove()"
      ],
      "metadata": {
        "id": "ci_rO42cRlk3"
      }
    },
    {
      "cell_type": "code",
      "source": [
        "a = {1,3,3,3,3,4,4,4,4}\n",
        "print(a)"
      ],
      "metadata": {
        "colab": {
          "base_uri": "https://localhost:8080/"
        },
        "id": "Vj4R9bpsSAyI",
        "outputId": "7dc2d46d-049e-48ef-cc0e-d8cca9988d26"
      },
      "execution_count": null,
      "outputs": [
        {
          "output_type": "stream",
          "name": "stdout",
          "text": [
            "{1, 3, 4}\n"
          ]
        }
      ]
    },
    {
      "cell_type": "code",
      "source": [
        "a = {2,3,1,5,6,7,5,}\n",
        "\n",
        "# printing set variable\n",
        "print(\"a=\", a)\n",
        "# data type of variable a\n",
        "print(type(a))"
      ],
      "metadata": {
        "colab": {
          "base_uri": "https://localhost:8080/"
        },
        "id": "4jAaHDOzSF4Y",
        "outputId": "90cb3cfb-de30-42ac-f221-df30f27be602"
      },
      "execution_count": null,
      "outputs": [
        {
          "output_type": "stream",
          "name": "stdout",
          "text": [
            "a= {1, 2, 3, 5, 6, 7}\n",
            "<class 'set'>\n"
          ]
        }
      ]
    },
    {
      "cell_type": "code",
      "source": [
        "# initialize my_set\n",
        "my_set = {1, 3}\n",
        "print(my_set)\n",
        "\n",
        "# add an element\n",
        "# Output: {1, 2, 3}\n",
        "my_set.add(2)\n",
        "print(my_set)\n",
        "\n",
        "#add multiple elements\n",
        "# Output: {1, 2, 3,4}\n",
        "my_set.update([2, 3, 4])\n",
        "print(my_set)\n",
        "\n",
        "#add list and set\n",
        "# Output: {1, 2, 3, 4, 5, 6, 8}\n",
        "my_set.update([4,5], {1, 6, 8})\n",
        "print(my_set)"
      ],
      "metadata": {
        "colab": {
          "base_uri": "https://localhost:8080/"
        },
        "id": "gYQiFVnSSTrg",
        "outputId": "f365ea9b-ab39-474c-8607-458158904485"
      },
      "execution_count": null,
      "outputs": [
        {
          "output_type": "stream",
          "name": "stdout",
          "text": [
            "{1, 3}\n",
            "{1, 2, 3}\n",
            "{1, 2, 3, 4}\n",
            "{1, 2, 3, 4, 5, 6, 8}\n"
          ]
        }
      ]
    },
    {
      "cell_type": "code",
      "source": [
        "st_ang = {3,5, 'cj'}\n",
        "\n",
        "st_ang.discard(10)\n",
        "print(st_ang)\n",
        "\n",
        "st_ang = {3,5, 'cj'}\n",
        "\n",
        "st_ang.remove(3)\n",
        "print(st_ang)"
      ],
      "metadata": {
        "colab": {
          "base_uri": "https://localhost:8080/"
        },
        "id": "bgLuDl4iTUY4",
        "outputId": "243c5ba1-a639-42dc-ca0d-522fe422e9a2"
      },
      "execution_count": null,
      "outputs": [
        {
          "output_type": "stream",
          "name": "stdout",
          "text": [
            "{'cj', 3, 5}\n",
            "{'cj', 5}\n"
          ]
        }
      ]
    },
    {
      "cell_type": "markdown",
      "source": [
        "Python data types : dictionary\n",
        "\n",
        "Key-value 쌍(pair)의 정렬되지 않은 모음\n",
        "\n",
        "데이터의 양이 많을 때 주로 사용함\n",
        "\n",
        "데어터 검색(retrieving data)에 최적화 되어 있음\n",
        "\n",
        "Key를 통해 value 검색\n",
        "\n",
        "선언 : 중괄호(braces) {} 내부에 쉼표(,)로 구분하여 key:value 나열\n",
        "\n",
        "key, value은 데이터 형에 무관"
      ],
      "metadata": {
        "id": "AHyADgrdUtzP"
      }
    },
    {
      "cell_type": "code",
      "source": [
        "d = {1:'value','key':2}\n",
        "print(type(d))\n",
        "\n",
        "print(\"d[1] =\", d[1])\n",
        "\n",
        "print(\"d['key'] = \", d['key'])\n",
        "\n",
        "# Generates error\n",
        "print(\"d[2] = \", d[2])"
      ],
      "metadata": {
        "colab": {
          "base_uri": "https://localhost:8080/",
          "height": 239
        },
        "id": "dSUeWv2qVJuo",
        "outputId": "75d137a4-c1fa-4b61-e429-d234e323df4c"
      },
      "execution_count": null,
      "outputs": [
        {
          "output_type": "stream",
          "name": "stdout",
          "text": [
            "<class 'dict'>\n",
            "d[1] = value\n",
            "d['key'] =  2\n"
          ]
        },
        {
          "output_type": "error",
          "ename": "KeyError",
          "evalue": "2",
          "traceback": [
            "\u001b[0;31m---------------------------------------------------------------------------\u001b[0m",
            "\u001b[0;31mKeyError\u001b[0m                                  Traceback (most recent call last)",
            "\u001b[0;32m<ipython-input-36-e69c40b3ba0b>\u001b[0m in \u001b[0;36m<cell line: 0>\u001b[0;34m()\u001b[0m\n\u001b[1;32m      7\u001b[0m \u001b[0;34m\u001b[0m\u001b[0m\n\u001b[1;32m      8\u001b[0m \u001b[0;31m# Generates error\u001b[0m\u001b[0;34m\u001b[0m\u001b[0;34m\u001b[0m\u001b[0m\n\u001b[0;32m----> 9\u001b[0;31m \u001b[0mprint\u001b[0m\u001b[0;34m(\u001b[0m\u001b[0;34m\"d[2] = \"\u001b[0m\u001b[0;34m,\u001b[0m \u001b[0md\u001b[0m\u001b[0;34m[\u001b[0m\u001b[0;36m2\u001b[0m\u001b[0;34m]\u001b[0m\u001b[0;34m)\u001b[0m\u001b[0;34m\u001b[0m\u001b[0;34m\u001b[0m\u001b[0m\n\u001b[0m",
            "\u001b[0;31mKeyError\u001b[0m: 2"
          ]
        }
      ]
    },
    {
      "cell_type": "markdown",
      "source": [
        "Phython type conversion and type casting\n",
        "\n",
        "Implicit (암시/암묵적 변경)\n",
        "\n",
        "파이썬이 자동으로 형변환 실시\n",
        "\n",
        "사용자 개입이 필요치 않음"
      ],
      "metadata": {
        "id": "cLwaJR44WltX"
      }
    },
    {
      "cell_type": "code",
      "source": [
        "num_int =123\n",
        "num_flo = 1.23\n",
        "\n",
        "num_new = num_int + num_flo\n",
        "print(\"datatype of num_int:\", type(num_int))\n",
        "print(\"datatype of num_flo:\", type(num_flo))\n",
        "\n",
        "print(\"Value of num_new:\", num_new)\n",
        "print(\"datatype of num_new:\", type(num_new))"
      ],
      "metadata": {
        "colab": {
          "base_uri": "https://localhost:8080/"
        },
        "id": "ILEenUTSXEd2",
        "outputId": "d94063e4-f18a-48bc-91d9-9dfc9c067ecc"
      },
      "execution_count": null,
      "outputs": [
        {
          "output_type": "stream",
          "name": "stdout",
          "text": [
            "datatype of num_int: <class 'int'>\n",
            "datatype of num_flo: <class 'float'>\n",
            "Value of num_new: 124.23\n",
            "datatype of num_new: <class 'float'>\n"
          ]
        }
      ]
    },
    {
      "cell_type": "code",
      "source": [
        "num_unt = 123; num_str = \"456\"\n",
        "\n",
        "print(\"Data type of num_int:\",type(num_int))\n",
        "print(\"Data type of num_str:\",type(num_str))\n",
        "\n",
        "# Error\n",
        "print(num_int+num_str)"
      ],
      "metadata": {
        "colab": {
          "base_uri": "https://localhost:8080/",
          "height": 221
        },
        "id": "7nVSj-i-XokQ",
        "outputId": "8ca9a5f9-9ae6-4e29-88b2-c339d3514a5d"
      },
      "execution_count": null,
      "outputs": [
        {
          "output_type": "stream",
          "name": "stdout",
          "text": [
            "Data type of num_int: <class 'int'>\n",
            "Data type of num_str: <class 'str'>\n"
          ]
        },
        {
          "output_type": "error",
          "ename": "TypeError",
          "evalue": "unsupported operand type(s) for +: 'int' and 'str'",
          "traceback": [
            "\u001b[0;31m---------------------------------------------------------------------------\u001b[0m",
            "\u001b[0;31mTypeError\u001b[0m                                 Traceback (most recent call last)",
            "\u001b[0;32m<ipython-input-38-7b87fdfa50b7>\u001b[0m in \u001b[0;36m<cell line: 0>\u001b[0;34m()\u001b[0m\n\u001b[1;32m      5\u001b[0m \u001b[0;34m\u001b[0m\u001b[0m\n\u001b[1;32m      6\u001b[0m \u001b[0;31m# Error\u001b[0m\u001b[0;34m\u001b[0m\u001b[0;34m\u001b[0m\u001b[0m\n\u001b[0;32m----> 7\u001b[0;31m \u001b[0mprint\u001b[0m\u001b[0;34m(\u001b[0m\u001b[0mnum_int\u001b[0m\u001b[0;34m+\u001b[0m\u001b[0mnum_str\u001b[0m\u001b[0;34m)\u001b[0m\u001b[0;34m\u001b[0m\u001b[0;34m\u001b[0m\u001b[0m\n\u001b[0m",
            "\u001b[0;31mTypeError\u001b[0m: unsupported operand type(s) for +: 'int' and 'str'"
          ]
        }
      ]
    },
    {
      "cell_type": "markdown",
      "source": [
        "Pyhton type conversion and type casting\n",
        "\n",
        "Explicit(명시적 변경) / typecasting\n",
        "\n",
        "사용자가 원하는 형태로 변경\n",
        "\n",
        "int() 정수, float() 실수, str() 문자 등"
      ],
      "metadata": {
        "id": "hKlDzxkaW3un"
      }
    },
    {
      "cell_type": "code",
      "source": [
        "num_int = 123\n",
        "num_str = \"456\"\n",
        "\n",
        "print(\"Data type of num_int:\", type(num_int))\n",
        "print(\"Data type of num_str before Type Casting:\", type(num_str))\n",
        "\n",
        "num_str = int(num_str)\n",
        "print(\"Data type of num_str after Type Casting:\", type(num_str))\n",
        "\n",
        "num_sum = num_int + num_str\n",
        "print(\"Sum of num_int and num_str:\", num_sum)\n",
        "print(\"Data type of the sum:\", type(num_sum))"
      ],
      "metadata": {
        "colab": {
          "base_uri": "https://localhost:8080/"
        },
        "id": "JP3l8wQJWqZ3",
        "outputId": "4245da10-2b65-4e6c-a08f-5a82d906b51e"
      },
      "execution_count": null,
      "outputs": [
        {
          "output_type": "stream",
          "name": "stdout",
          "text": [
            "Data type of num_int: <class 'int'>\n",
            "Data type of num_str before Type Casting: <class 'str'>\n",
            "Data type of num_str after Type Casting: <class 'int'>\n",
            "Sum of num_int and num_str: 579\n",
            "Data type of the sum: <class 'int'>\n"
          ]
        }
      ]
    }
  ]
}
