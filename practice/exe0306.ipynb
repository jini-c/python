{
  "nbformat": 4,
  "nbformat_minor": 0,
  "metadata": {
    "colab": {
      "provenance": []
    },
    "kernelspec": {
      "name": "python3",
      "display_name": "Python 3"
    },
    "language_info": {
      "name": "python"
    }
  },
  "cells": [
    {
      "cell_type": "markdown",
      "source": [
        "python statement"
      ],
      "metadata": {
        "id": "nqGAi597ze5w"
      }
    },
    {
      "cell_type": "code",
      "source": [
        "a = 35"
      ],
      "metadata": {
        "id": "WsbnFgTpzn6S"
      },
      "execution_count": 20,
      "outputs": []
    },
    {
      "cell_type": "markdown",
      "source": [
        "Multi-line statement"
      ],
      "metadata": {
        "id": "qXqzxp1Hz8-x"
      }
    },
    {
      "cell_type": "code",
      "source": [
        "a = (3+5+7+\n",
        "     (9+11+13))"
      ],
      "metadata": {
        "id": "8yatzJdnzK9y"
      },
      "execution_count": 21,
      "outputs": []
    },
    {
      "cell_type": "code",
      "source": [
        "a = (2+4+6+\\\n",
        "     8+10+12)"
      ],
      "metadata": {
        "id": "Qis5KZVzzzb6"
      },
      "execution_count": 23,
      "outputs": []
    },
    {
      "cell_type": "code",
      "source": [
        "a = 2; b = 5; c = 4"
      ],
      "metadata": {
        "id": "qgRHNB8w0Bsy"
      },
      "execution_count": 24,
      "outputs": []
    },
    {
      "cell_type": "markdown",
      "source": [
        "들여쓰기(indentation)"
      ],
      "metadata": {
        "id": "4XHKmJvX0PMZ"
      }
    },
    {
      "cell_type": "code",
      "source": [
        "for i in range(4,13) :\n",
        "    print (i)\n",
        "    if i == 8:\n",
        "        break"
      ],
      "metadata": {
        "colab": {
          "base_uri": "https://localhost:8080/"
        },
        "id": "ZQJgsAo00WWZ",
        "outputId": "4e1e87c3-7878-4378-d76d-1de09ad048e2"
      },
      "execution_count": 26,
      "outputs": [
        {
          "output_type": "stream",
          "name": "stdout",
          "text": [
            "4\n",
            "5\n",
            "6\n",
            "7\n",
            "8\n"
          ]
        }
      ]
    },
    {
      "cell_type": "markdown",
      "source": [
        "주석(comments)"
      ],
      "metadata": {
        "id": "tOSnToKv1CRy"
      }
    },
    {
      "cell_type": "code",
      "source": [
        "#This is a comment\n",
        "#print out Bye\n",
        "print('bye')"
      ],
      "metadata": {
        "colab": {
          "base_uri": "https://localhost:8080/"
        },
        "id": "ePUJNy3A1F9Z",
        "outputId": "a32f34b9-60df-450d-bd29-3514b7baedb6"
      },
      "execution_count": 27,
      "outputs": [
        {
          "output_type": "stream",
          "name": "stdout",
          "text": [
            "bye\n"
          ]
        }
      ]
    },
    {
      "cell_type": "markdown",
      "source": [],
      "metadata": {
        "id": "2ULH58dnzcpa"
      }
    },
    {
      "cell_type": "code",
      "source": [
        "\"\"\"This is also a\n",
        "perfect example of\n",
        "multi-line comments\"\"\""
      ],
      "metadata": {
        "colab": {
          "base_uri": "https://localhost:8080/",
          "height": 35
        },
        "id": "sf3UmP6D1Qlp",
        "outputId": "aec53cb1-db8c-4053-a32e-ca67132998d4"
      },
      "execution_count": 28,
      "outputs": [
        {
          "output_type": "execute_result",
          "data": {
            "text/plain": [
              "'This is also a\\nperfect example of\\nmulti-line comments'"
            ],
            "application/vnd.google.colaboratory.intrinsic+json": {
              "type": "string"
            }
          },
          "metadata": {},
          "execution_count": 28
        }
      ]
    },
    {
      "cell_type": "markdown",
      "source": [
        "Docstrings(documentation strings)"
      ],
      "metadata": {
        "id": "vLxpYYhP1fUq"
      }
    },
    {
      "cell_type": "code",
      "source": [
        "def greet(name) :\n",
        "  \"\"\"\n",
        "  이 함수는 이름을 받아서 인사말을 출력합니다.\n",
        "  \"\"\"\n",
        "  print(f\"Hello, {name}!\")\n",
        "\n",
        "  # 함수의 __doc__ 속성을 출력합니다.\n",
        "  print(greet.__doc__)"
      ],
      "metadata": {
        "id": "Zsk0DPxD1nIQ"
      },
      "execution_count": 36,
      "outputs": []
    },
    {
      "cell_type": "code",
      "source": [
        "greet(\"김아니\")"
      ],
      "metadata": {
        "colab": {
          "base_uri": "https://localhost:8080/"
        },
        "id": "t2SWfATM2h3q",
        "outputId": "62c17d31-ebd6-4e3b-ad8f-65d4ac134997"
      },
      "execution_count": 40,
      "outputs": [
        {
          "output_type": "stream",
          "name": "stdout",
          "text": [
            "Hello, 김아니!\n",
            "\n",
            "  이 함수는 이름을 받아서 인사말을 출력합니다.\n",
            "  \n"
          ]
        }
      ]
    },
    {
      "cell_type": "code",
      "source": [
        "class Dog:\n",
        "    \"\"\"\n",
        "    Dog 클래스는 개를 나타냅니다.\n",
        "\n",
        "    속성:\n",
        "        name (str): 개의 이름\n",
        "        age (int): 개의 나이\n",
        "\n",
        "    메서드:\n",
        "        bark(): 개의 짖는 소리를 출력합니다.\n",
        "    \"\"\"\n",
        "\n",
        "    def __init__(self, name, age):\n",
        "        self.name = name\n",
        "        self.age = age\n",
        "\n",
        "    def bark(self):\n",
        "        \"\"\"개가 짖습니다.\"\"\"\n",
        "        print(f\"{self.name}가 짖습니다: 멍멍!\")\n",
        "\n",
        "# 클래스의 __doc__ 속성을 출력합니다.\n",
        "print(Dog.__doc__)\n"
      ],
      "metadata": {
        "colab": {
          "base_uri": "https://localhost:8080/"
        },
        "id": "3-04Lwxt3Kow",
        "outputId": "1ca12e87-9c10-4f93-8cc6-5cdee6184c81"
      },
      "execution_count": 42,
      "outputs": [
        {
          "output_type": "stream",
          "name": "stdout",
          "text": [
            "\n",
            "    Dog 클래스는 개를 나타냅니다.\n",
            "    \n",
            "    속성:\n",
            "        name (str): 개의 이름\n",
            "        age (int): 개의 나이\n",
            "    \n",
            "    메서드:\n",
            "        bark(): 개의 짖는 소리를 출력합니다.\n",
            "    \n"
          ]
        }
      ]
    },
    {
      "cell_type": "code",
      "source": [
        "def fear() :\n",
        "    \"\"\"\n",
        "    fear은 공포를 의미한다.\n",
        "    단순한 공포가 아니다. 어떤 공포인지 모두가 한번쯤 생각해봐야한다\n",
        "    \"\"\"\n",
        "\n",
        "print(fear.__doc__)"
      ],
      "metadata": {
        "colab": {
          "base_uri": "https://localhost:8080/"
        },
        "id": "BsD9oe2P3Os5",
        "outputId": "1c8d04b1-d6a0-4cd6-e756-3364df305adc"
      },
      "execution_count": 49,
      "outputs": [
        {
          "output_type": "stream",
          "name": "stdout",
          "text": [
            "\n",
            "    fear은 공포를 의미한다.\n",
            "    단순한 공포가 아니다. 어떤 공포인지 모두가 한번쯤 생각해봐야한다\n",
            "    \n"
          ]
        }
      ]
    },
    {
      "cell_type": "markdown",
      "source": [
        "변수(python variables)"
      ],
      "metadata": {
        "id": "226dAzRy43iY"
      }
    },
    {
      "cell_type": "code",
      "source": [
        "name = \"jini\"\n",
        "\n",
        "print(name)"
      ],
      "metadata": {
        "colab": {
          "base_uri": "https://localhost:8080/"
        },
        "id": "D6DSdlCN43Ew",
        "outputId": "59117977-60df-40e1-9ba0-960e95e6293f"
      },
      "execution_count": 51,
      "outputs": [
        {
          "output_type": "stream",
          "name": "stdout",
          "text": [
            "jini\n"
          ]
        }
      ]
    },
    {
      "cell_type": "code",
      "source": [
        "a, b, c = 34, 70.3, \"jini\"\n",
        "print(a) ; print (b); print(c)\n",
        "print(a, b, c)"
      ],
      "metadata": {
        "colab": {
          "base_uri": "https://localhost:8080/"
        },
        "id": "4vRDm5NC5Gep",
        "outputId": "0ca3e7a0-82b6-4645-a528-80e433b6e26a"
      },
      "execution_count": 54,
      "outputs": [
        {
          "output_type": "stream",
          "name": "stdout",
          "text": [
            "34\n",
            "70.3\n",
            "jini\n",
            "34 70.3 jini\n"
          ]
        }
      ]
    },
    {
      "cell_type": "markdown",
      "source": [
        "Literal\n",
        "\n",
        "변수 또는 상수에 주어지는 원시 데이터(raw data)\n",
        "Numeric : int(정수), float(실수), complex(복소수), String(문자), boolean(논리)"
      ],
      "metadata": {
        "id": "ZhyV_KOF5f7Q"
      }
    },
    {
      "cell_type": "markdown",
      "source": [
        "Numeric : int(정수), float(실수), complex(복소수)"
      ],
      "metadata": {
        "id": "FVqErI6T8LOw"
      }
    },
    {
      "cell_type": "code",
      "source": [
        "a = 0b101 #Binary Literals 접두사 0b는 이진수\n",
        "b = 1000 #Decimal Literal\n",
        "c = 0o7160 #Octal Literal 접두사 0o는 팔진수\n",
        "d = 0x1fda9 #Hexadecimal Literal 접두사 0x는 십육진수\n",
        "\n",
        "#Float Literal(실수)\n",
        "float_1 = 13.5\n",
        "float_2 = 1.35e6\n",
        "float_3 = 1.35e-3\n",
        "\n",
        "#Colplex Literal\n",
        "x = 654+321j\n",
        "\n",
        "print(a, b, c, d)\n",
        "print(float_1, float_2, float_3)\n",
        "print(x, x.imag, x.real) # .imag 허수 .real은 실수"
      ],
      "metadata": {
        "colab": {
          "base_uri": "https://localhost:8080/"
        },
        "id": "xfrE5RNl6btB",
        "outputId": "9a7a726a-26b0-49dc-ba03-ad8dbb385136"
      },
      "execution_count": 56,
      "outputs": [
        {
          "output_type": "stream",
          "name": "stdout",
          "text": [
            "5 1000 3696 130473\n",
            "13.5 1350000.0 0.00135\n",
            "(654+321j) 321.0 654.0\n"
          ]
        }
      ]
    },
    {
      "cell_type": "markdown",
      "source": [
        "String(문자)"
      ],
      "metadata": {
        "id": "7PcsD1Ga8ZdQ"
      }
    },
    {
      "cell_type": "code",
      "source": [
        "strings = \"this is Python\"\n",
        "char = \"c\"\n",
        "multiline_str = \"\"\"this is a multiline string\n",
        "with more than one line code.\"\"\"\n",
        "unicode = u\"\\u00dcnic\\u00f6de\"\n",
        "raw_str = r\"raw \\n string\"\n",
        "\n",
        "print(strings)\n",
        "print(char)\n",
        "print(multiline_str)\n",
        "print(unicode)\n",
        "print (raw_str)"
      ],
      "metadata": {
        "colab": {
          "base_uri": "https://localhost:8080/"
        },
        "id": "srRsUaI-8cQB",
        "outputId": "b0240299-121f-4893-f748-0199c6a7f856"
      },
      "execution_count": 57,
      "outputs": [
        {
          "output_type": "stream",
          "name": "stdout",
          "text": [
            "this is Python\n",
            "c\n",
            "this is a multiline string\n",
            "with more than one line code.\n",
            "Ünicöde\n",
            "raw \\n string\n"
          ]
        }
      ]
    },
    {
      "cell_type": "code",
      "source": [
        "raw_str = r\"raw \\r string\"\n",
        "\n",
        "print (raw_str)"
      ],
      "metadata": {
        "colab": {
          "base_uri": "https://localhost:8080/"
        },
        "id": "VAc3QjhB6aEB",
        "outputId": "8c788709-e7de-4455-e605-217e763973ae"
      },
      "execution_count": 64,
      "outputs": [
        {
          "output_type": "stream",
          "name": "stdout",
          "text": [
            "raw \r string\n"
          ]
        }
      ]
    },
    {
      "cell_type": "markdown",
      "source": [
        "boolean"
      ],
      "metadata": {
        "id": "uSbBOG9h--4B"
      }
    },
    {
      "cell_type": "code",
      "source": [
        "x = (1 == True)\n",
        "y = (1 == False)\n",
        "a = True + 4\n",
        "b = False + 10\n",
        "\n",
        "print(\"x is\", x)\n",
        "print(\"y is\",y)\n",
        "print(\"a:\", a)\n",
        "print(\"b:\", b)"
      ],
      "metadata": {
        "colab": {
          "base_uri": "https://localhost:8080/"
        },
        "id": "V0_-NKK-_BDp",
        "outputId": "99b17ebe-0f25-4f87-dd92-901d157a4eff"
      },
      "execution_count": 66,
      "outputs": [
        {
          "output_type": "stream",
          "name": "stdout",
          "text": [
            "x is True\n",
            "y is False\n",
            "a: 5\n",
            "b: 10\n"
          ]
        }
      ]
    },
    {
      "cell_type": "code",
      "source": [
        "x = (0 == True)\n",
        "y = (0 == False)\n",
        "a = True*100\n",
        "b = False*3\n",
        "\n",
        "print(\"x is\", x)\n",
        "print(\"y is\", y)\n",
        "print(\"a:\", a)\n",
        "print(\"b:\", b)"
      ],
      "metadata": {
        "colab": {
          "base_uri": "https://localhost:8080/"
        },
        "id": "EseCyXix_czK",
        "outputId": "8db0a257-1675-48e0-a9b2-8e620e9111f1"
      },
      "execution_count": 70,
      "outputs": [
        {
          "output_type": "stream",
          "name": "stdout",
          "text": [
            "x is False\n",
            "y is True\n",
            "a: 100\n",
            "b: 0\n"
          ]
        }
      ]
    }
  ]
}
