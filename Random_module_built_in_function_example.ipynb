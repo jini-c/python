{
  "nbformat": 4,
  "nbformat_minor": 0,
  "metadata": {
    "colab": {
      "provenance": [],
      "authorship_tag": "ABX9TyNuqe39tm7zzl+4B1+pW4hz",
      "include_colab_link": true
    },
    "kernelspec": {
      "name": "python3",
      "display_name": "Python 3"
    },
    "language_info": {
      "name": "python"
    }
  },
  "cells": [
    {
      "cell_type": "markdown",
      "metadata": {
        "id": "view-in-github",
        "colab_type": "text"
      },
      "source": [
        "<a href=\"https://colab.research.google.com/github/jini-c/python/blob/main/Random_module_built_in_function_example.ipynb\" target=\"_parent\"><img src=\"https://colab.research.google.com/assets/colab-badge.svg\" alt=\"Open In Colab\"/></a>"
      ]
    },
    {
      "cell_type": "markdown",
      "source": [
        "# Random module built in function example"
      ],
      "metadata": {
        "id": "hrpXxzwaYane"
      }
    },
    {
      "cell_type": "code",
      "execution_count": 2,
      "metadata": {
        "id": "STlpjEWFwlom"
      },
      "outputs": [],
      "source": [
        "import random"
      ]
    },
    {
      "cell_type": "markdown",
      "source": [
        "\n",
        "\n",
        "1. **seed(a=None, version=2)** Initialize the random number generator\n",
        "\n",
        "\n",
        "\n",
        "2. **getstate()** Returns an object capturing the current internal\n",
        "state of the generator\n",
        "\n",
        "\n",
        "\n",
        "3. **setstate(state)** Restores the internal state of the generator\n",
        "\n",
        "\n",
        "\n",
        "4. **getrandbits(k)** Returns a Python integer with k random bits\n",
        "\n"
      ],
      "metadata": {
        "id": "OgFwl5TCWUPA"
      }
    },
    {
      "cell_type": "code",
      "source": [
        "random.seed(1) #seed 값을 설정\n",
        "\n",
        "print(\"초기난수 : \", random.random())\n",
        "\n",
        "random.seed(1) #같은 seed 값으로 다시 설정하면 같은 난수를 반복 생성한다.\n",
        "\n",
        "print(\"seed 실행 후 난수 : \", random.random())"
      ],
      "metadata": {
        "colab": {
          "base_uri": "https://localhost:8080/"
        },
        "id": "-y4iWyUBwnid",
        "outputId": "694b1a8a-5207-4e0d-8a3b-d210c73e7bd5"
      },
      "execution_count": 3,
      "outputs": [
        {
          "output_type": "stream",
          "name": "stdout",
          "text": [
            "0.13436424411240122\n",
            "0.13436424411240122\n"
          ]
        }
      ]
    },
    {
      "cell_type": "code",
      "source": [
        "random.seed(2) #초기 난수를 생성한다.\n",
        "print(\"초기난수 : \", random.random())\n",
        "\n",
        "a = random.getstate() #상태를 저장한다\n",
        "\n",
        "print(\"다음 난수: \", random.random())\n",
        "print(\"또 다음 난수 : \", random.random())\n",
        "\n",
        "random.setstate(a) #저장했던 상태를 복원한다\n",
        "\n",
        "print(\"상태 복원 후 난수\", random.random()) #상태를 저장했을 때의 난수가 출력된다.\n",
        "print(\"상태 복원 후 난수\", random.random()) #순차적으로 출력된다"
      ],
      "metadata": {
        "colab": {
          "base_uri": "https://localhost:8080/"
        },
        "id": "O7PzgEEGZIwb",
        "outputId": "f25f24a4-7a0f-44d9-b003-fcf6e80a492e"
      },
      "execution_count": 6,
      "outputs": [
        {
          "output_type": "stream",
          "name": "stdout",
          "text": [
            "초기난수 :  0.9560342718892494\n",
            "다음 난수:  0.9478274870593494\n",
            "또 다음 난수 :  0.05655136772680869\n",
            "상태 복원 후 난수 0.9478274870593494\n",
            "상태 복원 후 난수 0.05655136772680869\n"
          ]
        }
      ]
    },
    {
      "cell_type": "code",
      "source": [
        "random.seed(3)\n",
        "print(\"초기난수 :\", random.random())\n",
        "\n",
        "b = random.getstate() #상태를 저장한다\n",
        "\n",
        "for i in range(5):\n",
        "  print(\"난수 : \", random.random())\n",
        "\n",
        "random.setstate(b)\n",
        "\n",
        "print(random.random()) #상태 복원후 첫 번째 난수\n",
        "for i in range(5):\n",
        "  print(\"난수:\", random.random()) #순차적으로 값이 위의 값 포함 5번째까지는 같은 것을 알수있다.\n"
      ],
      "metadata": {
        "colab": {
          "base_uri": "https://localhost:8080/"
        },
        "id": "fKPrqNfaZ_9Z",
        "outputId": "7cc6f0f7-4121-4c40-f3af-6967f19f55c7"
      },
      "execution_count": 11,
      "outputs": [
        {
          "output_type": "stream",
          "name": "stdout",
          "text": [
            "초기난수 : 0.23796462709189137\n",
            "난수 :  0.5442292252959519\n",
            "난수 :  0.36995516654807925\n",
            "난수 :  0.6039200385961945\n",
            "난수 :  0.625720304108054\n",
            "난수 :  0.06552885923981311\n",
            "0.5442292252959519\n",
            "난수: 0.36995516654807925\n",
            "난수: 0.6039200385961945\n",
            "난수: 0.625720304108054\n",
            "난수: 0.06552885923981311\n",
            "난수: 0.013167991554874137\n"
          ]
        }
      ]
    },
    {
      "cell_type": "code",
      "source": [
        "c = random.getrandbits(8) #8비트를 가진 정수를 반환한다\n",
        "\n",
        "print(\"8비트 난수 : \", c)\n",
        "\n",
        "d = random.getrandbits(25) #25비트를 가진 정수를 반환한다\n",
        "\n",
        "print(\"25비트 난수 : \", d)"
      ],
      "metadata": {
        "colab": {
          "base_uri": "https://localhost:8080/"
        },
        "id": "4RfA8CqvcU2d",
        "outputId": "b8ba00f4-072a-47d2-e969-04b82967dabc"
      },
      "execution_count": 13,
      "outputs": [
        {
          "output_type": "stream",
          "name": "stdout",
          "text": [
            "8비트 난수 :  214\n",
            "25비트 난수 :  15744824\n"
          ]
        }
      ]
    },
    {
      "cell_type": "markdown",
      "source": [
        "\n",
        "\n",
        "1.  **randrange**(start, stop[, ste\n",
        "p]) Returns a random integer from the range\n",
        "\n",
        "\n",
        "2. **randint(a, b)** Returns a random integer between a and b\n",
        "inclusive\n",
        "\n",
        "3. **random()** Return the next random floating point number\n",
        "in the range [0.0, 1.0)\n",
        "\n"
      ],
      "metadata": {
        "id": "3aIpgEUCdts_"
      }
    },
    {
      "cell_type": "code",
      "source": [
        "e = random.randrange(1, 25, 5) #시작, 끝 범위에서 (step)이 증가한 숫자중 하나를 반환한다\n",
        "\n",
        "print(e)\n",
        "\n",
        "f = random.randint(5, 45) #a, b값 사이의 하나를 반환한다\n",
        "\n",
        "print(f)\n",
        "\n",
        "g = random.random() #실수인 난수를 반환한다\n",
        "\n",
        "print(random.random())"
      ],
      "metadata": {
        "colab": {
          "base_uri": "https://localhost:8080/"
        },
        "id": "2fnSPPHWd2fK",
        "outputId": "7533dc6a-01b7-425f-9b30-663bc7cedda6"
      },
      "execution_count": 17,
      "outputs": [
        {
          "output_type": "stream",
          "name": "stdout",
          "text": [
            "21\n",
            "35\n",
            "0.8610221084253223\n"
          ]
        }
      ]
    },
    {
      "cell_type": "markdown",
      "source": [
        "\n",
        "\n",
        "1. **choice(seq)** Return a random element from the non-empty\n",
        "sequence\n",
        "2. **shuffle(seq)** Shuffle the sequence\n",
        "\n",
        "3. **sample(population, k)** Return a k length list of unique elements chosen\n",
        "from the population sequence\n"
      ],
      "metadata": {
        "id": "hJLV_fWuekRO"
      }
    },
    {
      "cell_type": "code",
      "source": [
        "h = [1, 2, 3, 4, 5, 6, 7, 8, 9, 10]\n",
        "\n",
        "print(random.choice(h)) #시퀀스에서 무작위 요소를 하나 반환한다.\n",
        "\n",
        "random.shuffle(h) #리스트의 항목을 무작위로 섞는다. 원본이 변경된다\n",
        "print(h)\n",
        "\n",
        "i = random.sample(h, 5) #리스트에서 중복없이 k개 만큼 무작위로 추출해 새 리스트를 반환한다.\n",
        "print(i)"
      ],
      "metadata": {
        "colab": {
          "base_uri": "https://localhost:8080/"
        },
        "id": "VvyrfJC2ej0N",
        "outputId": "8c0ce3fb-64ed-42c0-feac-a6b88bbe23c9"
      },
      "execution_count": 18,
      "outputs": [
        {
          "output_type": "stream",
          "name": "stdout",
          "text": [
            "4\n",
            "[4, 5, 10, 2, 8, 1, 6, 7, 9, 3]\n",
            "[8, 4, 3, 2, 7]\n"
          ]
        }
      ]
    },
    {
      "cell_type": "markdown",
      "source": [
        "\n",
        "\n",
        "1. **uniform(a, b)** Return a random floating point number between a\n",
        "and b inclusive\n",
        "\n",
        "2. **triangular(low, high, mode)**\n",
        "Return a random floating point number between low\n",
        "and high, w\n",
        "\n"
      ],
      "metadata": {
        "id": "xf9Hfiw4f_53"
      }
    },
    {
      "cell_type": "code",
      "source": [
        "print(random.uniform(1,100)) #a와 b 사이의 무작위 실수를 반환한다\n",
        "\n",
        "print(random.triangular(1, 10, 8))\n",
        "\"\"\"low와 high 사이에 무작위 실수를 반환한다.\n",
        "mode로 가장 자주 등장할 높은 값을 지정할 수 있다.\n",
        "중심값에 편향되어서 나타난다\"\"\"\n"
      ],
      "metadata": {
        "colab": {
          "base_uri": "https://localhost:8080/"
        },
        "id": "ZM2Gtxckf_r3",
        "outputId": "833897d3-ed13-490b-912c-a47ab45a416e"
      },
      "execution_count": 20,
      "outputs": [
        {
          "output_type": "stream",
          "name": "stdout",
          "text": [
            "88.00246722529269\n",
            "7.7074702733225555\n"
          ]
        }
      ]
    }
  ]
}