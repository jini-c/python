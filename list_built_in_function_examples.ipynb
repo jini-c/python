{
  "nbformat": 4,
  "nbformat_minor": 0,
  "metadata": {
    "colab": {
      "provenance": [],
      "authorship_tag": "ABX9TyMSDwjD02yqR8upjQVqHl9Z",
      "include_colab_link": true
    },
    "kernelspec": {
      "name": "python3",
      "display_name": "Python 3"
    },
    "language_info": {
      "name": "python"
    }
  },
  "cells": [
    {
      "cell_type": "markdown",
      "metadata": {
        "id": "view-in-github",
        "colab_type": "text"
      },
      "source": [
        "<a href=\"https://colab.research.google.com/github/jini-c/python/blob/main/list_built_in_function_examples.ipynb\" target=\"_parent\"><img src=\"https://colab.research.google.com/assets/colab-badge.svg\" alt=\"Open In Colab\"/></a>"
      ]
    },
    {
      "cell_type": "markdown",
      "source": [
        "# List built-in function examples"
      ],
      "metadata": {
        "id": "oB0iAy1R7Ro-"
      }
    },
    {
      "cell_type": "markdown",
      "source": [
        "__add__ : Concatenate lists\n",
        "\n",
        "__iadd__ : In-place add\n",
        "\n",
        "__mul__ : Repeat list\n",
        "\n",
        "__imul__ : In-place multiply"
      ],
      "metadata": {
        "id": "9UAmnFzW7awd"
      }
    },
    {
      "cell_type": "code",
      "source": [
        "a = [1, 2, 3]\n",
        "\n",
        "a+[3, 4, 5] #a와 [3,4,5]가 더해진 새로운 리스트가 생긴다\n",
        "\n",
        "print(a) #a는 그대로임을 볼 수 있다\n",
        "\n",
        "a = [1, 2, 3]\n",
        "\n",
        "a += [3, 4, 5] #a 리스트에 [3,4,5]가 추가된다\n",
        "\n",
        "print(a)\n",
        "\n",
        "a = [1, 2, 3]\n",
        "\n",
        "print(a*2) #a 리스트 자체에 변화는 없다\n",
        "\n",
        "print(a)\n",
        "\n",
        "a *= 2 #a 리스트 자체가 변화한다\n",
        "\n",
        "print(a)\n",
        "\n"
      ],
      "metadata": {
        "colab": {
          "base_uri": "https://localhost:8080/"
        },
        "id": "N-R6PFmT50Na",
        "outputId": "f04e8404-1564-4a18-bc58-4accd7f23ea4"
      },
      "execution_count": null,
      "outputs": [
        {
          "output_type": "stream",
          "name": "stdout",
          "text": [
            "[1, 2, 3]\n",
            "[1, 2, 3, 3, 4, 5]\n",
            "[1, 2, 3, 1, 2, 3]\n",
            "[1, 2, 3]\n",
            "[1, 2, 3, 1, 2, 3]\n"
          ]
        }
      ]
    },
    {
      "cell_type": "markdown",
      "source": [
        "__contains__ : Check if value exists\n",
        "\n",
        "__getitem__ : Access item by index\n",
        "\n",
        "__setitem__ : Set item by index\n",
        "\n",
        "__delitem__ : Delete item by index"
      ],
      "metadata": {
        "id": "IoS5uZ469FJr"
      }
    },
    {
      "cell_type": "code",
      "source": [
        "a = [1, 2, 3]\n",
        "\n",
        "print(2 in a) #a 안에 있는 요소를 확인한다. 논리값 반환\n",
        "\n",
        "print(a[2]) #a 인덱스 값을 가져온다\n",
        "\n",
        "a[0] = 10 #a [] 값에 변화를 준다\n",
        "\n",
        "print(a)\n",
        "\n",
        "del a[0] #a의 첫번째 값을 삭제시키고 뒤에 값이 첫번째 값이된다.\n",
        "\n",
        "print(a)"
      ],
      "metadata": {
        "colab": {
          "base_uri": "https://localhost:8080/"
        },
        "id": "6znjbcFB9AJt",
        "outputId": "a65e8668-c21a-46c7-8745-4e398b8ebe43"
      },
      "execution_count": null,
      "outputs": [
        {
          "output_type": "stream",
          "name": "stdout",
          "text": [
            "True\n",
            "3\n",
            "[10, 2, 3]\n",
            "[2, 3]\n"
          ]
        }
      ]
    },
    {
      "cell_type": "markdown",
      "source": [
        "__iter__ : Iteration support\n",
        "\n",
        "__len__ : Length of list\n",
        "\n",
        "__eq__ : Equal comparison\n",
        "\n",
        "__ne__ : Not equal\n",
        "\n",
        "__lt__ : Less than\n",
        "\n",
        "__le__ : Less or equal\n",
        "\n",
        "__gt__ : Greater than\n",
        "\n",
        "__ge__ : Greater or equal"
      ],
      "metadata": {
        "id": "GNLvPxSC-bBT"
      }
    },
    {
      "cell_type": "code",
      "source": [
        "[1,2,3].__iter__() #Iterable 객체는 반복 가능한 객체이다.\n",
        "\n",
        "print(type(iter(a))) #iterator 객체는 값을 차례대로 꺼낼 수 있다.\n",
        "\n",
        "a = [1,2,3]\n",
        "\n",
        "len(a) #List의 객체의 숫자를 알려준다\n",
        "\n",
        "b = [4,5,6]\n",
        "\n",
        "print(a == b) #같은 리스트를 가졌는지 확인한다\n",
        "\n",
        "print(a != b) #같지 않은 리스트를 가졌는지 확인한다.\n",
        "\n",
        "print(a < b) #첫번째가 크면 True를 반환한다.\n",
        "\n",
        "print(a <= b) #문자와 숫자 다 비교가능하다\n",
        "\n",
        "print(a > b)\n",
        "\n",
        "print(a >= b)"
      ],
      "metadata": {
        "colab": {
          "base_uri": "https://localhost:8080/"
        },
        "id": "Q1Pvwrgd-ae8",
        "outputId": "1ec2c38a-e6ec-4cc1-aa29-23c6c05d0bd9"
      },
      "execution_count": null,
      "outputs": [
        {
          "output_type": "stream",
          "name": "stdout",
          "text": [
            "<class 'list_iterator'>\n",
            "False\n",
            "True\n",
            "True\n",
            "True\n",
            "False\n",
            "False\n"
          ]
        }
      ]
    },
    {
      "cell_type": "markdown",
      "source": [
        "__reversed__ : Reverse iterator\n",
        "\n",
        "__rmul__ : Right-side multuply\n",
        "\n",
        "__str__ : Readable string\n",
        "\n",
        "__repr__ : Unambiguous string"
      ],
      "metadata": {
        "id": "5luHTLnLJxc6"
      }
    },
    {
      "cell_type": "code",
      "source": [
        "a = [1,2,3]\n",
        "\n",
        "for i in reversed(a): #reversed를 사용하면 끝에서부터 출력된다.\n",
        "  print(i)\n",
        "\n",
        "print(3*a) #a*3과 결과가 똑같이 출력되는 것을 볼수있다."
      ],
      "metadata": {
        "colab": {
          "base_uri": "https://localhost:8080/"
        },
        "id": "HxO1yEaFJvvj",
        "outputId": "916d706a-6f04-4995-8ca0-5cba2d2c8e76"
      },
      "execution_count": null,
      "outputs": [
        {
          "output_type": "stream",
          "name": "stdout",
          "text": [
            "3\n",
            "2\n",
            "1\n",
            "[1, 2, 3, 1, 2, 3, 1, 2, 3]\n",
            "<class 'int'>\n"
          ]
        }
      ]
    },
    {
      "cell_type": "code",
      "source": [
        "from datetime import datetime\n",
        "now = datetime.now()\n",
        "\n",
        "print(str(now)) #사람들이 보기 편하게 출력한다\n",
        "\n",
        "print(repr(now)) #정확한 정보, 디버깅, 재생성 가능한 코드처럼 보여준다. 객체 재현 가능\n"
      ],
      "metadata": {
        "colab": {
          "base_uri": "https://localhost:8080/"
        },
        "id": "JdN9JizIMo_a",
        "outputId": "21ac6c2b-4bfb-44ef-a2b4-231433e0d811"
      },
      "execution_count": null,
      "outputs": [
        {
          "output_type": "stream",
          "name": "stdout",
          "text": [
            "2025-04-09 11:03:47.854892\n",
            "datetime.datetime(2025, 4, 9, 11, 3, 47, 854892)\n"
          ]
        }
      ]
    },
    {
      "cell_type": "markdown",
      "source": [
        "append : Add element to end\n",
        "\n",
        "clear : Remove all elemets\n",
        "\n",
        "copy : Shallow copy\n",
        "\n",
        "count : Count occurrences\n",
        "\n",
        "extend : Extend list\n",
        "\n",
        "index : Find index\n",
        "\n",
        "insert : insert at position"
      ],
      "metadata": {
        "id": "16zuZAKiNiq-"
      }
    },
    {
      "cell_type": "code",
      "source": [
        "a = [1, 2, 3]\n",
        "b = [4, 5, 6]\n",
        "\n",
        "a.append(4) #끝에다 4를 추가해준다\n",
        "\n",
        "print(a)\n",
        "\n",
        "a.clear() #a 리스트의 모든 요소를 제거한다.\n",
        "\n",
        "a.copy() #b리스트를 얇게 카피한다.\n",
        "\n",
        "a.count(1) #안에 입력한 요소가 몇개 있는지 확인해준다\n",
        "\n",
        "a.extend(b) #다른 리스트의 요소를 추가해준다.\n",
        "\n",
        "print(a)\n",
        "\n",
        "print(a.index(3)) #해당 인덱스 값을 알려준다.\n",
        "\n",
        "a.insert(1, 'x') #인덱스 위치에 값을 추가해준다.\n",
        "\n",
        "print(a)"
      ],
      "metadata": {
        "colab": {
          "base_uri": "https://localhost:8080/"
        },
        "id": "YjQ_1iHi99Bm",
        "outputId": "a6773270-4c30-4583-c3af-47429479eaf0"
      },
      "execution_count": null,
      "outputs": [
        {
          "output_type": "stream",
          "name": "stdout",
          "text": [
            "[1, 2, 3, 4]\n",
            "[1, 2, 3, 4, 4, 5, 6]\n",
            "2\n",
            "[1, 'x', 2, 3, 4, 4, 5, 6]\n"
          ]
        }
      ]
    },
    {
      "cell_type": "markdown",
      "source": [
        "pop : Remove and return item\n",
        "\n",
        "remove : Remove first matching item\n",
        "\n",
        "reverse : Reverse in place\n",
        "\n",
        "sort : Sort in place"
      ],
      "metadata": {
        "id": "qEQzZf-wQHRU"
      }
    },
    {
      "cell_type": "code",
      "source": [
        "a = [1, 1, 2, 2, 3, 3, 4]\n",
        "\n",
        "print(a.pop(3)) #해당 인덱스의 값을 리턴하면서 제거한다\n",
        "\n",
        "a.remove(3) #해당 값이 첫 번째 만날 때 제거한다\n",
        "\n",
        "print(a)\n",
        "\n",
        "a.reverse() #역순으로 정렬한다\n",
        "\n",
        "print(a)\n",
        "\n",
        "a.sort() #차례대로 정렬한다\n",
        "\n",
        "print(a)"
      ],
      "metadata": {
        "colab": {
          "base_uri": "https://localhost:8080/"
        },
        "id": "JqDsJ12aO_0h",
        "outputId": "e8fcbafe-052b-4961-9d2f-e3e1f988528c"
      },
      "execution_count": null,
      "outputs": [
        {
          "output_type": "stream",
          "name": "stdout",
          "text": [
            "2\n",
            "[1, 1, 2, 3, 4]\n",
            "[4, 3, 2, 1, 1]\n",
            "[1, 1, 2, 3, 4]\n"
          ]
        }
      ]
    }
  ]
}