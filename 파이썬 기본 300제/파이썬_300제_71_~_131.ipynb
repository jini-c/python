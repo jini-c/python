{
  "cells": [
    {
      "cell_type": "markdown",
      "metadata": {
        "id": "view-in-github",
        "colab_type": "text"
      },
      "source": [
        "<a href=\"https://colab.research.google.com/github/jini-c/exe/blob/main/%ED%8C%8C%EC%9D%B4%EC%8D%AC_300%EC%A0%9C_71_~_131.ipynb\" target=\"_parent\"><img src=\"https://colab.research.google.com/assets/colab-badge.svg\" alt=\"Open In Colab\"/></a>"
      ]
    },
    {
      "cell_type": "markdown",
      "source": [
        "파이썬 300제\n",
        "\n",
        "파이썬 튜플\n",
        "\n",
        "71번 ~ 80번"
      ],
      "metadata": {
        "id": "3TLDMT7a-hVD"
      }
    },
    {
      "cell_type": "code",
      "source": [
        "#71번 튜플 만들기\n",
        "\n",
        "my_variable=()\n",
        "print(type(my_variable))\n",
        "\n",
        "#72번 튜플 만들기\n",
        "\n",
        "MovieRank = (\"닥터 스트레인지\", \"스플릿\", \"럭키\")\n",
        "\n",
        "#73번 튜플 생성\n",
        "\n",
        "a = (1) #1을 가진 튜플 생성\n",
        "\n",
        "#74번 오류 설명\n",
        "\n",
        "\"\"\"t = (1, 2, 3)\n",
        "t[0] = 'a' #튜플은 원소의 값을 변경 불가하기 때문에 오류 발생\n",
        "Traceback (most recent call last):\n",
        "  File \"<pyshell#46>\", line 1, in <module>\n",
        "    t[0] = 'a'\n",
        "TypeError: 'tuple' object does not support item assignment\"\"\"\n",
        "\n",
        "#75번 튜플의 특성\n",
        "\n",
        "t = 1, 2, 3, 4 #튜플은 괄호와 함께 데이터를 정의해야하지만, 괄호 없이도 동작 가능\n",
        "print(type(t))\n",
        "\n",
        "#76번 튜플의 정의\n",
        "\n",
        "t = ('a', 'b', 'c')\n",
        "t = ('A', 'b', 'c') #튜플의 값을 변경시키고 싶으면 새로운 튜플을 만들어야한다.\n",
        "\n",
        "#77번 형변환\n",
        "\n",
        "interest = ('삼성전자', 'LG전자', 'SK Hynix')\n",
        "e = list(interest) #형변환(튜플 -> 리스트)\n",
        "print(type(e))\n",
        "\n",
        "#78번 형변환\n",
        "\n",
        "interest = ['삼성전자', 'LG전자', 'SK Hynix']\n",
        "a = tuple(interest) #형변환(리스트 -> 튜플)\n",
        "print(type(a))\n",
        "\n",
        "#79번 튜플 언팩킹\n",
        "\n",
        "temp = ('apple', 'banana', 'cake')\n",
        "a, b, c = temp\n",
        "print(a, b, c)\n",
        "\n",
        "#80번 range 함수\n",
        "\n",
        "a = tuple(range(2, 100, 2))\n",
        "print( a )"
      ],
      "metadata": {
        "colab": {
          "base_uri": "https://localhost:8080/"
        },
        "id": "zhCXes_b-m9f",
        "outputId": "6bf84a0c-b868-4122-c608-18dcdaa68aa2"
      },
      "execution_count": 12,
      "outputs": [
        {
          "output_type": "stream",
          "name": "stdout",
          "text": [
            "<class 'tuple'>\n",
            "<class 'tuple'>\n",
            "<class 'list'>\n",
            "<class 'tuple'>\n",
            "apple banana cake\n",
            "(2, 4, 6, 8, 10, 12, 14, 16, 18, 20, 22, 24, 26, 28, 30, 32, 34, 36, 38, 40, 42, 44, 46, 48, 50, 52, 54, 56, 58, 60, 62, 64, 66, 68, 70, 72, 74, 76, 78, 80, 82, 84, 86, 88, 90, 92, 94, 96, 98)\n"
          ]
        }
      ]
    },
    {
      "cell_type": "markdown",
      "source": [
        "파이썬 딕셔너리\n",
        "\n",
        "81번 ~ 100번"
      ],
      "metadata": {
        "id": "mmtYU4kxBoV-"
      }
    },
    {
      "cell_type": "code",
      "source": [
        "#81번 star expression\n",
        "\n",
        "scores = [8.8, 8.9, 8.7, 9.2, 9.3, 9.7, 9.9, 9.5, 7.8, 9.4]\n",
        "*valid_score, a, b = scores\n",
        "print(valid_score)\n",
        "\n",
        "#82번 star expression\n",
        "\n",
        "scores = [8.8, 8.9, 8.7, 9.2, 9.3, 9.7, 9.9, 9.5, 7.8, 9.4]\n",
        "a, b, *valid_score = scores\n",
        "print(valid_score)\n",
        "\n",
        "#83번 star expression\n",
        "\n",
        "scores = [8.8, 8.9, 8.7, 9.2, 9.3, 9.7, 9.9, 9.5, 7.8, 9.4]\n",
        "a, *valid_score, b = scores\n",
        "print(valid_score)\n",
        "\n",
        "#84번 비어있는 딕셔너리\n",
        "\n",
        "temp = {}\n",
        "type(temp)\n",
        "\n",
        "#85번 딕셔너리\n",
        "\n",
        "a = {\"메로나\":1000, \"폴라포\":1200, \"빵빠레\":1800} #딕셔너리는 {}에 key:value와 ,로 구분하여 사용한다\n",
        "print(a)\n",
        "\n",
        "#86번 딕셔너리 추가\n",
        "\n",
        "a = {\"메로나\":1000, \"폴라포\":1200, \"빵빠레\":1800}\n",
        "a[\"죠스바\"] = 1200 #중괄호에 key를 적고 value 값을 추가해주면된다.\n",
        "a[\"월드콘\"] = 1500\n",
        "print(a)\n",
        "\n",
        "#87번 딕셔너리 출력\n",
        "\n",
        "print(a[\"메로나\"]) #키 값을 출력해달라 요청하면 value값을 출력해준다\n",
        "\n",
        "#88번 딕셔너리 수정\n",
        "\n",
        "a[\"메로나\"] = 1300 #추가할 때처럼 key값을 적어주고 value값을 수정해주면된다.\n",
        "print(a[\"메로나\"])\n",
        "\n",
        "#89번 딕셔너리 삭제\n",
        "\n",
        "del a[\"메로나\"] #del를 사용해줘서 key값을 삭제해주면된다.\n",
        "\n",
        "#90번 에러 원인 찾기\n",
        "\n",
        "# icecream = {'폴라포': 1200, '빵빠레': 1800, '월드콘': 1500, '메로나': 1000}\n",
        "# icecream['누가바'] #딕셔너리에 없는 키를 사용해서 인덱싱하면 에러 발생\n",
        "# Traceback (most recent call last):\n",
        "#   File \"<pyshell#69>\", line 1, in <module>\n",
        "#     icecream['누가바']\n",
        "# KeyError: '누가바'\n",
        "\n",
        "#91번 딕셔너리 생성\n",
        "\n",
        "inventory = {\"메로나\":[300 , 200],\n",
        "             \"비비빅\" : [400 , 3],\n",
        "             \"죠스바\" : [250 , 100]}\n",
        "#딕셔너리에 key 값에 value값을 여러개 넣고 싶으면 리스트를 이용하면 된다\n",
        "print(inventory)\n",
        "\n",
        "#92번 딕셔너리 인덱싱\n",
        "\n",
        "print(inventory[\"메로나\"][0]) #변수[\"key값\"][인덱싱번호]의 순서로 요청하면 출력해준다\n",
        "\n",
        "#93번 딕셔너리 인덱싱\n",
        "\n",
        "print(inventory[\"메로나\"][1], \"개\")\n",
        "\n",
        "#94번 딕셔너리 추가\n",
        "\n",
        "inventory[\"월드콘\"] = [500, 7] #추가를 원하면 변수[key값] = []로 추가해주면된다.\n",
        "print(inventory)\n",
        "\n",
        "#95번 딕셔너리 keys() 매서드\n",
        "\n",
        "icecream = {'탱크보이': 1200, '폴라포': 1200, '빵빠레': 1800, '월드콘': 1500, '메로나': 1000}\n",
        "ice = list(icecream.keys()) #keys() 매서드를 이용하면 key값들을 list할 수 있다\n",
        "print(ice)\n",
        "\n",
        "#96번 딕셔너리 values() 매서드\n",
        "\n",
        "icecream = {'탱크보이': 1200, '폴라포': 1200, '빵빠레': 1800, '월드콘': 1500, '메로나': 1000}\n",
        "ice = list(icecream.values()) #keys()매서드랑 마찬가지로 values()도 작동한다.\n",
        "print(ice)\n",
        "\n",
        "#97번 딕셔너리 values() 매서드\n",
        "\n",
        "icecream = {'탱크보이': 1200, '폴라포': 1200, '빵빠레': 1800, '월드콘': 1500, '메로나': 1000}\n",
        "print(sum(icecream.values())) #values 매서드를 이용해서 밸류값들을 합할수도있다.\n",
        "\n",
        "#98번 딕셔너리 update 메서드\n",
        "\n",
        "icecream = {'탱크보이': 1200, '폴라포': 1200, '빵빠레': 1800, '월드콘': 1500, '메로나': 1000}\n",
        "new_product = {'팥빙수':2700, '아맛나':1000}\n",
        "icecream.update(new_product) #update 메서드를 이용하려면 변수.update()를 사용하면된다.\n",
        "print(icecream)\n",
        "\n",
        "#99번 zip과 dict\n",
        "\n",
        "keys = (\"apple\", \"pear\", \"peach\")\n",
        "vals = (300, 250, 400)\n",
        "\n",
        "result = {keys : vals} #출력값 {('apple', 'pear', 'peach'): (300, 250, 400)}\n",
        "result1 = dict(zip(keys, vals)) #출력값 keys = (\"apple\", \"pear\", \"peach\") zip은 리스트 or 튜플값을 묶어준다\n",
        "\n",
        "print(result)\n",
        "print(result1)\n",
        "\n",
        "#100번 zip과 dict\n",
        "\n",
        "date = ['09/05', '09/06', '09/07', '09/08', '09/09']\n",
        "close_price = [10500, 10300, 10100, 10800, 11000]\n",
        "\n",
        "close_table = dict(zip(date, close_price))\n",
        "print(close_table)"
      ],
      "metadata": {
        "colab": {
          "base_uri": "https://localhost:8080/"
        },
        "id": "TzEnizuKBr1z",
        "outputId": "dc3d5f4d-f72f-4831-c8f7-cb10b671a59e"
      },
      "execution_count": 47,
      "outputs": [
        {
          "output_type": "stream",
          "name": "stdout",
          "text": [
            "[8.8, 8.9, 8.7, 9.2, 9.3, 9.7, 9.9, 9.5]\n",
            "[8.7, 9.2, 9.3, 9.7, 9.9, 9.5, 7.8, 9.4]\n",
            "[8.9, 8.7, 9.2, 9.3, 9.7, 9.9, 9.5, 7.8]\n",
            "{'메로나': 1000, '폴라포': 1200, '빵빠레': 1800}\n",
            "{'메로나': 1000, '폴라포': 1200, '빵빠레': 1800, '죠스바': 1200, '월드콘': 1500}\n",
            "1000\n",
            "1300\n",
            "{'메로나': [300, 200], '비비빅': [400, 3], '죠스바': [250, 100]}\n",
            "300\n",
            "200 개\n",
            "{'메로나': [300, 200], '비비빅': [400, 3], '죠스바': [250, 100], '월드콘': [500, 7]}\n",
            "['탱크보이', '폴라포', '빵빠레', '월드콘', '메로나']\n",
            "[1200, 1200, 1800, 1500, 1000]\n",
            "6700\n",
            "{'탱크보이': 1200, '폴라포': 1200, '빵빠레': 1800, '월드콘': 1500, '메로나': 1000, '팥빙수': 2700, '아맛나': 1000}\n",
            "{('apple', 'pear', 'peach'): (300, 250, 400)}\n",
            "{'apple': 300, 'pear': 250, 'peach': 400}\n",
            "{'09/05': 10500, '09/06': 10300, '09/07': 10100, '09/08': 10800, '09/09': 11000}\n"
          ]
        }
      ]
    },
    {
      "cell_type": "markdown",
      "source": [
        "파이썬 분기문\n",
        "\n",
        "101번 ~ 130번"
      ],
      "metadata": {
        "id": "q_Nhb9ArKsyJ"
      }
    },
    {
      "cell_type": "code",
      "source": [
        "#101번 논리 타입\n",
        "\n",
        "#파이썬에서 True or False 값을 갖는 데이터는 논리값(boolen)이다\n",
        "\n",
        "#102번 비교 연산자\n",
        "\n",
        "# print(3 == 5) 3과 5는 다르므로 False값이 출력된다.\n",
        "\n",
        "#103번 비교 연산자\n",
        "\n",
        "print(3 < 5) #True\n",
        "\n",
        "#104번 비교 연산자\n",
        "\n",
        "x = 4\n",
        "print(1 < x < 5) #True\n",
        "\n",
        "#105번 비교 연산자\n",
        "\n",
        "print ((3 == 3) and (4 != 3)) #!= 같지않다이므로 둘다 True이므로 True\n",
        "\n",
        "#106번 연산자 확인\n",
        "\n",
        "# print(3 => 4) 오류가 발생하는 원인은 없는 연산자이다.\n",
        "\n",
        "#107번 if문\n",
        "\n",
        "if 4 < 3: #if 조건 :\n",
        "  print(\"Hello World\") #아무 것도 출력되지 않는다\n",
        "\n",
        "#108번 if문\n",
        "\n",
        "if 4 < 3:\n",
        "    print(\"Hello World.\")\n",
        "else: #else 또한 : 붙여야한다\n",
        "    print(\"Hi, there.\") #조건이 안맞기 때문에 else 값이 출력된다.\n",
        "\n",
        "#109번 if문\n",
        "\n",
        "if True : #조건이 참이라서 if의 값이 출력된다.\n",
        "    print (\"1\")\n",
        "    print (\"2\")\n",
        "else :\n",
        "    print(\"3\")\n",
        "print(\"4\") #if문과 관계없이 출력된다.\n",
        "\n",
        "#110번 if문\n",
        "\n",
        "if True : #첫 번째 if값은 참\n",
        "    if False: #참 일때, false이므로 else값이 실행된다.\n",
        "        print(\"1\")\n",
        "        print(\"2\")\n",
        "    else:\n",
        "        print(\"3\")\n",
        "else :\n",
        "    print(\"4\")\n",
        "print(\"5\") #if문과 관계없이 값이 출력된다.\n",
        "\n",
        "#111번 input\n",
        "\n",
        "a = input() #사용자로부터 입력을 받고싶으면 input을 사용한다\n",
        "print(a*2)\n",
        "\n",
        "#112번 input & 형변환\n",
        "\n",
        "a = input(\"숫자를 입력하세요 :\") #input 안에 \"\" 사용하면 문자 출력이 가능하다.\n",
        "print(int(a)+10) #input에서 받은 값은 문자값이므로 연산을 원하면 형변환을 해줘야한다.\n",
        "\n",
        "#113번 input & 형변환 & 논리값\n",
        "\n",
        "a = input(\"숫자를 입력하세요 : \") #사용자로부터 데이터값을 입력받는다\n",
        "b = int(a) #입력값은 문자이므로 형변환을 해준다\n",
        "\n",
        "if b % 2 == 0: # %로 나온 나머지 값을 이용하여서 ==로 논리값을 확인한다.\n",
        "  print(\"짝수\")\n",
        "else:\n",
        "  print(\"홀수\")\n",
        "\n",
        "#114번 input & if문\n",
        "\n",
        "입력 = input(\"숫자를 입력하세요 :\") #input()사용\n",
        "입력값 = int(입력)+20 #형변환\n",
        "\n",
        "if 입력값 > 255 : #if문 활용\n",
        "  print(255)\n",
        "else:\n",
        "  print(입력값)"
      ],
      "metadata": {
        "colab": {
          "base_uri": "https://localhost:8080/"
        },
        "id": "pLb9DmQTKyEf",
        "outputId": "209b1e4b-5095-4d2b-838d-de0b77c5321b"
      },
      "execution_count": 57,
      "outputs": [
        {
          "output_type": "stream",
          "name": "stdout",
          "text": [
            "True\n",
            "True\n",
            "True\n",
            "Hi, there.\n",
            "1\n",
            "2\n",
            "4\n",
            "3\n",
            "5\n",
            "2\n",
            "22\n",
            "숫자를 입력하세요 :3\n",
            "13\n",
            "숫자를 입력하세요 : 24\n",
            "짝수\n",
            "숫자를 입력하세요 :3\n",
            "23\n"
          ]
        }
      ]
    },
    {
      "cell_type": "code",
      "source": [
        "#115번 input & if문\n",
        "\n",
        "입력 = input(\"숫자를 입력하세요 :\") #input() 사용\n",
        "입력값 = int(입력) - 20 #형변환\n",
        "\n",
        "if 입력값 > 255: #if 조건 :\n",
        "  print(255)\n",
        "elif 입력값 < 0: #elif 조건 : 조건이 많은 경우 elif로 조건을 추가해준다.\n",
        "  print(0)\n",
        "else:\n",
        "  print(입력값)"
      ],
      "metadata": {
        "colab": {
          "base_uri": "https://localhost:8080/"
        },
        "id": "wZifAU7zQMy8",
        "outputId": "bc4d938a-c5e1-40b8-ae32-b2df0f754339"
      },
      "execution_count": 61,
      "outputs": [
        {
          "output_type": "stream",
          "name": "stdout",
          "text": [
            "숫자를 입력하세요 :286\n",
            "255\n"
          ]
        }
      ]
    },
    {
      "cell_type": "code",
      "source": [
        "#116번 input & if문\n",
        "\n",
        "time = input(\"현재시간: \")\n",
        "\n",
        "if time[-2:] == \"00\": #인덱스를 이용하여 문자로 판별가능\n",
        "  print(\"정각 입니다\")\n",
        "else:\n",
        "  print(\"정각이 아닙니다\")"
      ],
      "metadata": {
        "colab": {
          "base_uri": "https://localhost:8080/"
        },
        "id": "c_aI215EQpAM",
        "outputId": "0d48f851-7134-4365-87fc-e595084dd838"
      },
      "execution_count": 63,
      "outputs": [
        {
          "output_type": "stream",
          "name": "stdout",
          "text": [
            "현재시간: 1400\n",
            "정각 입니다\n"
          ]
        }
      ]
    },
    {
      "cell_type": "code",
      "source": [
        "#117번 if문 in 활용\n",
        "\n",
        "fruit = [\"사과\", \"포도\", \"홍시\"]\n",
        "user = input(\"좋아하는 과일은?\")\n",
        "\n",
        "if user in fruit: #fruit 리스트 안(in)에 있는지 확인이 가능하다\n",
        "  print(\"정답입니다\")\n",
        "else:\n",
        "  print(\"오답입니다\")"
      ],
      "metadata": {
        "colab": {
          "base_uri": "https://localhost:8080/"
        },
        "id": "Rk3yYdvoRneD",
        "outputId": "fd1e593f-4803-4581-e779-a0521e0db855"
      },
      "execution_count": 69,
      "outputs": [
        {
          "output_type": "stream",
          "name": "stdout",
          "text": [
            "좋아하는 과일은?수박\n",
            "오답입니다\n"
          ]
        }
      ]
    },
    {
      "cell_type": "code",
      "source": [
        "#118번 if문 & in\n",
        "\n",
        "warn_investment_list = [\"Microsoft\", \"Google\", \"Naver\", \"Kakao\", \"SAMSUNG\", \"LG\"]\n",
        "user = input(\"투자 종목을 입력해주세요:\")\n",
        "\n",
        "if user in warn_investment_list:\n",
        "  print(\"투자 경고 종목입니다\")\n",
        "else:\n",
        "  print(\"투자 경고 종목이 아닙니다\")"
      ],
      "metadata": {
        "colab": {
          "base_uri": "https://localhost:8080/"
        },
        "id": "eEGIELx5SqHo",
        "outputId": "29db9418-9504-4055-c776-5b7ec9254c24"
      },
      "execution_count": 73,
      "outputs": [
        {
          "output_type": "stream",
          "name": "stdout",
          "text": [
            "투자 종목을 입력해주세요:Google\n",
            "투자 경고 종목입니다\n"
          ]
        }
      ]
    },
    {
      "cell_type": "code",
      "source": [
        "#119번 if문 & 딕셔너리\n",
        "\n",
        "fruit = {\"봄\" : \"딸기\", \"여름\" : \"토마토\", \"가을\" : \"사과\"}\n",
        "user = input(\"계절을 입력해주세요:\")\n",
        "\n",
        "if user in fruit(): #key값을 판정할 때는 keys를 안붙여도된다.\n",
        "  print(\"정답입니다\")\n",
        "else:\n",
        "  print(\"오답입니다\")"
      ],
      "metadata": {
        "colab": {
          "base_uri": "https://localhost:8080/"
        },
        "id": "9wGYxROqS-9-",
        "outputId": "eea40042-1504-47fb-9fa3-cdde083c9313"
      },
      "execution_count": 75,
      "outputs": [
        {
          "output_type": "stream",
          "name": "stdout",
          "text": [
            "계절을 입력해주세요:봄\n",
            "정답입니다\n"
          ]
        }
      ]
    },
    {
      "cell_type": "code",
      "source": [
        "#120번 if문 & 딕셔너리\n",
        "\n",
        "fruit = {\"봄\" : \"딸기\", \"여름\" : \"토마토\", \"가을\" : \"사과\"}\n",
        "user = input(\"과일을 입력해주세요:\")\n",
        "\n",
        "if user in fruit.values(): #value값을 판단할 때 values를 안붙이면 오류가 생긴다.\n",
        "  print(\"정답입니다\")\n",
        "else:\n",
        "  print(\"오답입니다\")"
      ],
      "metadata": {
        "colab": {
          "base_uri": "https://localhost:8080/"
        },
        "id": "5SLt7BPCTfjj",
        "outputId": "b822bc62-e688-4855-e7b7-76e58f4bc19a"
      },
      "execution_count": 78,
      "outputs": [
        {
          "output_type": "stream",
          "name": "stdout",
          "text": [
            "과일을 입력해주세요:과일\n",
            "오답입니다\n"
          ]
        }
      ]
    },
    {
      "cell_type": "code",
      "source": [
        "#121번 if문 & islower() 함수 &upper(),lower()함수 사용\n",
        "\n",
        "a = input(\"\")\n",
        "\n",
        "if a.islower(): #islower()은 변수.islower() 사용, 대소문자 판별한다\n",
        "  print(a.upper()) #upper()도 변수.upper() 사용. 소문자->대문자\n",
        "else:\n",
        "  print(a.lower()) #lower()도 변수.lower() 사용. 대문자->소문자\n"
      ],
      "metadata": {
        "colab": {
          "base_uri": "https://localhost:8080/"
        },
        "id": "WkGawHHeUFuT",
        "outputId": "ec7555e8-5196-4498-e330-edcbae15fbc1"
      },
      "execution_count": 86,
      "outputs": [
        {
          "output_type": "stream",
          "name": "stdout",
          "text": [
            "E\n",
            "e\n"
          ]
        }
      ]
    },
    {
      "cell_type": "code",
      "source": [
        "#122번 점수 판별 if문\n",
        "\n",
        "score = input(\"점수를 입력하시오: \")\n",
        "num = int(score)\n",
        "\n",
        "if 81 <= num <= 100:\n",
        "  print(\"grade is A\")\n",
        "elif 61 <= num <= 80:\n",
        "  print(\"grade is B\")\n",
        "elif 41 <= num <= 60:\n",
        "  print(\"grade is C\")\n",
        "elif 21 <= num <= 40:\n",
        "  print(\"grade is D\")\n",
        "else:\n",
        "  print(\"grade is E\")"
      ],
      "metadata": {
        "colab": {
          "base_uri": "https://localhost:8080/"
        },
        "id": "_PObv3ClVfYM",
        "outputId": "431f7945-84a1-4816-c03a-be8ff95adfa2"
      },
      "execution_count": 92,
      "outputs": [
        {
          "output_type": "stream",
          "name": "stdout",
          "text": [
            "점수를 입력하시오: 99\n",
            "grade is A\n"
          ]
        }
      ]
    },
    {
      "cell_type": "code",
      "source": [
        "#123번 split과 if문 활용\n",
        "\n",
        "a = input(\"환전하려는 통화를 입력하세요 :\")\n",
        "b = a.split() #split()을 이용하여 공백을 기준으로 나눠준다.\n",
        "c, d = b #액수는 c로, 통화는 d로 구분해준다.\n",
        "c = float(c) #엔화가 실수이므로 실수로 형변환 해준다.\n",
        "\n",
        "if d == \"달러\":\n",
        "  print(c*1167,\"원\")\n",
        "elif d == \"엔\" :\n",
        "  print(c*1.096,\"원\")\n",
        "elif d == \"유로\" :\n",
        "  print(c*1268,\"원\")\n",
        "elif d == \"위안\":\n",
        "  print(c*171,\"원\")\n",
        "\n",
        "#정답\n",
        "\n",
        "# 환율 = {\"달러\": 1167,  #환율을 딕셔너리에 넣어준다\n",
        "#         \"엔\": 1.096,\n",
        "#         \"유로\": 1268,\n",
        "#         \"위안\": 171}\n",
        "# user = input(\"입력: \")\n",
        "# num, currency = user.split() #숫자와 통화를 분리해준다.\n",
        "# print(float(num) * 환율[currency], \"원\")"
      ],
      "metadata": {
        "colab": {
          "base_uri": "https://localhost:8080/"
        },
        "id": "1GaGDsijWkx8",
        "outputId": "42285caf-256a-4c29-cb27-7ba7f4764f57"
      },
      "execution_count": 97,
      "outputs": [
        {
          "output_type": "stream",
          "name": "stdout",
          "text": [
            "환전하려는 통화를 입력하세요 :1424 달러\n",
            "1661808.0 원\n"
          ]
        }
      ]
    },
    {
      "cell_type": "code",
      "source": [
        "#124번 max(), 리스트 활용\n",
        "\n",
        "a = input(\"첫 번째 숫자:\")\n",
        "b = input(\"두 번째 숫자:\")\n",
        "c = input(\"세 번째 숫자:\")\n",
        "num = [int(a), int(b), int(c)] #입력받은 숫자를 리스트로 묶어준다.\n",
        "max(num) #max()로 세 숫자 중 제일 큰 숫자를 출력한다."
      ],
      "metadata": {
        "colab": {
          "base_uri": "https://localhost:8080/"
        },
        "id": "Sz6C2AAaZ_UA",
        "outputId": "ba779597-dc97-4a74-c7bd-ffb73b1d07c6"
      },
      "execution_count": 99,
      "outputs": [
        {
          "name": "stdout",
          "output_type": "stream",
          "text": [
            "첫 번째 숫자:4\n",
            "두 번째 숫자:7\n",
            "세 번째 숫자:14\n"
          ]
        },
        {
          "output_type": "execute_result",
          "data": {
            "text/plain": [
              "14"
            ]
          },
          "metadata": {},
          "execution_count": 99
        }
      ]
    },
    {
      "cell_type": "code",
      "source": [
        "#125번\n",
        "\n",
        "phone = input(\"핸드폰 번호를 입력하세요:\")\n",
        "\n",
        "if phone[0:3] == \"011\":\n",
        "  print(\"SKT\")\n",
        "elif phone[0:3] == \"016\":\n",
        "  print(\"KT\")\n",
        "elif phone[0:3] == \"019\":\n",
        "  print(\"LGU\")\n",
        "elif phone[0:3] == \"010\":\n",
        "  print(\"알 수 없음\")\n"
      ],
      "metadata": {
        "colab": {
          "base_uri": "https://localhost:8080/"
        },
        "id": "Ma56mMwjbS48",
        "outputId": "37f048b2-362f-402f-dd8f-c4e851ba57df"
      },
      "execution_count": 103,
      "outputs": [
        {
          "output_type": "stream",
          "name": "stdout",
          "text": [
            "핸드폰 번호를 입력하세요:019\n",
            "LGU\n"
          ]
        }
      ]
    },
    {
      "cell_type": "code",
      "source": [
        "#126번\n",
        "\n",
        "a = input(\"우편번호를 입력하세요:\")\n",
        "\n",
        "if a[:3] in [\"010\", \"011\", \"012\"]: #우편번호의 3번째까지 값이 필요하니 인덱스 3전까지 출력해서 판별한다.\n",
        "  print(\"강북구\")\n",
        "elif a[:3] in [\"013\", \"014\", \"015\"]: #각 구마다 여러값을 가지므로 리스트로 묶어서 판별한다.\n",
        "  print(\"도봉구\")\n",
        "elif a[:3] in [\"016\", \"017\", \"018\", \"019\"]:\n",
        "  print(\"노원구\")"
      ],
      "metadata": {
        "colab": {
          "base_uri": "https://localhost:8080/"
        },
        "id": "jneeMpPHcDTk",
        "outputId": "3e49644e-2d73-4e1e-a584-6010628294a8"
      },
      "execution_count": 105,
      "outputs": [
        {
          "output_type": "stream",
          "name": "stdout",
          "text": [
            "우편번호를 입력하세요:01642\n",
            "노원구\n"
          ]
        }
      ]
    },
    {
      "cell_type": "code",
      "source": [
        "#127번\n",
        "\n",
        "a = input(\"주민등록번호:\")\n",
        "\n",
        "if a[7] in [\"1\", \"3\"]: #뒷 7자리 중 첫째 자리를 인덱싱해서 판별\n",
        "  print(\"남자\")\n",
        "elif a[7] in [\"2\", \"4\"]:\n",
        "  print(\"여자\")"
      ],
      "metadata": {
        "colab": {
          "base_uri": "https://localhost:8080/",
          "height": 239
        },
        "id": "2OL-q5SXdGYp",
        "outputId": "3b886384-8b50-4a06-f3cc-8848638fdd7c"
      },
      "execution_count": 110,
      "outputs": [
        {
          "name": "stdout",
          "output_type": "stream",
          "text": [
            "주민등록번호:4\n"
          ]
        },
        {
          "output_type": "error",
          "ename": "IndexError",
          "evalue": "string index out of range",
          "traceback": [
            "\u001b[0;31m---------------------------------------------------------------------------\u001b[0m",
            "\u001b[0;31mIndexError\u001b[0m                                Traceback (most recent call last)",
            "\u001b[0;32m<ipython-input-110-b7724ed14404>\u001b[0m in \u001b[0;36m<cell line: 0>\u001b[0;34m()\u001b[0m\n\u001b[1;32m      3\u001b[0m \u001b[0ma\u001b[0m \u001b[0;34m=\u001b[0m \u001b[0minput\u001b[0m\u001b[0;34m(\u001b[0m\u001b[0;34m\"주민등록번호:\"\u001b[0m\u001b[0;34m)\u001b[0m\u001b[0;34m\u001b[0m\u001b[0;34m\u001b[0m\u001b[0m\n\u001b[1;32m      4\u001b[0m \u001b[0;34m\u001b[0m\u001b[0m\n\u001b[0;32m----> 5\u001b[0;31m \u001b[0;32mif\u001b[0m \u001b[0ma\u001b[0m\u001b[0;34m[\u001b[0m\u001b[0;36m7\u001b[0m\u001b[0;34m]\u001b[0m \u001b[0;32min\u001b[0m \u001b[0;34m[\u001b[0m\u001b[0;34m\"1\"\u001b[0m\u001b[0;34m,\u001b[0m \u001b[0;34m\"3\"\u001b[0m\u001b[0;34m]\u001b[0m\u001b[0;34m:\u001b[0m\u001b[0;34m\u001b[0m\u001b[0;34m\u001b[0m\u001b[0m\n\u001b[0m\u001b[1;32m      6\u001b[0m   \u001b[0mprint\u001b[0m\u001b[0;34m(\u001b[0m\u001b[0;34m\"남자\"\u001b[0m\u001b[0;34m)\u001b[0m\u001b[0;34m\u001b[0m\u001b[0;34m\u001b[0m\u001b[0m\n\u001b[1;32m      7\u001b[0m \u001b[0;32melif\u001b[0m \u001b[0ma\u001b[0m\u001b[0;34m[\u001b[0m\u001b[0;36m7\u001b[0m\u001b[0;34m]\u001b[0m \u001b[0;32min\u001b[0m \u001b[0;34m[\u001b[0m\u001b[0;34m\"2\"\u001b[0m\u001b[0;34m,\u001b[0m \u001b[0;34m\"4\"\u001b[0m\u001b[0;34m]\u001b[0m\u001b[0;34m:\u001b[0m\u001b[0;34m\u001b[0m\u001b[0;34m\u001b[0m\u001b[0m\n",
            "\u001b[0;31mIndexError\u001b[0m: string index out of range"
          ]
        }
      ]
    },
    {
      "cell_type": "code",
      "source": [
        "#128번\n",
        "\n",
        "a = input(\"주민등록번호:\")\n",
        "\n",
        "if a[8:10] in [\"01\", \"02\", \"03\", \"04\", \"05\", \"06\", \"07\", \"08\"]:\n",
        "  print(\"서울\")\n",
        "elif a[8:10] in [\"09\", \"10\", \"11\", \"12\"]:\n",
        "  print(\"부산\")"
      ],
      "metadata": {
        "colab": {
          "base_uri": "https://localhost:8080/"
        },
        "id": "m6KKxgpydfEQ",
        "outputId": "1cffe920-2734-4dc9-dd0c-2a97c31ca658"
      },
      "execution_count": 112,
      "outputs": [
        {
          "output_type": "stream",
          "name": "stdout",
          "text": [
            "주민등록번호:456789-10945\n",
            "부산\n"
          ]
        }
      ]
    },
    {
      "cell_type": "code",
      "source": [
        "#129번\n",
        "\n",
        "a = input(\"주민등록번호: \")\n",
        "b = int(a[13])\n",
        "\n",
        "if b == 11-(int(a[0])*2 + int(a[1])*3 + int(a[2])*4 + \\\n",
        "            int(a[3])*5 + int(a[4])*6 + int(a[5])*7 + \\\n",
        "            int(a[7])*8 + int(a[8])*9 + int(a[9])*2 + \\\n",
        "            int(a[10])*3 + int(a[11])*4 + int(a[12])*5)%11:\n",
        "  print(\"유효한 등록번호입니다.\")\n",
        "else:\n",
        "  print(\"유효하지 않은 등록번호입니다.\")"
      ],
      "metadata": {
        "colab": {
          "base_uri": "https://localhost:8080/"
        },
        "id": "Q3wN0OCWeugI",
        "outputId": "c745b49e-873d-440a-ea5d-9e317a7bec12"
      },
      "execution_count": 115,
      "outputs": [
        {
          "output_type": "stream",
          "name": "stdout",
          "text": [
            "주민등록번호: 821010-1635210\n",
            "유효하지 않은 등록번호입니다.\n"
          ]
        }
      ]
    },
    {
      "cell_type": "code",
      "source": [
        "#130번\n",
        "\n",
        "import requests\n",
        "btc = requests.get(\"https://api.bithumb.com/public/ticker/\").json()['data'] #데이터 불러오기\n",
        "\n",
        "변동폭 = float(btc['max_price']) - float(btc['min_price'])\n",
        "시가 = float(btc['opening_price'])\n",
        "최고가 = float(btc['max_price'])\n",
        "\n",
        "if (시가+변동폭) > 최고가:\n",
        "    print(\"상승장\")\n",
        "else:\n",
        "    print(\"하락장\")\n"
      ],
      "metadata": {
        "colab": {
          "base_uri": "https://localhost:8080/"
        },
        "id": "WC7eh67ehAg4",
        "outputId": "f51b9c29-adff-4fc9-a915-97674fb6359d"
      },
      "execution_count": 117,
      "outputs": [
        {
          "output_type": "stream",
          "name": "stdout",
          "text": [
            "상승장\n"
          ]
        }
      ]
    }
  ],
  "metadata": {
    "accelerator": "GPU",
    "colab": {
      "gpuType": "T4",
      "provenance": [],
      "authorship_tag": "ABX9TyO6cajpQIoNlc2pK4m6NZMY",
      "include_colab_link": true
    },
    "kernelspec": {
      "display_name": "Python 3",
      "name": "python3"
    },
    "language_info": {
      "name": "python"
    }
  },
  "nbformat": 4,
  "nbformat_minor": 0
}
