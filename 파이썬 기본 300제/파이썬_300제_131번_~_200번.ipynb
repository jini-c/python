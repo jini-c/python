{
  "nbformat": 4,
  "nbformat_minor": 0,
  "metadata": {
    "colab": {
      "provenance": [],
      "authorship_tag": "ABX9TyM/Xf9e516rudeoAjInklPh",
      "include_colab_link": true
    },
    "kernelspec": {
      "name": "python3",
      "display_name": "Python 3"
    },
    "language_info": {
      "name": "python"
    }
  },
  "cells": [
    {
      "cell_type": "markdown",
      "metadata": {
        "id": "view-in-github",
        "colab_type": "text"
      },
      "source": [
        "<a href=\"https://colab.research.google.com/github/jini-c/exe/blob/main/%ED%8C%8C%EC%9D%B4%EC%8D%AC_300%EC%A0%9C_131%EB%B2%88_~_200%EB%B2%88.ipynb\" target=\"_parent\"><img src=\"https://colab.research.google.com/assets/colab-badge.svg\" alt=\"Open In Colab\"/></a>"
      ]
    },
    {
      "cell_type": "markdown",
      "source": [
        "파이썬 300제\n",
        "\n",
        "파이썬 반복문\n",
        "\n",
        "131번 ~ 200번"
      ],
      "metadata": {
        "id": "aAiWIEDUiM9H"
      }
    },
    {
      "cell_type": "code",
      "execution_count": 1,
      "metadata": {
        "id": "qnss0xCjiJIS",
        "outputId": "f8e14aef-4259-49a9-dfe1-83c05dbe8510",
        "colab": {
          "base_uri": "https://localhost:8080/"
        }
      },
      "outputs": [
        {
          "output_type": "stream",
          "name": "stdout",
          "text": [
            "사과\n",
            "귤\n",
            "수박\n"
          ]
        }
      ],
      "source": [
        "#131번 for문\n",
        "\n",
        "과일 = [\"사과\", \"귤\", \"수박\"]\n",
        "for 변수 in 과일:\n",
        "    print(변수) #리스트에 있는 문자열이 한라인에 하나씩 출력"
      ]
    },
    {
      "cell_type": "code",
      "source": [
        "#132번 for문\n",
        "\n",
        "과일 = [\"사과\", \"귤\", \"수박\"]\n",
        "for 변수 in 과일:\n",
        "  print(\"#####\") #세 개의 데이터가 저장돼 있으므로 코드가 세 번 실행된다."
      ],
      "metadata": {
        "id": "0OVgtjlviKEx",
        "colab": {
          "base_uri": "https://localhost:8080/"
        },
        "outputId": "22a679c0-8d30-472b-f1dd-76acfdcdb159"
      },
      "execution_count": 3,
      "outputs": [
        {
          "output_type": "stream",
          "name": "stdout",
          "text": [
            "#####\n",
            "#####\n",
            "#####\n"
          ]
        }
      ]
    },
    {
      "cell_type": "code",
      "source": [
        "#133번 for문\n",
        "\n",
        "for 변수 in [\"A\", \"B\", \"C\"]:\n",
        "  print(변수)\n",
        "\n",
        "print(\"A\") #위의 코드와 동일한 기능을 수행한다.\n",
        "print(\"B\")\n",
        "print(\"C\")"
      ],
      "metadata": {
        "colab": {
          "base_uri": "https://localhost:8080/"
        },
        "id": "kwJd17_Pi6Ln",
        "outputId": "64c1c01d-f45e-4eaf-9328-71aa14cc49be"
      },
      "execution_count": 5,
      "outputs": [
        {
          "output_type": "stream",
          "name": "stdout",
          "text": [
            "A\n",
            "B\n",
            "C\n",
            "A\n",
            "B\n",
            "C\n"
          ]
        }
      ]
    },
    {
      "cell_type": "code",
      "source": [
        "#134번 for문\n",
        "\n",
        "for 변수 in [\"A\", \"B\", \"C\"]:\n",
        "  print(\"출력:\", 변수)\n",
        "\n",
        "print(\"출력:\", \"A\")\n",
        "print(\"출력:\", \"B\")\n",
        "print(\"출력:\", \"C\")"
      ],
      "metadata": {
        "colab": {
          "base_uri": "https://localhost:8080/"
        },
        "id": "6e9x8D9HjJdu",
        "outputId": "ba82996a-8e09-4694-b5e9-fe2dd3ca8aea"
      },
      "execution_count": 6,
      "outputs": [
        {
          "output_type": "stream",
          "name": "stdout",
          "text": [
            "출력: A\n",
            "출력: B\n",
            "출력: C\n",
            "출력: A\n",
            "출력: B\n",
            "출력: C\n"
          ]
        }
      ]
    },
    {
      "cell_type": "code",
      "source": [
        "#135번 for문\n",
        "\n",
        "for 변수 in [\"A\", \"B\", \"C\"]:\n",
        "  b = 변수.lower()\n",
        "  print(\"변환:\", b)\n",
        "\n",
        "변수 = \"A\" #1번 루프\n",
        "b = 변수.lower()\n",
        "print(\"변환:\", b)\n",
        "변수 = \"B\" #2번 루프\n",
        "b = 변수.lower()\n",
        "print(\"변환:\", b)\n",
        "변수 = \"C\" #3번 루프를 마치고 종료된다.\n",
        "b = 변수.lower()\n",
        "print(\"변환:\", b)"
      ],
      "metadata": {
        "colab": {
          "base_uri": "https://localhost:8080/"
        },
        "id": "tnWgT9g6jOdU",
        "outputId": "c0d853c6-8e02-497f-8411-970f7648d432"
      },
      "execution_count": 8,
      "outputs": [
        {
          "output_type": "stream",
          "name": "stdout",
          "text": [
            "변환: a\n",
            "변환: b\n",
            "변환: c\n",
            "변환: a\n",
            "변환: b\n",
            "변환: c\n"
          ]
        }
      ]
    },
    {
      "cell_type": "code",
      "source": [
        "#136번 for문\n",
        "\n",
        "변수 = 10\n",
        "print(변수)\n",
        "변수 = 20\n",
        "print(변수)\n",
        "변수 = 30\n",
        "print(변수)\n",
        "\n",
        "for 변수 in [10, 20, 30]: #for문은 for x in sequence:\n",
        "  print(변수) #실행문"
      ],
      "metadata": {
        "colab": {
          "base_uri": "https://localhost:8080/"
        },
        "id": "rxiebpnojrUr",
        "outputId": "8112f0cd-aea6-42c6-a365-09d12c66d833"
      },
      "execution_count": 9,
      "outputs": [
        {
          "output_type": "stream",
          "name": "stdout",
          "text": [
            "10\n",
            "20\n",
            "30\n",
            "10\n",
            "20\n",
            "30\n"
          ]
        }
      ]
    },
    {
      "cell_type": "code",
      "source": [
        "#137번 for문\n",
        "\n",
        "print(10)\n",
        "print(20)\n",
        "print(30)\n",
        "\n",
        "for x in [10, 20, 30]:\n",
        "  print(x)\n"
      ],
      "metadata": {
        "id": "uyob5v-0kDJu"
      },
      "execution_count": null,
      "outputs": []
    },
    {
      "cell_type": "code",
      "source": [
        "#138번 for문\n",
        "\n",
        "print(10)\n",
        "print(\"-------\")\n",
        "print(20)\n",
        "print(\"-------\")\n",
        "print(30)\n",
        "print(\"-------\")\n",
        "\n",
        "for x in [10, 20, 30]:\n",
        "  print(x, \"\\n-------\")\n",
        "\n"
      ],
      "metadata": {
        "colab": {
          "base_uri": "https://localhost:8080/"
        },
        "id": "xAgX7JVIkLy9",
        "outputId": "1f6afe44-04e2-4e20-e813-f5cbf42aa65c"
      },
      "execution_count": 12,
      "outputs": [
        {
          "output_type": "stream",
          "name": "stdout",
          "text": [
            "10\n",
            "-------\n",
            "20\n",
            "-------\n",
            "30\n",
            "-------\n",
            "10 \n",
            "-------\n",
            "20 \n",
            "-------\n",
            "30 \n",
            "-------\n"
          ]
        }
      ]
    },
    {
      "cell_type": "code",
      "source": [
        "#139번 for문\n",
        "\n",
        "print(\"++++\") #++++은 반복되지 않는다\n",
        "print(10)\n",
        "print(20)\n",
        "print(30)\n",
        "\n",
        "print(\"++++\") #반복되지 않으므로 for문에 넣으면 안된다.\n",
        "for x in [10, 20, 30]:\n",
        "  print(x)"
      ],
      "metadata": {
        "colab": {
          "base_uri": "https://localhost:8080/"
        },
        "id": "ev1ErVUakbRI",
        "outputId": "169f4f1d-73a1-4092-eb1d-47346d2227d2"
      },
      "execution_count": 13,
      "outputs": [
        {
          "output_type": "stream",
          "name": "stdout",
          "text": [
            "++++\n",
            "10\n",
            "20\n",
            "30\n",
            "++++\n",
            "10\n",
            "20\n",
            "30\n"
          ]
        }
      ]
    },
    {
      "cell_type": "code",
      "source": [
        "#140번 for문\n",
        "\n",
        "print(\"-------\")\n",
        "print(\"-------\")\n",
        "print(\"-------\")\n",
        "print(\"-------\")\n",
        "\n",
        "for 변수 in [1, 2, 3, 4]: #자료구조를 4개의 데이터값으로 해주면 4번 실행된다.\n",
        "  print(\"-------\")"
      ],
      "metadata": {
        "colab": {
          "base_uri": "https://localhost:8080/"
        },
        "id": "RH-JQw0CkoYS",
        "outputId": "22704f9f-4731-4f69-a9d4-3c1eb549756e"
      },
      "execution_count": 14,
      "outputs": [
        {
          "output_type": "stream",
          "name": "stdout",
          "text": [
            "-------\n",
            "-------\n",
            "-------\n",
            "-------\n",
            "-------\n",
            "-------\n",
            "-------\n",
            "-------\n"
          ]
        }
      ]
    },
    {
      "cell_type": "code",
      "source": [
        "#141번 for문\n",
        "\n",
        "for a in [100, 200, 300]:\n",
        "  print(a+10)"
      ],
      "metadata": {
        "colab": {
          "base_uri": "https://localhost:8080/"
        },
        "id": "L8XztvQSlFKX",
        "outputId": "22120d19-848a-4731-c6a1-0dc67f9bee5b"
      },
      "execution_count": 15,
      "outputs": [
        {
          "output_type": "stream",
          "name": "stdout",
          "text": [
            "110\n",
            "210\n",
            "310\n"
          ]
        }
      ]
    },
    {
      "cell_type": "code",
      "source": [
        "#142번 for문\n",
        "\n",
        "for a in [\"김밥\", \"라면\", \"튀김\"]:\n",
        "  print(\"오늘의 메뉴:\", a)"
      ],
      "metadata": {
        "colab": {
          "base_uri": "https://localhost:8080/"
        },
        "id": "MfND5esllTEN",
        "outputId": "b0b76e3b-0ea2-412c-e574-21f7ae85f75c"
      },
      "execution_count": 16,
      "outputs": [
        {
          "output_type": "stream",
          "name": "stdout",
          "text": [
            "오늘의 메뉴: 김밥\n",
            "오늘의 메뉴: 라면\n",
            "오늘의 메뉴: 튀김\n"
          ]
        }
      ]
    },
    {
      "cell_type": "code",
      "source": [
        "#143번 len()활용\n",
        "\n",
        "for a in [\"SK하이닉스\", \"삼성전자\", \"LG전자\"]:\n",
        "  print(len(a))"
      ],
      "metadata": {
        "colab": {
          "base_uri": "https://localhost:8080/"
        },
        "id": "3oY_hElKlech",
        "outputId": "4bbab371-4633-41e9-aa18-684376fbeec1"
      },
      "execution_count": 17,
      "outputs": [
        {
          "output_type": "stream",
          "name": "stdout",
          "text": [
            "6\n",
            "4\n",
            "4\n"
          ]
        }
      ]
    },
    {
      "cell_type": "code",
      "source": [
        "#144번 인덱스 활용\n",
        "\n",
        "for a in ['dog', 'cat', 'parrot']:\n",
        "  print(a[0])"
      ],
      "metadata": {
        "colab": {
          "base_uri": "https://localhost:8080/"
        },
        "id": "7ORZbfRalvCF",
        "outputId": "e163d6aa-7d60-4ded-af3b-4b95d08e9e86"
      },
      "execution_count": 18,
      "outputs": [
        {
          "output_type": "stream",
          "name": "stdout",
          "text": [
            "d\n",
            "c\n",
            "p\n"
          ]
        }
      ]
    },
    {
      "cell_type": "code",
      "source": [
        "#145번 len()활용\n",
        "\n",
        "for a in ['dog', 'cat', 'parrot']:\n",
        "  print(a, len(a))"
      ],
      "metadata": {
        "colab": {
          "base_uri": "https://localhost:8080/"
        },
        "id": "zJTWKv66l9Cn",
        "outputId": "61d27868-c4e7-488b-e41f-ab4f9285da47"
      },
      "execution_count": 19,
      "outputs": [
        {
          "output_type": "stream",
          "name": "stdout",
          "text": [
            "dog 3\n",
            "cat 3\n",
            "parrot 6\n"
          ]
        }
      ]
    },
    {
      "cell_type": "code",
      "source": [
        "#146번 for문 활용\n",
        "\n",
        "for a in [1, 2, 3]:\n",
        "  print(\"3 x\",a)"
      ],
      "metadata": {
        "colab": {
          "base_uri": "https://localhost:8080/"
        },
        "id": "_F_kwx-imOMd",
        "outputId": "0a7b1331-5649-4816-917a-4d361512c6be"
      },
      "execution_count": 20,
      "outputs": [
        {
          "output_type": "stream",
          "name": "stdout",
          "text": [
            "3 x 1\n",
            "3 x 2\n",
            "3 x 3\n"
          ]
        }
      ]
    },
    {
      "cell_type": "code",
      "source": [
        "#147번 for문 활용\n",
        "\n",
        "for a in [1, 2, 3]:\n",
        "  print(\"3 x \", a, \"=\", 3*a)"
      ],
      "metadata": {
        "colab": {
          "base_uri": "https://localhost:8080/"
        },
        "id": "dwduOWdmmcTQ",
        "outputId": "d583210e-f5c9-429c-8824-d6a49b2bb591"
      },
      "execution_count": 21,
      "outputs": [
        {
          "output_type": "stream",
          "name": "stdout",
          "text": [
            "3 x  1 = 3\n",
            "3 x  2 = 6\n",
            "3 x  3 = 9\n"
          ]
        }
      ]
    },
    {
      "cell_type": "code",
      "source": [
        "#148번 for문 활용\n",
        "\n",
        "a = [\"가\", \"나\", \"다\", \"라\"]\n",
        "\n",
        "for b in a[1:]:\n",
        "  print(b)"
      ],
      "metadata": {
        "colab": {
          "base_uri": "https://localhost:8080/"
        },
        "id": "TJZBtqOpmwVa",
        "outputId": "14966d88-5cd4-4fde-8704-a56b8e3f3627"
      },
      "execution_count": 30,
      "outputs": [
        {
          "output_type": "stream",
          "name": "stdout",
          "text": [
            "나\n",
            "다\n",
            "라\n"
          ]
        }
      ]
    },
    {
      "cell_type": "code",
      "source": [
        "#149번 for문\n",
        "\n",
        "a = [\"가\", \"나\", \"다\", \"라\"]\n",
        "\n",
        "for b in a[0::2]:\n",
        "  print(b)\n"
      ],
      "metadata": {
        "colab": {
          "base_uri": "https://localhost:8080/"
        },
        "id": "IJ-JQQJMnpbk",
        "outputId": "31a33dec-3f9d-4b2c-81bf-fbf052913e73"
      },
      "execution_count": 31,
      "outputs": [
        {
          "output_type": "stream",
          "name": "stdout",
          "text": [
            "가\n",
            "다\n"
          ]
        }
      ]
    },
    {
      "cell_type": "code",
      "source": [
        "#150번 for문\n",
        "\n",
        "a = [\"가\", \"나\", \"다\", \"라\"]\n",
        "\n",
        "for b in a[::-1]:\n",
        "  print(b)"
      ],
      "metadata": {
        "colab": {
          "base_uri": "https://localhost:8080/"
        },
        "id": "x-CmnzV1n30R",
        "outputId": "341ba807-1ca8-4a70-a3d8-bb2baaad317a"
      },
      "execution_count": 33,
      "outputs": [
        {
          "output_type": "stream",
          "name": "stdout",
          "text": [
            "라\n",
            "다\n",
            "나\n",
            "가\n"
          ]
        }
      ]
    },
    {
      "cell_type": "code",
      "source": [
        "#151번 for문\n",
        "\n",
        "a = [3, -20, -3, 44]\n",
        "\n",
        "for b in a:\n",
        "  if b < 0:\n",
        "    print(b)\n"
      ],
      "metadata": {
        "colab": {
          "base_uri": "https://localhost:8080/"
        },
        "id": "OkQAPUbmoCc1",
        "outputId": "f4c3e8a3-ff78-4e60-8826-64c70b2908dd"
      },
      "execution_count": 36,
      "outputs": [
        {
          "output_type": "stream",
          "name": "stdout",
          "text": [
            "-20\n",
            "-3\n"
          ]
        }
      ]
    },
    {
      "cell_type": "code",
      "source": [
        "#152번 for문\n",
        "\n",
        "a = [3, 100, 23, 44]\n",
        "\n",
        "for b in a:\n",
        "  if b % 3 == 0:\n",
        "    print(b)\n",
        "\n"
      ],
      "metadata": {
        "colab": {
          "base_uri": "https://localhost:8080/"
        },
        "id": "tYwzAtm4oMg5",
        "outputId": "8b0093f0-57d1-4dd1-81b0-4e563559bd91"
      },
      "execution_count": 37,
      "outputs": [
        {
          "output_type": "stream",
          "name": "stdout",
          "text": [
            "3\n"
          ]
        }
      ]
    },
    {
      "cell_type": "code",
      "source": [
        "#153번 for문\n",
        "\n",
        "a = [13, 21, 12, 14, 30, 18]\n",
        "\n",
        "for b in a:\n",
        "  if (b < 20) and (b % 3 == 0): #20보다 작고 3의 배수이니 두 조건을 and연산자를 사용해서 판별한다.\n",
        "    print(b)"
      ],
      "metadata": {
        "colab": {
          "base_uri": "https://localhost:8080/"
        },
        "id": "2J36kd38oj6B",
        "outputId": "2e548150-2bd4-4dbc-998a-3df0097b8757"
      },
      "execution_count": 40,
      "outputs": [
        {
          "output_type": "stream",
          "name": "stdout",
          "text": [
            "12\n",
            "18\n"
          ]
        }
      ]
    },
    {
      "cell_type": "code",
      "source": [
        "#154번\n",
        "\n",
        "a = [\"I\", \"study\", \"python\", \"language\", \"!\"]\n",
        "\n",
        "for b in a:\n",
        "  if len(b) > 3: #len()를 이용하여 문자수 판별\n",
        "    print(b)\n"
      ],
      "metadata": {
        "colab": {
          "base_uri": "https://localhost:8080/"
        },
        "id": "aaU4zg8QpUs2",
        "outputId": "c42275cd-18bd-484b-ff2a-8d5738ce062d"
      },
      "execution_count": 41,
      "outputs": [
        {
          "output_type": "stream",
          "name": "stdout",
          "text": [
            "study\n",
            "python\n",
            "language\n"
          ]
        }
      ]
    },
    {
      "cell_type": "code",
      "source": [
        "#155번 isupper()\n",
        "\n",
        "a = [\"A\", \"b\", \"c\", \"D\"]\n",
        "\n",
        "for b in a:\n",
        "  if b.isupper() == 1: #isupper()은 대문자를 판별한다\n",
        "    print(b)\n"
      ],
      "metadata": {
        "colab": {
          "base_uri": "https://localhost:8080/"
        },
        "id": "yK_MqA4Lpi51",
        "outputId": "bec8953a-ff43-4473-c43c-acaa9bcbe8cf"
      },
      "execution_count": 43,
      "outputs": [
        {
          "output_type": "stream",
          "name": "stdout",
          "text": [
            "A\n",
            "D\n"
          ]
        }
      ]
    },
    {
      "cell_type": "code",
      "source": [
        "#156번 islower()\n",
        "\n",
        "a = [\"A\", \"b\", \"c\", \"D\"]\n",
        "\n",
        "for b in a:\n",
        "  if b.islower() == 1:\n",
        "    print(b)\n"
      ],
      "metadata": {
        "colab": {
          "base_uri": "https://localhost:8080/"
        },
        "id": "naEkevEwp3VV",
        "outputId": "5253ff77-398f-49f6-8500-d2f5af5eaf2c"
      },
      "execution_count": 44,
      "outputs": [
        {
          "output_type": "stream",
          "name": "stdout",
          "text": [
            "b\n",
            "c\n"
          ]
        }
      ]
    },
    {
      "cell_type": "code",
      "source": [
        "#157번 upper()\n",
        "\n",
        "a = ['dog', 'cat', 'parrot']\n",
        "\n",
        "for b in a:\n",
        "  print(b[0].upper()+b[1:]) #upper()을 사용하여 첫번째 글자를 대문자로 바꿔준다."
      ],
      "metadata": {
        "colab": {
          "base_uri": "https://localhost:8080/"
        },
        "id": "WnyNBtw2qNrm",
        "outputId": "58592919-4990-4130-c617-1257325ff302"
      },
      "execution_count": 48,
      "outputs": [
        {
          "output_type": "stream",
          "name": "stdout",
          "text": [
            "Dog\n",
            "Cat\n",
            "Parrot\n"
          ]
        }
      ]
    },
    {
      "cell_type": "code",
      "source": [
        "#158번 split()\n",
        "\n",
        "a = ['hello.py', 'ex01.py', 'intro.hwp']\n",
        "\n",
        "for b in a:\n",
        "  b = b.split(\".\") #.을 기준으로 분리해준다.\n",
        "  print(b[0]) #확장자 앞의 글자만 출력이된다.\n"
      ],
      "metadata": {
        "colab": {
          "base_uri": "https://localhost:8080/"
        },
        "id": "3xensieMqaWu",
        "outputId": "f8980378-2559-4687-f1ef-81afbe8d9820"
      },
      "execution_count": 50,
      "outputs": [
        {
          "output_type": "stream",
          "name": "stdout",
          "text": [
            "hello\n",
            "ex01\n",
            "intro\n"
          ]
        }
      ]
    },
    {
      "cell_type": "code",
      "source": [
        "#159번 split()\n",
        "\n",
        "a = ['intra.h', 'intra.c', 'define.h', 'run.py']\n",
        "\n",
        "for b in a:\n",
        "  c = b.split(\".\") #c로 b의 변수들을 나눠준 것을 새로 정의한다.\n",
        "  if c[1] == \"h\":\n",
        "    print(b)"
      ],
      "metadata": {
        "colab": {
          "base_uri": "https://localhost:8080/"
        },
        "id": "EUVV5tr9q2QK",
        "outputId": "98e35010-e09d-4b54-b45f-fa0f7e94fb8f"
      },
      "execution_count": 52,
      "outputs": [
        {
          "output_type": "stream",
          "name": "stdout",
          "text": [
            "intra.h\n",
            "define.h\n"
          ]
        }
      ]
    },
    {
      "cell_type": "code",
      "source": [
        "#160번 split(), 논리 연산자\n",
        "\n",
        "a = ['intra.h', 'intra.c', 'define.h', 'run.py']\n",
        "\n",
        "for b in a:\n",
        "  c = b.split(\".\")\n",
        "  if (c[1] == \"h\") or (c[1] == \"c\"):\n",
        "    print(b)\n"
      ],
      "metadata": {
        "colab": {
          "base_uri": "https://localhost:8080/"
        },
        "id": "3jIrH7g0roHD",
        "outputId": "fd7c5eff-612d-48ba-8506-a3bebc000181"
      },
      "execution_count": 55,
      "outputs": [
        {
          "output_type": "stream",
          "name": "stdout",
          "text": [
            "intra.h\n",
            "intra.c\n",
            "define.h\n"
          ]
        }
      ]
    },
    {
      "cell_type": "code",
      "source": [
        "#161번 for문 range 구문\n",
        "\n",
        "for a in range(100):\n",
        "  print(a)"
      ],
      "metadata": {
        "colab": {
          "base_uri": "https://localhost:8080/"
        },
        "id": "ZhVNQlQkr6KF",
        "outputId": "dce67377-e33d-479b-91d5-1c8f19c7f5d7"
      },
      "execution_count": 58,
      "outputs": [
        {
          "output_type": "stream",
          "name": "stdout",
          "text": [
            "0\n",
            "1\n",
            "2\n",
            "3\n",
            "4\n",
            "5\n",
            "6\n",
            "7\n",
            "8\n",
            "9\n",
            "10\n",
            "11\n",
            "12\n",
            "13\n",
            "14\n",
            "15\n",
            "16\n",
            "17\n",
            "18\n",
            "19\n",
            "20\n",
            "21\n",
            "22\n",
            "23\n",
            "24\n",
            "25\n",
            "26\n",
            "27\n",
            "28\n",
            "29\n",
            "30\n",
            "31\n",
            "32\n",
            "33\n",
            "34\n",
            "35\n",
            "36\n",
            "37\n",
            "38\n",
            "39\n",
            "40\n",
            "41\n",
            "42\n",
            "43\n",
            "44\n",
            "45\n",
            "46\n",
            "47\n",
            "48\n",
            "49\n",
            "50\n",
            "51\n",
            "52\n",
            "53\n",
            "54\n",
            "55\n",
            "56\n",
            "57\n",
            "58\n",
            "59\n",
            "60\n",
            "61\n",
            "62\n",
            "63\n",
            "64\n",
            "65\n",
            "66\n",
            "67\n",
            "68\n",
            "69\n",
            "70\n",
            "71\n",
            "72\n",
            "73\n",
            "74\n",
            "75\n",
            "76\n",
            "77\n",
            "78\n",
            "79\n",
            "80\n",
            "81\n",
            "82\n",
            "83\n",
            "84\n",
            "85\n",
            "86\n",
            "87\n",
            "88\n",
            "89\n",
            "90\n",
            "91\n",
            "92\n",
            "93\n",
            "94\n",
            "95\n",
            "96\n",
            "97\n",
            "98\n",
            "99\n"
          ]
        }
      ]
    },
    {
      "cell_type": "code",
      "source": [
        "#162번 for문 range()\n",
        "\n",
        "for i in range(2002, 2050, 4): #range(,,) 1번 시작, 2번 끝, 3번 증감폭\n",
        "  print(i)\n"
      ],
      "metadata": {
        "colab": {
          "base_uri": "https://localhost:8080/"
        },
        "id": "5NA9-H1isWK2",
        "outputId": "d2305aff-2105-4f4a-c0cb-edf9a01d92a4"
      },
      "execution_count": 59,
      "outputs": [
        {
          "output_type": "stream",
          "name": "stdout",
          "text": [
            "2002\n",
            "2006\n",
            "2010\n",
            "2014\n",
            "2018\n",
            "2022\n",
            "2026\n",
            "2030\n",
            "2034\n",
            "2038\n",
            "2042\n",
            "2046\n"
          ]
        }
      ]
    },
    {
      "cell_type": "code",
      "source": [
        "#163번 for문 range()\n",
        "\n",
        "for i in range(3, 31, 3):\n",
        "  print(i)"
      ],
      "metadata": {
        "colab": {
          "base_uri": "https://localhost:8080/"
        },
        "id": "aYORvJr0so_T",
        "outputId": "57ac1235-9424-4f85-83b9-184313e4b249"
      },
      "execution_count": 62,
      "outputs": [
        {
          "output_type": "stream",
          "name": "stdout",
          "text": [
            "3\n",
            "6\n",
            "9\n",
            "12\n",
            "15\n",
            "18\n",
            "21\n",
            "24\n",
            "27\n",
            "30\n"
          ]
        }
      ]
    },
    {
      "cell_type": "code",
      "source": [
        "#164번 for문 range()\n",
        "\n",
        "for i in range(99, -1, -1): #증감폭에 음수값을 넣고 싶으면 시작값이 큰 값, 마지막값이 작은값이 되야한다.\n",
        "    print(i)\n"
      ],
      "metadata": {
        "colab": {
          "base_uri": "https://localhost:8080/"
        },
        "id": "Hij9X9jssx4s",
        "outputId": "6c1c8f0b-7e3e-4825-f927-042ccb61ae20"
      },
      "execution_count": 73,
      "outputs": [
        {
          "output_type": "stream",
          "name": "stdout",
          "text": [
            "99\n",
            "98\n",
            "97\n",
            "96\n",
            "95\n",
            "94\n",
            "93\n",
            "92\n",
            "91\n",
            "90\n",
            "89\n",
            "88\n",
            "87\n",
            "86\n",
            "85\n",
            "84\n",
            "83\n",
            "82\n",
            "81\n",
            "80\n",
            "79\n",
            "78\n",
            "77\n",
            "76\n",
            "75\n",
            "74\n",
            "73\n",
            "72\n",
            "71\n",
            "70\n",
            "69\n",
            "68\n",
            "67\n",
            "66\n",
            "65\n",
            "64\n",
            "63\n",
            "62\n",
            "61\n",
            "60\n",
            "59\n",
            "58\n",
            "57\n",
            "56\n",
            "55\n",
            "54\n",
            "53\n",
            "52\n",
            "51\n",
            "50\n",
            "49\n",
            "48\n",
            "47\n",
            "46\n",
            "45\n",
            "44\n",
            "43\n",
            "42\n",
            "41\n",
            "40\n",
            "39\n",
            "38\n",
            "37\n",
            "36\n",
            "35\n",
            "34\n",
            "33\n",
            "32\n",
            "31\n",
            "30\n",
            "29\n",
            "28\n",
            "27\n",
            "26\n",
            "25\n",
            "24\n",
            "23\n",
            "22\n",
            "21\n",
            "20\n",
            "19\n",
            "18\n",
            "17\n",
            "16\n",
            "15\n",
            "14\n",
            "13\n",
            "12\n",
            "11\n",
            "10\n",
            "9\n",
            "8\n",
            "7\n",
            "6\n",
            "5\n",
            "4\n",
            "3\n",
            "2\n",
            "1\n",
            "0\n"
          ]
        }
      ]
    },
    {
      "cell_type": "code",
      "source": [
        "#165번 for문 range()\n",
        "\n",
        "# for i in range(0, 1, 0.1):\n",
        "#     print(i) 오류가 발생한다. range()는 실수를 지원하지 않는다.\n",
        "\n",
        "for i in range(10):\n",
        "  print(i/10)\n"
      ],
      "metadata": {
        "colab": {
          "base_uri": "https://localhost:8080/"
        },
        "id": "4Hnf0V4LtC0J",
        "outputId": "13935e2b-5d7f-4ce2-b82c-8a99ed83249c"
      },
      "execution_count": 74,
      "outputs": [
        {
          "output_type": "stream",
          "name": "stdout",
          "text": [
            "0.0\n",
            "0.1\n",
            "0.2\n",
            "0.3\n",
            "0.4\n",
            "0.5\n",
            "0.6\n",
            "0.7\n",
            "0.8\n",
            "0.9\n"
          ]
        }
      ]
    },
    {
      "cell_type": "code",
      "source": [
        "#166번 구구단\n",
        "\n",
        "for i in range(1, 10) :\n",
        "    print (3, \"x\", i, \" = \", 3 * i)"
      ],
      "metadata": {
        "colab": {
          "base_uri": "https://localhost:8080/"
        },
        "id": "Lq6nGBmvtg3u",
        "outputId": "e2261596-984d-4d94-f48c-8fddc06479b7"
      },
      "execution_count": 75,
      "outputs": [
        {
          "output_type": "stream",
          "name": "stdout",
          "text": [
            "3 x 1  =  3\n",
            "3 x 2  =  6\n",
            "3 x 3  =  9\n",
            "3 x 4  =  12\n",
            "3 x 5  =  15\n",
            "3 x 6  =  18\n",
            "3 x 7  =  21\n",
            "3 x 8  =  24\n",
            "3 x 9  =  27\n"
          ]
        }
      ]
    },
    {
      "cell_type": "code",
      "source": [
        "#167번 구구단 출력\n",
        "\n",
        "for i in range(1, 10, 2) :\n",
        "    print (3, \"x\", i, \" = \", 3 * i)"
      ],
      "metadata": {
        "colab": {
          "base_uri": "https://localhost:8080/"
        },
        "id": "75aUYXX9uy-9",
        "outputId": "ff5b1ee9-42f6-44ac-bc6d-fea1c3495435"
      },
      "execution_count": 76,
      "outputs": [
        {
          "output_type": "stream",
          "name": "stdout",
          "text": [
            "3 x 1  =  3\n",
            "3 x 3  =  9\n",
            "3 x 5  =  15\n",
            "3 x 7  =  21\n",
            "3 x 9  =  27\n"
          ]
        }
      ]
    },
    {
      "cell_type": "code",
      "source": [
        "#168번\n",
        "\n",
        "hap = 0 #hap이라는 변수 지정\n",
        "for i in range(11): #10까지 더해야하므로 11로 range를 설정한다.\n",
        "  hap += i\n",
        "print(hap)"
      ],
      "metadata": {
        "colab": {
          "base_uri": "https://localhost:8080/"
        },
        "id": "afjE8BtOu6-_",
        "outputId": "a3de95e4-5f7d-4891-efa6-32c15e2691dd"
      },
      "execution_count": 79,
      "outputs": [
        {
          "output_type": "stream",
          "name": "stdout",
          "text": [
            "55\n"
          ]
        }
      ]
    },
    {
      "cell_type": "code",
      "source": [
        "#169번 홀수의 합\n",
        "\n",
        "hap = 0\n",
        "\n",
        "for i in range(1, 11, 2): #홀수의 합만 더해야하므로 증감폭을 설정해준다.\n",
        "  hap += i\n",
        "print(hap)"
      ],
      "metadata": {
        "colab": {
          "base_uri": "https://localhost:8080/"
        },
        "id": "AGInW-3FvTCE",
        "outputId": "4b95963d-5b5a-4362-cd17-bc51b544048e"
      },
      "execution_count": 80,
      "outputs": [
        {
          "output_type": "stream",
          "name": "stdout",
          "text": [
            "25\n"
          ]
        }
      ]
    },
    {
      "cell_type": "code",
      "source": [
        "#170번 곱셈\n",
        "\n",
        "x = 1 #곱셈인걸 유의해서 0이 아닌 값으로 설정해준다\n",
        "\n",
        "for i in range(1, 11): #0이 들어가면 곱셈의 값이 0이되므로 주의한다\n",
        "  x *= i\n",
        "print(x)"
      ],
      "metadata": {
        "colab": {
          "base_uri": "https://localhost:8080/"
        },
        "id": "LcJscYXVvzT4",
        "outputId": "0ae98379-13ed-49be-9760-b78560e70c34"
      },
      "execution_count": 83,
      "outputs": [
        {
          "output_type": "stream",
          "name": "stdout",
          "text": [
            "3628800\n"
          ]
        }
      ]
    },
    {
      "cell_type": "code",
      "source": [
        "#171번 for문 len()활용\n",
        "\n",
        "price_list = [32100, 32150, 32000, 32500]\n",
        "\n",
        "for i in range(len(price_list)): #len()을 사용하면 리스트가 변해도 코드의 수정이 필요없다.\n",
        "  print(price_list[i]) #price_list의 데이터 값만큼 출력해준다."
      ],
      "metadata": {
        "colab": {
          "base_uri": "https://localhost:8080/"
        },
        "id": "3jhkoDDhwfJv",
        "outputId": "4993e9a5-cb6b-41b0-917d-8041d3570070"
      },
      "execution_count": 86,
      "outputs": [
        {
          "output_type": "stream",
          "name": "stdout",
          "text": [
            "32100\n",
            "32150\n",
            "32000\n",
            "32500\n"
          ]
        }
      ]
    },
    {
      "cell_type": "code",
      "source": [
        "#172번 for문 range()\n",
        "\n",
        "price_list = [32100, 32150, 32000, 32500]\n",
        "\n",
        "for i in range(len(price_list)):\n",
        "    print(i, price_list[i])\n",
        "\n",
        "price_list = [32100, 32150, 32000, 32500] #두가지 방법 모두 활용가능\n",
        "\n",
        "for i, data in enumerate(price_list): #enumerate를 이용하여 인덱스값도 가져올 수 있다.\n",
        "    print(i, data)\n"
      ],
      "metadata": {
        "colab": {
          "base_uri": "https://localhost:8080/"
        },
        "id": "a_JhJRViwnk2",
        "outputId": "79f3291e-6993-4871-cd6d-e9f69af2bc42"
      },
      "execution_count": 92,
      "outputs": [
        {
          "output_type": "stream",
          "name": "stdout",
          "text": [
            "0 32100\n",
            "1 32150\n",
            "2 32000\n",
            "3 32500\n",
            "0 32100\n",
            "1 32150\n",
            "2 32000\n",
            "3 32500\n"
          ]
        }
      ]
    },
    {
      "cell_type": "code",
      "source": [
        "#173번\n",
        "\n",
        "price_list = [32100, 32150, 32000, 32500]\n",
        "\n",
        "for i in range(len(price_list)):\n",
        "  print((len(price_list) - 1) - i, price_list[i])"
      ],
      "metadata": {
        "colab": {
          "base_uri": "https://localhost:8080/"
        },
        "id": "sYd-wNc0xSkd",
        "outputId": "b777bc9c-4856-408c-9067-5324cf3758a9"
      },
      "execution_count": 95,
      "outputs": [
        {
          "output_type": "stream",
          "name": "stdout",
          "text": [
            "3 32100\n",
            "2 32150\n",
            "1 32000\n",
            "0 32500\n"
          ]
        }
      ]
    },
    {
      "cell_type": "code",
      "source": [
        "#174번\n",
        "\n",
        "price_list = [32100, 32150, 32000, 32500]\n",
        "\n",
        "for i in range(1, 4):\n",
        "    print(90 + 10 * i, price_list[i])"
      ],
      "metadata": {
        "colab": {
          "base_uri": "https://localhost:8080/"
        },
        "id": "ZYp9fZ2yyro6",
        "outputId": "ef7eb82e-369a-4afa-fb62-93b27b03b7e7"
      },
      "execution_count": 98,
      "outputs": [
        {
          "output_type": "stream",
          "name": "stdout",
          "text": [
            "100 32150\n",
            "110 32000\n",
            "120 32500\n"
          ]
        }
      ]
    },
    {
      "cell_type": "code",
      "source": [
        "#175번\n",
        "\n",
        "my_list = [\"가\", \"나\", \"다\", \"라\"]\n",
        "\n",
        "for i in range( 1, len(my_list) ) :\n",
        "  print(my_list[i-1], my_list[i])\n",
        "\n"
      ],
      "metadata": {
        "colab": {
          "base_uri": "https://localhost:8080/"
        },
        "id": "RWVd72GKzpsm",
        "outputId": "16476e69-c964-49d8-9eb8-abc079ec6854"
      },
      "execution_count": 105,
      "outputs": [
        {
          "output_type": "stream",
          "name": "stdout",
          "text": [
            "가 나\n",
            "나 다\n",
            "다 라\n"
          ]
        }
      ]
    },
    {
      "cell_type": "code",
      "source": [
        "#176번\n",
        "\n",
        "my_list = [\"가\", \"나\", \"다\", \"라\", \"마\"]\n",
        "\n",
        "for i in range( 1, len(my_list)-1):\n",
        "  print( my_list[i-1], my_list[i], my_list[i+1])"
      ],
      "metadata": {
        "colab": {
          "base_uri": "https://localhost:8080/"
        },
        "id": "xGbWsB0Xz7PM",
        "outputId": "8530c2fe-ece6-4698-efd3-53c6b55c68e0"
      },
      "execution_count": 107,
      "outputs": [
        {
          "output_type": "stream",
          "name": "stdout",
          "text": [
            "가 나 다\n",
            "나 다 라\n",
            "다 라 마\n"
          ]
        }
      ]
    },
    {
      "cell_type": "code",
      "source": [
        "#177번\n",
        "\n",
        "my_list = [\"가\", \"나\", \"다\", \"라\"]\n",
        "\n",
        "for i in [3, 2, 1] :\n",
        "    print(my_list[i], my_list[i-1])\n",
        "\n",
        "for i in range(len(my_list) - 1, 0, -1):\n",
        "    print(my_list[i], my_list[i-1])\n",
        "\n",
        "\n",
        "for i in range(len(my_list) - 1):\n",
        "    print(my_list[len(my_list) - 1 - i], my_list[len(my_list) - 2 - i])\n"
      ],
      "metadata": {
        "colab": {
          "base_uri": "https://localhost:8080/"
        },
        "id": "joD3mMDq04Y8",
        "outputId": "ff9346db-aaad-4336-f368-0163eb154b5f"
      },
      "execution_count": 108,
      "outputs": [
        {
          "output_type": "stream",
          "name": "stdout",
          "text": [
            "라 다\n",
            "다 나\n",
            "나 가\n"
          ]
        }
      ]
    },
    {
      "cell_type": "code",
      "source": [
        "#178번\n",
        "\n",
        "my_list = [100, 200, 400, 800]\n",
        "\n",
        "for i in range(1, len(my_list)):\n",
        "  print(abs(my_list[i-1]-my_list[i])) #절대값으로 출력해야함으로 abs를 써준다"
      ],
      "metadata": {
        "colab": {
          "base_uri": "https://localhost:8080/"
        },
        "id": "VIeBTzxX1MFt",
        "outputId": "9e74237a-f15f-4a3f-ad0c-27f0d939f181"
      },
      "execution_count": 110,
      "outputs": [
        {
          "output_type": "stream",
          "name": "stdout",
          "text": [
            "100\n",
            "200\n",
            "400\n"
          ]
        }
      ]
    },
    {
      "cell_type": "code",
      "source": [
        "#179번\n",
        "\n",
        "my_list = [100, 200, 400, 800, 1000, 1300]\n",
        "\n",
        "for i in range(len(my_list)-1):\n",
        "  print((my_list[i-1]+my_list[i]+my_list[i+1])/3)"
      ],
      "metadata": {
        "colab": {
          "base_uri": "https://localhost:8080/"
        },
        "id": "9i6VhEDb2Pcy",
        "outputId": "86ff051b-bb90-4102-d11b-317e720213f5"
      },
      "execution_count": 112,
      "outputs": [
        {
          "output_type": "stream",
          "name": "stdout",
          "text": [
            "533.3333333333334\n",
            "233.33333333333334\n",
            "466.6666666666667\n",
            "733.3333333333334\n",
            "1033.3333333333333\n"
          ]
        }
      ]
    },
    {
      "cell_type": "code",
      "source": [
        "#180번\n",
        "\n",
        "low_prices  = [100, 200, 400, 800, 1000]\n",
        "high_prices = [150, 300, 430, 880, 1000]\n",
        "volatility = [None, None, None, None, None]\n",
        "\n",
        "for i in range(len(low_prices)):\n",
        "   volatility[i] = high_prices[i]-low_prices[i]\n",
        "\n",
        "print(volatility)"
      ],
      "metadata": {
        "colab": {
          "base_uri": "https://localhost:8080/"
        },
        "id": "qqRJRyrZ2tsQ",
        "outputId": "111a9e83-272a-4ce6-c984-cf9cd2b8a996"
      },
      "execution_count": 121,
      "outputs": [
        {
          "output_type": "stream",
          "name": "stdout",
          "text": [
            "[50, 100, 30, 80, 0]\n"
          ]
        }
      ]
    },
    {
      "cell_type": "code",
      "source": [
        "#181번 list 정의\n",
        "\n",
        "apart = [ [\"101호\", \"102호\"], [\"201호\", \"202호\"], [\"301호\", \"302호\"] ] #list는 자료 구조를 포함할 수 있다.\n",
        "\n",
        "print(apart)"
      ],
      "metadata": {
        "colab": {
          "base_uri": "https://localhost:8080/"
        },
        "id": "1vN4O95v4juN",
        "outputId": "ea79fb5e-fd28-45f4-bddb-27b826800ecc"
      },
      "execution_count": 122,
      "outputs": [
        {
          "output_type": "stream",
          "name": "stdout",
          "text": [
            "[['101호', '102호'], ['201호', '202호'], ['301호', '302호']]\n"
          ]
        }
      ]
    },
    {
      "cell_type": "code",
      "source": [
        "#182번 list 정의\n",
        "\n",
        "stock = [ [\"시가\", 100, 200, 300], [\"종가\", 80, 210, 330] ] #list는 자료구조를 포함할 수 있다.\n"
      ],
      "metadata": {
        "id": "LIH3w8HY44uU"
      },
      "execution_count": 123,
      "outputs": []
    },
    {
      "cell_type": "code",
      "source": [
        "#183번 딕셔너리 표현\n",
        "\n",
        "stock = {\"시가\": [100, 200, 300], \"종가\": [80, 210, 330] } #리스트로 value값을 저장할 수 있다.\n",
        "print(stock)"
      ],
      "metadata": {
        "colab": {
          "base_uri": "https://localhost:8080/"
        },
        "id": "0QjUwNLx5Dsp",
        "outputId": "e33337ef-409c-42f5-f2f6-32dec039da1a"
      },
      "execution_count": 125,
      "outputs": [
        {
          "output_type": "stream",
          "name": "stdout",
          "text": [
            "{'시가': [100, 200, 300], '종가': [80, 210, 330]}\n"
          ]
        }
      ]
    },
    {
      "cell_type": "code",
      "source": [
        "#184번 딕셔너리 표현\n",
        "\n",
        "stock = {\"10/10\": [80, 110, 70, 90], \"10/11\": [210, 230, 190, 200] }\n"
      ],
      "metadata": {
        "id": "VOMRLITO5Rvl"
      },
      "execution_count": null,
      "outputs": []
    },
    {
      "cell_type": "code",
      "source": [
        "#185번 리스트 출력\n",
        "\n",
        "apart = [ [101, 102], [201, 202], [301, 302] ]\n",
        "\n",
        "for a in apart: #리스트 안에 값 출력\n",
        "  print(a)\n",
        "  for b in a: #리스트 안에 리스트 안에 값 출력\n",
        "    print(b, \"호\")\n",
        ""
      ],
      "metadata": {
        "colab": {
          "base_uri": "https://localhost:8080/"
        },
        "id": "x46iIj2B5LNL",
        "outputId": "54cca934-8635-41ad-f15b-032cd1de7e28"
      },
      "execution_count": 128,
      "outputs": [
        {
          "output_type": "stream",
          "name": "stdout",
          "text": [
            "[101, 102]\n",
            "101 호\n",
            "102 호\n",
            "[201, 202]\n",
            "201 호\n",
            "202 호\n",
            "[301, 302]\n",
            "301 호\n",
            "302 호\n"
          ]
        }
      ]
    },
    {
      "cell_type": "code",
      "source": [
        "#186번 리스트 출력\n",
        "\n",
        "apart = [ [101, 102], [201, 202], [301, 302] ]\n",
        "\n",
        "for a in apart[::-1]: #리스트 안에 값 출력\n",
        "  print(a)\n",
        "  for b in a: #리스트 안에 리스트 안에 값 출력\n",
        "    print(b, \"호\")\n",
        ""
      ],
      "metadata": {
        "colab": {
          "base_uri": "https://localhost:8080/"
        },
        "id": "tHUFVvre5tP_",
        "outputId": "d6eb0951-f416-44f8-f1e6-46bf6e5a23cd"
      },
      "execution_count": 129,
      "outputs": [
        {
          "output_type": "stream",
          "name": "stdout",
          "text": [
            "[301, 302]\n",
            "301 호\n",
            "302 호\n",
            "[201, 202]\n",
            "201 호\n",
            "202 호\n",
            "[101, 102]\n",
            "101 호\n",
            "102 호\n"
          ]
        }
      ]
    },
    {
      "cell_type": "code",
      "source": [
        "#187번 리스트 출력\n",
        "\n",
        "apart = [ [101, 102], [201, 202], [301, 302] ]\n",
        "\n",
        "for a in apart[::-1]: #리스트 안에 값 출력, 역으로 불러준다\n",
        "  print(a)\n",
        "  for b in a[::-1]: #리스트 안에 리스트 안에 값 출력, 또 역으로 불러준다\n",
        "    print(b, \"호\")"
      ],
      "metadata": {
        "colab": {
          "base_uri": "https://localhost:8080/"
        },
        "id": "wuNvIq5o6Q51",
        "outputId": "7dc98f12-b237-47cd-88e4-7112e2fde6b5"
      },
      "execution_count": 131,
      "outputs": [
        {
          "output_type": "stream",
          "name": "stdout",
          "text": [
            "[301, 302]\n",
            "302 호\n",
            "301 호\n",
            "[201, 202]\n",
            "202 호\n",
            "201 호\n",
            "[101, 102]\n",
            "102 호\n",
            "101 호\n"
          ]
        }
      ]
    },
    {
      "cell_type": "code",
      "source": [
        "#188번 리스트 출력\n",
        "\n",
        "apart = [ [101, 102], [201, 202], [301, 302] ]\n",
        "\n",
        "for a in apart: #리스트 안에 값 출력\n",
        "  for b in a: #리스트 안에 리스트 안에 값 출력\n",
        "    print(b, \"호 \\n-----\")"
      ],
      "metadata": {
        "colab": {
          "base_uri": "https://localhost:8080/"
        },
        "id": "2ucdBmEw6e4e",
        "outputId": "2fbbf16b-f830-4bcb-ada1-447f38edec59"
      },
      "execution_count": 133,
      "outputs": [
        {
          "output_type": "stream",
          "name": "stdout",
          "text": [
            "101 호 \n",
            "-----\n",
            "102 호 \n",
            "-----\n",
            "201 호 \n",
            "-----\n",
            "202 호 \n",
            "-----\n",
            "301 호 \n",
            "-----\n",
            "302 호 \n",
            "-----\n"
          ]
        }
      ]
    },
    {
      "cell_type": "code",
      "source": [
        "#189번 리스트 출력\n",
        "\n",
        "apart = [ [101, 102], [201, 202], [301, 302] ]\n",
        "\n",
        "for a in apart: #리스트 안에 값 출력\n",
        "  for b in a: #리스트 안에 리스트 안에 값 출력\n",
        "    print(b, \"호\")\n",
        "  print(\"-----\") #들여쓰기로 조절해준다."
      ],
      "metadata": {
        "colab": {
          "base_uri": "https://localhost:8080/"
        },
        "id": "KMVi_Bjs67wB",
        "outputId": "4fee1571-78b2-4575-a454-adc140600bbc"
      },
      "execution_count": 137,
      "outputs": [
        {
          "output_type": "stream",
          "name": "stdout",
          "text": [
            "101 호\n",
            "102 호\n",
            "-----\n",
            "201 호\n",
            "202 호\n",
            "-----\n",
            "301 호\n",
            "302 호\n",
            "-----\n"
          ]
        }
      ]
    },
    {
      "cell_type": "code",
      "source": [
        "#190번 리스트 출력, 들여쓰기의 중요성\n",
        "\n",
        "apart = [ [101, 102], [201, 202], [301, 302] ]\n",
        "\n",
        "for a in apart: #리스트 안에 값 출력\n",
        "  for b in a: #리스트 안에 리스트 안에 값 출력\n",
        "    print(b, \"호\")\n",
        "print(\"-----\") #들여쓰기로 조절해준다."
      ],
      "metadata": {
        "colab": {
          "base_uri": "https://localhost:8080/"
        },
        "id": "KO8XXHzi7tYT",
        "outputId": "b8040969-0f2a-419d-d011-ff0c93a420df"
      },
      "execution_count": 138,
      "outputs": [
        {
          "output_type": "stream",
          "name": "stdout",
          "text": [
            "101 호\n",
            "102 호\n",
            "201 호\n",
            "202 호\n",
            "301 호\n",
            "302 호\n",
            "-----\n"
          ]
        }
      ]
    },
    {
      "cell_type": "code",
      "source": [
        "#191번\n",
        "\n",
        "data = [\n",
        "    [ 2000,  3050,  2050,  1980],\n",
        "    [ 7500,  2050,  2050,  1980],\n",
        "    [15450, 15050, 15550, 14900]\n",
        "]\n",
        "\n",
        "for a in data:\n",
        "  for b in a:\n",
        "    print(b*1.0014)"
      ],
      "metadata": {
        "colab": {
          "base_uri": "https://localhost:8080/"
        },
        "id": "VWgkgHJd7w51",
        "outputId": "6c704494-de4b-452d-89ce-3ed387945fdd"
      },
      "execution_count": 139,
      "outputs": [
        {
          "output_type": "stream",
          "name": "stdout",
          "text": [
            "2002.8000000000002\n",
            "3054.27\n",
            "2052.8700000000003\n",
            "1982.7720000000002\n",
            "7510.500000000001\n",
            "2052.8700000000003\n",
            "2052.8700000000003\n",
            "1982.7720000000002\n",
            "15471.630000000001\n",
            "15071.070000000002\n",
            "15571.77\n",
            "14920.86\n"
          ]
        }
      ]
    },
    {
      "cell_type": "code",
      "source": [
        "#192번\n",
        "\n",
        "data = [\n",
        "    [ 2000,  3050,  2050,  1980],\n",
        "    [ 7500,  2050,  2050,  1980],\n",
        "    [15450, 15050, 15550, 14900]\n",
        "]\n",
        "\n",
        "for a in data:\n",
        "  for b in a:\n",
        "    print(b*1.0014)\n",
        "  print(\"------\") #위치에 맞게 들여쓰기를  해줘야한다"
      ],
      "metadata": {
        "colab": {
          "base_uri": "https://localhost:8080/"
        },
        "id": "MO5zaWcpVpNq",
        "outputId": "c564d330-e1ea-4229-d5a3-c6871e6e3417"
      },
      "execution_count": 140,
      "outputs": [
        {
          "output_type": "stream",
          "name": "stdout",
          "text": [
            "2002.8000000000002\n",
            "3054.27\n",
            "2052.8700000000003\n",
            "1982.7720000000002\n",
            "------\n",
            "7510.500000000001\n",
            "2052.8700000000003\n",
            "2052.8700000000003\n",
            "1982.7720000000002\n",
            "------\n",
            "15471.630000000001\n",
            "15071.070000000002\n",
            "15571.77\n",
            "14920.86\n",
            "------\n"
          ]
        }
      ]
    },
    {
      "cell_type": "code",
      "source": [
        "#193번\n",
        "\n",
        "data = [\n",
        "    [ 2000,  3050,  2050,  1980],\n",
        "    [ 7500,  2050,  2050,  1980],\n",
        "    [15450, 15050, 15550, 14900]\n",
        "]\n",
        "result = []\n",
        "\n",
        "for a in data:\n",
        "  for b in a:\n",
        "    result.append(b * 1.00014)\n",
        "\n",
        "print(result)"
      ],
      "metadata": {
        "colab": {
          "base_uri": "https://localhost:8080/"
        },
        "id": "IQQsI-UtV4Ew",
        "outputId": "0a9e478b-e3c0-4b7d-93e7-feb9b97ece59"
      },
      "execution_count": 147,
      "outputs": [
        {
          "output_type": "stream",
          "name": "stdout",
          "text": [
            "[2000.28, 3050.427, 2050.2870000000003, 1980.2772, 7501.05, 2050.2870000000003, 2050.2870000000003, 1980.2772, 15452.163, 15052.107, 15552.177, 14902.086000000001]\n"
          ]
        }
      ]
    },
    {
      "cell_type": "code",
      "source": [
        "#194번\n",
        "\n",
        "data = [\n",
        "    [ 2000,  3050,  2050,  1980],\n",
        "    [ 7500,  2050,  2050,  1980],\n",
        "    [15450, 15050, 15550, 14900]\n",
        "]\n",
        "result = []\n",
        "\n",
        "for a in data:\n",
        "    c = []\n",
        "    for b in a:\n",
        "        c.append(b * 1.00014)\n",
        "    result.append(c)\n",
        "print(result)\n"
      ],
      "metadata": {
        "colab": {
          "base_uri": "https://localhost:8080/"
        },
        "id": "uWkaWwC6XCqZ",
        "outputId": "14a758b7-84cf-4907-f033-5ba7d4ea5ee1"
      },
      "execution_count": 149,
      "outputs": [
        {
          "output_type": "stream",
          "name": "stdout",
          "text": [
            "[[2000.28, 3050.427, 2050.2870000000003, 1980.2772], [7501.05, 2050.2870000000003, 2050.2870000000003, 1980.2772], [15452.163, 15052.107, 15552.177, 14902.086000000001]]\n"
          ]
        }
      ]
    },
    {
      "cell_type": "code",
      "source": [
        "#195번\n",
        "\n",
        "ohlc = [[\"open\", \"high\", \"low\", \"close\"],\n",
        "        [100, 110, 70, 100],\n",
        "        [200, 210, 180, 190],\n",
        "        [300, 310, 300, 310]]\n",
        "\n",
        "for row in ohlc[1:]:\n",
        "    print(row[3])"
      ],
      "metadata": {
        "id": "VS-yDVCKX-3e"
      },
      "execution_count": null,
      "outputs": []
    },
    {
      "cell_type": "code",
      "source": [
        "#196번\n",
        "\n",
        "ohlc = [[\"open\", \"high\", \"low\", \"close\"],\n",
        "        [100, 110, 70, 100],\n",
        "        [200, 210, 180, 190],\n",
        "        [300, 310, 300, 310]]\n",
        "\n",
        "for row in ohlc[1:]:\n",
        "    if (row[3] > 150):\n",
        "        print(row[3])\n"
      ],
      "metadata": {
        "id": "geXJQHGakJKY"
      },
      "execution_count": null,
      "outputs": []
    },
    {
      "cell_type": "code",
      "source": [
        "#197번\n",
        "\n",
        "ohlc = [[\"open\", \"high\", \"low\", \"close\"],\n",
        "        [100, 110, 70, 100],\n",
        "        [200, 210, 180, 190],\n",
        "        [300, 310, 300, 310]]\n",
        "\n",
        "for row in ohlc[1:]:\n",
        "    if (row[3] >= row[0]):\n",
        "        print(row[3])"
      ],
      "metadata": {
        "id": "eiJ0hxgtkUu-"
      },
      "execution_count": null,
      "outputs": []
    },
    {
      "cell_type": "code",
      "source": [
        "#198번\n",
        "\n",
        "ohlc = [[\"open\", \"high\", \"low\", \"close\"],\n",
        "        [100, 110, 70, 100],\n",
        "        [200, 210, 180, 190],\n",
        "        [300, 310, 300, 310]]\n",
        "\n",
        "volatility = []\n",
        "for row in ohlc[1:]:\n",
        "    volatility.append(row[1]-row[2])\n"
      ],
      "metadata": {
        "id": "7MUDkfPQke49"
      },
      "execution_count": 150,
      "outputs": []
    },
    {
      "cell_type": "code",
      "source": [
        "#199번\n",
        "\n",
        "ohlc = [[\"open\", \"high\", \"low\", \"close\"],\n",
        "        [100, 110, 70, 100],\n",
        "        [200, 210, 180, 190],\n",
        "        [300, 310, 300, 310]]\n",
        "\n",
        "for row in ohlc[1:]:\n",
        "    if row[3] > row[0]:\n",
        "        print(row[1]-row[2])\n"
      ],
      "metadata": {
        "colab": {
          "base_uri": "https://localhost:8080/"
        },
        "id": "Aj_b9CNyk5Md",
        "outputId": "354b1e41-4dc4-454f-b581-b409057eb44c"
      },
      "execution_count": 151,
      "outputs": [
        {
          "output_type": "stream",
          "name": "stdout",
          "text": [
            "10\n"
          ]
        }
      ]
    },
    {
      "cell_type": "code",
      "source": [
        "ohlc = [[\"open\", \"high\", \"low\", \"close\"],\n",
        "        [100, 110, 70, 100],\n",
        "        [200, 210, 180, 190],\n",
        "        [300, 310, 300, 310]]\n",
        "\n",
        "profit = 0\n",
        "for row in ohlc[1:]:\n",
        "    profit += (row[3] - row[0])\n"
      ],
      "metadata": {
        "id": "XpB1-08tlALi"
      },
      "execution_count": 152,
      "outputs": []
    }
  ]
}
