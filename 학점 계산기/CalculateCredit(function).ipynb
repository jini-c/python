{
  "nbformat": 4,
  "nbformat_minor": 0,
  "metadata": {
    "colab": {
      "provenance": []
    },
    "kernelspec": {
      "name": "python3",
      "display_name": "Python 3"
    },
    "language_info": {
      "name": "python"
    }
  },
  "cells": [
    {
      "cell_type": "code",
      "execution_count": null,
      "metadata": {
        "id": "jv_5US5De_01"
      },
      "outputs": [],
      "source": [
        "import random"
      ]
    },
    {
      "cell_type": "code",
      "source": [
        "#학점 & 점수생성\n",
        "\n",
        "def generate_random_credit():\n",
        "    return random.randint(1, 3)\n",
        "\n",
        "def generate_random_score():\n",
        "    return random.randint(40, 100)"
      ],
      "metadata": {
        "id": "fO6XYeTcjhsH"
      },
      "execution_count": null,
      "outputs": []
    },
    {
      "cell_type": "code",
      "source": [
        "def calculate_grade(score):\n",
        "    if score >= 95:\n",
        "        return 'A+'\n",
        "    elif score >= 90:\n",
        "        return 'A'\n",
        "    elif score >= 85:\n",
        "        return 'A-'\n",
        "    elif score >= 80:\n",
        "        return 'B+'\n",
        "    elif score >= 75:\n",
        "        return 'B'\n",
        "    elif score >= 70:\n",
        "        return 'B-'\n",
        "    elif score >= 65:\n",
        "        return 'C+'\n",
        "    elif score >= 60:\n",
        "        return 'C'\n",
        "    elif score >= 55:\n",
        "        return 'C-'\n",
        "    elif score >= 50:\n",
        "        return 'D'\n",
        "    else:\n",
        "        return 'F'"
      ],
      "metadata": {
        "id": "bWVuRJAsjo-z"
      },
      "execution_count": null,
      "outputs": []
    },
    {
      "cell_type": "code",
      "source": [
        "def input_student():\n",
        "    student = {}\n",
        "    name = input(\"학생 이름 입력 (종료하려면 'exit'): \").strip()\n",
        "    if name.lower() == 'exit':\n",
        "        return None\n",
        "\n",
        "    subject_count = int(input(f\"{name} 학생의 과목 수를 입력하세요: \").strip())\n",
        "\n",
        "    subjects = {}\n",
        "    for i in range(subject_count):\n",
        "        subject_name = input(f\"{i+1}번째 과목명을 입력하세요: \").strip()\n",
        "        score = generate_random_score()\n",
        "        credit = generate_random_credit()\n",
        "        grade = calculate_grade(score)\n",
        "        subjects[subject_name] = {\n",
        "            'credit': credit,\n",
        "            'score': score,\n",
        "            'grade': grade\n",
        "        }\n",
        "    student['name'] = name\n",
        "    student['subjects'] = subjects\n",
        "    return student"
      ],
      "metadata": {
        "id": "nG4Wkrt4jqji"
      },
      "execution_count": null,
      "outputs": []
    },
    {
      "cell_type": "code",
      "source": [
        "def display_student(student):\n",
        "    print(f\"\\n학생 이름: {student['name']}\")\n",
        "    for subject_name, info in student['subjects'].items():\n",
        "        print(f\"  {subject_name}: {info['credit']}학점, {info['score']}점, {info['grade']}\")\n",
        "\n",
        "    average_score = calculate_student_average(student)\n",
        "    average_grade = calculate_grade(average_score)\n",
        "    print(f\"➔ 평균 점수: {average_score:.2f}점, 평균 학점: {average_grade}\")\n"
      ],
      "metadata": {
        "id": "hbH83a_o7xbT"
      },
      "execution_count": null,
      "outputs": []
    },
    {
      "cell_type": "code",
      "source": [
        "def main():\n",
        "    students = []\n",
        "\n",
        "    while True:\n",
        "        student = input_student()\n",
        "        if student is None:\n",
        "            break\n",
        "        students.append(student)\n",
        "\n",
        "    for student in students:\n",
        "        display_student(student)\n"
      ],
      "metadata": {
        "id": "l0MISR5X7zCk"
      },
      "execution_count": null,
      "outputs": []
    },
    {
      "cell_type": "code",
      "source": [
        "main()"
      ],
      "metadata": {
        "colab": {
          "base_uri": "https://localhost:8080/"
        },
        "id": "08hKYmUU74em",
        "outputId": "731b650e-63c6-4741-b794-3077fbb2fc88"
      },
      "execution_count": null,
      "outputs": [
        {
          "output_type": "stream",
          "name": "stdout",
          "text": [
            "학생 이름 입력 (종료하려면 'exit'): a\n",
            "a 학생의 과목 수를 입력하세요: 2\n",
            "1번째 과목명을 입력하세요: a\n",
            "2번째 과목명을 입력하세요: b\n",
            "학생 이름 입력 (종료하려면 'exit'): b\n",
            "b 학생의 과목 수를 입력하세요: 10\n",
            "1번째 과목명을 입력하세요: 1\n",
            "2번째 과목명을 입력하세요: 2\n",
            "3번째 과목명을 입력하세요: 3\n",
            "4번째 과목명을 입력하세요: 4\n",
            "5번째 과목명을 입력하세요: 5\n",
            "6번째 과목명을 입력하세요: 6\n",
            "7번째 과목명을 입력하세요: 7\n",
            "8번째 과목명을 입력하세요: 8\n",
            "9번째 과목명을 입력하세요: 9\n",
            "10번째 과목명을 입력하세요: 10\n",
            "학생 이름 입력 (종료하려면 'exit'): exit\n",
            "\n",
            "학생 이름: a\n",
            "  a: 3학점, 57점, C-\n",
            "  b: 3학점, 67점, C+\n",
            "➔ 평균 점수: 62.00점, 평균 학점: C\n",
            "\n",
            "학생 이름: b\n",
            "  1: 2학점, 47점, F\n",
            "  2: 1학점, 95점, A+\n",
            "  3: 2학점, 40점, F\n",
            "  4: 1학점, 69점, C+\n",
            "  5: 1학점, 64점, C\n",
            "  6: 2학점, 73점, B-\n",
            "  7: 3학점, 94점, A\n",
            "  8: 3학점, 99점, A+\n",
            "  9: 3학점, 83점, B+\n",
            "  10: 3학점, 43점, F\n",
            "➔ 평균 점수: 71.67점, 평균 학점: B-\n"
          ]
        }
      ]
    }
  ]
}