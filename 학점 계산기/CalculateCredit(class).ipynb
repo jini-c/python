{
  "nbformat": 4,
  "nbformat_minor": 0,
  "metadata": {
    "colab": {
      "provenance": []
    },
    "kernelspec": {
      "name": "python3",
      "display_name": "Python 3"
    },
    "language_info": {
      "name": "python"
    }
  },
  "cells": [
    {
      "cell_type": "code",
      "execution_count": null,
      "metadata": {
        "id": "kEbbwzzEkSjY"
      },
      "outputs": [],
      "source": [
        "import random\n"
      ]
    },
    {
      "cell_type": "code",
      "source": [
        "class Subject:\n",
        "    def __init__(self, name):\n",
        "        self.name = name\n",
        "        self.credit = random.randint(1, 3)\n",
        "        self.score = random.randint(40, 100)\n",
        "        self.grade = self.calculate_grade()\n",
        "\n",
        "    def calculate_grade(self):\n",
        "        if self.score >= 95:\n",
        "            return 'A+'\n",
        "        elif self.score >= 90:\n",
        "            return 'A'\n",
        "        elif self.score >= 85:\n",
        "            return 'A-'\n",
        "        elif self.score >= 80:\n",
        "            return 'B+'\n",
        "        elif self.score >= 75:\n",
        "            return 'B'\n",
        "        elif self.score >= 70:\n",
        "            return 'B-'\n",
        "        elif self.score >= 65:\n",
        "            return 'C+'\n",
        "        elif self.score >= 60:\n",
        "            return 'C'\n",
        "        elif self.score >= 55:\n",
        "            return 'C-'\n",
        "        elif self.score >= 50:\n",
        "            return 'D'\n",
        "        else:\n",
        "            return 'F'"
      ],
      "metadata": {
        "id": "B7uRGT3Hke_L"
      },
      "execution_count": null,
      "outputs": []
    },
    {
      "cell_type": "code",
      "source": [
        "class Student:\n",
        "    def __init__(self, name):\n",
        "        self.name = name\n",
        "        self.subjects = []\n",
        "\n",
        "    def add_subject(self, subject_name):\n",
        "        subject = Subject(subject_name)\n",
        "        self.subjects.append(subject)\n",
        "\n",
        "    def calculate_average_score(self):\n",
        "        total_score = 0\n",
        "        total_credit = 0\n",
        "        for subject in self.subjects:\n",
        "            total_score += subject.score * subject.credit\n",
        "            total_credit += subject.credit\n",
        "        return total_score / total_credit if total_credit > 0 else 0\n",
        "\n",
        "    def calculate_average_grade(self):\n",
        "        avg_score = self.calculate_average_score()\n",
        "        if avg_score >= 95:\n",
        "            return 'A+'\n",
        "        elif avg_score >= 90:\n",
        "            return 'A'\n",
        "        elif avg_score >= 85:\n",
        "            return 'A-'\n",
        "        elif avg_score >= 80:\n",
        "            return 'B+'\n",
        "        elif avg_score >= 75:\n",
        "            return 'B'\n",
        "        elif avg_score >= 70:\n",
        "            return 'B-'\n",
        "        elif avg_score >= 65:\n",
        "            return 'C+'\n",
        "        elif avg_score >= 60:\n",
        "            return 'C'\n",
        "        elif avg_score >= 55:\n",
        "            return 'C-'\n",
        "        elif avg_score >= 50:\n",
        "            return 'D'\n",
        "        else:\n",
        "            return 'F'\n",
        "\n",
        "    def display_info(self):\n",
        "        print(f\"\\n학생 이름: {self.name}\")\n",
        "        for subject in self.subjects:\n",
        "            print(f\"  {subject.name}: {subject.credit}학점, {subject.score}점, {subject.grade}\")\n",
        "        avg_score = self.calculate_average_score()\n",
        "        avg_grade = self.calculate_average_grade()\n",
        "        print(f\"➔ 평균 점수: {avg_score:.2f}점, 평균 학점: {avg_grade}\")\n"
      ],
      "metadata": {
        "id": "pV6S_EJWkgvu"
      },
      "execution_count": null,
      "outputs": []
    },
    {
      "cell_type": "code",
      "source": [
        "class GradeManager:\n",
        "    def __init__(self):\n",
        "        self.students = []\n",
        "\n",
        "    def add_student(self):\n",
        "        name = input(\"\\n학생 이름 입력 (종료하려면 'exit'): \").strip()\n",
        "        if name.lower() == 'exit':\n",
        "            return False\n",
        "\n",
        "        student = Student(name)\n",
        "        subject_count = int(input(f\"{name} 학생의 과목 수를 입력하세요: \").strip())\n",
        "\n",
        "        for i in range(subject_count):\n",
        "            subject_name = input(f\"{i+1}번째 과목명을 입력하세요: \").strip()\n",
        "            student.add_subject(subject_name)\n",
        "\n",
        "        self.students.append(student)\n",
        "        return True\n",
        "\n",
        "    def display_all_students(self):\n",
        "        for student in self.students:\n",
        "            student.display_info()\n"
      ],
      "metadata": {
        "id": "yWqYkZ3Ttoko"
      },
      "execution_count": null,
      "outputs": []
    },
    {
      "cell_type": "code",
      "source": [
        "def main():\n",
        "    manager = GradeManager()\n",
        "\n",
        "    while True:\n",
        "        if not manager.add_student():\n",
        "            break\n",
        "\n",
        "    manager.display_all_students()\n"
      ],
      "metadata": {
        "id": "NWkmRAGE8OGZ"
      },
      "execution_count": null,
      "outputs": []
    },
    {
      "cell_type": "code",
      "source": [
        "main()"
      ],
      "metadata": {
        "id": "g1H9jql18Pz_"
      },
      "execution_count": null,
      "outputs": []
    }
  ]
}