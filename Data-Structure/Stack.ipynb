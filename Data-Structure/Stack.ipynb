{
  "nbformat": 4,
  "nbformat_minor": 0,
  "metadata": {
    "colab": {
      "provenance": []
    },
    "kernelspec": {
      "name": "python3",
      "display_name": "Python 3"
    },
    "language_info": {
      "name": "python"
    }
  },
  "cells": [
    {
      "cell_type": "code",
      "execution_count": null,
      "metadata": {
        "id": "xMEoLrPo6FqO"
      },
      "outputs": [],
      "source": [
        "class Stack:\n",
        "  def __init__(self):\n",
        "    self.items = []\n",
        "\n",
        "  def isEmpty(self):\n",
        "    return len(self.items) == 0\n",
        "\n",
        "  def size(self):\n",
        "    return len(self.items)\n",
        "\n",
        "  def clear(self):\n",
        "    self.items = []\n",
        "\n",
        "  def push(self, item):\n",
        "    self.items.append(item)\n",
        "\n",
        "  def pop(self):\n",
        "    if self.isEmpty():\n",
        "      return None\n",
        "    return self.items.pop()\n",
        "\n",
        "  def peek(self):\n",
        "    if self.isEmpty():\n",
        "      return None\n",
        "    return self.items[-1]\n",
        "\n",
        "  def __str__(self):\n",
        "    return str(self.items)"
      ]
    },
    {
      "cell_type": "markdown",
      "source": [
        "#Bracket Check(Stack Application1)"
      ],
      "metadata": {
        "id": "ZcHH2QYfCBww"
      }
    },
    {
      "cell_type": "code",
      "source": [
        "class BracketCheck(Stack):\n",
        "    def __init__(self):\n",
        "        super().__init__()\n",
        "        self.pairs = {')': '(', ']': '[', '}': '{'}\n",
        "\n",
        "    def bracket_checker(self, target_check):\n",
        "        for char in target_check:\n",
        "            if char in self.pairs.values():\n",
        "                self.push(char)\n",
        "\n",
        "            elif char in self.pairs:\n",
        "                if self.isEmpty():\n",
        "                    print(\"스택이 비었는데 닫는 괄호가 나옴\")\n",
        "                    return False\n",
        "                top = self.pop()\n",
        "                if top != self.pairs[char]:\n",
        "                    print(f\"짝이 안 맞음: {top} != {self.pairs[char]}\")\n",
        "                    return False\n",
        "\n",
        "            else:\n",
        "                print(f\"{char}는 괄호 아님\")\n",
        "\n",
        "\n",
        "        if not self.isEmpty():\n",
        "            print(\"여는 괄호가 남아있음:\", self.items)\n",
        "            return False\n",
        "\n",
        "        print(\" 괄호 짝이 정확히 맞습니다.\")\n",
        "        return True\n"
      ],
      "metadata": {
        "id": "XhjKap0sIfs_"
      },
      "execution_count": null,
      "outputs": []
    },
    {
      "cell_type": "code",
      "source": [
        "target_check = input(\"검사할 괄호 문자열을 입력하세요: \")\n",
        "checker = BracketCheck()\n",
        "checker.bracket_checker(target_check)\n"
      ],
      "metadata": {
        "colab": {
          "base_uri": "https://localhost:8080/"
        },
        "id": "1q6MGI5MJwXQ",
        "outputId": "78282857-1b72-466d-fa09-2e0a278486f1"
      },
      "execution_count": null,
      "outputs": [
        {
          "output_type": "stream",
          "name": "stdout",
          "text": [
            "검사할 괄호 문자열을 입력하세요: {{{}}((())[[[]]\n",
            "여는 괄호가 남아있음: ['{', '(', '[']\n"
          ]
        },
        {
          "output_type": "execute_result",
          "data": {
            "text/plain": [
              "False"
            ]
          },
          "metadata": {},
          "execution_count": 59
        }
      ]
    },
    {
      "cell_type": "code",
      "source": [
        "class Stack:\n",
        "    def __init__(self):\n",
        "        self.items = []  # 💡 여기서 리스트가 생김 (빈 리스트)\n",
        "\n",
        "    def isEmpty(self):\n",
        "        return len(self.items) == 0\n",
        "\n",
        "    def push(self, item):\n",
        "        print(f\"push({item}) 실행됨\")\n",
        "        self.items.append(item)\n",
        "        print(f\"스택 상태: {self.items}\")\n",
        "\n",
        "    def pop(self):\n",
        "        if self.isEmpty():\n",
        "            return None\n",
        "        popped = self.items.pop()\n",
        "        print(f\"pop() → {popped}\")\n",
        "        print(f\"스택 상태: {self.items}\")\n",
        "        return popped\n",
        "\n",
        "\n",
        "class BracketCheck(Stack):\n",
        "    def __init__(self):\n",
        "        super().__init__()\n",
        "        self.pairs = {')': '(', ']': '[', '}': '{'}\n",
        "\n",
        "    def bracket_checker(self, target_check):\n",
        "        for char in target_check:\n",
        "            print(f\"\\n지금 문자: {char}\")\n",
        "            if char in self.pairs.values():  # 여는 괄호\n",
        "                self.push(char)\n",
        "\n",
        "            elif char in self.pairs:  # 닫는 괄호\n",
        "                if self.isEmpty():\n",
        "                    print(\"❌ 스택이 비었는데 닫는 괄호가 나옴\")\n",
        "                    return False\n",
        "                top = self.pop()\n",
        "                if top != self.pairs[char]:\n",
        "                    print(f\"❌ 짝이 안 맞음: {top} != {self.pairs[char]}\")\n",
        "                    return False\n",
        "\n",
        "            else:\n",
        "                print(f\"{char}는 괄호 아님 → 무시\")\n",
        "\n",
        "        if not self.isEmpty():\n",
        "            print(f\"\\n❌ 여는 괄호가 남아있음: {self.items}\")\n",
        "            return False\n",
        "\n",
        "        print(\"\\n✅ 괄호 짝이 정확히 맞습니다.\")\n",
        "        return True\n",
        "\n",
        "\n",
        "# 실행\n",
        "target_check = input(\"검사할 괄호 문자열을 입력하세요: \")\n",
        "checker = BracketCheck()\n",
        "checker.bracket_checker(target_check)\n"
      ],
      "metadata": {
        "colab": {
          "base_uri": "https://localhost:8080/"
        },
        "id": "BnexYtGsXn2R",
        "outputId": "c451eaae-5072-4e66-9625-789c27a12bf0"
      },
      "execution_count": null,
      "outputs": [
        {
          "output_type": "stream",
          "name": "stdout",
          "text": [
            "검사할 괄호 문자열을 입력하세요: {[(02424)]]\n",
            "\n",
            "지금 문자: {\n",
            "push({) 실행됨\n",
            "스택 상태: ['{']\n",
            "\n",
            "지금 문자: [\n",
            "push([) 실행됨\n",
            "스택 상태: ['{', '[']\n",
            "\n",
            "지금 문자: (\n",
            "push(() 실행됨\n",
            "스택 상태: ['{', '[', '(']\n",
            "\n",
            "지금 문자: 0\n",
            "0는 괄호 아님 → 무시\n",
            "\n",
            "지금 문자: 2\n",
            "2는 괄호 아님 → 무시\n",
            "\n",
            "지금 문자: 4\n",
            "4는 괄호 아님 → 무시\n",
            "\n",
            "지금 문자: 2\n",
            "2는 괄호 아님 → 무시\n",
            "\n",
            "지금 문자: 4\n",
            "4는 괄호 아님 → 무시\n",
            "\n",
            "지금 문자: )\n",
            "pop() → (\n",
            "스택 상태: ['{', '[']\n",
            "\n",
            "지금 문자: ]\n",
            "pop() → [\n",
            "스택 상태: ['{']\n",
            "\n",
            "지금 문자: ]\n",
            "pop() → {\n",
            "스택 상태: []\n",
            "❌ 짝이 안 맞음: { != [\n"
          ]
        },
        {
          "output_type": "execute_result",
          "data": {
            "text/plain": [
              "False"
            ]
          },
          "metadata": {},
          "execution_count": 4
        }
      ]
    },
    {
      "cell_type": "code",
      "source": [
        "class Stack:\n",
        "    def __init__(self):\n",
        "        self.items = []\n",
        "\n",
        "    def isEmpty(self):\n",
        "        return len(self.items) == 0\n",
        "\n",
        "    def push(self, item):\n",
        "        print(f\"🟢 push({item}) 실행됨\")\n",
        "        self.items.append(item)\n",
        "        print(f\"현재 스택 상태 → {self.items}\")\n",
        "\n",
        "    def pop(self):\n",
        "        if self.isEmpty():\n",
        "            print(\"🔴 pop() 호출 → 스택이 비어있음!\")\n",
        "            return None\n",
        "        popped = self.items.pop()\n",
        "        print(f\"🟡 pop() → {popped}\")\n",
        "        print(f\"현재 스택 상태 → {self.items}\")\n",
        "        return popped\n",
        "\n",
        "class BracketCheck(Stack):\n",
        "    def __init__(self):\n",
        "        super().__init__()\n",
        "        self.pairs = {')': '(', '}': '{', ']': '['}\n",
        "\n",
        "    def check(self, expression):\n",
        "      print(f\"입력된 문자열 : '{expression}'\\n\")\n",
        "      for idx, char in enumerate(expression):\n",
        "        print(f\"🔍{idx}번째 문자: '{char}'\")\n",
        "        if char in '([{':\n",
        "          self.push((char, idx)) # 괄호와 위치 함께 저장\n",
        "        elif char in ')}]':\n",
        "          if self.isEmpty():\n",
        "            print(f\"❌ 오류 : {idx}번째 '{char}' → 열림 괄호 없음\")\n",
        "            return False\n",
        "            last_open, last_idx = self.pop()\n",
        "            if last_open != self.pairs[char]:\n",
        "              print(f\"❌ 오류: {idx}번째 '{char}' → {last_idx}번째 '{last_open}'과 매칭 안됨\")\n",
        "              return False\n",
        "\n",
        "        # 남은 괄호 검사\n",
        "        if not self.isEmpty():\n",
        "          while not self.isEmpty():\n",
        "            left, idx = self.pop()\n",
        "            print(f\"❌ 오류: {idx}번째 열린 괄호 '{left}'가 닫히지 않음\")\n",
        "          return False\n",
        "\n",
        "        print(\"✅ 모든 괄호가 정확하게 매칭됨!\\n\")\n",
        "        return True"
      ],
      "metadata": {
        "id": "Qb-vOYKx5szh"
      },
      "execution_count": null,
      "outputs": []
    },
    {
      "cell_type": "code",
      "source": [
        "checker = BracketCheck()\n",
        "\n",
        "expression = \"({[()]})\"\n",
        "result = checker.check(expression)\n",
        "print(\"결과:\", result)\n",
        "\n",
        "print(\"\\n===========================\\n\")\n",
        "\n",
        "expression = \"({[})\"\n",
        "result = checker.check(expression)\n",
        "print(\"결과:\", result)"
      ],
      "metadata": {
        "colab": {
          "base_uri": "https://localhost:8080/"
        },
        "id": "2rvKwQ0a-DCU",
        "outputId": "efcb5b44-6e8f-428a-857a-55fe3bb0eaa1"
      },
      "execution_count": null,
      "outputs": [
        {
          "output_type": "stream",
          "name": "stdout",
          "text": [
            "입력된 문자열 : '({[()]})'\n",
            "\n",
            "🔍0번째 문자: '('\n",
            "🟢 push(('(', 0)) 실행됨\n",
            "현재 스택 상태 → [('(', 0)]\n",
            "🟡 pop() → ('(', 0)\n",
            "현재 스택 상태 → []\n",
            "❌ 오류: 0번째 열린 괄호 '('가 닫히지 않음\n",
            "결과: False\n",
            "\n",
            "===========================\n",
            "\n",
            "입력된 문자열 : '({[})'\n",
            "\n",
            "🔍0번째 문자: '('\n",
            "🟢 push(('(', 0)) 실행됨\n",
            "현재 스택 상태 → [('(', 0)]\n",
            "🟡 pop() → ('(', 0)\n",
            "현재 스택 상태 → []\n",
            "❌ 오류: 0번째 열린 괄호 '('가 닫히지 않음\n",
            "결과: False\n"
          ]
        }
      ]
    }
  ]
}