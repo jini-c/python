{
  "nbformat": 4,
  "nbformat_minor": 0,
  "metadata": {
    "colab": {
      "provenance": []
    },
    "kernelspec": {
      "name": "python3",
      "display_name": "Python 3"
    },
    "language_info": {
      "name": "python"
    }
  },
  "cells": [
    {
      "cell_type": "code",
      "execution_count": null,
      "metadata": {
        "id": "bh9kLpVL-u9b"
      },
      "outputs": [],
      "source": [
        "class Stack:\n",
        "  def __init__(self):\n",
        "    self.items = []\n",
        "\n",
        "  def isEmpty(self):\n",
        "    return len(self.items) == 0\n",
        "\n",
        "  def size(self):\n",
        "    return len(self.items)\n",
        "\n",
        "  def clear(self):\n",
        "    self.items = []\n",
        "\n",
        "  def push(self, item):\n",
        "    self.items.append(item)\n",
        "\n",
        "  def pop(self):\n",
        "    if self.isEmpty():\n",
        "      return None\n",
        "    return self.items.pop()\n",
        "\n",
        "  def peek(self):\n",
        "    if self.isEmpty():\n",
        "      return None\n",
        "    return self.items[-1]\n",
        "\n",
        "  def __str__(self):\n",
        "    return str(self.items)"
      ]
    },
    {
      "cell_type": "code",
      "source": [
        "class Postfix(Stack):\n",
        "  def __init__(self):\n",
        "    super().__init__()\n",
        "\n",
        "  def infix_to_postfix(self, expr): # Step 1: 중위 → 후위\n",
        "    # 1단계 : 토큰 분리\n",
        "    tokens=[] # 분리된 항목을 넣는 공간\n",
        "    current_number='' # 이어붙이는 숫자를 구분하는 임시 공간\n",
        "\n",
        "    for char in expr:\n",
        "      if char.isdigit(): # char이 숫자라면\n",
        "        current_number += char # 숫자가 2자리수라면 이어붙이기 타입은 str\n",
        "      else:\n",
        "        if current_number: # current_number가 비어있지않으면(True)\n",
        "          tokens.append(current_number)  # tokens에 number 추가\n",
        "          current_number = '' # 다음 숫자 or 연산자 받기 위해 초기화\n",
        "        tokens.append(char)\n",
        "\n",
        "    if current_number: # 숫자가 마지막에 남아있는 경우를 위해 추\n",
        "      tokens.append(current_number)\n",
        "\n",
        "    # 2단계 : 토큰을 후위표기식으로 바꾸기 (Shunting Yard 시작)\n",
        "    postfix = [] # 결과 리스트\n",
        "    op_stack = [] # 연산자 스택\n",
        "    precedence = {'+': 1, '-': 1, '*':2, '/':2} # 연산자 우선순위\n",
        "\n",
        "    for token in tokens: # 토큰 분리\n",
        "      if token.isdigit(): # 토큰이 숫자일 경우\n",
        "        postfix.append(token) # 숫자 바로 추가\n",
        "      elif token == '(': # 괄호 추가\n",
        "        op_stack.append(token)\n",
        "      elif token == ')': #\n",
        "        while op_stack and op_stack[-1] != '(':\n",
        "          postfix.append(op_stack.pop()) # 연산자 먼저 만나면 postfix에 추가\n",
        "        op_stack.pop() # '(' 제거\n",
        "\n",
        "      elif token in precedence: # 연산자 추가 로직\n",
        "        while (op_stack and op_stack[-1] != '(' and # 스택 리스트가 비어있는지 괄호가 아닌지 확인\n",
        "               precedence[op_stack[-1]] >= precedence[token]): # 우선순위가 같거나 높다면\n",
        "          postfix.append(op_stack.pop()) # pop해서 연산자 보낸다.\n",
        "\n",
        "        return postfix\n",
        "\n",
        "  def evaluate_postfix(self, postfix_tokens): # Step 2: 후위 계산\n",
        "    self.clear() # 스택 초기화\n",
        "\n",
        "    for token in postfix_tokens: # 후위표기식 토큰 순회\n",
        "      if token.isdigit(): # token이 숫자인 경우\n",
        "        self.push(int(token)) # 정수형으로 바꿔서 스택에 push\n",
        "\n",
        "      else: # 연산자인 경우\n",
        "        b = self.pop() # 스택에서 두 번째 피연산자\n",
        "        a = self.pop() # 스택에서 첫 번째 피연산자\n",
        "\n",
        "        if token == '+': # 사칙연산\n",
        "          result = a+b\n",
        "        elif token == '-':\n",
        "          result = a-b\n",
        "        elif token == '*':\n",
        "          result = a*b\n",
        "        elif token == '/':\n",
        "          result = a//b # 정수 나눗셈\n",
        "\n",
        "        self.push(result) # 결과값 push\n",
        "\n",
        "    return self.pop() # 결과 출력\n",
        "\n",
        "  def evaluate(self, expr): # 전체 실행 : 중위식을 받아서 결과까지 계산\n",
        "    postfix = self.infix_to_postfix(expr) # 외부에서 호출할 수 있는 메서드\n",
        "    return self.evaluate_postfix(postfix) # 후위표기 리스트를 함수에 넘겨서 계산 후 결과값 return"
      ],
      "metadata": {
        "id": "D6LnJrM4-8nM"
      },
      "execution_count": null,
      "outputs": []
    },
    {
      "cell_type": "code",
      "source": [
        "post = Postfix()\n",
        "\n",
        "expr = \"(((14+24)*5)/32)\"\n",
        "result = post.evaluate(expr)\n",
        "\n",
        "print(\"후위표기 계산 결과:\", result)\n"
      ],
      "metadata": {
        "colab": {
          "base_uri": "https://localhost:8080/"
        },
        "id": "LPhRMOOxcHrO",
        "outputId": "199c060a-5688-46ce-c630-23a4d7459ea2"
      },
      "execution_count": null,
      "outputs": [
        {
          "output_type": "stream",
          "name": "stdout",
          "text": [
            "후위표기 계산 결과: 14\n"
          ]
        }
      ]
    }
  ]
}