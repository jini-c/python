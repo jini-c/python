{
  "nbformat": 4,
  "nbformat_minor": 0,
  "metadata": {
    "colab": {
      "provenance": []
    },
    "kernelspec": {
      "name": "python3",
      "display_name": "Python 3"
    },
    "language_info": {
      "name": "python"
    }
  },
  "cells": [
    {
      "cell_type": "code",
      "execution_count": null,
      "metadata": {
        "id": "ZO35LT94eQ61"
      },
      "outputs": [],
      "source": [
        "class Stack:\n",
        "  def __init__(self):\n",
        "    self.items = []\n",
        "\n",
        "  def isEmpty(self):\n",
        "    return len(self.items) == 0\n",
        "\n",
        "  def size(self):\n",
        "    return len(self.items)\n",
        "\n",
        "  def clear(self):\n",
        "    self.items = []\n",
        "\n",
        "  def push(self, item):\n",
        "    self.items.append(item)\n",
        "\n",
        "  def pop(self):\n",
        "    if self.isEmpty():\n",
        "      return None\n",
        "    return self.items.pop()\n",
        "\n",
        "  def peek(self):\n",
        "    if self.isEmpty():\n",
        "      return None\n",
        "    return self.items[-1]\n",
        "\n",
        "  def __str__(self):\n",
        "    return str(self.items)"
      ]
    },
    {
      "cell_type": "code",
      "source": [
        "class MazeSolver(Stack):\n",
        "  def __init__(self, maze, start, goal):\n",
        "    super().__init__() # Stack 초기화\n",
        "    self.maze = maze # 2차원 미로 리스트\n",
        "    self.start = start # 시작 좌표 (x, y)\n",
        "    self.goal = goal # 출구 좌표 (x, y)\n",
        "    self.visited = [[False]*len(maze[0]) for _ in range(len(maze))] # 방문 체크\n",
        "\n",
        "  def solve(self):\n",
        "    self.push(self.start) # 시작 위치 스택에 push\n",
        "\n",
        "    while not self.isEmpty(): # 스택에 위치가 남아 있는 동안 계속 탐색\n",
        "      x,y = self.pop() # 현재 위치 pop\n",
        "\n",
        "      if self.visited[y][x]:\n",
        "        continue # 이미 방문한 위치면 건너뜀\n",
        "\n",
        "      self.visited[y][x] = True # 현재 위치 방문 표시\n",
        "      print(f\"방문: ({x},{y})\") # 탐색 흐름 확인용 출력\n",
        "\n",
        "      if (x, y) == self.goal: # 출구에 도달했으면 종료\n",
        "        print(\"🎉 출구 도착 성공!\")\n",
        "        return True\n",
        "\n",
        "      # 상하좌우 방향을 확인해서 이동 가능한 칸이면 스택에 push\n",
        "      for dx, dy in [(0,-1), (1,0), (0,1),(-1,0)]: # ↑→↓← 순서\n",
        "        nx, ny = x+ dx, y+ dy # 현재 위치 + 좌표값(nx(열), ny(행))\n",
        "        if (0 <= nx <len(self.maze[0]) and # 좌표가 미로의 범위를 벗어나지 않았는지 확인\n",
        "            0 <= ny < len(self.maze) and\n",
        "            self.maze[ny][nx] == '0' and # 위치가 벽이 아닌지 확인\n",
        "            not self.visited[ny][nx]): # 이미 방문한 곳 중복으로 안가는 코드\n",
        "          self.push((nx, ny)) # 조건을 통과한 좌표를 스택에 추가해서 나중에 탐색하도록\n",
        "\n",
        "    print(\"출구에 도달할 수 없습니다.\")\n",
        "    return False"
      ],
      "metadata": {
        "id": "9p9TCS5Ae1wm"
      },
      "execution_count": null,
      "outputs": []
    },
    {
      "cell_type": "code",
      "source": [
        "# 1. 미로 정의\n",
        "maze = [\n",
        "    ['1','1','1','1','1','1'],\n",
        "    ['1','0','0','0','1','1'],\n",
        "    ['1','1','1','0','1','1'],\n",
        "    ['1','0','0','0','0','1'],\n",
        "    ['1','1','1','1','0','1'],\n",
        "    ['1','1','1','0','0','1']\n",
        "]\n",
        "\n",
        "# 2. 시작점과 출구\n",
        "start = (1, 1)   # (x, y)\n",
        "goal = (3, 5)    # (x, y)\n",
        "\n",
        "# 3. 미로 탐색기 생성 및 실행\n",
        "solver = MazeSolver(maze, start, goal)\n",
        "solver.solve()\n"
      ],
      "metadata": {
        "colab": {
          "base_uri": "https://localhost:8080/"
        },
        "id": "gtTPQ7lnkeXo",
        "outputId": "f121810c-79fa-4973-e2b5-2d0be9baa038"
      },
      "execution_count": null,
      "outputs": [
        {
          "output_type": "stream",
          "name": "stdout",
          "text": [
            "방문: (1,1)\n",
            "방문: (2,1)\n",
            "방문: (3,1)\n",
            "방문: (3,2)\n",
            "방문: (3,3)\n",
            "방문: (2,3)\n",
            "방문: (1,3)\n",
            "방문: (4,3)\n",
            "방문: (4,4)\n",
            "방문: (4,5)\n",
            "방문: (3,5)\n",
            "🎉 출구 도착 성공!\n"
          ]
        },
        {
          "output_type": "execute_result",
          "data": {
            "text/plain": [
              "True"
            ]
          },
          "metadata": {},
          "execution_count": 3
        }
      ]
    }
  ]
}