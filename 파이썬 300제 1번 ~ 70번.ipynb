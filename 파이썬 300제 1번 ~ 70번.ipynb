{
  "nbformat": 4,
  "nbformat_minor": 0,
  "metadata": {
    "colab": {
      "provenance": [],
      "authorship_tag": "ABX9TyNrlgYXbYBDwauiJXniYSre",
      "include_colab_link": true
    },
    "kernelspec": {
      "name": "python3",
      "display_name": "Python 3"
    },
    "language_info": {
      "name": "python"
    }
  },
  "cells": [
    {
      "cell_type": "markdown",
      "metadata": {
        "id": "view-in-github",
        "colab_type": "text"
      },
      "source": [
        "<a href=\"https://colab.research.google.com/github/jini-c/exe/blob/main/%ED%8C%8C%EC%9D%B4%EC%8D%AC%20300%EC%A0%9C%201%EB%B2%88%20~%2070%EB%B2%88.ipynb\" target=\"_parent\"><img src=\"https://colab.research.google.com/assets/colab-badge.svg\" alt=\"Open In Colab\"/></a>"
      ]
    },
    {
      "cell_type": "markdown",
      "source": [
        "파이썬 300제 문제 풀이"
      ],
      "metadata": {
        "id": "SiaJpWX0pkxD"
      }
    },
    {
      "cell_type": "markdown",
      "source": [
        "파이썬 시작하기\n",
        "\n",
        "1번 ~ 10번"
      ],
      "metadata": {
        "id": "ufFNZBrZpp4p"
      }
    },
    {
      "cell_type": "code",
      "source": [
        "#1번\n",
        "print(\"Hello World\") #print = 출력\n",
        "#2번\n",
        "print(\"Mary's cosmetics\") #중간 기호 주의해서 print 사용\n",
        "#3번\n",
        "print('신씨가 소리질렀다. \"도둑이야\".') #2번과 같은 문제\n",
        "#4번\n",
        "print('C:\\Windows') #역슬래쉬 표현\n",
        "#5번\n",
        "print(\"안녕하세요. \\n만나서\\t\\t반갑습니다.\") #\\n 줄바꿈 \\t는 4칸 이동\n",
        "#6번\n",
        "print(\"오늘은\", \"일요일\") #여러값 출력 쉼표(,)를 사용한다\n",
        "#7번\n",
        "print(\"naver\", \"kakao\", \"samsung\", sep=\";\") #sep함수를 이용한 출력방법 변경\n",
        "#8번\n",
        "print(\"naver\", \"kakao\", \"sk\", \"samsung\", sep=\"/\") #07번과 같은 문제\n",
        "#9번\n",
        "print(\"first\",end=\"\");print(\"second\") #줄바꿈 없이 출력방법, 세미콜론(;) 한줄에 여러개의 명령어 작성 가능\n",
        "#10번\n",
        "print(5/3) #파이썬은 인터프리터언어로 형변환을 자동으로 해준다"
      ],
      "metadata": {
        "colab": {
          "base_uri": "https://localhost:8080/"
        },
        "id": "-u13yqZ7ptBK",
        "outputId": "685a1d5e-9a7a-46dc-b1e3-e5474f2c8142"
      },
      "execution_count": 3,
      "outputs": [
        {
          "output_type": "stream",
          "name": "stdout",
          "text": [
            "Hello World\n",
            "Mary's cosmetics\n",
            " 신씨가 소리질렀다. \"도둑이야\".\n",
            "C:\\Windows\n",
            " 안녕하세요. \n",
            "만나서\t\t반갑습니다.\n",
            "오늘은 일요일\n",
            "naver;kakao;samsung\n",
            "naver/kakao/sk/samsung\n",
            "firstsecond\n",
            "1.6666666666666667\n"
          ]
        }
      ]
    },
    {
      "cell_type": "markdown",
      "source": [
        "파이썬 변수\n",
        "\n",
        "11번 ~ 20번"
      ],
      "metadata": {
        "id": "O_gaugu8sMYU"
      }
    },
    {
      "cell_type": "code",
      "source": [
        "#11번 변수선언\n",
        "\n",
        "삼성전자 = 50000\n",
        "총평가금액 = 삼성전자*10\n",
        "print(총평가금액)\n",
        "\n",
        "#12번 변수의 타입은?\n",
        "\n",
        "시가총액 = 2980000000000\n",
        "현재가 = 50000\n",
        "PER = 15.79\n",
        "print(시가총액, type(시가총액))\n",
        "print(현재가, type(현재가))\n",
        "print(PER, type(PER))\n",
        "\n",
        "#13번 문자열 출력\n",
        "\n",
        "s = \"hello\"\n",
        "t = \"python\"\n",
        "\n",
        "print(s+\"!\",t)\n",
        "\n",
        "#14번 계산하기/우선순위\n",
        "\n",
        "print(2+2*3)\n",
        "\n",
        "#15번 type함수 사용\n",
        "\n",
        "print(type(\"132\"))\n",
        "\n",
        "#16번 형변환\n",
        "\n",
        "num_str = \"720\"  #형변환\n",
        "num_int = int(num_str)\n",
        "print(num_int+1, type(num_int))\n",
        "\n",
        "#17번 형변환\n",
        "\n",
        "num = 100\n",
        "result = str(num) #형변환\n",
        "print(result, type(result))\n",
        "\n",
        "#18번 형변환(문자->실수)\n",
        "\n",
        "n_str = \"15.79\"\n",
        "n_float = float(n_str) #형변환\n",
        "print(n_float+1.1 , type(n_float))\n",
        "\n",
        "#19번 문자열을 정수로 변환(문자->정수)\n",
        "\n",
        "year = \"2020\"\n",
        "print(int(year)-1)\n",
        "print(int(year)-2)\n",
        "print(int(year)-3)\n",
        "\n",
        "#20번 계산 변수 사용\n",
        "a = 48584\n",
        "b = a*36\n",
        "print(\"월 48584원에 무이자 36개월 조건의 에어컨 가격은\", b )\n"
      ],
      "metadata": {
        "colab": {
          "base_uri": "https://localhost:8080/"
        },
        "id": "nl9lXq4ZrTAY",
        "outputId": "d190bb7b-7d9b-48ec-939e-cee3f517d7b1"
      },
      "execution_count": 23,
      "outputs": [
        {
          "output_type": "stream",
          "name": "stdout",
          "text": [
            "500000\n",
            "2980000000000 <class 'int'>\n",
            "50000 <class 'int'>\n",
            "15.79 <class 'float'>\n",
            "hello! python\n",
            "8\n",
            "<class 'str'>\n",
            "721 <class 'int'>\n",
            "100 <class 'str'>\n",
            "16.89 <class 'float'>\n",
            "2019\n",
            "2018\n",
            "2017\n",
            "월 48584원에 무이자 36개월 조건의 에어컨 가격은 1749024\n"
          ]
        }
      ]
    },
    {
      "cell_type": "markdown",
      "source": [
        "파이썬 문자열\n",
        "\n",
        "21번 ~ 50번"
      ],
      "metadata": {
        "id": "mUJOXF2O0ThL"
      }
    },
    {
      "cell_type": "code",
      "execution_count": 83,
      "metadata": {
        "colab": {
          "base_uri": "https://localhost:8080/"
        },
        "id": "t3CxmZzrpg84",
        "outputId": "3ab463d5-cf55-460d-a068-48a18a6265f7"
      },
      "outputs": [
        {
          "output_type": "stream",
          "name": "stdout",
          "text": [
            "p t\n",
            "2210\n",
            "홀홀홀\n",
            "NOHTYP\n",
            "010 1111 2222\n",
            "01011112222\n",
            "kr\n",
            "Abcdfe2A354A32A\n",
            "abcd\n",
            "aBcd\n",
            "34\n",
            "HiHiHi\n",
            "--------------------------------------------------------------------------------\n",
            "python java python java python java python java \n",
            "이름: 김민수 나이: 10\n",
            "이름: 이철희 나이: 13\n",
            "이름: 김민수 나이: 10\n",
            "이름: 이철희 나이: 13\n",
            "이름: 김민수 나이: 10\n",
            "이름: 이철희 나이: 13\n",
            "5969782550\n",
            "2020/03\n",
            "삼성전자\n",
            "BTC_KRW\n",
            "btc_krw\n",
            "Hello\n"
          ]
        },
        {
          "output_type": "execute_result",
          "data": {
            "text/plain": [
              "True"
            ]
          },
          "metadata": {},
          "execution_count": 83
        }
      ],
      "source": [
        "#21번 문자열 인덱싱\n",
        "\n",
        "letters = \"python\"\n",
        "print(letters[0], letters[2])\n",
        "\n",
        "#22번 문자열 슬라이싱\n",
        "\n",
        "license_plate = \"24가 2210\"\n",
        "print(license_plate[4:])\n",
        "\n",
        "#23번 문자열 인덱싱\n",
        "\n",
        "string = \"홀짝홀짝홀짝\"\n",
        "print(string[::2]) #[시작, 끝, 오프셋]\n",
        "\n",
        "#24번 문자열 슬라이싱\n",
        "\n",
        "string = \"PYTHON\"\n",
        "\n",
        "print(string[::-1])\n",
        "\n",
        "#25번 문자열 치환\n",
        "\n",
        "phone_number = \"010-1111-2222\"\n",
        "phone_number1 = phone_number.replace(\"-\", \" \") #replace 메서드는 문자열 일부 치환이 가능하다. 문자열은 수정할 수 없는 자료형.\n",
        "print(phone_number1)\n",
        "\n",
        "#26번 문자열 다루기\n",
        "\n",
        "phone_number = \"010-1111-2222\"\n",
        "phone_number1 = phone_number.replace('-', '') #기존 문자열 그대로 두고 치환된 새로운 문자열이 리턴된다.\n",
        "print(phone_number1)\n",
        "\n",
        "#27번 문자열 다루기\n",
        "\n",
        "url = \"http:\\\\sharebook.kr\"\n",
        "url_split = url.split('.') #split을 이용하여 .을 기준으로 분리\n",
        "print(url_split[1])\n",
        "\n",
        "#28번 문자열은 immutable\n",
        "\n",
        "#lang = 'python'\n",
        "#lang[0] = 'P' #문자열은 수정 불가. 문자열은 할당 메서드 지원하지 않음\n",
        "#print(lang)\n",
        "\n",
        "#29번 replace 메서드\n",
        "\n",
        "string = 'abcdfe2a354a32a'\n",
        "string = string.replace('a', 'A')\n",
        "print(string)\n",
        "\n",
        "#30번 replace 메서드 29번은 a가 대문자로 바뀌었지만 30번은 똑같은 값이 출력됨 이유는 문자열은 변경할 수 없는 자료형이기 때문이다.\n",
        "\n",
        "string = 'abcd'\n",
        "string.replace( 'b', 'B') #원본은 그대로 둔채로 변경된 새로운 문자열 객체를 리턴해준다.\n",
        "print(string)\n",
        "string = string.replace( 'b', 'B')\n",
        "print(string)\n",
        "\n",
        "#31번 문자열 합치기\n",
        "\n",
        "a = \"3\"\n",
        "b = \"4\"\n",
        "print(a+b) #문자열이기 때문에 7이 아닌 34가 출력\n",
        "\n",
        "#32번 문자열 곱하기\n",
        "\n",
        "print(\"Hi\"*3)\n",
        "\n",
        "#33번 문자열 곱하기\n",
        "\n",
        "print(\"-\"*80)\n",
        "\n",
        "#34번 문자열 곱하기\n",
        "\n",
        "t1 = 'python'\n",
        "t2 = 'java'\n",
        "t3 = t1 + ' ' + t2 + ' ' #띄어쓰기를 위해 새로운 변수 정의\n",
        "print(t3*4)\n",
        "\n",
        "#35번 문자열 출력\n",
        "\n",
        "name1 = \"김민수\"\n",
        "age1 = 10\n",
        "name2 = \"이철희\"\n",
        "age2 = 13\n",
        "print(\"이름: %s 나이: %d\" % (name1, age1)) #% formating을 사용하려면 \"포맷 문자열\" % 값\n",
        "print(\"이름: %s 나이: %d\" % (name2, age2)) #\"포맷 문자열 %s %d\" % (값1, 값2)\n",
        "\n",
        "#36번 문자열 출력 format() 매서드\n",
        "\n",
        "name1 = \"김민수\"\n",
        "age1 = 10\n",
        "name2 = \"이철희\"\n",
        "age2 = 13\n",
        "\n",
        "print(\"이름: {} 나이: {}\".format(name1, age1))\n",
        "print(\"이름: {} 나이: {}\".format(name2, age2))\n",
        "\n",
        "#37번 f-string 사용\n",
        "\n",
        "name1 = \"김민수\"\n",
        "age1 = 10\n",
        "name2 = \"이철희\"\n",
        "age2 = 13\n",
        "\n",
        "print(f\"이름: {name1} 나이: {age1}\")\n",
        "print(f\"이름: {name2} 나이: {age2}\")\n",
        "\n",
        "#38번 컴마 제거하기\n",
        "\n",
        "a = \"5,969,782,550\"\n",
        "b = a.replace(\",\",\"\") #replace로 , 제거\n",
        "c = int(b) #형변환\n",
        "print(c)\n",
        "\n",
        "#39번 문자열 슬라이싱\n",
        "\n",
        "분기 = \"2020/03(E) (IFRS연결)\"\n",
        "print(분기[:7])\n",
        "\n",
        "#40번 strip 메서드\n",
        "\n",
        "data = \"    삼성전자    \"\n",
        "data1 = data.strip() #strip을 이용하면 좌우 공백이 사라진 새로운 문자열이 반환된다.\n",
        "print(data1)\n",
        "\n",
        "#41번 upper 메서드\n",
        "\n",
        "ticker = \"btc_krw\"\n",
        "print(ticker.upper()) #upper을 사용하면 대문자로 만들 수 있다. 새로운 객체가 반환되는 것\n",
        "\n",
        "#42번 lower 메서드\n",
        "\n",
        "ticker = \"BTC_KRW\"\n",
        "print(ticker.lower()) #lower 메서드를 사용하면 소문자로 만들 수 있다. 이 경우도 새로운 객체가 반환되는 것이다.\n",
        "\n",
        "#43번 a.capitalize()\n",
        "\n",
        "a = \"hello\"\n",
        "a = a.capitalize() #첫 번째 문자를 대문자로 바꾸고, 나머지 문자들은 소문자로 변경. 새로운 객체가 반환\n",
        "print(a)"
      ]
    },
    {
      "cell_type": "code",
      "source": [
        "#44번 endswith 메서드\n",
        "\n",
        "file_name = \"보고서.xlsx\"\n",
        "file_name.endswith(\"xlsx\") #문자열이 특정 문자 또는 문자열로 끝나는지 여부를 확인. 논리값 반환"
      ],
      "metadata": {
        "id": "RX5wN8mXBSNq"
      },
      "execution_count": null,
      "outputs": []
    },
    {
      "cell_type": "code",
      "source": [
        "#45번 endswith 메서드\n",
        "\n",
        "file_name = \"보고서.xlsx\"\n",
        "file_name.endswith((\"xlsx\", \"xls\")) #튜플 중 하나만 맞아도 True값을 반환한다."
      ],
      "metadata": {
        "id": "xhKJDp9WBSBa"
      },
      "execution_count": null,
      "outputs": []
    },
    {
      "cell_type": "code",
      "source": [
        "#46번 startswith 메서드\n",
        "\n",
        "file_name = \"2020_보고서.xlsx\"\n",
        "file_name.startswith(\"2020\") #문자열이 특정 문자 또는 문자열로 시작하는지 여부를 확인. 논리값 반환"
      ],
      "metadata": {
        "colab": {
          "base_uri": "https://localhost:8080/"
        },
        "id": "Wn7z3wJ7BO0C",
        "outputId": "246e0528-955d-45d4-d7a0-b3e7724f9f66"
      },
      "execution_count": 86,
      "outputs": [
        {
          "output_type": "execute_result",
          "data": {
            "text/plain": [
              "True"
            ]
          },
          "metadata": {},
          "execution_count": 86
        }
      ]
    },
    {
      "cell_type": "code",
      "source": [
        "#47번 split 메서드\n",
        "\n",
        "a = \"hello world\"\n",
        "a.split() #split 메서드는 문자열에서 공백을 기준으로 분리해준다."
      ],
      "metadata": {
        "colab": {
          "base_uri": "https://localhost:8080/"
        },
        "id": "3k3iMTGQBdse",
        "outputId": "3369e96a-389e-45f6-cc68-278acd797c74"
      },
      "execution_count": 88,
      "outputs": [
        {
          "output_type": "stream",
          "name": "stdout",
          "text": [
            "['hello', 'world']\n"
          ]
        }
      ]
    },
    {
      "cell_type": "code",
      "source": [
        "#48번 split 메서드\n",
        "\n",
        "ticker = \"btc_krw\"\n",
        "ticker.split(\"_\") #_값을 넘겨줘서 _값을 기준으로 분리"
      ],
      "metadata": {
        "colab": {
          "base_uri": "https://localhost:8080/"
        },
        "id": "7e_krCxiBv_f",
        "outputId": "2383be77-96cd-4f4c-c413-bc51cdf85a4c"
      },
      "execution_count": 89,
      "outputs": [
        {
          "output_type": "execute_result",
          "data": {
            "text/plain": [
              "['btc', 'krw']"
            ]
          },
          "metadata": {},
          "execution_count": 89
        }
      ]
    },
    {
      "cell_type": "code",
      "source": [
        "#49번 split 메서드\n",
        "\n",
        "date = \"2020-05-01\"\n",
        "date.split(\"-\") #-을 기준으로 분리"
      ],
      "metadata": {
        "colab": {
          "base_uri": "https://localhost:8080/"
        },
        "id": "J4ZvQBtuB_F7",
        "outputId": "b16e96dd-a527-49ad-a305-7cb4f32585a2"
      },
      "execution_count": 90,
      "outputs": [
        {
          "output_type": "execute_result",
          "data": {
            "text/plain": [
              "['2020', '05', '01']"
            ]
          },
          "metadata": {},
          "execution_count": 90
        }
      ]
    },
    {
      "cell_type": "code",
      "source": [
        "#50번 rstrip 메서드\n",
        "\n",
        "data = \"039490        \"\n",
        "data.rstrip()\n",
        "\"\"\"오른쪽 공백이 제거된 새로운 문자열 객체가 반환됩니다. data라는 변수가 새로 바인딩합니다.\n",
        "기존의 공백이 포함된 문자열은 메모리에서 자동으로 삭제\"\"\"\n",
        "\n",
        "a = \"           242424\"\n",
        "a.lstrip()\n",
        "\n",
        "\"\"\"왼쪽 공백이 제거된 새로운 문자열 객체가 반환됩니다. a라는 변수가 새로 바인딩합니다.\n",
        "기존의 공백이 포함된 문자열은 메모리에서 자동으로 삭제\"\"\"\n"
      ],
      "metadata": {
        "colab": {
          "base_uri": "https://localhost:8080/",
          "height": 35
        },
        "id": "YMPjXEJmCItG",
        "outputId": "07474b1a-1423-4a25-f137-7bbd0d326c77"
      },
      "execution_count": 92,
      "outputs": [
        {
          "output_type": "execute_result",
          "data": {
            "text/plain": [
              "'242424'"
            ],
            "application/vnd.google.colaboratory.intrinsic+json": {
              "type": "string"
            }
          },
          "metadata": {},
          "execution_count": 92
        }
      ]
    },
    {
      "cell_type": "markdown",
      "source": [
        "STRIP에 관환 설명\n",
        "\n",
        "![142.PNG](data:image/png;base64,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)\n",
        "\n",
        "오른쪽 공백이 제거된 새로운 문자열 객체가 반환됩니다. data라는 변수가 새로 바인딩합니다.\n",
        "기존의 공백이 포함된 문자열은 메모리에서 자동으로 삭제"
      ],
      "metadata": {
        "id": "6flKVlrXCtdQ"
      }
    },
    {
      "cell_type": "markdown",
      "source": [
        "파이썬 리스트\n",
        "\n",
        "\n",
        "51번 ~ 70번"
      ],
      "metadata": {
        "id": "fTandBT6DE84"
      }
    },
    {
      "cell_type": "code",
      "source": [
        "#51번 리스트 생성\n",
        "\n",
        "MovieRank=[\"닥터 스트레인지\", \"스플릿\", \"럭키\"]\n",
        "\n",
        "#52번 리스트에 원소 추가\n",
        "\n",
        "MovieRank.append(\"배트맨\") #append()를 사용해서 리스트에 추가해준다.\n",
        "\n",
        "#53번 리스트에 원소 추가\n",
        "\n",
        "MovieRank.insert(1 , \"슈퍼맨\") #insert를 사용하면 특정위치에 값을 끼어넣을 수 있다.\n",
        "\n",
        "#54번 리스트에 원소 삭제\n",
        "\n",
        "del MovieRank[3] #del를 사용하면 삭제를 시킬수있다.\n",
        "\n",
        "#55번 리스트에 원소 삭제\n",
        "\n",
        "MovieRank1 = [\"닥터 스트레인지\", \"슈퍼맨\", \"스플릿\", \"배트맨\"]\n",
        "del MovieRank1[2] #del를 리스트에 원소 삭제 가능\n",
        "del MovieRank1[2] #del 삭제 후 새로운 값을 인덱싱합니다. 새로 인덱싱된 값을 생각해서 삭제해야한다.\n",
        "print(MovieRank1)\n",
        "\n",
        "#56번 리스트 합치기\n",
        "\n",
        "lang1 = [\"C\", \"C++\", \"JAVA\"]\n",
        "lang2 = [\"Python\", \"Go\", \"C#\"]\n",
        "langs = lang1 + lang2 #리스트를 합치려면 +이용해주면된다.\n",
        "print(langs)\n",
        "\n",
        "#57번 리스트 최댓값 최솟값 출력\n",
        "\n",
        "nums = [1, 2, 3, 4, 5, 6, 7]\n",
        "print(\"max: \", max(nums)) #최댓값은 max()\n",
        "print(\"min: \", min(nums)) #최솟값은 min()\n",
        "\n",
        "#58번 리스트의 합\n",
        "\n",
        "nums = [1, 2, 3 ,4, 5]\n",
        "print(\"sum =\", sum(nums)) #합은 sum()을 이용해준다\n",
        "\n",
        "#59번 리스트의 저정된 데이터의 개수\n",
        "\n",
        "cook = [\"피자\", \"김밥\", \"만두\", \"양념치킨\", \"족발\", \"피자\", \"김치만두\", \"쫄면\", \"소시지\", \"라면\", \"팥빙수\", \"김치전\"]\n",
        "print(\"데이터개수는\", len(cook)) #len은 안에 들어있는 데이터 개수를 알려준다\n",
        "\n",
        "#60번 리스트의 평균\n",
        "\n",
        "nums = [1, 2, 3, 4, 5]\n",
        "average = sum(nums) / len(nums)\n",
        "print(average)\n",
        "\n",
        "#61번 슬라이싱\n",
        "\n",
        "price = ['20180728', 100, 130, 140, 150, 160, 170]\n",
        "print(price[1:])\n",
        "\n",
        "#62번 슬라이싱\n",
        "\n",
        "nums = [1, 2, 3, 4, 5, 6, 7, 8, 9, 10]\n",
        "print(nums[0::2])\n",
        "\n",
        "#63번 슬라이싱\n",
        "\n",
        "nums = [1, 2, 3, 4, 5, 6, 7, 8, 9, 10]\n",
        "print(nums[1::2])\n",
        "\n",
        "#64번 슬라이싱\n",
        "\n",
        "nums = [1, 2, 3, 4, 5, 6, 7, 8, 9, 10]\n",
        "print(nums[::-1])\n",
        "\n",
        "#65번 list 출력\n",
        "\n",
        "interest = ['삼성전자', 'LG전자', 'Naver']\n",
        "print(interest[0], interest[2])\n",
        "\n",
        "#66번 join 메서드\n",
        "\n",
        "interest = ['삼성전자', 'LG전자', 'Naver', 'SK하이닉스', '미래에셋대우']\n",
        "print(\" \".join(interest)) #join 매서드로 공백을 추가해줘서 데이터 중간에 공백을 추가할 수 있다.\n",
        "\n",
        "#67번 join 매서드\n",
        "\n",
        "interest = ['삼성전자', 'LG전자', 'Naver', 'SK하이닉스', '미래에셋대우']\n",
        "print(\"/\".join(interest))\n",
        "\n",
        "#68번 join 매서드\n",
        "\n",
        "interest = ['삼성전자', 'LG전자', 'Naver', 'SK하이닉스', '미래에셋대우']\n",
        "print(\"\\n\".join(interest))\n",
        "\n",
        "#69번 split 매서드\n",
        "\n",
        "string = \"삼성전자/LG전자/Naver\"\n",
        "interest = string.split(\"/\") #/을 기준으로 문자를 분리해주고 interest에 새로 저장\n",
        "print(interest)\n",
        "\n",
        "#70번 리스트 정렬\n",
        "\n",
        "data = [2, 4, 3, 1, 5, 10, 9]\n",
        "data.sort() #sort()를 사용하면 default값은 오름차순으로 정의된다.\n",
        "print(data)\n"
      ],
      "metadata": {
        "colab": {
          "base_uri": "https://localhost:8080/"
        },
        "id": "mEwde17mDOuk",
        "outputId": "87e72e21-76db-4dbc-a1d7-76f8c1df51db"
      },
      "execution_count": 119,
      "outputs": [
        {
          "output_type": "stream",
          "name": "stdout",
          "text": [
            "['닥터 스트레인지', '슈퍼맨']\n",
            "['C', 'C++', 'JAVA', 'Python', 'Go', 'C#']\n",
            "max:  7\n",
            "min:  1\n",
            "sum = 15\n",
            "데이터개수는 12\n",
            "3.0\n",
            "[100, 130, 140, 150, 160, 170]\n",
            "[1, 3, 5, 7, 9]\n",
            "[2, 4, 6, 8, 10]\n",
            "[10, 9, 8, 7, 6, 5, 4, 3, 2, 1]\n",
            "삼성전자 Naver\n",
            "삼성전자 LG전자 Naver SK하이닉스 미래에셋대우\n",
            "삼성전자/LG전자/Naver/SK하이닉스/미래에셋대우\n",
            "삼성전자\n",
            "LG전자\n",
            "Naver\n",
            "SK하이닉스\n",
            "미래에셋대우\n",
            "['삼성전자', 'LG전자', 'Naver']\n",
            "[1, 2, 3, 4, 5, 9, 10]\n"
          ]
        }
      ]
    },
    {
      "cell_type": "markdown",
      "source": [],
      "metadata": {
        "id": "rPfIuwCaBCCO"
      }
    }
  ]
}