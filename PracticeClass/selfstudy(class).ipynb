{
  "nbformat": 4,
  "nbformat_minor": 0,
  "metadata": {
    "colab": {
      "provenance": []
    },
    "kernelspec": {
      "name": "python3",
      "display_name": "Python 3"
    },
    "language_info": {
      "name": "python"
    }
  },
  "cells": [
    {
      "cell_type": "code",
      "source": [
        "#1단계 클래스 구조잡기\n",
        "\n",
        "class Student:\n",
        "  def __init__(self, st_id, st_name, st_year, st_major):\n",
        "    self.student_id = st_id\n",
        "    self.student_name = st_name\n",
        "    self.student_year - st_year\n",
        "    self.student_major = st_major\n",
        "\n",
        "  def sugang(self, st_id, st_name, st_year):\n",
        "    return True\n",
        "\n",
        "  def search_score(self, st_id):\n",
        "    return True\n",
        "\n",
        "  def search_attending(self, st_id):\n",
        "    return True"
      ],
      "metadata": {
        "id": "9T7atp8glBFF"
      },
      "execution_count": null,
      "outputs": []
    },
    {
      "cell_type": "code",
      "execution_count": null,
      "metadata": {
        "id": "_je1okIejJg3"
      },
      "outputs": [],
      "source": [
        "#2단계 클래스와 객체 간의 관계 파악\n",
        "class Student:\n",
        "  def __init__(self, st_id, st_name, st_year, st_major):\n",
        "    self.student_id = st_id\n",
        "    self.student_name = st_name\n",
        "    self.student_year = st_year\n",
        "    self.student_major = st_major\n",
        "\n",
        "  def sugang(self):\n",
        "    print(self.student_name+'의 수강신청입니다.\\n')\n",
        "    return True\n",
        "\n",
        "  def search_score(self):\n",
        "    print(self.student_name+'의 성적증명입니다.\\n')\n",
        "    return True\n",
        "\n",
        "  def search_attending(self):\n",
        "    print(self.student_name+'의 재학증명입니다.\\n')\n",
        "    return True"
      ]
    },
    {
      "cell_type": "code",
      "source": [
        "Hong = Student(2023212, 'HONG', 1, 'Softwear')\n",
        "Hong.sugang()\n",
        "Hong.search_score()\n",
        "Hong.search_attending()\n",
        "\n",
        "Kim = Student(2023213, 'KIM', 1, 'Computer')\n",
        "Kim.sugang()\n",
        "Kim.search_score()\n",
        "Kim.search_attending()"
      ],
      "metadata": {
        "colab": {
          "base_uri": "https://localhost:8080/"
        },
        "id": "A20tqmCxmFYb",
        "outputId": "7e2eb2ad-f4d7-4cff-cc2c-31d9a2a455d4"
      },
      "execution_count": null,
      "outputs": [
        {
          "output_type": "stream",
          "name": "stdout",
          "text": [
            "HONG의 수강신청입니다.\n",
            "\n",
            "HONG의 성적증명입니다.\n",
            "\n",
            "HONG의 재학증명입니다.\n",
            "\n",
            "KIM의 수강신청입니다.\n",
            "\n",
            "KIM의 성적증명입니다.\n",
            "\n",
            "KIM의 재학증명입니다.\n",
            "\n"
          ]
        },
        {
          "output_type": "execute_result",
          "data": {
            "text/plain": [
              "True"
            ]
          },
          "metadata": {},
          "execution_count": 33
        }
      ]
    },
    {
      "cell_type": "code",
      "source": [
        "#__str__ 메소드\n",
        "\n",
        "class Student:\n",
        "  def __init__(self, st_id, st_name, st_year, st_major):\n",
        "    self.student_id = st_id\n",
        "    self.student_name = st_name\n",
        "    self.student_year = st_year\n",
        "    self.student_major = st_major\n",
        "\n",
        "  def __str__(self):\n",
        "    return f'학번은 {self.student_id}, 이름은{self.student_name}, {self.student_year}학년, 학과는 {self.student_major}\\n'\n",
        "\n",
        "  def sugang(self):\n",
        "    print(self.student_name+'의 수강신청입니다.\\n')\n",
        "    return True\n",
        "\n",
        "  def search_score(self):\n",
        "    print(self.student_name+'의 성적증명입니다.\\n')\n",
        "    return True\n",
        "\n",
        "  def search_attending(self):\n",
        "    print(self.student_name+'의 재학증명입니다.\\n')\n",
        "    return True\n"
      ],
      "metadata": {
        "id": "UjD2Rxtfn23t"
      },
      "execution_count": null,
      "outputs": []
    },
    {
      "cell_type": "code",
      "source": [
        "print(Hong)\n",
        "print(Kim)"
      ],
      "metadata": {
        "colab": {
          "base_uri": "https://localhost:8080/"
        },
        "id": "rLVO3HRvoph0",
        "outputId": "1b7f1361-b712-4211-ed3c-6ea36128956e"
      },
      "execution_count": null,
      "outputs": [
        {
          "output_type": "stream",
          "name": "stdout",
          "text": [
            "학번은 2023212, 이름은HONG, 1학년, 학과는 Softwear\n",
            "\n",
            "학번은 2023213, 이름은KIM, 1학년, 학과는 Computer\n",
            "\n"
          ]
        }
      ]
    },
    {
      "cell_type": "markdown",
      "source": [
        "#__dict__ 메소드\n",
        "\n",
        "클래스를 사용하는 객체가 클래스 안의 어떤 변수를 사용하는지 확인"
      ],
      "metadata": {
        "id": "SBCUGnsyqWyU"
      }
    },
    {
      "cell_type": "code",
      "source": [
        "Hong.__dict__"
      ],
      "metadata": {
        "colab": {
          "base_uri": "https://localhost:8080/"
        },
        "id": "kBKlnZn7qG6s",
        "outputId": "2543ab89-56ee-41f3-e7d6-285a00d1c29b"
      },
      "execution_count": null,
      "outputs": [
        {
          "output_type": "execute_result",
          "data": {
            "text/plain": [
              "{'student_id': 2023212,\n",
              " 'student_name': 'HONG',\n",
              " 'student_year': 1,\n",
              " 'student_major': 'Softwear'}"
            ]
          },
          "metadata": {},
          "execution_count": 39
        }
      ]
    },
    {
      "cell_type": "markdown",
      "source": [
        "#클래스 멤버 변수와 함수\n",
        "\n",
        "    멤버 변수 : 클래스 안에서 사용되는 변수들의 모임"
      ],
      "metadata": {
        "id": "4e8t_cSyrWm0"
      }
    },
    {
      "cell_type": "code",
      "source": [
        "class Student:\n",
        "  id_list=0\n",
        "  name_list=' '\n",
        "  year_list=0\n",
        "  major_list=' '\n",
        "\n",
        "  def add_list(self, st_id, st_name, st_year, st_major):\n",
        "    self.id_list = st_id\n",
        "    self.name_list = st_name\n",
        "    self.year_list = st_year\n",
        "    self.major_list = st_major\n"
      ],
      "metadata": {
        "id": "J2vTpncArcFM"
      },
      "execution_count": null,
      "outputs": []
    },
    {
      "cell_type": "code",
      "source": [
        "Hong = Student()\n",
        "Hong.add_list(2023212, 'HONG', 1, 'Softwear')\n",
        "print('Hong 객체의 id =', Hong.id_list, '이름 =', Hong.name_list,'학년 =', Hong.year_list, '학과 =', Hong.major_list, '\\n')"
      ],
      "metadata": {
        "colab": {
          "base_uri": "https://localhost:8080/"
        },
        "id": "RqPVOVF_sYOd",
        "outputId": "b4df7eb8-918e-4917-cf60-f04845831683"
      },
      "execution_count": null,
      "outputs": [
        {
          "output_type": "stream",
          "name": "stdout",
          "text": [
            "Hong 객체의 id = 2023212 이름 = HONG 학년 = 1 학과 = Softwear \n",
            "\n"
          ]
        }
      ]
    },
    {
      "cell_type": "markdown",
      "source": [
        "#캡슐화\n",
        "\n",
        "1.    일반적으로 언더스코어(_)로 시작하는 이름은 비공개로 간주\n",
        "\n",
        "2.    목적\n",
        "\n",
        "*   클래스 밖에서 정보 값들이 노출되지 않도록 함\n",
        "\n",
        "*   클래스 안에서만 사용하도록 하는 것\n",
        "\n",
        "3.    캡슐화의 장점\n",
        "\n",
        "*    보안 향상\n",
        "\n",
        "*    함수 및 변수에 대한 값들을 보호할 수 있음\n",
        "4.    언더스코어(_)를 사용하면 변수나 함수를 직접 변경하지 않고, 클래스 안에 있는 내용을 가지고 결과값을 만\n"
      ],
      "metadata": {
        "id": "NXNHeP2wtR6t"
      }
    },
    {
      "cell_type": "code",
      "source": [
        "class Student:\n",
        "  _id_list=0\n",
        "  _name_list=' '\n",
        "  _year_list=0\n",
        "  _major_list=' '\n",
        "\n",
        "  def __init__(self, st_id, st_name, st_year, st_major):\n",
        "    self._id = st_id\n",
        "    self._name = st_name\n",
        "    self._year = st_year\n",
        "    self._major = st_major\n",
        "    self._add_list()\n",
        "\n",
        "  def _add_list(self):\n",
        "    self._id_list = self._id\n",
        "    self._name_list = self._name\n",
        "    self._year_list = self._year\n",
        "    self._major_list = self._major"
      ],
      "metadata": {
        "id": "KjF-B4lvtYZU"
      },
      "execution_count": null,
      "outputs": []
    },
    {
      "cell_type": "code",
      "source": [
        "Hong = Student(2023212, 'HONG', 1, 'Softwear')\n",
        "print('Hong 객체의 id =', Hong._id_list, '이름 =', Hong._name_list,'학년 =', Hong._year_list, '학과 =', Hong._major_list, '\\n')"
      ],
      "metadata": {
        "colab": {
          "base_uri": "https://localhost:8080/"
        },
        "id": "rtSd_prNufQO",
        "outputId": "ea95b607-d533-4a24-8a3a-9245a0e5db49"
      },
      "execution_count": null,
      "outputs": [
        {
          "output_type": "stream",
          "name": "stdout",
          "text": [
            "Hong 객체의 id = 2023212 이름 = HONG 학년 = 1 학과 = Softwear \n",
            "\n"
          ]
        }
      ]
    },
    {
      "cell_type": "markdown",
      "source": [
        "#get-set\n",
        "\n",
        "*    get 정보 가져오기 set 정보 설정하기\n",
        "\n",
        "*    안에 내용물을 세팅할 수 있음\n",
        "\n",
        "*    클래스의 원본 틀 보존\n",
        "\n",
        "*    프로세스 및 로직 보호\n",
        "\n",
        "*    클래스 안에 정보 조작이나 제어 가능"
      ],
      "metadata": {
        "id": "rdn4lsOSvNyF"
      }
    },
    {
      "cell_type": "code",
      "source": [
        "class Student:\n",
        "  _id_list=0\n",
        "  _name_list=' '\n",
        "  _year_list=0\n",
        "  _major_list=' '\n",
        "\n",
        "  def __init__(self, st_id, st_name, st_year, st_major):\n",
        "    self._id = st_id\n",
        "    self._name = st_name\n",
        "    self._year = st_year\n",
        "    self._major = st_major\n",
        "    self._add_list()\n",
        "\n",
        "  def _add_list(self):\n",
        "    self._id_list = self._id\n",
        "    self._name_list = self._name\n",
        "    self._year_list = self._year\n",
        "    self._major_list = self._major\n",
        "\n",
        "  def set_year(self, year):\n",
        "    self._year_list = year\n",
        "\n",
        "  def set_major(self, major):\n",
        "    self._major_list = major\n",
        "\n",
        "  def get_year(self):\n",
        "    return self._year_list\n",
        "\n",
        "  def get_major(self):\n",
        "    return self._major_list"
      ],
      "metadata": {
        "id": "VUbftKIOvuKt"
      },
      "execution_count": null,
      "outputs": []
    },
    {
      "cell_type": "code",
      "source": [
        "Hong = Student(2023212, 'HONG', 1, 'Softwear')\n",
        "Hong.set_year(2)\n",
        "Hong.set_major('Economics')\n",
        "\n",
        "print('Hong은', Hong.get_major(), Hong.get_year(),'학년입니다')"
      ],
      "metadata": {
        "colab": {
          "base_uri": "https://localhost:8080/"
        },
        "id": "AOlrtC3XwIcs",
        "outputId": "c5c93fc4-9206-43c9-eb6f-597631b85a09"
      },
      "execution_count": null,
      "outputs": [
        {
          "output_type": "stream",
          "name": "stdout",
          "text": [
            "Hong은 Economics 2 학년입니다\n"
          ]
        }
      ]
    },
    {
      "cell_type": "markdown",
      "source": [
        "#클래스의 상속(Inheritance)"
      ],
      "metadata": {
        "id": "JbatBvfhxEel"
      }
    },
    {
      "cell_type": "code",
      "source": [
        "class Car:\n",
        "  def __init__(self, Wheels, Doors, Engine): #__init__ 상속자,(매개변수)\n",
        "    self.num_wheels = Wheels\n",
        "    self.num_doors = Doors\n",
        "    self.type_engine = Engine\n",
        "\n",
        "  def get_types(self): #get을 가지고 값을 가져온다.\n",
        "    wheels_str = '바퀴는 '+self.num_wheels+'개,'\n",
        "    doors_str ='문은 '+self.num_doors+'개,'\n",
        "    engine_str = '엔진은 '+self.type_engine+'cc,'\n",
        "    return wheels_str+doors_str+engine_str"
      ],
      "metadata": {
        "id": "D8kWyS75ycGN"
      },
      "execution_count": null,
      "outputs": []
    },
    {
      "cell_type": "code",
      "source": [
        "#Car의 하위클래스\n",
        "\n",
        "class SUV(Car): #하위클래스(상위클래스)\n",
        "  def __init__(self,Wheels,Doors,Engine,Cor):\n",
        "    super().__init__(Wheels, Doors, Engine) #super() 상위클래스인 Car클래스를 가져오는것\n",
        "    self.company = Cor\n",
        "\n",
        "  def get_SUV_type(self):\n",
        "    return 'SUV의 '+super().get_types()+'제조사는 '+self.company"
      ],
      "metadata": {
        "id": "_6sqMickzthl"
      },
      "execution_count": null,
      "outputs": []
    },
    {
      "cell_type": "code",
      "source": [
        "#Car의 하위클래스\n",
        "\n",
        "class SportsCar(Car):\n",
        "  def __init__(self, Wheels, Doors, Engine, Cor, Col):\n",
        "    super().__init__(Wheels, Doors, Engine)\n",
        "    self.company = Cor\n",
        "    self.color = Col\n",
        "\n",
        "  def get_Sports_type(self):\n",
        "    return '스포츠카의 '+super().get_types()+'제조사는 '+self.company+', 색상은 '+self.color\n",
        "\n"
      ],
      "metadata": {
        "id": "mghKRMQJ0X7u"
      },
      "execution_count": null,
      "outputs": []
    },
    {
      "cell_type": "code",
      "source": [
        "#실행시 매개변수 확인\n",
        "suv = SUV('4','4','2000cc','Kia')\n",
        "sport = SportsCar('4','4','2000cc','Hyundai','Red')\n",
        "\n",
        "print(suv.get_SUV_type())\n",
        "print(sport.get_Sports_type())"
      ],
      "metadata": {
        "colab": {
          "base_uri": "https://localhost:8080/"
        },
        "id": "wKj_ufJt1E_W",
        "outputId": "8c53fc8b-6284-449d-a1b1-3eac30fcd0a6"
      },
      "execution_count": null,
      "outputs": [
        {
          "output_type": "stream",
          "name": "stdout",
          "text": [
            "SUV의 바퀴는 4개,문은 4개,엔진은 2000cccc,제조사는 Kia\n",
            "스포츠카의 바퀴는 4개,문은 4개,엔진은 2000cccc,제조사는 Hyundai, 색상은 Red\n"
          ]
        }
      ]
    },
    {
      "cell_type": "markdown",
      "source": [
        "#다형성(Polymorphism)\n",
        "\n",
        "*    안에 있는 내용을 똑같은 이름으로 여러개 사용하는 것"
      ],
      "metadata": {
        "id": "Awoy7mUJ2EAN"
      }
    },
    {
      "cell_type": "code",
      "source": [
        "class Car:\n",
        "  def __init__(self, Wheels, Doors, Engine): #__init__ 상속자,(매개변수)\n",
        "    self.num_wheels = Wheels\n",
        "    self.num_doors = Doors\n",
        "    self.type_engine = Engine\n",
        "\n",
        "  def get_types(self): #get을 가지고 값을 가져온다.\n",
        "    wheels_str = '바퀴는 '+self.num_wheels+'개,'\n",
        "    doors_str ='문은 '+self.num_doors+'개,'\n",
        "    engine_str = '엔진은 '+self.type_engine+'cc,'\n",
        "    return wheels_str+doors_str+engine_str\n",
        "\n",
        "class SUV(Car): #하위클래스(상위클래스)\n",
        "  def __init__(self,Wheels,Doors,Engine,Cor):\n",
        "    super().__init__(Wheels, Doors, Engine) #super() 상위클래스인 Car클래스를 가져오는것\n",
        "    self.company = Cor\n",
        "\n",
        "  def get_inform(self):\n",
        "    return 'SUV의 '+super().get_types()+'제조사는 '+self.company\n",
        "\n",
        "class SportsCar(Car):\n",
        "  def __init__(self, Wheels, Doors, Engine, Cor, Col):\n",
        "    super().__init__(Wheels, Doors, Engine)\n",
        "    self.company = Cor\n",
        "    self.color = Col\n",
        "\n",
        "  def get_inform(self):\n",
        "    return '스포츠카의 '+super().get_types()+'제조사는 '+self.company+', 색상은 '+self.color\n"
      ],
      "metadata": {
        "id": "_BpzBWyh2ASe"
      },
      "execution_count": null,
      "outputs": []
    },
    {
      "cell_type": "code",
      "source": [
        "def print_car(obj):\n",
        "  print(obj.get_inform())\n",
        "\n",
        "suv = SUV('4','4','2000cc','Kia')\n",
        "sport = SportsCar('4','4','2000cc','Hyundai','Red')\n",
        "\n",
        "print_car(suv)\n",
        "print_car(sport)\n"
      ],
      "metadata": {
        "colab": {
          "base_uri": "https://localhost:8080/"
        },
        "id": "LC99oGqK2sH0",
        "outputId": "7ed3e090-8b10-47c6-8431-840ad67367da"
      },
      "execution_count": null,
      "outputs": [
        {
          "output_type": "stream",
          "name": "stdout",
          "text": [
            "SUV의 바퀴는 4개,문은 4개,엔진은 2000cccc,제조사는 Kia\n",
            "스포츠카의 바퀴는 4개,문은 4개,엔진은 2000cccc,제조사는 Hyundai, 색상은 Red\n"
          ]
        }
      ]
    },
    {
      "cell_type": "markdown",
      "source": [
        "#메소드 오버라이딩\n",
        "\n",
        "*    메소드 오버라이딩 = 메소드 = 함수\n",
        "\n",
        "*    메소드로 오버라이딩 : 이전에 있던 함수의 내용들 똑같은 이름의 함수로 덮어씌우기"
      ],
      "metadata": {
        "id": "WEJskJFi3h8m"
      }
    },
    {
      "cell_type": "code",
      "source": [
        "class Car:\n",
        "  def __init__(self, Wheels, Doors, Engine): #__init__ 상속자,(매개변수)\n",
        "    self.num_wheels = Wheels\n",
        "    self.num_doors = Doors\n",
        "    self.type_engine = Engine\n",
        "\n",
        "  def get_inform(self): #get을 가지고 값을 가져온다.\n",
        "    wheels_str = '바퀴는 '+self.num_wheels+'개,'\n",
        "    doors_str ='문은 '+self.num_doors+'개,'\n",
        "    engine_str = '엔진은 '+self.type_engine+'cc,'\n",
        "    return wheels_str+doors_str+engine_str\n",
        "\n",
        "class SUV(Car): #하위클래스(상위클래스)\n",
        "  def __init__(self,Wheels,Doors,Engine,Cor):\n",
        "    super().__init__(Wheels, Doors, Engine) #super() 상위클래스인 Car클래스를 가져오는것\n",
        "    self.company = Cor\n",
        "\n",
        "  def get_inform(self): #메소드 오버라이딩\n",
        "    return 'SUV의 '+super().get_types()+'제조사는 '+self.company\n",
        "\n",
        "class SportsCar(Car):\n",
        "  def __init__(self, Wheels, Doors, Engine, Cor, Col):\n",
        "    super().__init__(Wheels, Doors, Engine)\n",
        "    self.company = Cor\n",
        "    self.color = Col\n",
        "\n",
        "  def get_inform(self):\n",
        "    return '스포츠카의 '+super().get_types()+'제조사는 '+self.company+', 색상은 '+self.color\n",
        "\n",
        "def print_car(obj):\n",
        "  print(obj.get_inform())"
      ],
      "metadata": {
        "id": "RmgAIrX73xsV"
      },
      "execution_count": null,
      "outputs": []
    },
    {
      "cell_type": "code",
      "source": [
        "print_car(suv)\n",
        "print_car(sport)\n"
      ],
      "metadata": {
        "colab": {
          "base_uri": "https://localhost:8080/"
        },
        "id": "HUS2Vtts3-if",
        "outputId": "720b7ce7-8ade-487a-9b64-e8f425d0a8ad"
      },
      "execution_count": null,
      "outputs": [
        {
          "output_type": "stream",
          "name": "stdout",
          "text": [
            "SUV의 바퀴는 4개,문은 4개,엔진은 2000cccc,제조사는 Kia\n",
            "스포츠카의 바퀴는 4개,문은 4개,엔진은 2000cccc,제조사는 Hyundai, 색상은 Red\n"
          ]
        }
      ]
    },
    {
      "cell_type": "markdown",
      "source": [
        "#추상화\n",
        "\n",
        "*    실제 기능을 구현하지 않고 pass만을 코딩\n",
        "\n",
        "*    특수 목적으로 많이 사용 : 다형성 된 함수를 얹어 놓기 -> 필요할 때 함수를 구체화시켜 내용을 만듬\n",
        "\n",
        "*    함수를 만들어놓고선 pass로 구체화시키진않고 각각의 특성에 맞게 구체화시킨다."
      ],
      "metadata": {
        "id": "cVQMfVRj4CMt"
      }
    },
    {
      "cell_type": "code",
      "source": [
        "class Car:\n",
        "  def __init__(self, Wheels, Doors, Engine): #__init__ 상속자,(매개변수)\n",
        "    self.num_wheels = Wheels\n",
        "    self.num_doors = Doors\n",
        "    self.type_engine = Engine\n",
        "\n",
        "  def get_inform(self): #추상화\n",
        "    pass\n",
        "\n",
        "class SUV(Car): #하위클래스(상위클래스)\n",
        "  def get_inform(self):\n",
        "    return f\"SUV는 바퀴 {self.num_wheels}개, 문도 {self.num_doors}개, 엔진은 {self.type_engine}cc이다\"\n",
        "\n",
        "class SportsCar(Car):\n",
        "  def get_inform(self):\n",
        "    return f\"스포츠카는 바퀴 {self.num_wheels}개, 문도 {self.num_doors}개, 엔진은 {self.type_engine}cc이다\""
      ],
      "metadata": {
        "id": "vwNsF3lD4c-F"
      },
      "execution_count": null,
      "outputs": []
    },
    {
      "cell_type": "code",
      "source": [
        "suv = SUV('4','4','2000cc')\n",
        "sport = SportsCar('4','4','3000cc')\n",
        "\n",
        "print(suv.get_inform())\n",
        "print(sport.get_inform())"
      ],
      "metadata": {
        "colab": {
          "base_uri": "https://localhost:8080/"
        },
        "id": "tqhNOdKl5PAm",
        "outputId": "32fad22a-79ab-4c2c-ae34-1b5a4f138a82"
      },
      "execution_count": null,
      "outputs": [
        {
          "output_type": "stream",
          "name": "stdout",
          "text": [
            "SUV는 바퀴 4개, 문도 4개, 엔진은 2000cccc이다\n",
            "스포츠카는 바퀴 4개, 문도 4개, 엔진은 3000cccc이다\n"
          ]
        }
      ]
    }
  ]
}