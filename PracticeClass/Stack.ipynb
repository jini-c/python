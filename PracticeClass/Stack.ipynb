{
  "nbformat": 4,
  "nbformat_minor": 0,
  "metadata": {
    "colab": {
      "provenance": []
    },
    "kernelspec": {
      "name": "python3",
      "display_name": "Python 3"
    },
    "language_info": {
      "name": "python"
    }
  },
  "cells": [
    {
      "cell_type": "code",
      "execution_count": 55,
      "metadata": {
        "id": "xMEoLrPo6FqO"
      },
      "outputs": [],
      "source": [
        "class Stack:\n",
        "  def __init__(self):\n",
        "    self.items = []\n",
        "\n",
        "  def isEmpty(self):\n",
        "    return len(self.items) == 0\n",
        "\n",
        "  def size(self):\n",
        "    return len(self.items)\n",
        "\n",
        "  def clear(self):\n",
        "    self.items = []\n",
        "\n",
        "  def push(self, item):\n",
        "    self.items.append(item)\n",
        "\n",
        "  def pop(self):\n",
        "    if self.isEmpty():\n",
        "      return None\n",
        "    return self.items.pop()\n",
        "\n",
        "  def peek(self):\n",
        "    if self.isEmpty():\n",
        "      return None\n",
        "    return self.items[-1]\n",
        "\n",
        "  def __str__(self):\n",
        "    return str(self.items)"
      ]
    },
    {
      "cell_type": "markdown",
      "source": [
        "#Bracket Check(Stack Application1)"
      ],
      "metadata": {
        "id": "ZcHH2QYfCBww"
      }
    },
    {
      "cell_type": "code",
      "source": [
        "class BracketCheck(Stack):\n",
        "    def __init__(self):\n",
        "        super().__init__()\n",
        "        self.pairs = {')': '(', ']': '[', '}': '{'}\n",
        "\n",
        "    def bracket_checker(self, target_check):\n",
        "        for char in target_check:\n",
        "            if char in self.pairs.values():\n",
        "                self.push(char)\n",
        "\n",
        "            elif char in self.pairs:\n",
        "                if self.isEmpty():\n",
        "                    print(\"스택이 비었는데 닫는 괄호가 나옴\")\n",
        "                    return False\n",
        "                top = self.pop()\n",
        "                if top != self.pairs[char]:\n",
        "                    print(f\"짝이 안 맞음: {top} != {self.pairs[char]}\")\n",
        "                    return False\n",
        "\n",
        "            else:\n",
        "                print(f\"{char}는 괄호 아님\")\n",
        "\n",
        "\n",
        "        if not self.isEmpty():\n",
        "            print(\"여는 괄호가 남아있음:\", self.items)\n",
        "            return False\n",
        "\n",
        "        print(\" 괄호 짝이 정확히 맞습니다.\")\n",
        "        return True\n"
      ],
      "metadata": {
        "id": "XhjKap0sIfs_"
      },
      "execution_count": 56,
      "outputs": []
    },
    {
      "cell_type": "code",
      "source": [
        "target_check = input(\"검사할 괄호 문자열을 입력하세요: \")\n",
        "checker = BracketCheck()\n",
        "checker.bracket_checker(target_check)\n"
      ],
      "metadata": {
        "colab": {
          "base_uri": "https://localhost:8080/"
        },
        "id": "1q6MGI5MJwXQ",
        "outputId": "78282857-1b72-466d-fa09-2e0a278486f1"
      },
      "execution_count": 59,
      "outputs": [
        {
          "output_type": "stream",
          "name": "stdout",
          "text": [
            "검사할 괄호 문자열을 입력하세요: {{{}}((())[[[]]\n",
            "여는 괄호가 남아있음: ['{', '(', '[']\n"
          ]
        },
        {
          "output_type": "execute_result",
          "data": {
            "text/plain": [
              "False"
            ]
          },
          "metadata": {},
          "execution_count": 59
        }
      ]
    }
  ]
}