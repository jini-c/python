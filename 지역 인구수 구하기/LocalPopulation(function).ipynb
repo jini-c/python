{
  "nbformat": 4,
  "nbformat_minor": 0,
  "metadata": {
    "colab": {
      "provenance": []
    },
    "kernelspec": {
      "name": "python3",
      "display_name": "Python 3"
    },
    "language_info": {
      "name": "python"
    }
  },
  "cells": [
    {
      "cell_type": "code",
      "source": [
        "#입력 종료함수\n",
        "\n",
        "def exit_input(user_input):\n",
        "  exit_words = ['y' ,'exit', '종료']\n",
        "  return user_input.strip().lower() in exit_words"
      ],
      "metadata": {
        "id": "X3uw6KX1OcFb"
      },
      "execution_count": null,
      "outputs": []
    },
    {
      "cell_type": "code",
      "execution_count": null,
      "metadata": {
        "id": "UXiFwfQUnoeI"
      },
      "outputs": [],
      "source": [
        "#지역 입력 함수\n",
        "\n",
        "def local():\n",
        "  local_data = []\n",
        "  while True:\n",
        "    local_input = input(\"지역명을 입력하세요(그만 입력 원할 시 'y', 'exit', '종료' 중 하나를 입력하세요) : \")\n",
        "    if exit_input(local_input):\n",
        "      break\n",
        "    local_data.append(local_input)\n",
        "\n",
        "  return local_data"
      ]
    },
    {
      "cell_type": "code",
      "source": [
        "#지역 년도별 인구수\n",
        "\n",
        "def local_population(local_list):\n",
        "  local_population_data = {}\n",
        "\n",
        "  for local in local_list:\n",
        "    print(f\"{local}의 인구수를 입력하세요\")\n",
        "    local_population_data[local] = {}\n",
        "\n",
        "    while True:\n",
        "      year_input = input(f\"{local}의 년도를 입력하세요 (그만 입력 원할 시 'y', 'exit', '종료' 중 하나를 입력하세요): \").strip()\n",
        "      if exit_input(year_input):\n",
        "        break\n",
        "\n",
        "      year = int(year_input)\n",
        "\n",
        "      population_input = input(f\"{local}의 {year}년대 인구수를 입력하세요: \").strip()\n",
        "      population = int(population_input)\n",
        "\n",
        "      local_population_data[local][year] = f\"{year}년대:{population:,}명\"\n",
        "\n",
        "  return local_population_data\n"
      ],
      "metadata": {
        "id": "Uxd1RH7QMevZ"
      },
      "execution_count": null,
      "outputs": []
    },
    {
      "cell_type": "code",
      "source": [
        "#년도별 지역별 인구수\n",
        "def reorganize_population_by_year(local_population_data):\n",
        "    population_by_year = {}\n",
        "    for local, year_info in local_population_data.items():\n",
        "        for year, data in year_info.items():\n",
        "            population_str = data.split(\":\")[1].replace(\"명\", \"\").replace(\",\", \"\")\n",
        "            population = int(population_str)\n",
        "            if year not in population_by_year:\n",
        "                population_by_year[year] = {}\n",
        "            population_by_year[year][local] = population\n",
        "    return population_by_year\n"
      ],
      "metadata": {
        "id": "ithWgT91cNGb"
      },
      "execution_count": null,
      "outputs": []
    },
    {
      "cell_type": "code",
      "source": [
        "#연도별 총인구수\n",
        "\n",
        "def calculate_total_population_by_year(local_population_data):\n",
        "    total_population_by_year = {}\n",
        "    for local, year_info in local_population_data.items():\n",
        "        for year, data in year_info.items():\n",
        "            population_str = data.split(\":\")[1].replace(\"명\", \"\").replace(\",\", \"\")\n",
        "            population = int(population_str)\n",
        "            if year in total_population_by_year:\n",
        "                total_population_by_year[year] += population\n",
        "            else:\n",
        "                total_population_by_year[year] = population\n",
        "    return total_population_by_year"
      ],
      "metadata": {
        "id": "EWxrsHtfMene"
      },
      "execution_count": null,
      "outputs": []
    },
    {
      "cell_type": "code",
      "source": [
        "#인구 변화\n",
        "\n",
        "def analyze_population_change(local_population_data):\n",
        "    population_change_by_local = {}\n",
        "\n",
        "    for local, year_info in local_population_data.items():\n",
        "        sorted_years = sorted(year_info.keys())\n",
        "        changes = {}\n",
        "\n",
        "        for i in range(1, len(sorted_years)):\n",
        "            year_before = sorted_years[i-1]\n",
        "            year_now = sorted_years[i]\n",
        "\n",
        "            pop_before = int(year_info[year_before].split(\":\")[1].replace(\"명\", \"\").replace(\",\", \"\"))\n",
        "            pop_now = int(year_info[year_now].split(\":\")[1].replace(\"명\", \"\").replace(\",\", \"\"))\n",
        "\n",
        "            diff = pop_now - pop_before\n",
        "            changes[f\"{year_before}→{year_now}\"] = diff\n",
        "\n",
        "        population_change_by_local[local] = changes\n",
        "\n",
        "    return population_change_by_local\n"
      ],
      "metadata": {
        "id": "V624kwdMM5Ht"
      },
      "execution_count": null,
      "outputs": []
    },
    {
      "cell_type": "code",
      "source": [
        "def display_analysis(local_population_data):\n",
        "    total_population_by_year = calculate_total_population_by_year(local_population_data)\n",
        "    population_change_by_local = analyze_population_change(local_population_data)\n",
        "    population_by_year = reorganize_population_by_year(local_population_data)\n",
        "\n",
        "    print(\"\\n[총 인구수 (연도별)]\")\n",
        "    for year, total in sorted(total_population_by_year.items()):\n",
        "        print(f\"{year}년대 총인구: {total:,}명\")\n",
        "\n",
        "    print(\"\\n[인구 변화 분석 (지역별)]\")\n",
        "    for local, changes in population_change_by_local.items():\n",
        "        print(f\"\\n[ {local} ]\")\n",
        "        for years, diff in changes.items():\n",
        "            status = \"증가\" if diff > 0 else \"감소\" if diff < 0 else \"변동없음\"\n",
        "            print(f\"{years}: {diff:+,}명 ({status})\")\n",
        "\n",
        "    print(\"\\n[년도별 지역별 인구수 정리]\")\n",
        "    for year, locals in sorted(population_by_year.items()):\n",
        "        print(f\"\\n{year}년대\")\n",
        "        for local, population in locals.items():\n",
        "            print(f\"  {local}: {population:,}명\")"
      ],
      "metadata": {
        "id": "uWw2HcOea7ez"
      },
      "execution_count": null,
      "outputs": []
    },
    {
      "cell_type": "code",
      "source": [
        "#실행코드\n",
        "local_list = local()\n",
        "local_population_data = local_population(local_list)\n",
        "display_analysis(local_population_data)"
      ],
      "metadata": {
        "id": "_syGRvOta-pU"
      },
      "execution_count": null,
      "outputs": []
    },
    {
      "cell_type": "code",
      "source": [],
      "metadata": {
        "colab": {
          "base_uri": "https://localhost:8080/"
        },
        "id": "yWjrlYDFbV96",
        "outputId": "bd661bb2-fffb-490b-ad4a-2361308a9480"
      },
      "execution_count": null,
      "outputs": [
        {
          "output_type": "stream",
          "name": "stdout",
          "text": [
            "지역명을 입력하세요(그만 입력 원할 시 'y', 'exit', '종료' 중 하나를 입력하세요) : 1\n",
            "지역명을 입력하세요(그만 입력 원할 시 'y', 'exit', '종료' 중 하나를 입력하세요) : 2\n",
            "지역명을 입력하세요(그만 입력 원할 시 'y', 'exit', '종료' 중 하나를 입력하세요) : 3\n",
            "지역명을 입력하세요(그만 입력 원할 시 'y', 'exit', '종료' 중 하나를 입력하세요) : ㅛ\n",
            "지역명을 입력하세요(그만 입력 원할 시 'y', 'exit', '종료' 중 하나를 입력하세요) : y\n",
            "1의 인구수를 입력하세요\n",
            "1의 년도를 입력하세요 (그만 입력 원할 시 'y', 'exit', '종료' 중 하나를 입력하세요): 1\n",
            "1의 1년대 인구수를 입력하세요: 1\n",
            "1의 년도를 입력하세요 (그만 입력 원할 시 'y', 'exit', '종료' 중 하나를 입력하세요): y\n",
            "2의 인구수를 입력하세요\n",
            "2의 년도를 입력하세요 (그만 입력 원할 시 'y', 'exit', '종료' 중 하나를 입력하세요): 2\n",
            "2의 2년대 인구수를 입력하세요: 1\n",
            "2의 년도를 입력하세요 (그만 입력 원할 시 'y', 'exit', '종료' 중 하나를 입력하세요): y\n",
            "3의 인구수를 입력하세요\n",
            "3의 년도를 입력하세요 (그만 입력 원할 시 'y', 'exit', '종료' 중 하나를 입력하세요): 1\n",
            "3의 1년대 인구수를 입력하세요: 2\n",
            "3의 년도를 입력하세요 (그만 입력 원할 시 'y', 'exit', '종료' 중 하나를 입력하세요): y\n",
            "ㅛ의 인구수를 입력하세요\n",
            "ㅛ의 년도를 입력하세요 (그만 입력 원할 시 'y', 'exit', '종료' 중 하나를 입력하세요): 2\n",
            "ㅛ의 2년대 인구수를 입력하세요: 1\n",
            "ㅛ의 년도를 입력하세요 (그만 입력 원할 시 'y', 'exit', '종료' 중 하나를 입력하세요): y\n",
            "\n",
            "[총 인구수 (연도별)]\n",
            "1년대 총인구: 3명\n",
            "2년대 총인구: 2명\n",
            "\n",
            "[인구 변화 분석 (지역별)]\n",
            "\n",
            "[ 1 ]\n",
            "\n",
            "[ 2 ]\n",
            "\n",
            "[ 3 ]\n",
            "\n",
            "[ ㅛ ]\n",
            "\n",
            "[년도별 지역별 인구수 정리]\n",
            "\n",
            "1년대\n",
            "  1: 1명\n",
            "  3: 2명\n",
            "\n",
            "2년대\n",
            "  2: 1명\n",
            "  ㅛ: 1명\n"
          ]
        }
      ]
    }
  ]
}