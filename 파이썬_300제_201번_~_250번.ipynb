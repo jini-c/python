{
  "nbformat": 4,
  "nbformat_minor": 0,
  "metadata": {
    "colab": {
      "provenance": [],
      "authorship_tag": "ABX9TyNEY7pbJ1XyxvXqWqyDL+Ta",
      "include_colab_link": true
    },
    "kernelspec": {
      "name": "python3",
      "display_name": "Python 3"
    },
    "language_info": {
      "name": "python"
    }
  },
  "cells": [
    {
      "cell_type": "markdown",
      "metadata": {
        "id": "view-in-github",
        "colab_type": "text"
      },
      "source": [
        "<a href=\"https://colab.research.google.com/github/jini-c/exe/blob/main/%ED%8C%8C%EC%9D%B4%EC%8D%AC_300%EC%A0%9C_201%EB%B2%88_~_250%EB%B2%88.ipynb\" target=\"_parent\"><img src=\"https://colab.research.google.com/assets/colab-badge.svg\" alt=\"Open In Colab\"/></a>"
      ]
    },
    {
      "cell_type": "markdown",
      "source": [
        "파이썬 300제\n",
        "\n",
        "함수\n",
        "\n",
        "201번 ~ 240번"
      ],
      "metadata": {
        "id": "Ofj7iyqhlvm1"
      }
    },
    {
      "cell_type": "code",
      "execution_count": 1,
      "metadata": {
        "id": "76wpz2sRloRT"
      },
      "outputs": [],
      "source": [
        "#201번\n",
        "\n",
        "def print_coin(): #def 함수명(매개변수)\n",
        "  print(\"비트코인\")"
      ]
    },
    {
      "cell_type": "code",
      "source": [
        "#202번\n",
        "\n",
        "print_coin() #함수를 호출하면 비트코인을 출력하는 것을 볼 수 있다."
      ],
      "metadata": {
        "colab": {
          "base_uri": "https://localhost:8080/"
        },
        "id": "P9EVQmocmEOo",
        "outputId": "538709d1-374c-46b3-b2d8-5022e94f6edc"
      },
      "execution_count": 3,
      "outputs": [
        {
          "output_type": "stream",
          "name": "stdout",
          "text": [
            "비트코인\n"
          ]
        }
      ]
    },
    {
      "cell_type": "code",
      "source": [
        "#203번\n",
        "\n",
        "def print_coin():\n",
        "  for i in range(100):\n",
        "    print(\"비트코인\")"
      ],
      "metadata": {
        "id": "MYhYXWDgmOpi"
      },
      "execution_count": 4,
      "outputs": []
    },
    {
      "cell_type": "code",
      "source": [
        "#204번\n",
        "\n",
        "# hello() 함수가 정의되기 전에 호출하면 에러가 발생한다\n",
        "def hello():\n",
        "  print(\"Hi\")"
      ],
      "metadata": {
        "colab": {
          "base_uri": "https://localhost:8080/",
          "height": 221
        },
        "id": "6_JJhfEnmnLH",
        "outputId": "99c42a4a-7e23-491e-d264-df12d84b2e65"
      },
      "execution_count": 5,
      "outputs": [
        {
          "output_type": "error",
          "ename": "NameError",
          "evalue": "name 'hello' is not defined",
          "traceback": [
            "\u001b[0;31m---------------------------------------------------------------------------\u001b[0m",
            "\u001b[0;31mNameError\u001b[0m                                 Traceback (most recent call last)",
            "\u001b[0;32m<ipython-input-5-c7b11611751e>\u001b[0m in \u001b[0;36m<cell line: 0>\u001b[0;34m()\u001b[0m\n\u001b[1;32m      1\u001b[0m \u001b[0;31m#204번\u001b[0m\u001b[0;34m\u001b[0m\u001b[0;34m\u001b[0m\u001b[0m\n\u001b[1;32m      2\u001b[0m \u001b[0;34m\u001b[0m\u001b[0m\n\u001b[0;32m----> 3\u001b[0;31m \u001b[0mhello\u001b[0m\u001b[0;34m(\u001b[0m\u001b[0;34m)\u001b[0m \u001b[0;31m#함수가 정의되기 전에 호출하면 에러가 발생한다\u001b[0m\u001b[0;34m\u001b[0m\u001b[0;34m\u001b[0m\u001b[0m\n\u001b[0m\u001b[1;32m      4\u001b[0m \u001b[0;32mdef\u001b[0m \u001b[0mhello\u001b[0m\u001b[0;34m(\u001b[0m\u001b[0;34m)\u001b[0m\u001b[0;34m:\u001b[0m\u001b[0;34m\u001b[0m\u001b[0;34m\u001b[0m\u001b[0m\n\u001b[1;32m      5\u001b[0m   \u001b[0mprint\u001b[0m\u001b[0;34m(\u001b[0m\u001b[0;34m\"Hi\"\u001b[0m\u001b[0;34m)\u001b[0m\u001b[0;34m\u001b[0m\u001b[0;34m\u001b[0m\u001b[0m\n",
            "\u001b[0;31mNameError\u001b[0m: name 'hello' is not defined"
          ]
        }
      ]
    },
    {
      "cell_type": "code",
      "source": [
        "#206번\n",
        "\n",
        "def message() : #함수정의\n",
        "    print(\"A\")\n",
        "    print(\"B\")\n",
        "\n",
        "message()\n",
        "print(\"C\")\n",
        "message()"
      ],
      "metadata": {
        "id": "C9H3lw0Pm1dx"
      },
      "execution_count": null,
      "outputs": []
    },
    {
      "cell_type": "code",
      "source": [
        "#207번\n",
        "\n",
        "print(\"A\") #A출력\n",
        "\n",
        "def message() : #함수정의\n",
        "    print(\"B\")\n",
        "\n",
        "print(\"C\") #C출력\n",
        "message() #B 출력\n"
      ],
      "metadata": {
        "colab": {
          "base_uri": "https://localhost:8080/"
        },
        "id": "jogrIWU5mMBo",
        "outputId": "b13bb0d6-e09e-42ce-d14d-fb0f9e20ebaa"
      },
      "execution_count": 6,
      "outputs": [
        {
          "output_type": "stream",
          "name": "stdout",
          "text": [
            "A\n",
            "C\n",
            "B\n"
          ]
        }
      ]
    },
    {
      "cell_type": "code",
      "source": [
        "#208번\n",
        "\n",
        "print(\"A\") #A 출력\n",
        "def message1() :\n",
        "    print(\"B\")\n",
        "print(\"C\") #C 출력\n",
        "def message2() :\n",
        "    print(\"D\")\n",
        "message1() #B출력\n",
        "print(\"E\") #E 출력\n",
        "message2() #D 출력\n"
      ],
      "metadata": {
        "colab": {
          "base_uri": "https://localhost:8080/"
        },
        "id": "CaT7o0hQnQio",
        "outputId": "51b06019-8c7a-4285-f9ad-032fc9a6e4eb"
      },
      "execution_count": 7,
      "outputs": [
        {
          "output_type": "stream",
          "name": "stdout",
          "text": [
            "A\n",
            "C\n",
            "B\n",
            "E\n",
            "D\n"
          ]
        }
      ]
    },
    {
      "cell_type": "code",
      "source": [
        "#209번\n",
        "\n",
        "def message1():\n",
        "    print(\"A\")\n",
        "\n",
        "def message2():\n",
        "    print(\"B\")\n",
        "    message1() #A 출력 후에 출력된다.\n",
        "\n",
        "message2() #B출력 먼저 출력된다.\n"
      ],
      "metadata": {
        "colab": {
          "base_uri": "https://localhost:8080/"
        },
        "id": "-5NY1t9Ynb5Z",
        "outputId": "1d05b499-9243-46da-dad5-af673a95f9dc"
      },
      "execution_count": 8,
      "outputs": [
        {
          "output_type": "stream",
          "name": "stdout",
          "text": [
            "B\n",
            "A\n"
          ]
        }
      ]
    },
    {
      "cell_type": "code",
      "source": [
        "#210번\n",
        "\n",
        "def message1():\n",
        "    print(\"A\")\n",
        "\n",
        "def message2():\n",
        "    print(\"B\")\n",
        "\n",
        "def message3():\n",
        "    for i in range (3) :\n",
        "        message2()\n",
        "        print(\"C\")\n",
        "    message1()\n",
        "\n",
        "message3() #함수가 정의된대로 출력된다. for문이 실행되고 message1이 마지막에 실행된다.\n"
      ],
      "metadata": {
        "colab": {
          "base_uri": "https://localhost:8080/"
        },
        "id": "nAKlfHMBnjS3",
        "outputId": "c376e122-3469-4d57-da37-56ac3e14d2d0"
      },
      "execution_count": 9,
      "outputs": [
        {
          "output_type": "stream",
          "name": "stdout",
          "text": [
            "B\n",
            "C\n",
            "B\n",
            "C\n",
            "B\n",
            "C\n",
            "A\n"
          ]
        }
      ]
    },
    {
      "cell_type": "code",
      "source": [
        "#211번\n",
        "\n",
        "def 함수(문자열) :\n",
        "    print(문자열)\n",
        "\n",
        "함수(\"안녕\") #\"안녕\" 출력\n",
        "함수(\"Hi\") #\"Hi\" 출력\n"
      ],
      "metadata": {
        "colab": {
          "base_uri": "https://localhost:8080/"
        },
        "id": "NQu-C7AloUm7",
        "outputId": "17ebf2d5-8ffe-406f-db0d-2a0f793556dd"
      },
      "execution_count": 10,
      "outputs": [
        {
          "output_type": "stream",
          "name": "stdout",
          "text": [
            "안녕\n",
            "Hi\n"
          ]
        }
      ]
    },
    {
      "cell_type": "code",
      "source": [
        "#212번\n",
        "\n",
        "def 함수(a, b) :\n",
        "    print(a + b)\n",
        "\n",
        "함수(3, 4) #7이 출력된다\n",
        "함수(7, 8) #15가 출력된다\n"
      ],
      "metadata": {
        "colab": {
          "base_uri": "https://localhost:8080/"
        },
        "id": "JP75t2uKoeUG",
        "outputId": "8bd33790-577f-4900-a79d-fb773747168b"
      },
      "execution_count": 11,
      "outputs": [
        {
          "output_type": "stream",
          "name": "stdout",
          "text": [
            "7\n",
            "15\n"
          ]
        }
      ]
    },
    {
      "cell_type": "code",
      "source": [
        "#213번\n",
        "\n",
        "def 함수(문자열) :\n",
        "    print(문자열)\n",
        "\n",
        "함수() #함수에 정의된대로 호출을 안해서 오류가 발생한다\n",
        "TypeError: 함수() missing 1 required positional argument: '문자열'\n"
      ],
      "metadata": {
        "id": "t3YhIxW_oj-l"
      },
      "execution_count": null,
      "outputs": []
    },
    {
      "cell_type": "code",
      "source": [
        "#214번\n",
        "\n",
        "def 함수(a, b) :\n",
        "    print(a + b)\n",
        "\n",
        "# 함수(\"안녕\", 3) 같은 타입으로 매개변수를 입력해줘야한다.\n",
        "# TypeError: must be str, not int\n",
        "\n"
      ],
      "metadata": {
        "colab": {
          "base_uri": "https://localhost:8080/"
        },
        "id": "vOwPgBO9owve",
        "outputId": "f2f54d25-f950-4d93-a9b3-d1fcde2814e9"
      },
      "execution_count": 12,
      "outputs": [
        {
          "output_type": "stream",
          "name": "stdout",
          "text": [
            "안녕하소\n"
          ]
        }
      ]
    },
    {
      "cell_type": "code",
      "source": [
        "#215번\n",
        "\n",
        "def print_with_smile(str):\n",
        "  print(str+\":D\")\n",
        "\n",
        "print_with_smile(\"자몽\")"
      ],
      "metadata": {
        "colab": {
          "base_uri": "https://localhost:8080/"
        },
        "id": "lbVVPZESpEj0",
        "outputId": "68cd02ce-cae0-4ada-add2-d2e45e093fd7"
      },
      "execution_count": 15,
      "outputs": [
        {
          "output_type": "stream",
          "name": "stdout",
          "text": [
            "자몽:D\n"
          ]
        }
      ]
    },
    {
      "cell_type": "code",
      "source": [
        "#216번\n",
        "\n",
        "print_with_smile(\"안녕하세요\")"
      ],
      "metadata": {
        "colab": {
          "base_uri": "https://localhost:8080/"
        },
        "id": "V7yEZv7WpaYc",
        "outputId": "55ae606d-33be-4a4a-e98a-58c8c0932cd4"
      },
      "execution_count": 16,
      "outputs": [
        {
          "output_type": "stream",
          "name": "stdout",
          "text": [
            "안녕하세요:D\n"
          ]
        }
      ]
    },
    {
      "cell_type": "code",
      "source": [
        "#217번\n",
        "\n",
        "def print_upper_price(i):\n",
        "  print(i*1.3)\n",
        "\n",
        "print_upper_price(13000)"
      ],
      "metadata": {
        "colab": {
          "base_uri": "https://localhost:8080/"
        },
        "id": "e6dit0FUpr5s",
        "outputId": "65d73022-61f3-4095-ccce-e85c465b5889"
      },
      "execution_count": 17,
      "outputs": [
        {
          "output_type": "stream",
          "name": "stdout",
          "text": [
            "16900.0\n"
          ]
        }
      ]
    },
    {
      "cell_type": "code",
      "source": [
        "#218번\n",
        "\n",
        "def print_sum(a, b):\n",
        "  print(a+b)\n",
        "\n",
        "print(1000+2000)"
      ],
      "metadata": {
        "colab": {
          "base_uri": "https://localhost:8080/"
        },
        "id": "rT0q3ZyBp7aP",
        "outputId": "550f5e6c-662c-4c91-a248-ed166e3b5e22"
      },
      "execution_count": 18,
      "outputs": [
        {
          "output_type": "stream",
          "name": "stdout",
          "text": [
            "3000\n"
          ]
        }
      ]
    },
    {
      "cell_type": "code",
      "source": [
        "#219번\n",
        "\n",
        "def print_arithmetic_operation(a, b):\n",
        "  print(a + b)\n",
        "  print(a - b)\n",
        "  print(a * b)\n",
        "  print(a / b)\n",
        "\n",
        "print_arithmetic_operation(5, 6)"
      ],
      "metadata": {
        "colab": {
          "base_uri": "https://localhost:8080/"
        },
        "id": "SU4zTPhDqGp6",
        "outputId": "0b8cfbab-17b1-48de-87a3-c8c032bf4b1d"
      },
      "execution_count": 21,
      "outputs": [
        {
          "output_type": "stream",
          "name": "stdout",
          "text": [
            "11\n",
            "-1\n",
            "30\n",
            "0.8333333333333334\n"
          ]
        }
      ]
    },
    {
      "cell_type": "code",
      "source": [
        "#220번\n",
        "\n",
        "def print_max(a, b, c) :\n",
        "    max_val = 0\n",
        "    if a > max_val :\n",
        "        max_val = a\n",
        "    if b > max_val :\n",
        "        max_val = b\n",
        "    if c > max_val :\n",
        "        max_val = c\n",
        "    print(max_val)\n",
        "\n",
        "print_max(5, 6, 13)"
      ],
      "metadata": {
        "colab": {
          "base_uri": "https://localhost:8080/"
        },
        "id": "NzumoDQLqeyT",
        "outputId": "1dfea824-1d93-411a-dae8-a1848c6741ba"
      },
      "execution_count": 23,
      "outputs": [
        {
          "output_type": "stream",
          "name": "stdout",
          "text": [
            "13\n"
          ]
        }
      ]
    },
    {
      "cell_type": "code",
      "source": [
        "#221번\n",
        "\n",
        "def print_reverse(a):\n",
        "  print(a[::-1])\n",
        "\n",
        "print_reverse(\"python\")"
      ],
      "metadata": {
        "colab": {
          "base_uri": "https://localhost:8080/"
        },
        "id": "9VutL_k6qZnl",
        "outputId": "5aa8f96f-d313-4d29-ee9d-71591e2f0894"
      },
      "execution_count": 24,
      "outputs": [
        {
          "output_type": "stream",
          "name": "stdout",
          "text": [
            "nohtyp\n"
          ]
        }
      ]
    },
    {
      "cell_type": "code",
      "source": [
        "#222번\n",
        "\n",
        "def print_score(i):\n",
        "  print(sum(i)/len(i))\n",
        "\n",
        "print_score([100, 98, 30])"
      ],
      "metadata": {
        "colab": {
          "base_uri": "https://localhost:8080/"
        },
        "id": "NgIHDD8grQQt",
        "outputId": "22ea82a2-1136-4fb1-8f16-c6ac71a9d8d9"
      },
      "execution_count": 26,
      "outputs": [
        {
          "output_type": "stream",
          "name": "stdout",
          "text": [
            "76.0\n"
          ]
        }
      ]
    },
    {
      "cell_type": "code",
      "source": [
        "#223번\n",
        "\n",
        "def print_even(my_list):\n",
        "  for v in my_list: #for문을 활용해서 숫자를 입력해준다.\n",
        "    if v % 2 == 0: #if문을 이용해서 짝수인지 판별한다.\n",
        "      print(v)\n",
        "\n",
        "print_even([1, 3, 2, 10, 12, 11, 15])"
      ],
      "metadata": {
        "colab": {
          "base_uri": "https://localhost:8080/"
        },
        "id": "XjQLQQEvrmmZ",
        "outputId": "b5d2e9f9-fb4c-48da-dcd2-452a0657db6d"
      },
      "execution_count": 31,
      "outputs": [
        {
          "output_type": "stream",
          "name": "stdout",
          "text": [
            "2\n",
            "10\n",
            "12\n"
          ]
        }
      ]
    },
    {
      "cell_type": "code",
      "source": [
        "#224번\n",
        "\n",
        "def print_keys(i):\n",
        "  for a in i.keys(): #keys()를 이용해서 keys값들을 모아준다.\n",
        "    print(a)\n",
        "\n",
        "print_keys({\"10/26\" : [100, 130, 100, 100], \"10/27\" : [10, 12, 10, 11]})"
      ],
      "metadata": {
        "colab": {
          "base_uri": "https://localhost:8080/"
        },
        "id": "ekTJ_Ntrr9GJ",
        "outputId": "61361b6e-3026-4379-9701-f36fdc867224"
      },
      "execution_count": 34,
      "outputs": [
        {
          "output_type": "stream",
          "name": "stdout",
          "text": [
            "10/26\n",
            "10/27\n"
          ]
        }
      ]
    },
    {
      "cell_type": "code",
      "source": [
        "#225번\n",
        "\n",
        "my_dict = {\"10/26\" : [100, 130, 100, 100],\n",
        "           \"10/27\" : [10, 12, 10, 11]}\n",
        "\n",
        "def print_value_by_key (my_dict, key) :\n",
        "    print(my_dict[key])\n",
        "\n",
        "print_value_by_key  (my_dict, \"10/26\")\n"
      ],
      "metadata": {
        "colab": {
          "base_uri": "https://localhost:8080/"
        },
        "id": "4KBDD40uth-c",
        "outputId": "75a82f68-5d6a-4230-e030-ebc10d462d58"
      },
      "execution_count": 38,
      "outputs": [
        {
          "output_type": "stream",
          "name": "stdout",
          "text": [
            "[100, 130, 100, 100]\n"
          ]
        }
      ]
    },
    {
      "cell_type": "code",
      "source": [
        "#226번\n",
        "\n",
        "def print_5xn(str):\n",
        "    t = int(len(str) / 5)\n",
        "    for x in range(t + 1) :\n",
        "        print(str[x * 5: x * 5 + 5])\n",
        "\n",
        "print_5xn(\"아이엠어보이유알어걸11\")"
      ],
      "metadata": {
        "colab": {
          "base_uri": "https://localhost:8080/"
        },
        "id": "uYD_qD4GuQK2",
        "outputId": "77533c54-750a-4dcd-f1a3-6c2f5405a988"
      },
      "execution_count": 42,
      "outputs": [
        {
          "output_type": "stream",
          "name": "stdout",
          "text": [
            "아이엠어보\n",
            "이유알어걸\n",
            "11\n"
          ]
        }
      ]
    },
    {
      "cell_type": "code",
      "source": [
        "#227번\n",
        "\n",
        "def print_mxn(string, i):\n",
        "  a = int(len(string)/i)\n",
        "  for b in range(a+1):\n",
        "    print(string[b*i: b*i+i])\n",
        "\n",
        "print_mxn(\"아이엠어보이유알어걸\", 8)"
      ],
      "metadata": {
        "colab": {
          "base_uri": "https://localhost:8080/"
        },
        "id": "ASuTnWsJv5AW",
        "outputId": "fd5ad3dd-fdc6-41da-c111-30ed490d5240"
      },
      "execution_count": 46,
      "outputs": [
        {
          "output_type": "stream",
          "name": "stdout",
          "text": [
            "아이엠어보이유알\n",
            "어걸\n"
          ]
        }
      ]
    },
    {
      "cell_type": "code",
      "source": [
        "#228번\n",
        "\n",
        "def calc_monthly_salary(annual_pay) :\n",
        "  print(int(annual_pay / 12))\n",
        "\n",
        "calc_monthly_salary(1236400000)"
      ],
      "metadata": {
        "colab": {
          "base_uri": "https://localhost:8080/"
        },
        "id": "L8Nm_nY6vgX5",
        "outputId": "87254287-fe49-4bd4-fc22-0f6e27738ad9"
      },
      "execution_count": 52,
      "outputs": [
        {
          "output_type": "stream",
          "name": "stdout",
          "text": [
            "103033333\n"
          ]
        }
      ]
    },
    {
      "cell_type": "code",
      "source": [
        "#229번\n",
        "\n",
        "def my_print (a, b) :\n",
        "    print(\"왼쪽:\", a)\n",
        "    print(\"오른쪽:\", b)\n",
        "\n",
        "my_print(a=100, b=200) #왼쪽 : 100 \\n 오른쪽 200이 출력된다.\n"
      ],
      "metadata": {
        "colab": {
          "base_uri": "https://localhost:8080/"
        },
        "id": "iAlXYSp2yXFi",
        "outputId": "0f477557-017b-4369-8ff3-d895a81743c3"
      },
      "execution_count": 53,
      "outputs": [
        {
          "output_type": "stream",
          "name": "stdout",
          "text": [
            "왼쪽: 100\n",
            "오른쪽: 200\n"
          ]
        }
      ]
    },
    {
      "cell_type": "code",
      "source": [
        "#230번\n",
        "\n",
        "def my_print (a, b) :\n",
        "    print(\"왼쪽:\", a)\n",
        "    print(\"오른쪽:\", b)\n",
        "\n",
        "my_print(b=100, a=200)\n",
        "#위에 문제와 같은 결과값을 얻는다. 함수에서 왼쪽을 먼저 출력하라고했기때문이다"
      ],
      "metadata": {
        "colab": {
          "base_uri": "https://localhost:8080/"
        },
        "id": "Ca7Sn6z4y8HP",
        "outputId": "f994f3c8-4e39-4231-a470-27f4827114ed"
      },
      "execution_count": 54,
      "outputs": [
        {
          "output_type": "stream",
          "name": "stdout",
          "text": [
            "왼쪽: 200\n",
            "오른쪽: 100\n"
          ]
        }
      ]
    },
    {
      "cell_type": "code",
      "source": [
        "#231번\n",
        "\n",
        "def n_plus_1 (n) :\n",
        "    result = n + 1\n",
        "\n",
        "n_plus_1(3)\n",
        "#print (result) 에러가 발생한다. 함수 내부값을 전달하고 싶으면 return값을 사용해야한다.\n"
      ],
      "metadata": {
        "id": "sVT08M35zOu3"
      },
      "execution_count": 55,
      "outputs": []
    },
    {
      "cell_type": "code",
      "source": [
        "#232번\n",
        "\n",
        "def make_url(string) :\n",
        "    return \"www.\" + string + \".com\"\n",
        "\n",
        "make_url(\"naver\")"
      ],
      "metadata": {
        "colab": {
          "base_uri": "https://localhost:8080/",
          "height": 35
        },
        "id": "EC6xBym5zfsa",
        "outputId": "2c96a34b-70d1-4146-8414-3ec9a59f195a"
      },
      "execution_count": 61,
      "outputs": [
        {
          "output_type": "execute_result",
          "data": {
            "text/plain": [
              "'www.naver.com'"
            ],
            "application/vnd.google.colaboratory.intrinsic+json": {
              "type": "string"
            }
          },
          "metadata": {},
          "execution_count": 61
        }
      ]
    },
    {
      "cell_type": "code",
      "source": [
        "#233번\n",
        "\n",
        "def make_list(i):\n",
        "  return list(i) #형변환을 해주면 된다.\n",
        "\n",
        "make_list(\"abcd\")"
      ],
      "metadata": {
        "colab": {
          "base_uri": "https://localhost:8080/"
        },
        "id": "exlpxbz1zwP2",
        "outputId": "4495d11f-cff2-46d3-fedc-ad0e7fe59743"
      },
      "execution_count": 63,
      "outputs": [
        {
          "output_type": "execute_result",
          "data": {
            "text/plain": [
              "['a', 'b', 'c', 'd']"
            ]
          },
          "metadata": {},
          "execution_count": 63
        }
      ]
    },
    {
      "cell_type": "code",
      "source": [
        "#234번\n",
        "\n",
        "def pickup_even(a):\n",
        "  for b in a:\n",
        "    if b % 2 == 0:\n",
        "      print(b)\n",
        "\n",
        "pickup_even([1,4,32,4,4,5,6,7,8])"
      ],
      "metadata": {
        "colab": {
          "base_uri": "https://localhost:8080/"
        },
        "id": "LsWq6DyS0eG3",
        "outputId": "c09bdd5e-23b2-4205-e00b-e34621140801"
      },
      "execution_count": 64,
      "outputs": [
        {
          "output_type": "stream",
          "name": "stdout",
          "text": [
            "4\n",
            "32\n",
            "4\n",
            "4\n",
            "6\n",
            "8\n"
          ]
        }
      ]
    },
    {
      "cell_type": "code",
      "source": [
        "#235번\n",
        "\n",
        "def convert_int(str):\n",
        "  return int(str.replace(',', ''))\n",
        "\n",
        "convert_int(\"1,234,576\")"
      ],
      "metadata": {
        "colab": {
          "base_uri": "https://localhost:8080/"
        },
        "id": "8I-8F8uP08O6",
        "outputId": "1b80325b-c93c-46a2-d458-e226e6d106a4"
      },
      "execution_count": 68,
      "outputs": [
        {
          "output_type": "execute_result",
          "data": {
            "text/plain": [
              "1234576"
            ]
          },
          "metadata": {},
          "execution_count": 68
        }
      ]
    },
    {
      "cell_type": "code",
      "source": [
        "#236번\n",
        "\n",
        "def 함수(num) :\n",
        "    return num + 4\n",
        "\n",
        "a = 함수(10) #a = 14\n",
        "b = 함수(a) #b = 18\n",
        "c = 함수(b) #c = 22\n",
        "print(c) #c = 22\n"
      ],
      "metadata": {
        "colab": {
          "base_uri": "https://localhost:8080/"
        },
        "id": "7gzRMK9Z1UVj",
        "outputId": "875d1b0b-f2b0-48ec-b142-65ea3666b1bb"
      },
      "execution_count": 69,
      "outputs": [
        {
          "output_type": "stream",
          "name": "stdout",
          "text": [
            "22\n"
          ]
        }
      ]
    },
    {
      "cell_type": "code",
      "source": [
        "#237번\n",
        "\n",
        "def 함수(num) :\n",
        "    return num + 4\n",
        "\n",
        "c = 함수(함수(함수(10))) #10+4+4+4\n",
        "print(c) #22\n"
      ],
      "metadata": {
        "colab": {
          "base_uri": "https://localhost:8080/"
        },
        "id": "cNNcLfyf1ygS",
        "outputId": "acd00355-5bbe-4e5b-d374-8317bdecafc8"
      },
      "execution_count": 70,
      "outputs": [
        {
          "output_type": "stream",
          "name": "stdout",
          "text": [
            "22\n"
          ]
        }
      ]
    },
    {
      "cell_type": "code",
      "source": [
        "#238번\n",
        "\n",
        "def 함수1(num) :\n",
        "    return num + 4\n",
        "\n",
        "def 함수2(num) :\n",
        "    return num * 10\n",
        "\n",
        "a = 함수1(10) #10+4=14\n",
        "c = 함수2(a) #14*10=140\n",
        "print(c) #140\n"
      ],
      "metadata": {
        "colab": {
          "base_uri": "https://localhost:8080/"
        },
        "id": "TngEugs715fJ",
        "outputId": "2e57448a-ef4d-4514-fdc2-172021aadb97"
      },
      "execution_count": 71,
      "outputs": [
        {
          "output_type": "stream",
          "name": "stdout",
          "text": [
            "140\n"
          ]
        }
      ]
    },
    {
      "cell_type": "code",
      "source": [
        "#239번\n",
        "\n",
        "def 함수1(num) :\n",
        "    return num + 4\n",
        "\n",
        "def 함수2(num) :\n",
        "    num = num + 2\n",
        "    return 함수1(num)\n",
        "\n",
        "c = 함수2(10) #10+2=12+4=16\n",
        "print(c) #16\n"
      ],
      "metadata": {
        "colab": {
          "base_uri": "https://localhost:8080/"
        },
        "id": "ZjFzE89l2BSL",
        "outputId": "0820b04e-3d31-4052-d73b-3b2aa8efb8db"
      },
      "execution_count": 72,
      "outputs": [
        {
          "output_type": "stream",
          "name": "stdout",
          "text": [
            "16\n"
          ]
        }
      ]
    },
    {
      "cell_type": "code",
      "source": [
        "#240번\n",
        "\n",
        "def 함수0(num) : #함수(14)\n",
        "    return num * 2 #14*2=28\n",
        "\n",
        "def 함수1(num) :\n",
        "    return 함수0(num + 2) #함수0(12+2)\n",
        "\n",
        "def 함수2(num) :\n",
        "    num = num + 10 #10+2\n",
        "    return 함수1(num) #함수1(12)\n",
        "\n",
        "c = 함수2(2)\n",
        "print(c) #28\n"
      ],
      "metadata": {
        "colab": {
          "base_uri": "https://localhost:8080/"
        },
        "id": "OiTjgqq02MZ2",
        "outputId": "10e0d651-1f67-42d9-b00c-48c327b5c328"
      },
      "execution_count": 74,
      "outputs": [
        {
          "output_type": "stream",
          "name": "stdout",
          "text": [
            "28\n"
          ]
        }
      ]
    },
    {
      "cell_type": "markdown",
      "source": [
        "파이썬 모듈\n",
        "\n",
        "241번 ~ 250번"
      ],
      "metadata": {
        "id": "Av4Tm28M20j3"
      }
    },
    {
      "cell_type": "code",
      "source": [
        "#241번\n",
        "\n",
        "import datetime #모듈 호출\n",
        "\n",
        "now = datetime.datetime.now()\n",
        "print(now)\n"
      ],
      "metadata": {
        "colab": {
          "base_uri": "https://localhost:8080/"
        },
        "id": "V0wmGraA2zqX",
        "outputId": "2f946071-239b-42fb-e9e7-d3947394c040"
      },
      "execution_count": 75,
      "outputs": [
        {
          "output_type": "stream",
          "name": "stdout",
          "text": [
            "2025-03-30 21:05:15.399029\n"
          ]
        }
      ]
    },
    {
      "cell_type": "code",
      "source": [
        "#242번\n",
        "\n",
        "import datetime #모듈 호출\n",
        "\n",
        "now = datetime.datetime.now()\n",
        "print(now, type(now))\n"
      ],
      "metadata": {
        "colab": {
          "base_uri": "https://localhost:8080/"
        },
        "id": "WjGDeHlw27T5",
        "outputId": "0c9f7bd4-e92f-4130-a236-69e893578e54"
      },
      "execution_count": 76,
      "outputs": [
        {
          "output_type": "stream",
          "name": "stdout",
          "text": [
            "2025-03-30 21:06:11.721737 <class 'datetime.datetime'>\n"
          ]
        }
      ]
    },
    {
      "cell_type": "code",
      "source": [
        "#243번\n",
        "\n",
        "import datetime #모듈호출\n",
        "\n",
        "now = datetime.datetime.now() #now 정의\n",
        "\n",
        "for i in range(-5, 0):\n",
        "    delta = datetime.timedelta(days=i) #datetime.timedelta 호출\n",
        "    print(now + delta)\n",
        "\n",
        "\n",
        "# now = datetime.datetime.now()\n",
        "# delta = datetime.timedelta(hours=1) hours, seconds, minutes 등 다양하게 활용가능하다"
      ],
      "metadata": {
        "colab": {
          "base_uri": "https://localhost:8080/"
        },
        "id": "-QK6KcFS3JD8",
        "outputId": "c72df975-ac32-4bd8-90f8-40e7e6c33ac2"
      },
      "execution_count": 89,
      "outputs": [
        {
          "output_type": "stream",
          "name": "stdout",
          "text": [
            "2025-03-25 21:18:45.068867\n",
            "2025-03-26 21:18:45.068867\n",
            "2025-03-27 21:18:45.068867\n",
            "2025-03-28 21:18:45.068867\n",
            "2025-03-29 21:18:45.068867\n"
          ]
        }
      ]
    },
    {
      "cell_type": "code",
      "source": [
        "#244번\n",
        "\n",
        "import datetime #모듈 호출\n",
        "\n",
        "now = datetime.datetime.now()\n",
        "print(now.strftime(\"%H:%M:%S\")) #포맷에 맞게만 출력한다\n"
      ],
      "metadata": {
        "colab": {
          "base_uri": "https://localhost:8080/"
        },
        "id": "fy0zit303cY3",
        "outputId": "2fe2523f-031d-4bc0-f30b-358b6eb724aa"
      },
      "execution_count": 78,
      "outputs": [
        {
          "output_type": "stream",
          "name": "stdout",
          "text": [
            "21:08:27\n"
          ]
        }
      ]
    },
    {
      "cell_type": "code",
      "source": [
        "#245번\n",
        "\n",
        "import datetime\n",
        "\n",
        "day = \"2020-05-04\"\n",
        "ret = datetime.datetime.strptime(day, \"%Y-%m-%d\")\n",
        "print(ret, type(ret))\n"
      ],
      "metadata": {
        "colab": {
          "base_uri": "https://localhost:8080/"
        },
        "id": "vTqeFcCp3qQk",
        "outputId": "4d9a0002-7c07-4c94-c1fa-d5c30484db07"
      },
      "execution_count": 79,
      "outputs": [
        {
          "output_type": "stream",
          "name": "stdout",
          "text": [
            "2020-05-04 00:00:00 <class 'datetime.datetime'>\n"
          ]
        }
      ]
    },
    {
      "cell_type": "code",
      "source": [
        "#246번 sleep 함수\n",
        "\n",
        "# import time\n",
        "# import datetime\n",
        "\n",
        "# while True:\n",
        "#     now = datetime.datetime.now()\n",
        "#     print(now)\n",
        "#     time.sleep(1) sleep() 숫자만큼 멈춰준다\n",
        "\n"
      ],
      "metadata": {
        "colab": {
          "base_uri": "https://localhost:8080/",
          "height": 294
        },
        "id": "URW0cXsw3wfw",
        "outputId": "e9470031-4193-4f27-c067-49f6f7028cbe"
      },
      "execution_count": 80,
      "outputs": [
        {
          "output_type": "stream",
          "name": "stdout",
          "text": [
            "2025-03-30 21:09:12.022297\n",
            "2025-03-30 21:09:13.022528\n",
            "2025-03-30 21:09:14.022841\n",
            "2025-03-30 21:09:15.023137\n",
            "2025-03-30 21:09:16.023377\n"
          ]
        },
        {
          "output_type": "error",
          "ename": "KeyboardInterrupt",
          "evalue": "",
          "traceback": [
            "\u001b[0;31m---------------------------------------------------------------------------\u001b[0m",
            "\u001b[0;31mKeyboardInterrupt\u001b[0m                         Traceback (most recent call last)",
            "\u001b[0;32m<ipython-input-80-6f8439a995bb>\u001b[0m in \u001b[0;36m<cell line: 0>\u001b[0;34m()\u001b[0m\n\u001b[1;32m      5\u001b[0m     \u001b[0mnow\u001b[0m \u001b[0;34m=\u001b[0m \u001b[0mdatetime\u001b[0m\u001b[0;34m.\u001b[0m\u001b[0mdatetime\u001b[0m\u001b[0;34m.\u001b[0m\u001b[0mnow\u001b[0m\u001b[0;34m(\u001b[0m\u001b[0;34m)\u001b[0m\u001b[0;34m\u001b[0m\u001b[0;34m\u001b[0m\u001b[0m\n\u001b[1;32m      6\u001b[0m     \u001b[0mprint\u001b[0m\u001b[0;34m(\u001b[0m\u001b[0mnow\u001b[0m\u001b[0;34m)\u001b[0m\u001b[0;34m\u001b[0m\u001b[0;34m\u001b[0m\u001b[0m\n\u001b[0;32m----> 7\u001b[0;31m     \u001b[0mtime\u001b[0m\u001b[0;34m.\u001b[0m\u001b[0msleep\u001b[0m\u001b[0;34m(\u001b[0m\u001b[0;36m1\u001b[0m\u001b[0;34m)\u001b[0m\u001b[0;34m\u001b[0m\u001b[0;34m\u001b[0m\u001b[0m\n\u001b[0m\u001b[1;32m      8\u001b[0m \u001b[0;34m\u001b[0m\u001b[0m\n",
            "\u001b[0;31mKeyboardInterrupt\u001b[0m: "
          ]
        }
      ]
    },
    {
      "cell_type": "code",
      "source": [
        "#247번 모듈 임포트\n",
        "\n",
        "import os                 # os.rename()\n",
        "from os import rename     # rename()\n",
        "from os import *          # getcwd(), rename(), ....\n",
        "import os as myos         # myos.getcwd() 모듈이름 사용자 정의로 변경"
      ],
      "metadata": {
        "id": "oe0fI_SE31FP"
      },
      "execution_count": 81,
      "outputs": []
    },
    {
      "cell_type": "code",
      "source": [
        "#248번 OS모듈\n",
        "\n",
        "import os\n",
        "ret = os.getcwd()\n",
        "print(ret, type(ret))\n"
      ],
      "metadata": {
        "colab": {
          "base_uri": "https://localhost:8080/"
        },
        "id": "KFO4J01a4BkH",
        "outputId": "cc64deb6-707f-4398-e25e-4be14d0d56f8"
      },
      "execution_count": 82,
      "outputs": [
        {
          "output_type": "stream",
          "name": "stdout",
          "text": [
            "/content <class 'str'>\n"
          ]
        }
      ]
    },
    {
      "cell_type": "code",
      "source": [
        "#249번 rename함수\n",
        "\n",
        "# import os\n",
        "# os.rename(\"C:/Users/20150105A/Desktop/before.txt\", \"C:/Users/20150105A/Desktop/after.txt\")"
      ],
      "metadata": {
        "id": "-oGB-FtN4DS_"
      },
      "execution_count": 88,
      "outputs": []
    },
    {
      "cell_type": "code",
      "source": [
        "#250번 numpy 모듈\n",
        "\n",
        "import numpy #numpy 모듈을 호출한다.\n",
        "for i in numpy.arange(0, 5, 0.1):\n",
        "    print(i)"
      ],
      "metadata": {
        "colab": {
          "base_uri": "https://localhost:8080/"
        },
        "id": "8LReO0_D4R2f",
        "outputId": "e59ebb94-3ec2-4dda-c10c-a15a88f1a120"
      },
      "execution_count": 84,
      "outputs": [
        {
          "output_type": "stream",
          "name": "stdout",
          "text": [
            "0.0\n",
            "0.1\n",
            "0.2\n",
            "0.30000000000000004\n",
            "0.4\n",
            "0.5\n",
            "0.6000000000000001\n",
            "0.7000000000000001\n",
            "0.8\n",
            "0.9\n",
            "1.0\n",
            "1.1\n",
            "1.2000000000000002\n",
            "1.3\n",
            "1.4000000000000001\n",
            "1.5\n",
            "1.6\n",
            "1.7000000000000002\n",
            "1.8\n",
            "1.9000000000000001\n",
            "2.0\n",
            "2.1\n",
            "2.2\n",
            "2.3000000000000003\n",
            "2.4000000000000004\n",
            "2.5\n",
            "2.6\n",
            "2.7\n",
            "2.8000000000000003\n",
            "2.9000000000000004\n",
            "3.0\n",
            "3.1\n",
            "3.2\n",
            "3.3000000000000003\n",
            "3.4000000000000004\n",
            "3.5\n",
            "3.6\n",
            "3.7\n",
            "3.8000000000000003\n",
            "3.9000000000000004\n",
            "4.0\n",
            "4.1000000000000005\n",
            "4.2\n",
            "4.3\n",
            "4.4\n",
            "4.5\n",
            "4.6000000000000005\n",
            "4.7\n",
            "4.800000000000001\n",
            "4.9\n"
          ]
        }
      ]
    }
  ]
}